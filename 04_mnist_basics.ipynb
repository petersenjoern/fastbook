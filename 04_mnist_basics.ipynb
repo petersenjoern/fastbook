{
 "cells": [
  {
   "cell_type": "code",
   "execution_count": 1,
   "metadata": {},
   "outputs": [],
   "source": [
    "#hide\n",
    "!pip install -Uqq fastbook\n",
    "import fastbook\n",
    "fastbook.setup_book()"
   ]
  },
  {
   "cell_type": "code",
   "execution_count": 2,
   "metadata": {},
   "outputs": [],
   "source": [
    "#hide\n",
    "from fastai.vision.all import *\n",
    "from fastbook import *\n",
    "\n",
    "matplotlib.rc('image', cmap='Greys')"
   ]
  },
  {
   "cell_type": "code",
   "execution_count": 8,
   "metadata": {},
   "outputs": [],
   "source": [
    "import os\n",
    "os.environ[\"CUDA_VISIBLE_DEVICES\"]=\"\"\n",
    "# to activate gpu again: os.environ[\"CUDA_VISIBLE_DEVICES\"]=\"0\"\n"
   ]
  },
  {
   "cell_type": "raw",
   "metadata": {},
   "source": [
    "[[chapter_mnist_basics]]"
   ]
  },
  {
   "cell_type": "markdown",
   "metadata": {},
   "source": [
    "# Under the Hood: Training a Digit Classifier"
   ]
  },
  {
   "cell_type": "markdown",
   "metadata": {},
   "source": [
    "Having seen what it looks like to actually train a variety of models in Chapter 2, let’s now look under the hood and see exactly what is going on. We’ll start by using computer vision to introduce fundamental tools and concepts for deep learning.\n",
    "\n",
    "To be exact, we'll discuss the roles of arrays and tensors and of broadcasting, a powerful technique for using them expressively. We'll explain stochastic gradient descent (SGD), the mechanism for learning by updating weights automatically. We'll discuss the choice of a loss function for our basic classification task, and the role of mini-batches. We'll also describe the math that a basic neural network is actually doing. Finally, we'll put all these pieces together.\n",
    "\n",
    "In future chapters we’ll do deep dives into other applications as well, and see how these concepts and tools generalize. But this chapter is about laying foundation stones. To be frank, that also makes this one of the hardest chapters, because of how these concepts all depend on each other. Like an arch, all the stones need to be in place for the structure to stay up. Also like an arch, once that happens, it's a powerful structure that can support other things. But it requires some patience to assemble.\n",
    "\n",
    "Let's begin. The first step is to consider how images are represented in a computer."
   ]
  },
  {
   "cell_type": "markdown",
   "metadata": {},
   "source": [
    "## Pixels: The Foundations of Computer Vision"
   ]
  },
  {
   "cell_type": "markdown",
   "metadata": {},
   "source": [
    "In order to understand what happens in a computer vision model, we first have to understand how computers handle images. We'll use one of the most famous datasets in computer vision, [MNIST](https://en.wikipedia.org/wiki/MNIST_database), for our experiments. MNIST contains images of handwritten digits, collected by the National Institute of Standards and Technology and collated into a machine learning dataset by Yann Lecun and his colleagues. Lecun used MNIST in 1998 in [Lenet-5](http://yann.lecun.com/exdb/lenet/), the first computer system to demonstrate practically useful recognition of handwritten digit sequences. This was one of the most important breakthroughs in the history of AI."
   ]
  },
  {
   "cell_type": "markdown",
   "metadata": {},
   "source": [
    "## Sidebar: Tenacity and Deep Learning"
   ]
  },
  {
   "cell_type": "markdown",
   "metadata": {},
   "source": [
    "The story of deep learning is one of tenacity and grit by a handful of dedicated researchers. After early hopes (and hype!) neural networks went out of favor in the 1990's and 2000's, and just a handful of researchers kept trying to make them work well. Three of them, Yann Lecun, Yoshua Bengio, and Geoffrey Hinton, were awarded the highest honor in computer science, the Turing Award (generally considered the \"Nobel Prize of computer science\"), in 2018 after triumphing despite the deep skepticism and disinterest of the wider machine learning and statistics community.\n",
    "\n",
    "Geoff Hinton has told of how even academic papers showing dramatically better results than anything previously published would be rejected by top journals and conferences, just because they used a neural network. Yann Lecun's work on convolutional neural networks, which we will study in the next section, showed that these models could read handwritten text—something that had never been achieved before. However, his breakthrough was ignored by most researchers, even as it was used commercially to read 10% of the checks in the US!\n",
    "\n",
    "In addition to these three Turing Award winners, there are many other researchers who have battled to get us to where we are today. For instance, Jurgen Schmidhuber (who many believe should have shared in the Turing Award) pioneered many important ideas, including working with his student Sepp Hochreiter on the long short-term memory (LSTM) architecture (widely used for speech recognition and other text modeling tasks, and used in the IMDb example in <<chapter_intro>>). Perhaps most important of all, Paul Werbos in 1974 invented back-propagation for neural networks, the technique shown in this chapter and used universally for training neural networks ([Werbos 1994](https://books.google.com/books/about/The_Roots_of_Backpropagation.html?id=WdR3OOM2gBwC)). His development was almost entirely ignored for decades, but today it is considered the most important foundation of modern AI.\n",
    "\n",
    "There is a lesson here for all of us! On your deep learning journey you will face many obstacles, both technical, and (even more difficult) posed by people around you who don't believe you'll be successful. There's one *guaranteed* way to fail, and that's to stop trying. We've seen that the only consistent trait amongst every fast.ai student that's gone on to be a world-class practitioner is that they are all very tenacious."
   ]
  },
  {
   "cell_type": "markdown",
   "metadata": {},
   "source": [
    "## End sidebar"
   ]
  },
  {
   "cell_type": "markdown",
   "metadata": {},
   "source": [
    "For this initial tutorial we are just going to try to create a model that can classify any image as a 3 or a 7. So let's download a sample of MNIST that contains images of just these digits:"
   ]
  },
  {
   "cell_type": "code",
   "execution_count": 9,
   "metadata": {},
   "outputs": [],
   "source": [
    "path = untar_data(URLs.MNIST_SAMPLE)"
   ]
  },
  {
   "source": [
    "#hide\n",
    "Path.BASE_PATH = path"
   ],
   "cell_type": "code",
   "metadata": {},
   "execution_count": 10,
   "outputs": []
  },
  {
   "cell_type": "markdown",
   "metadata": {},
   "source": [
    "We can see what's in this directory by using `ls`, a method added by fastai. This method returns an object of a special fastai class called `L`, which has all the same functionality of Python's built-in `list`, plus a lot more. One of its handy features is that, when printed, it displays the count of items, before listing the items themselves (if there are more than 10 items, it just shows the first few):"
   ]
  },
  {
   "cell_type": "code",
   "execution_count": 11,
   "metadata": {},
   "outputs": [
    {
     "output_type": "execute_result",
     "data": {
      "text/plain": "(#3) [Path('labels.csv'),Path('valid'),Path('train')]"
     },
     "metadata": {},
     "execution_count": 11
    }
   ],
   "source": [
    "path.ls()"
   ]
  },
  {
   "cell_type": "markdown",
   "metadata": {},
   "source": [
    "The MNIST dataset follows a common layout for machine learning datasets: separate folders for the training set and the validation set (and/or test set). Let's see what's inside the training set:"
   ]
  },
  {
   "cell_type": "code",
   "execution_count": 12,
   "metadata": {},
   "outputs": [
    {
     "output_type": "execute_result",
     "data": {
      "text/plain": "(#2) [Path('train/7'),Path('train/3')]"
     },
     "metadata": {},
     "execution_count": 12
    }
   ],
   "source": [
    "(path/'train').ls()"
   ]
  },
  {
   "cell_type": "markdown",
   "metadata": {},
   "source": [
    "There's a folder of 3s, and a folder of 7s. In machine learning parlance, we say that \"3\" and \"7\" are the *labels* (or targets) in this dataset. Let's take a look in one of these folders (using `sorted` to ensure we all get the same order of files):"
   ]
  },
  {
   "cell_type": "code",
   "execution_count": 13,
   "metadata": {},
   "outputs": [
    {
     "output_type": "execute_result",
     "data": {
      "text/plain": "(#6131) [Path('train/3/10.png'),Path('train/3/10000.png'),Path('train/3/10011.png'),Path('train/3/10031.png'),Path('train/3/10034.png'),Path('train/3/10042.png'),Path('train/3/10052.png'),Path('train/3/1007.png'),Path('train/3/10074.png'),Path('train/3/10091.png')...]"
     },
     "metadata": {},
     "execution_count": 13
    }
   ],
   "source": [
    "threes = (path/'train'/'3').ls().sorted()\n",
    "sevens = (path/'train'/'7').ls().sorted()\n",
    "threes"
   ]
  },
  {
   "cell_type": "markdown",
   "metadata": {},
   "source": [
    "As we might expect, it's full of image files. Let’s take a look at one now. Here’s an image of a handwritten number 3, taken from the famous MNIST dataset of handwritten numbers:"
   ]
  },
  {
   "cell_type": "code",
   "execution_count": 14,
   "metadata": {},
   "outputs": [
    {
     "output_type": "execute_result",
     "data": {
      "text/plain": "<PIL.PngImagePlugin.PngImageFile image mode=L size=28x28 at 0x7F6D61198400>",
      "image/png": "[encoded data removed]"
     },
     "metadata": {},
     "execution_count": 14
    }
   ],
   "source": [
    "im3_path = threes[1]\n",
    "im3 = Image.open(im3_path)\n",
    "im3"
   ]
  },
  {
   "cell_type": "markdown",
   "metadata": {},
   "source": [
    "Here we are using the `Image` class from the *Python Imaging Library* (PIL), which is the most widely used Python package for opening, manipulating, and viewing images. Jupyter knows about PIL images, so it displays the image for us automatically.\n",
    "\n",
    "In a computer, everything is represented as a number. To view the numbers that make up this image, we have to convert it to a *NumPy array* or a *PyTorch tensor*. For instance, here's what a section of the image looks like, converted to a NumPy array:"
   ]
  },
  {
   "cell_type": "code",
   "execution_count": 15,
   "metadata": {},
   "outputs": [
    {
     "output_type": "execute_result",
     "data": {
      "text/plain": "array([[  0,   0,   0,   0,   0,   0],\n       [  0,   0,   0,   0,   0,  29],\n       [  0,   0,   0,  48, 166, 224],\n       [  0,  93, 244, 249, 253, 187],\n       [  0, 107, 253, 253, 230,  48],\n       [  0,   3,  20,  20,  15,   0]], dtype=uint8)"
     },
     "metadata": {},
     "execution_count": 15
    }
   ],
   "source": [
    "array(im3)[4:10,4:10]"
   ]
  },
  {
   "cell_type": "markdown",
   "metadata": {},
   "source": [
    "The `4:10` indicates we requested the rows from index 4 (included) to 10 (not included) and the same for the columns. NumPy indexes from top to bottom and left to right, so this section is located in the top-left corner of the image. Here's the same thing as a PyTorch tensor:"
   ]
  },
  {
   "cell_type": "code",
   "execution_count": 16,
   "metadata": {},
   "outputs": [
    {
     "output_type": "execute_result",
     "data": {
      "text/plain": "tensor([[  0,   0,   0,   0,   0,   0],\n        [  0,   0,   0,   0,   0,  29],\n        [  0,   0,   0,  48, 166, 224],\n        [  0,  93, 244, 249, 253, 187],\n        [  0, 107, 253, 253, 230,  48],\n        [  0,   3,  20,  20,  15,   0]], dtype=torch.uint8)"
     },
     "metadata": {},
     "execution_count": 16
    }
   ],
   "source": [
    "tensor(im3)[4:10,4:10]"
   ]
  },
  {
   "cell_type": "markdown",
   "metadata": {},
   "source": [
    "We can slice the array to pick just the part with the top of the digit in it, and then use a Pandas DataFrame to color-code the values using a gradient, which shows us clearly how the image is created from the pixel values:"
   ]
  },
  {
   "cell_type": "code",
   "execution_count": 17,
   "metadata": {},
   "outputs": [
    {
     "output_type": "execute_result",
     "data": {
      "text/plain": "<pandas.io.formats.style.Styler at 0x7f6cb6473910>",
      "text/html": "<style  type=\"text/css\" >\n#T_99552b08_0140_11eb_9d2a_00155d57a599row0_col0,#T_99552b08_0140_11eb_9d2a_00155d57a599row0_col1,#T_99552b08_0140_11eb_9d2a_00155d57a599row0_col2,#T_99552b08_0140_11eb_9d2a_00155d57a599row0_col3,#T_99552b08_0140_11eb_9d2a_00155d57a599row0_col4,#T_99552b08_0140_11eb_9d2a_00155d57a599row0_col5,#T_99552b08_0140_11eb_9d2a_00155d57a599row0_col6,#T_99552b08_0140_11eb_9d2a_00155d57a599row0_col7,#T_99552b08_0140_11eb_9d2a_00155d57a599row0_col8,#T_99552b08_0140_11eb_9d2a_00155d57a599row0_col9,#T_99552b08_0140_11eb_9d2a_00155d57a599row0_col10,#T_99552b08_0140_11eb_9d2a_00155d57a599row0_col11,#T_99552b08_0140_11eb_9d2a_00155d57a599row0_col12,#T_99552b08_0140_11eb_9d2a_00155d57a599row0_col13,#T_99552b08_0140_11eb_9d2a_00155d57a599row0_col14,#T_99552b08_0140_11eb_9d2a_00155d57a599row0_col15,#T_99552b08_0140_11eb_9d2a_00155d57a599row0_col16,#T_99552b08_0140_11eb_9d2a_00155d57a599row0_col17,#T_99552b08_0140_11eb_9d2a_00155d57a599row1_col0,#T_99552b08_0140_11eb_9d2a_00155d57a599row1_col1,#T_99552b08_0140_11eb_9d2a_00155d57a599row1_col2,#T_99552b08_0140_11eb_9d2a_00155d57a599row1_col3,#T_99552b08_0140_11eb_9d2a_00155d57a599row1_col4,#T_99552b08_0140_11eb_9d2a_00155d57a599row1_col15,#T_99552b08_0140_11eb_9d2a_00155d57a599row1_col16,#T_99552b08_0140_11eb_9d2a_00155d57a599row1_col17,#T_99552b08_0140_11eb_9d2a_00155d57a599row2_col0,#T_99552b08_0140_11eb_9d2a_00155d57a599row2_col1,#T_99552b08_0140_11eb_9d2a_00155d57a599row2_col2,#T_99552b08_0140_11eb_9d2a_00155d57a599row2_col15,#T_99552b08_0140_11eb_9d2a_00155d57a599row2_col16,#T_99552b08_0140_11eb_9d2a_00155d57a599row2_col17,#T_99552b08_0140_11eb_9d2a_00155d57a599row3_col0,#T_99552b08_0140_11eb_9d2a_00155d57a599row3_col15,#T_99552b08_0140_11eb_9d2a_00155d57a599row3_col16,#T_99552b08_0140_11eb_9d2a_00155d57a599row3_col17,#T_99552b08_0140_11eb_9d2a_00155d57a599row4_col0,#T_99552b08_0140_11eb_9d2a_00155d57a599row4_col6,#T_99552b08_0140_11eb_9d2a_00155d57a599row4_col7,#T_99552b08_0140_11eb_9d2a_00155d57a599row4_col8,#T_99552b08_0140_11eb_9d2a_00155d57a599row4_col9,#T_99552b08_0140_11eb_9d2a_00155d57a599row4_col10,#T_99552b08_0140_11eb_9d2a_00155d57a599row4_col15,#T_99552b08_0140_11eb_9d2a_00155d57a599row4_col16,#T_99552b08_0140_11eb_9d2a_00155d57a599row4_col17,#T_99552b08_0140_11eb_9d2a_00155d57a599row5_col0,#T_99552b08_0140_11eb_9d2a_00155d57a599row5_col5,#T_99552b08_0140_11eb_9d2a_00155d57a599row5_col6,#T_99552b08_0140_11eb_9d2a_00155d57a599row5_col7,#T_99552b08_0140_11eb_9d2a_00155d57a599row5_col8,#T_99552b08_0140_11eb_9d2a_00155d57a599row5_col9,#T_99552b08_0140_11eb_9d2a_00155d57a599row5_col15,#T_99552b08_0140_11eb_9d2a_00155d57a599row5_col16,#T_99552b08_0140_11eb_9d2a_00155d57a599row5_col17,#T_99552b08_0140_11eb_9d2a_00155d57a599row6_col0,#T_99552b08_0140_11eb_9d2a_00155d57a599row6_col1,#T_99552b08_0140_11eb_9d2a_00155d57a599row6_col2,#T_99552b08_0140_11eb_9d2a_00155d57a599row6_col3,#T_99552b08_0140_11eb_9d2a_00155d57a599row6_col4,#T_99552b08_0140_11eb_9d2a_00155d57a599row6_col5,#T_99552b08_0140_11eb_9d2a_00155d57a599row6_col6,#T_99552b08_0140_11eb_9d2a_00155d57a599row6_col7,#T_99552b08_0140_11eb_9d2a_00155d57a599row6_col8,#T_99552b08_0140_11eb_9d2a_00155d57a599row6_col9,#T_99552b08_0140_11eb_9d2a_00155d57a599row6_col14,#T_99552b08_0140_11eb_9d2a_00155d57a599row6_col15,#T_99552b08_0140_11eb_9d2a_00155d57a599row6_col16,#T_99552b08_0140_11eb_9d2a_00155d57a599row6_col17,#T_99552b08_0140_11eb_9d2a_00155d57a599row7_col0,#T_99552b08_0140_11eb_9d2a_00155d57a599row7_col1,#T_99552b08_0140_11eb_9d2a_00155d57a599row7_col2,#T_99552b08_0140_11eb_9d2a_00155d57a599row7_col3,#T_99552b08_0140_11eb_9d2a_00155d57a599row7_col4,#T_99552b08_0140_11eb_9d2a_00155d57a599row7_col5,#T_99552b08_0140_11eb_9d2a_00155d57a599row7_col6,#T_99552b08_0140_11eb_9d2a_00155d57a599row7_col13,#T_99552b08_0140_11eb_9d2a_00155d57a599row7_col14,#T_99552b08_0140_11eb_9d2a_00155d57a599row7_col15,#T_99552b08_0140_11eb_9d2a_00155d57a599row7_col16,#T_99552b08_0140_11eb_9d2a_00155d57a599row7_col17,#T_99552b08_0140_11eb_9d2a_00155d57a599row8_col0,#T_99552b08_0140_11eb_9d2a_00155d57a599row8_col1,#T_99552b08_0140_11eb_9d2a_00155d57a599row8_col2,#T_99552b08_0140_11eb_9d2a_00155d57a599row8_col3,#T_99552b08_0140_11eb_9d2a_00155d57a599row8_col4,#T_99552b08_0140_11eb_9d2a_00155d57a599row8_col13,#T_99552b08_0140_11eb_9d2a_00155d57a599row8_col14,#T_99552b08_0140_11eb_9d2a_00155d57a599row8_col15,#T_99552b08_0140_11eb_9d2a_00155d57a599row8_col16,#T_99552b08_0140_11eb_9d2a_00155d57a599row8_col17,#T_99552b08_0140_11eb_9d2a_00155d57a599row9_col0,#T_99552b08_0140_11eb_9d2a_00155d57a599row9_col1,#T_99552b08_0140_11eb_9d2a_00155d57a599row9_col2,#T_99552b08_0140_11eb_9d2a_00155d57a599row9_col3,#T_99552b08_0140_11eb_9d2a_00155d57a599row9_col4,#T_99552b08_0140_11eb_9d2a_00155d57a599row9_col16,#T_99552b08_0140_11eb_9d2a_00155d57a599row9_col17,#T_99552b08_0140_11eb_9d2a_00155d57a599row10_col0,#T_99552b08_0140_11eb_9d2a_00155d57a599row10_col1,#T_99552b08_0140_11eb_9d2a_00155d57a599row10_col2,#T_99552b08_0140_11eb_9d2a_00155d57a599row10_col3,#T_99552b08_0140_11eb_9d2a_00155d57a599row10_col4,#T_99552b08_0140_11eb_9d2a_00155d57a599row10_col5,#T_99552b08_0140_11eb_9d2a_00155d57a599row10_col6,#T_99552b08_0140_11eb_9d2a_00155d57a599row10_col17{\n            font-size:  6pt;\n            background-color:  #ffffff;\n            color:  #000000;\n        }#T_99552b08_0140_11eb_9d2a_00155d57a599row1_col5{\n            font-size:  6pt;\n            background-color:  #efefef;\n            color:  #000000;\n        }#T_99552b08_0140_11eb_9d2a_00155d57a599row1_col6,#T_99552b08_0140_11eb_9d2a_00155d57a599row1_col13{\n            font-size:  6pt;\n            background-color:  #7c7c7c;\n            color:  #000000;\n        }#T_99552b08_0140_11eb_9d2a_00155d57a599row1_col7{\n            font-size:  6pt;\n            background-color:  #4a4a4a;\n            color:  #f1f1f1;\n        }#T_99552b08_0140_11eb_9d2a_00155d57a599row1_col8,#T_99552b08_0140_11eb_9d2a_00155d57a599row1_col9,#T_99552b08_0140_11eb_9d2a_00155d57a599row1_col10,#T_99552b08_0140_11eb_9d2a_00155d57a599row2_col5,#T_99552b08_0140_11eb_9d2a_00155d57a599row2_col6,#T_99552b08_0140_11eb_9d2a_00155d57a599row2_col7,#T_99552b08_0140_11eb_9d2a_00155d57a599row2_col11,#T_99552b08_0140_11eb_9d2a_00155d57a599row2_col12,#T_99552b08_0140_11eb_9d2a_00155d57a599row2_col13,#T_99552b08_0140_11eb_9d2a_00155d57a599row3_col4,#T_99552b08_0140_11eb_9d2a_00155d57a599row3_col12,#T_99552b08_0140_11eb_9d2a_00155d57a599row3_col13,#T_99552b08_0140_11eb_9d2a_00155d57a599row4_col1,#T_99552b08_0140_11eb_9d2a_00155d57a599row4_col2,#T_99552b08_0140_11eb_9d2a_00155d57a599row4_col3,#T_99552b08_0140_11eb_9d2a_00155d57a599row4_col12,#T_99552b08_0140_11eb_9d2a_00155d57a599row4_col13,#T_99552b08_0140_11eb_9d2a_00155d57a599row5_col12,#T_99552b08_0140_11eb_9d2a_00155d57a599row6_col11,#T_99552b08_0140_11eb_9d2a_00155d57a599row9_col11,#T_99552b08_0140_11eb_9d2a_00155d57a599row10_col11,#T_99552b08_0140_11eb_9d2a_00155d57a599row10_col12,#T_99552b08_0140_11eb_9d2a_00155d57a599row10_col13,#T_99552b08_0140_11eb_9d2a_00155d57a599row10_col14,#T_99552b08_0140_11eb_9d2a_00155d57a599row10_col15,#T_99552b08_0140_11eb_9d2a_00155d57a599row10_col16{\n            font-size:  6pt;\n            background-color:  #000000;\n            color:  #f1f1f1;\n        }#T_99552b08_0140_11eb_9d2a_00155d57a599row1_col11{\n            font-size:  6pt;\n            background-color:  #606060;\n            color:  #f1f1f1;\n        }#T_99552b08_0140_11eb_9d2a_00155d57a599row1_col12{\n            font-size:  6pt;\n            background-color:  #4d4d4d;\n            color:  #f1f1f1;\n        }#T_99552b08_0140_11eb_9d2a_00155d57a599row1_col14{\n            font-size:  6pt;\n            background-color:  #bbbbbb;\n            color:  #000000;\n        }#T_99552b08_0140_11eb_9d2a_00155d57a599row2_col3{\n            font-size:  6pt;\n            background-color:  #e4e4e4;\n            color:  #000000;\n        }#T_99552b08_0140_11eb_9d2a_00155d57a599row2_col4,#T_99552b08_0140_11eb_9d2a_00155d57a599row8_col6{\n            font-size:  6pt;\n            background-color:  #6b6b6b;\n            color:  #000000;\n        }#T_99552b08_0140_11eb_9d2a_00155d57a599row2_col8,#T_99552b08_0140_11eb_9d2a_00155d57a599row2_col14,#T_99552b08_0140_11eb_9d2a_00155d57a599row3_col14{\n            font-size:  6pt;\n            background-color:  #171717;\n            color:  #f1f1f1;\n        }#T_99552b08_0140_11eb_9d2a_00155d57a599row2_col9,#T_99552b08_0140_11eb_9d2a_00155d57a599row3_col11{\n            font-size:  6pt;\n            background-color:  #4b4b4b;\n            color:  #f1f1f1;\n        }#T_99552b08_0140_11eb_9d2a_00155d57a599row2_col10,#T_99552b08_0140_11eb_9d2a_00155d57a599row7_col10,#T_99552b08_0140_11eb_9d2a_00155d57a599row8_col8,#T_99552b08_0140_11eb_9d2a_00155d57a599row8_col10,#T_99552b08_0140_11eb_9d2a_00155d57a599row9_col8,#T_99552b08_0140_11eb_9d2a_00155d57a599row9_col10{\n            font-size:  6pt;\n            background-color:  #010101;\n            color:  #f1f1f1;\n        }#T_99552b08_0140_11eb_9d2a_00155d57a599row3_col1{\n            font-size:  6pt;\n            background-color:  #272727;\n            color:  #f1f1f1;\n        }#T_99552b08_0140_11eb_9d2a_00155d57a599row3_col2{\n            font-size:  6pt;\n            background-color:  #0a0a0a;\n            color:  #f1f1f1;\n        }#T_99552b08_0140_11eb_9d2a_00155d57a599row3_col3{\n            font-size:  6pt;\n            background-color:  #050505;\n            color:  #f1f1f1;\n        }#T_99552b08_0140_11eb_9d2a_00155d57a599row3_col5{\n            font-size:  6pt;\n            background-color:  #333333;\n            color:  #f1f1f1;\n        }#T_99552b08_0140_11eb_9d2a_00155d57a599row3_col6{\n            font-size:  6pt;\n            background-color:  #e6e6e6;\n            color:  #000000;\n        }#T_99552b08_0140_11eb_9d2a_00155d57a599row3_col7,#T_99552b08_0140_11eb_9d2a_00155d57a599row3_col10{\n            font-size:  6pt;\n            background-color:  #fafafa;\n            color:  #000000;\n        }#T_99552b08_0140_11eb_9d2a_00155d57a599row3_col8{\n            font-size:  6pt;\n            background-color:  #fbfbfb;\n            color:  #000000;\n        }#T_99552b08_0140_11eb_9d2a_00155d57a599row3_col9{\n            font-size:  6pt;\n            background-color:  #fdfdfd;\n            color:  #000000;\n        }#T_99552b08_0140_11eb_9d2a_00155d57a599row4_col4{\n            font-size:  6pt;\n            background-color:  #1b1b1b;\n            color:  #f1f1f1;\n        }#T_99552b08_0140_11eb_9d2a_00155d57a599row4_col5{\n            font-size:  6pt;\n            background-color:  #e0e0e0;\n            color:  #000000;\n        }#T_99552b08_0140_11eb_9d2a_00155d57a599row4_col11{\n            font-size:  6pt;\n            background-color:  #4e4e4e;\n            color:  #f1f1f1;\n        }#T_99552b08_0140_11eb_9d2a_00155d57a599row4_col14{\n            font-size:  6pt;\n            background-color:  #767676;\n            color:  #000000;\n        }#T_99552b08_0140_11eb_9d2a_00155d57a599row5_col1{\n            font-size:  6pt;\n            background-color:  #fcfcfc;\n            color:  #000000;\n        }#T_99552b08_0140_11eb_9d2a_00155d57a599row5_col2,#T_99552b08_0140_11eb_9d2a_00155d57a599row5_col3{\n            font-size:  6pt;\n            background-color:  #f6f6f6;\n            color:  #000000;\n        }#T_99552b08_0140_11eb_9d2a_00155d57a599row5_col4,#T_99552b08_0140_11eb_9d2a_00155d57a599row7_col7{\n            font-size:  6pt;\n            background-color:  #f8f8f8;\n            color:  #000000;\n        }#T_99552b08_0140_11eb_9d2a_00155d57a599row5_col10,#T_99552b08_0140_11eb_9d2a_00155d57a599row10_col7{\n            font-size:  6pt;\n            background-color:  #e8e8e8;\n            color:  #000000;\n        }#T_99552b08_0140_11eb_9d2a_00155d57a599row5_col11{\n            font-size:  6pt;\n            background-color:  #222222;\n            color:  #f1f1f1;\n        }#T_99552b08_0140_11eb_9d2a_00155d57a599row5_col13,#T_99552b08_0140_11eb_9d2a_00155d57a599row6_col12{\n            font-size:  6pt;\n            background-color:  #090909;\n            color:  #f1f1f1;\n        }#T_99552b08_0140_11eb_9d2a_00155d57a599row5_col14{\n            font-size:  6pt;\n            background-color:  #d0d0d0;\n            color:  #000000;\n        }#T_99552b08_0140_11eb_9d2a_00155d57a599row6_col10,#T_99552b08_0140_11eb_9d2a_00155d57a599row7_col11,#T_99552b08_0140_11eb_9d2a_00155d57a599row9_col6{\n            font-size:  6pt;\n            background-color:  #060606;\n            color:  #f1f1f1;\n        }#T_99552b08_0140_11eb_9d2a_00155d57a599row6_col13{\n            font-size:  6pt;\n            background-color:  #979797;\n            color:  #000000;\n        }#T_99552b08_0140_11eb_9d2a_00155d57a599row7_col8{\n            font-size:  6pt;\n            background-color:  #b6b6b6;\n            color:  #000000;\n        }#T_99552b08_0140_11eb_9d2a_00155d57a599row7_col9{\n            font-size:  6pt;\n            background-color:  #252525;\n            color:  #f1f1f1;\n        }#T_99552b08_0140_11eb_9d2a_00155d57a599row7_col12{\n            font-size:  6pt;\n            background-color:  #999999;\n            color:  #000000;\n        }#T_99552b08_0140_11eb_9d2a_00155d57a599row8_col5{\n            font-size:  6pt;\n            background-color:  #f9f9f9;\n            color:  #000000;\n        }#T_99552b08_0140_11eb_9d2a_00155d57a599row8_col7{\n            font-size:  6pt;\n            background-color:  #101010;\n            color:  #f1f1f1;\n        }#T_99552b08_0140_11eb_9d2a_00155d57a599row8_col9,#T_99552b08_0140_11eb_9d2a_00155d57a599row9_col9{\n            font-size:  6pt;\n            background-color:  #020202;\n            color:  #f1f1f1;\n        }#T_99552b08_0140_11eb_9d2a_00155d57a599row8_col11{\n            font-size:  6pt;\n            background-color:  #545454;\n            color:  #f1f1f1;\n        }#T_99552b08_0140_11eb_9d2a_00155d57a599row8_col12{\n            font-size:  6pt;\n            background-color:  #f1f1f1;\n            color:  #000000;\n        }#T_99552b08_0140_11eb_9d2a_00155d57a599row9_col5{\n            font-size:  6pt;\n            background-color:  #f7f7f7;\n            color:  #000000;\n        }#T_99552b08_0140_11eb_9d2a_00155d57a599row9_col7{\n            font-size:  6pt;\n            background-color:  #030303;\n            color:  #f1f1f1;\n        }#T_99552b08_0140_11eb_9d2a_00155d57a599row9_col12{\n            font-size:  6pt;\n            background-color:  #181818;\n            color:  #f1f1f1;\n        }#T_99552b08_0140_11eb_9d2a_00155d57a599row9_col13{\n            font-size:  6pt;\n            background-color:  #303030;\n            color:  #f1f1f1;\n        }#T_99552b08_0140_11eb_9d2a_00155d57a599row9_col14{\n            font-size:  6pt;\n            background-color:  #a9a9a9;\n            color:  #000000;\n        }#T_99552b08_0140_11eb_9d2a_00155d57a599row9_col15{\n            font-size:  6pt;\n            background-color:  #fefefe;\n            color:  #000000;\n        }#T_99552b08_0140_11eb_9d2a_00155d57a599row10_col8,#T_99552b08_0140_11eb_9d2a_00155d57a599row10_col9{\n            font-size:  6pt;\n            background-color:  #bababa;\n            color:  #000000;\n        }#T_99552b08_0140_11eb_9d2a_00155d57a599row10_col10{\n            font-size:  6pt;\n            background-color:  #393939;\n            color:  #f1f1f1;\n        }</style><table id=\"T_99552b08_0140_11eb_9d2a_00155d57a599\" ><thead>    <tr>        <th class=\"blank level0\" ></th>        <th class=\"col_heading level0 col0\" >0</th>        <th class=\"col_heading level0 col1\" >1</th>        <th class=\"col_heading level0 col2\" >2</th>        <th class=\"col_heading level0 col3\" >3</th>        <th class=\"col_heading level0 col4\" >4</th>        <th class=\"col_heading level0 col5\" >5</th>        <th class=\"col_heading level0 col6\" >6</th>        <th class=\"col_heading level0 col7\" >7</th>        <th class=\"col_heading level0 col8\" >8</th>        <th class=\"col_heading level0 col9\" >9</th>        <th class=\"col_heading level0 col10\" >10</th>        <th class=\"col_heading level0 col11\" >11</th>        <th class=\"col_heading level0 col12\" >12</th>        <th class=\"col_heading level0 col13\" >13</th>        <th class=\"col_heading level0 col14\" >14</th>        <th class=\"col_heading level0 col15\" >15</th>        <th class=\"col_heading level0 col16\" >16</th>        <th class=\"col_heading level0 col17\" >17</th>    </tr></thead><tbody>\n                <tr>\n                        <th id=\"T_99552b08_0140_11eb_9d2a_00155d57a599level0_row0\" class=\"row_heading level0 row0\" >0</th>\n                        <td id=\"T_99552b08_0140_11eb_9d2a_00155d57a599row0_col0\" class=\"data row0 col0\" >0</td>\n                        <td id=\"T_99552b08_0140_11eb_9d2a_00155d57a599row0_col1\" class=\"data row0 col1\" >0</td>\n                        <td id=\"T_99552b08_0140_11eb_9d2a_00155d57a599row0_col2\" class=\"data row0 col2\" >0</td>\n                        <td id=\"T_99552b08_0140_11eb_9d2a_00155d57a599row0_col3\" class=\"data row0 col3\" >0</td>\n                        <td id=\"T_99552b08_0140_11eb_9d2a_00155d57a599row0_col4\" class=\"data row0 col4\" >0</td>\n                        <td id=\"T_99552b08_0140_11eb_9d2a_00155d57a599row0_col5\" class=\"data row0 col5\" >0</td>\n                        <td id=\"T_99552b08_0140_11eb_9d2a_00155d57a599row0_col6\" class=\"data row0 col6\" >0</td>\n                        <td id=\"T_99552b08_0140_11eb_9d2a_00155d57a599row0_col7\" class=\"data row0 col7\" >0</td>\n                        <td id=\"T_99552b08_0140_11eb_9d2a_00155d57a599row0_col8\" class=\"data row0 col8\" >0</td>\n                        <td id=\"T_99552b08_0140_11eb_9d2a_00155d57a599row0_col9\" class=\"data row0 col9\" >0</td>\n                        <td id=\"T_99552b08_0140_11eb_9d2a_00155d57a599row0_col10\" class=\"data row0 col10\" >0</td>\n                        <td id=\"T_99552b08_0140_11eb_9d2a_00155d57a599row0_col11\" class=\"data row0 col11\" >0</td>\n                        <td id=\"T_99552b08_0140_11eb_9d2a_00155d57a599row0_col12\" class=\"data row0 col12\" >0</td>\n                        <td id=\"T_99552b08_0140_11eb_9d2a_00155d57a599row0_col13\" class=\"data row0 col13\" >0</td>\n                        <td id=\"T_99552b08_0140_11eb_9d2a_00155d57a599row0_col14\" class=\"data row0 col14\" >0</td>\n                        <td id=\"T_99552b08_0140_11eb_9d2a_00155d57a599row0_col15\" class=\"data row0 col15\" >0</td>\n                        <td id=\"T_99552b08_0140_11eb_9d2a_00155d57a599row0_col16\" class=\"data row0 col16\" >0</td>\n                        <td id=\"T_99552b08_0140_11eb_9d2a_00155d57a599row0_col17\" class=\"data row0 col17\" >0</td>\n            </tr>\n            <tr>\n                        <th id=\"T_99552b08_0140_11eb_9d2a_00155d57a599level0_row1\" class=\"row_heading level0 row1\" >1</th>\n                        <td id=\"T_99552b08_0140_11eb_9d2a_00155d57a599row1_col0\" class=\"data row1 col0\" >0</td>\n                        <td id=\"T_99552b08_0140_11eb_9d2a_00155d57a599row1_col1\" class=\"data row1 col1\" >0</td>\n                        <td id=\"T_99552b08_0140_11eb_9d2a_00155d57a599row1_col2\" class=\"data row1 col2\" >0</td>\n                        <td id=\"T_99552b08_0140_11eb_9d2a_00155d57a599row1_col3\" class=\"data row1 col3\" >0</td>\n                        <td id=\"T_99552b08_0140_11eb_9d2a_00155d57a599row1_col4\" class=\"data row1 col4\" >0</td>\n                        <td id=\"T_99552b08_0140_11eb_9d2a_00155d57a599row1_col5\" class=\"data row1 col5\" >29</td>\n                        <td id=\"T_99552b08_0140_11eb_9d2a_00155d57a599row1_col6\" class=\"data row1 col6\" >150</td>\n                        <td id=\"T_99552b08_0140_11eb_9d2a_00155d57a599row1_col7\" class=\"data row1 col7\" >195</td>\n                        <td id=\"T_99552b08_0140_11eb_9d2a_00155d57a599row1_col8\" class=\"data row1 col8\" >254</td>\n                        <td id=\"T_99552b08_0140_11eb_9d2a_00155d57a599row1_col9\" class=\"data row1 col9\" >255</td>\n                        <td id=\"T_99552b08_0140_11eb_9d2a_00155d57a599row1_col10\" class=\"data row1 col10\" >254</td>\n                        <td id=\"T_99552b08_0140_11eb_9d2a_00155d57a599row1_col11\" class=\"data row1 col11\" >176</td>\n                        <td id=\"T_99552b08_0140_11eb_9d2a_00155d57a599row1_col12\" class=\"data row1 col12\" >193</td>\n                        <td id=\"T_99552b08_0140_11eb_9d2a_00155d57a599row1_col13\" class=\"data row1 col13\" >150</td>\n                        <td id=\"T_99552b08_0140_11eb_9d2a_00155d57a599row1_col14\" class=\"data row1 col14\" >96</td>\n                        <td id=\"T_99552b08_0140_11eb_9d2a_00155d57a599row1_col15\" class=\"data row1 col15\" >0</td>\n                        <td id=\"T_99552b08_0140_11eb_9d2a_00155d57a599row1_col16\" class=\"data row1 col16\" >0</td>\n                        <td id=\"T_99552b08_0140_11eb_9d2a_00155d57a599row1_col17\" class=\"data row1 col17\" >0</td>\n            </tr>\n            <tr>\n                        <th id=\"T_99552b08_0140_11eb_9d2a_00155d57a599level0_row2\" class=\"row_heading level0 row2\" >2</th>\n                        <td id=\"T_99552b08_0140_11eb_9d2a_00155d57a599row2_col0\" class=\"data row2 col0\" >0</td>\n                        <td id=\"T_99552b08_0140_11eb_9d2a_00155d57a599row2_col1\" class=\"data row2 col1\" >0</td>\n                        <td id=\"T_99552b08_0140_11eb_9d2a_00155d57a599row2_col2\" class=\"data row2 col2\" >0</td>\n                        <td id=\"T_99552b08_0140_11eb_9d2a_00155d57a599row2_col3\" class=\"data row2 col3\" >48</td>\n                        <td id=\"T_99552b08_0140_11eb_9d2a_00155d57a599row2_col4\" class=\"data row2 col4\" >166</td>\n                        <td id=\"T_99552b08_0140_11eb_9d2a_00155d57a599row2_col5\" class=\"data row2 col5\" >224</td>\n                        <td id=\"T_99552b08_0140_11eb_9d2a_00155d57a599row2_col6\" class=\"data row2 col6\" >253</td>\n                        <td id=\"T_99552b08_0140_11eb_9d2a_00155d57a599row2_col7\" class=\"data row2 col7\" >253</td>\n                        <td id=\"T_99552b08_0140_11eb_9d2a_00155d57a599row2_col8\" class=\"data row2 col8\" >234</td>\n                        <td id=\"T_99552b08_0140_11eb_9d2a_00155d57a599row2_col9\" class=\"data row2 col9\" >196</td>\n                        <td id=\"T_99552b08_0140_11eb_9d2a_00155d57a599row2_col10\" class=\"data row2 col10\" >253</td>\n                        <td id=\"T_99552b08_0140_11eb_9d2a_00155d57a599row2_col11\" class=\"data row2 col11\" >253</td>\n                        <td id=\"T_99552b08_0140_11eb_9d2a_00155d57a599row2_col12\" class=\"data row2 col12\" >253</td>\n                        <td id=\"T_99552b08_0140_11eb_9d2a_00155d57a599row2_col13\" class=\"data row2 col13\" >253</td>\n                        <td id=\"T_99552b08_0140_11eb_9d2a_00155d57a599row2_col14\" class=\"data row2 col14\" >233</td>\n                        <td id=\"T_99552b08_0140_11eb_9d2a_00155d57a599row2_col15\" class=\"data row2 col15\" >0</td>\n                        <td id=\"T_99552b08_0140_11eb_9d2a_00155d57a599row2_col16\" class=\"data row2 col16\" >0</td>\n                        <td id=\"T_99552b08_0140_11eb_9d2a_00155d57a599row2_col17\" class=\"data row2 col17\" >0</td>\n            </tr>\n            <tr>\n                        <th id=\"T_99552b08_0140_11eb_9d2a_00155d57a599level0_row3\" class=\"row_heading level0 row3\" >3</th>\n                        <td id=\"T_99552b08_0140_11eb_9d2a_00155d57a599row3_col0\" class=\"data row3 col0\" >0</td>\n                        <td id=\"T_99552b08_0140_11eb_9d2a_00155d57a599row3_col1\" class=\"data row3 col1\" >93</td>\n                        <td id=\"T_99552b08_0140_11eb_9d2a_00155d57a599row3_col2\" class=\"data row3 col2\" >244</td>\n                        <td id=\"T_99552b08_0140_11eb_9d2a_00155d57a599row3_col3\" class=\"data row3 col3\" >249</td>\n                        <td id=\"T_99552b08_0140_11eb_9d2a_00155d57a599row3_col4\" class=\"data row3 col4\" >253</td>\n                        <td id=\"T_99552b08_0140_11eb_9d2a_00155d57a599row3_col5\" class=\"data row3 col5\" >187</td>\n                        <td id=\"T_99552b08_0140_11eb_9d2a_00155d57a599row3_col6\" class=\"data row3 col6\" >46</td>\n                        <td id=\"T_99552b08_0140_11eb_9d2a_00155d57a599row3_col7\" class=\"data row3 col7\" >10</td>\n                        <td id=\"T_99552b08_0140_11eb_9d2a_00155d57a599row3_col8\" class=\"data row3 col8\" >8</td>\n                        <td id=\"T_99552b08_0140_11eb_9d2a_00155d57a599row3_col9\" class=\"data row3 col9\" >4</td>\n                        <td id=\"T_99552b08_0140_11eb_9d2a_00155d57a599row3_col10\" class=\"data row3 col10\" >10</td>\n                        <td id=\"T_99552b08_0140_11eb_9d2a_00155d57a599row3_col11\" class=\"data row3 col11\" >194</td>\n                        <td id=\"T_99552b08_0140_11eb_9d2a_00155d57a599row3_col12\" class=\"data row3 col12\" >253</td>\n                        <td id=\"T_99552b08_0140_11eb_9d2a_00155d57a599row3_col13\" class=\"data row3 col13\" >253</td>\n                        <td id=\"T_99552b08_0140_11eb_9d2a_00155d57a599row3_col14\" class=\"data row3 col14\" >233</td>\n                        <td id=\"T_99552b08_0140_11eb_9d2a_00155d57a599row3_col15\" class=\"data row3 col15\" >0</td>\n                        <td id=\"T_99552b08_0140_11eb_9d2a_00155d57a599row3_col16\" class=\"data row3 col16\" >0</td>\n                        <td id=\"T_99552b08_0140_11eb_9d2a_00155d57a599row3_col17\" class=\"data row3 col17\" >0</td>\n            </tr>\n            <tr>\n                        <th id=\"T_99552b08_0140_11eb_9d2a_00155d57a599level0_row4\" class=\"row_heading level0 row4\" >4</th>\n                        <td id=\"T_99552b08_0140_11eb_9d2a_00155d57a599row4_col0\" class=\"data row4 col0\" >0</td>\n                        <td id=\"T_99552b08_0140_11eb_9d2a_00155d57a599row4_col1\" class=\"data row4 col1\" >107</td>\n                        <td id=\"T_99552b08_0140_11eb_9d2a_00155d57a599row4_col2\" class=\"data row4 col2\" >253</td>\n                        <td id=\"T_99552b08_0140_11eb_9d2a_00155d57a599row4_col3\" class=\"data row4 col3\" >253</td>\n                        <td id=\"T_99552b08_0140_11eb_9d2a_00155d57a599row4_col4\" class=\"data row4 col4\" >230</td>\n                        <td id=\"T_99552b08_0140_11eb_9d2a_00155d57a599row4_col5\" class=\"data row4 col5\" >48</td>\n                        <td id=\"T_99552b08_0140_11eb_9d2a_00155d57a599row4_col6\" class=\"data row4 col6\" >0</td>\n                        <td id=\"T_99552b08_0140_11eb_9d2a_00155d57a599row4_col7\" class=\"data row4 col7\" >0</td>\n                        <td id=\"T_99552b08_0140_11eb_9d2a_00155d57a599row4_col8\" class=\"data row4 col8\" >0</td>\n                        <td id=\"T_99552b08_0140_11eb_9d2a_00155d57a599row4_col9\" class=\"data row4 col9\" >0</td>\n                        <td id=\"T_99552b08_0140_11eb_9d2a_00155d57a599row4_col10\" class=\"data row4 col10\" >0</td>\n                        <td id=\"T_99552b08_0140_11eb_9d2a_00155d57a599row4_col11\" class=\"data row4 col11\" >192</td>\n                        <td id=\"T_99552b08_0140_11eb_9d2a_00155d57a599row4_col12\" class=\"data row4 col12\" >253</td>\n                        <td id=\"T_99552b08_0140_11eb_9d2a_00155d57a599row4_col13\" class=\"data row4 col13\" >253</td>\n                        <td id=\"T_99552b08_0140_11eb_9d2a_00155d57a599row4_col14\" class=\"data row4 col14\" >156</td>\n                        <td id=\"T_99552b08_0140_11eb_9d2a_00155d57a599row4_col15\" class=\"data row4 col15\" >0</td>\n                        <td id=\"T_99552b08_0140_11eb_9d2a_00155d57a599row4_col16\" class=\"data row4 col16\" >0</td>\n                        <td id=\"T_99552b08_0140_11eb_9d2a_00155d57a599row4_col17\" class=\"data row4 col17\" >0</td>\n            </tr>\n            <tr>\n                        <th id=\"T_99552b08_0140_11eb_9d2a_00155d57a599level0_row5\" class=\"row_heading level0 row5\" >5</th>\n                        <td id=\"T_99552b08_0140_11eb_9d2a_00155d57a599row5_col0\" class=\"data row5 col0\" >0</td>\n                        <td id=\"T_99552b08_0140_11eb_9d2a_00155d57a599row5_col1\" class=\"data row5 col1\" >3</td>\n                        <td id=\"T_99552b08_0140_11eb_9d2a_00155d57a599row5_col2\" class=\"data row5 col2\" >20</td>\n                        <td id=\"T_99552b08_0140_11eb_9d2a_00155d57a599row5_col3\" class=\"data row5 col3\" >20</td>\n                        <td id=\"T_99552b08_0140_11eb_9d2a_00155d57a599row5_col4\" class=\"data row5 col4\" >15</td>\n                        <td id=\"T_99552b08_0140_11eb_9d2a_00155d57a599row5_col5\" class=\"data row5 col5\" >0</td>\n                        <td id=\"T_99552b08_0140_11eb_9d2a_00155d57a599row5_col6\" class=\"data row5 col6\" >0</td>\n                        <td id=\"T_99552b08_0140_11eb_9d2a_00155d57a599row5_col7\" class=\"data row5 col7\" >0</td>\n                        <td id=\"T_99552b08_0140_11eb_9d2a_00155d57a599row5_col8\" class=\"data row5 col8\" >0</td>\n                        <td id=\"T_99552b08_0140_11eb_9d2a_00155d57a599row5_col9\" class=\"data row5 col9\" >0</td>\n                        <td id=\"T_99552b08_0140_11eb_9d2a_00155d57a599row5_col10\" class=\"data row5 col10\" >43</td>\n                        <td id=\"T_99552b08_0140_11eb_9d2a_00155d57a599row5_col11\" class=\"data row5 col11\" >224</td>\n                        <td id=\"T_99552b08_0140_11eb_9d2a_00155d57a599row5_col12\" class=\"data row5 col12\" >253</td>\n                        <td id=\"T_99552b08_0140_11eb_9d2a_00155d57a599row5_col13\" class=\"data row5 col13\" >245</td>\n                        <td id=\"T_99552b08_0140_11eb_9d2a_00155d57a599row5_col14\" class=\"data row5 col14\" >74</td>\n                        <td id=\"T_99552b08_0140_11eb_9d2a_00155d57a599row5_col15\" class=\"data row5 col15\" >0</td>\n                        <td id=\"T_99552b08_0140_11eb_9d2a_00155d57a599row5_col16\" class=\"data row5 col16\" >0</td>\n                        <td id=\"T_99552b08_0140_11eb_9d2a_00155d57a599row5_col17\" class=\"data row5 col17\" >0</td>\n            </tr>\n            <tr>\n                        <th id=\"T_99552b08_0140_11eb_9d2a_00155d57a599level0_row6\" class=\"row_heading level0 row6\" >6</th>\n                        <td id=\"T_99552b08_0140_11eb_9d2a_00155d57a599row6_col0\" class=\"data row6 col0\" >0</td>\n                        <td id=\"T_99552b08_0140_11eb_9d2a_00155d57a599row6_col1\" class=\"data row6 col1\" >0</td>\n                        <td id=\"T_99552b08_0140_11eb_9d2a_00155d57a599row6_col2\" class=\"data row6 col2\" >0</td>\n                        <td id=\"T_99552b08_0140_11eb_9d2a_00155d57a599row6_col3\" class=\"data row6 col3\" >0</td>\n                        <td id=\"T_99552b08_0140_11eb_9d2a_00155d57a599row6_col4\" class=\"data row6 col4\" >0</td>\n                        <td id=\"T_99552b08_0140_11eb_9d2a_00155d57a599row6_col5\" class=\"data row6 col5\" >0</td>\n                        <td id=\"T_99552b08_0140_11eb_9d2a_00155d57a599row6_col6\" class=\"data row6 col6\" >0</td>\n                        <td id=\"T_99552b08_0140_11eb_9d2a_00155d57a599row6_col7\" class=\"data row6 col7\" >0</td>\n                        <td id=\"T_99552b08_0140_11eb_9d2a_00155d57a599row6_col8\" class=\"data row6 col8\" >0</td>\n                        <td id=\"T_99552b08_0140_11eb_9d2a_00155d57a599row6_col9\" class=\"data row6 col9\" >0</td>\n                        <td id=\"T_99552b08_0140_11eb_9d2a_00155d57a599row6_col10\" class=\"data row6 col10\" >249</td>\n                        <td id=\"T_99552b08_0140_11eb_9d2a_00155d57a599row6_col11\" class=\"data row6 col11\" >253</td>\n                        <td id=\"T_99552b08_0140_11eb_9d2a_00155d57a599row6_col12\" class=\"data row6 col12\" >245</td>\n                        <td id=\"T_99552b08_0140_11eb_9d2a_00155d57a599row6_col13\" class=\"data row6 col13\" >126</td>\n                        <td id=\"T_99552b08_0140_11eb_9d2a_00155d57a599row6_col14\" class=\"data row6 col14\" >0</td>\n                        <td id=\"T_99552b08_0140_11eb_9d2a_00155d57a599row6_col15\" class=\"data row6 col15\" >0</td>\n                        <td id=\"T_99552b08_0140_11eb_9d2a_00155d57a599row6_col16\" class=\"data row6 col16\" >0</td>\n                        <td id=\"T_99552b08_0140_11eb_9d2a_00155d57a599row6_col17\" class=\"data row6 col17\" >0</td>\n            </tr>\n            <tr>\n                        <th id=\"T_99552b08_0140_11eb_9d2a_00155d57a599level0_row7\" class=\"row_heading level0 row7\" >7</th>\n                        <td id=\"T_99552b08_0140_11eb_9d2a_00155d57a599row7_col0\" class=\"data row7 col0\" >0</td>\n                        <td id=\"T_99552b08_0140_11eb_9d2a_00155d57a599row7_col1\" class=\"data row7 col1\" >0</td>\n                        <td id=\"T_99552b08_0140_11eb_9d2a_00155d57a599row7_col2\" class=\"data row7 col2\" >0</td>\n                        <td id=\"T_99552b08_0140_11eb_9d2a_00155d57a599row7_col3\" class=\"data row7 col3\" >0</td>\n                        <td id=\"T_99552b08_0140_11eb_9d2a_00155d57a599row7_col4\" class=\"data row7 col4\" >0</td>\n                        <td id=\"T_99552b08_0140_11eb_9d2a_00155d57a599row7_col5\" class=\"data row7 col5\" >0</td>\n                        <td id=\"T_99552b08_0140_11eb_9d2a_00155d57a599row7_col6\" class=\"data row7 col6\" >0</td>\n                        <td id=\"T_99552b08_0140_11eb_9d2a_00155d57a599row7_col7\" class=\"data row7 col7\" >14</td>\n                        <td id=\"T_99552b08_0140_11eb_9d2a_00155d57a599row7_col8\" class=\"data row7 col8\" >101</td>\n                        <td id=\"T_99552b08_0140_11eb_9d2a_00155d57a599row7_col9\" class=\"data row7 col9\" >223</td>\n                        <td id=\"T_99552b08_0140_11eb_9d2a_00155d57a599row7_col10\" class=\"data row7 col10\" >253</td>\n                        <td id=\"T_99552b08_0140_11eb_9d2a_00155d57a599row7_col11\" class=\"data row7 col11\" >248</td>\n                        <td id=\"T_99552b08_0140_11eb_9d2a_00155d57a599row7_col12\" class=\"data row7 col12\" >124</td>\n                        <td id=\"T_99552b08_0140_11eb_9d2a_00155d57a599row7_col13\" class=\"data row7 col13\" >0</td>\n                        <td id=\"T_99552b08_0140_11eb_9d2a_00155d57a599row7_col14\" class=\"data row7 col14\" >0</td>\n                        <td id=\"T_99552b08_0140_11eb_9d2a_00155d57a599row7_col15\" class=\"data row7 col15\" >0</td>\n                        <td id=\"T_99552b08_0140_11eb_9d2a_00155d57a599row7_col16\" class=\"data row7 col16\" >0</td>\n                        <td id=\"T_99552b08_0140_11eb_9d2a_00155d57a599row7_col17\" class=\"data row7 col17\" >0</td>\n            </tr>\n            <tr>\n                        <th id=\"T_99552b08_0140_11eb_9d2a_00155d57a599level0_row8\" class=\"row_heading level0 row8\" >8</th>\n                        <td id=\"T_99552b08_0140_11eb_9d2a_00155d57a599row8_col0\" class=\"data row8 col0\" >0</td>\n                        <td id=\"T_99552b08_0140_11eb_9d2a_00155d57a599row8_col1\" class=\"data row8 col1\" >0</td>\n                        <td id=\"T_99552b08_0140_11eb_9d2a_00155d57a599row8_col2\" class=\"data row8 col2\" >0</td>\n                        <td id=\"T_99552b08_0140_11eb_9d2a_00155d57a599row8_col3\" class=\"data row8 col3\" >0</td>\n                        <td id=\"T_99552b08_0140_11eb_9d2a_00155d57a599row8_col4\" class=\"data row8 col4\" >0</td>\n                        <td id=\"T_99552b08_0140_11eb_9d2a_00155d57a599row8_col5\" class=\"data row8 col5\" >11</td>\n                        <td id=\"T_99552b08_0140_11eb_9d2a_00155d57a599row8_col6\" class=\"data row8 col6\" >166</td>\n                        <td id=\"T_99552b08_0140_11eb_9d2a_00155d57a599row8_col7\" class=\"data row8 col7\" >239</td>\n                        <td id=\"T_99552b08_0140_11eb_9d2a_00155d57a599row8_col8\" class=\"data row8 col8\" >253</td>\n                        <td id=\"T_99552b08_0140_11eb_9d2a_00155d57a599row8_col9\" class=\"data row8 col9\" >253</td>\n                        <td id=\"T_99552b08_0140_11eb_9d2a_00155d57a599row8_col10\" class=\"data row8 col10\" >253</td>\n                        <td id=\"T_99552b08_0140_11eb_9d2a_00155d57a599row8_col11\" class=\"data row8 col11\" >187</td>\n                        <td id=\"T_99552b08_0140_11eb_9d2a_00155d57a599row8_col12\" class=\"data row8 col12\" >30</td>\n                        <td id=\"T_99552b08_0140_11eb_9d2a_00155d57a599row8_col13\" class=\"data row8 col13\" >0</td>\n                        <td id=\"T_99552b08_0140_11eb_9d2a_00155d57a599row8_col14\" class=\"data row8 col14\" >0</td>\n                        <td id=\"T_99552b08_0140_11eb_9d2a_00155d57a599row8_col15\" class=\"data row8 col15\" >0</td>\n                        <td id=\"T_99552b08_0140_11eb_9d2a_00155d57a599row8_col16\" class=\"data row8 col16\" >0</td>\n                        <td id=\"T_99552b08_0140_11eb_9d2a_00155d57a599row8_col17\" class=\"data row8 col17\" >0</td>\n            </tr>\n            <tr>\n                        <th id=\"T_99552b08_0140_11eb_9d2a_00155d57a599level0_row9\" class=\"row_heading level0 row9\" >9</th>\n                        <td id=\"T_99552b08_0140_11eb_9d2a_00155d57a599row9_col0\" class=\"data row9 col0\" >0</td>\n                        <td id=\"T_99552b08_0140_11eb_9d2a_00155d57a599row9_col1\" class=\"data row9 col1\" >0</td>\n                        <td id=\"T_99552b08_0140_11eb_9d2a_00155d57a599row9_col2\" class=\"data row9 col2\" >0</td>\n                        <td id=\"T_99552b08_0140_11eb_9d2a_00155d57a599row9_col3\" class=\"data row9 col3\" >0</td>\n                        <td id=\"T_99552b08_0140_11eb_9d2a_00155d57a599row9_col4\" class=\"data row9 col4\" >0</td>\n                        <td id=\"T_99552b08_0140_11eb_9d2a_00155d57a599row9_col5\" class=\"data row9 col5\" >16</td>\n                        <td id=\"T_99552b08_0140_11eb_9d2a_00155d57a599row9_col6\" class=\"data row9 col6\" >248</td>\n                        <td id=\"T_99552b08_0140_11eb_9d2a_00155d57a599row9_col7\" class=\"data row9 col7\" >250</td>\n                        <td id=\"T_99552b08_0140_11eb_9d2a_00155d57a599row9_col8\" class=\"data row9 col8\" >253</td>\n                        <td id=\"T_99552b08_0140_11eb_9d2a_00155d57a599row9_col9\" class=\"data row9 col9\" >253</td>\n                        <td id=\"T_99552b08_0140_11eb_9d2a_00155d57a599row9_col10\" class=\"data row9 col10\" >253</td>\n                        <td id=\"T_99552b08_0140_11eb_9d2a_00155d57a599row9_col11\" class=\"data row9 col11\" >253</td>\n                        <td id=\"T_99552b08_0140_11eb_9d2a_00155d57a599row9_col12\" class=\"data row9 col12\" >232</td>\n                        <td id=\"T_99552b08_0140_11eb_9d2a_00155d57a599row9_col13\" class=\"data row9 col13\" >213</td>\n                        <td id=\"T_99552b08_0140_11eb_9d2a_00155d57a599row9_col14\" class=\"data row9 col14\" >111</td>\n                        <td id=\"T_99552b08_0140_11eb_9d2a_00155d57a599row9_col15\" class=\"data row9 col15\" >2</td>\n                        <td id=\"T_99552b08_0140_11eb_9d2a_00155d57a599row9_col16\" class=\"data row9 col16\" >0</td>\n                        <td id=\"T_99552b08_0140_11eb_9d2a_00155d57a599row9_col17\" class=\"data row9 col17\" >0</td>\n            </tr>\n            <tr>\n                        <th id=\"T_99552b08_0140_11eb_9d2a_00155d57a599level0_row10\" class=\"row_heading level0 row10\" >10</th>\n                        <td id=\"T_99552b08_0140_11eb_9d2a_00155d57a599row10_col0\" class=\"data row10 col0\" >0</td>\n                        <td id=\"T_99552b08_0140_11eb_9d2a_00155d57a599row10_col1\" class=\"data row10 col1\" >0</td>\n                        <td id=\"T_99552b08_0140_11eb_9d2a_00155d57a599row10_col2\" class=\"data row10 col2\" >0</td>\n                        <td id=\"T_99552b08_0140_11eb_9d2a_00155d57a599row10_col3\" class=\"data row10 col3\" >0</td>\n                        <td id=\"T_99552b08_0140_11eb_9d2a_00155d57a599row10_col4\" class=\"data row10 col4\" >0</td>\n                        <td id=\"T_99552b08_0140_11eb_9d2a_00155d57a599row10_col5\" class=\"data row10 col5\" >0</td>\n                        <td id=\"T_99552b08_0140_11eb_9d2a_00155d57a599row10_col6\" class=\"data row10 col6\" >0</td>\n                        <td id=\"T_99552b08_0140_11eb_9d2a_00155d57a599row10_col7\" class=\"data row10 col7\" >43</td>\n                        <td id=\"T_99552b08_0140_11eb_9d2a_00155d57a599row10_col8\" class=\"data row10 col8\" >98</td>\n                        <td id=\"T_99552b08_0140_11eb_9d2a_00155d57a599row10_col9\" class=\"data row10 col9\" >98</td>\n                        <td id=\"T_99552b08_0140_11eb_9d2a_00155d57a599row10_col10\" class=\"data row10 col10\" >208</td>\n                        <td id=\"T_99552b08_0140_11eb_9d2a_00155d57a599row10_col11\" class=\"data row10 col11\" >253</td>\n                        <td id=\"T_99552b08_0140_11eb_9d2a_00155d57a599row10_col12\" class=\"data row10 col12\" >253</td>\n                        <td id=\"T_99552b08_0140_11eb_9d2a_00155d57a599row10_col13\" class=\"data row10 col13\" >253</td>\n                        <td id=\"T_99552b08_0140_11eb_9d2a_00155d57a599row10_col14\" class=\"data row10 col14\" >253</td>\n                        <td id=\"T_99552b08_0140_11eb_9d2a_00155d57a599row10_col15\" class=\"data row10 col15\" >187</td>\n                        <td id=\"T_99552b08_0140_11eb_9d2a_00155d57a599row10_col16\" class=\"data row10 col16\" >22</td>\n                        <td id=\"T_99552b08_0140_11eb_9d2a_00155d57a599row10_col17\" class=\"data row10 col17\" >0</td>\n            </tr>\n    </tbody></table>"
     },
     "metadata": {},
     "execution_count": 17
    }
   ],
   "source": [
    "#hide_output\n",
    "im3_t = tensor(im3)\n",
    "df = pd.DataFrame(im3_t[4:15,4:22])\n",
    "df.style.set_properties(**{'font-size':'6pt'}).background_gradient('Greys')"
   ]
  },
  {
   "cell_type": "markdown",
   "metadata": {},
   "source": [
    "<img width=\"453\" id=\"output_pd_pixels\" src=\"images/att_00058.png\">"
   ]
  },
  {
   "cell_type": "markdown",
   "metadata": {},
   "source": [
    "You can see that the background white pixels are stored as the number 0, black is the number 255, and shades of gray are between the two. The entire image contains 28 pixels across and 28 pixels down, for a total of 784 pixels. (This is much smaller than an image that you would get from a phone camera, which has millions of pixels, but is a convenient size for our initial learning and experiments. We will build up to bigger, full-color images soon.)\n",
    "\n",
    "So, now you've seen what an image looks like to a computer, let's recall our goal: create a model that can recognize 3s and 7s. How might you go about getting a computer to do that?\n",
    "\n",
    "> Warning: Stop and Think!: Before you read on, take a moment to think about how a computer might be able to recognize these two different digits. What kinds of features might it be able to look at? How might it be able to identify these features? How could it combine them together? Learning works best when you try to solve problems yourself, rather than just reading somebody else's answers; so step away from this book for a few minutes, grab a piece of paper and pen, and jot some ideas down…"
   ]
  },
  {
   "cell_type": "markdown",
   "metadata": {},
   "source": [
    "## First Try: Pixel Similarity"
   ]
  },
  {
   "cell_type": "markdown",
   "metadata": {},
   "source": [
    "So, here is a first idea: how about we find the average pixel value for every pixel of the 3s, then do the same for the 7s. This will give us two group averages, defining what we might call the \"ideal\" 3 and 7. Then, to classify an image as one digit or the other, we see which of these two ideal digits the image is most similar to. This certainly seems like it should be better than nothing, so it will make a good baseline."
   ]
  },
  {
   "cell_type": "markdown",
   "metadata": {},
   "source": [
    "> jargon: Baseline: A simple model which you are confident should perform reasonably well. It should be very simple to implement, and very easy to test, so that you can then test each of your improved ideas, and make sure they are always better than your baseline. Without starting with a sensible baseline, it is very difficult to know whether your super-fancy models are actually any good. One good approach to creating a baseline is doing what we have done here: think of a simple, easy-to-implement model. Another good approach is to search around to find other people that have solved similar problems to yours, and download and run their code on your dataset. Ideally, try both of these!"
   ]
  },
  {
   "cell_type": "markdown",
   "metadata": {},
   "source": [
    "Step one for our simple model is to get the average of pixel values for each of our two groups. In the process of doing this, we will learn a lot of neat Python numeric programming tricks!\n",
    "\n",
    "Let's create a tensor containing all of our 3s stacked together. We already know how to create a tensor containing a single image. To create a tensor containing all the images in a directory, we will first use a Python list comprehension to create a plain list of the single image tensors.\n",
    "\n",
    "We will use Jupyter to do some little checks of our work along the way—in this case, making sure that the number of returned items seems reasonable:"
   ]
  },
  {
   "cell_type": "code",
   "execution_count": 18,
   "metadata": {},
   "outputs": [
    {
     "output_type": "execute_result",
     "data": {
      "text/plain": "(6131, 6265)"
     },
     "metadata": {},
     "execution_count": 18
    }
   ],
   "source": [
    "seven_tensors = [tensor(Image.open(o)) for o in sevens]\n",
    "three_tensors = [tensor(Image.open(o)) for o in threes]\n",
    "len(three_tensors),len(seven_tensors)"
   ]
  },
  {
   "cell_type": "code",
   "execution_count": 19,
   "metadata": {
    "tags": []
   },
   "outputs": [
    {
     "output_type": "stream",
     "name": "stdout",
     "text": "x\n"
    }
   ],
   "source": [
    "print(\"x\")"
   ]
  },
  {
   "cell_type": "code",
   "execution_count": 20,
   "metadata": {},
   "outputs": [
    {
     "output_type": "execute_result",
     "data": {
      "text/plain": "torch.Size([28, 28])"
     },
     "metadata": {},
     "execution_count": 20
    }
   ],
   "source": [
    "three_tensors[0].shape"
   ]
  },
  {
   "cell_type": "markdown",
   "metadata": {},
   "source": [
    "> note: List Comprehensions: List and dictionary comprehensions are a wonderful feature of Python. Many Python programmers use them every day, including the authors of this book—they are part of \"idiomatic Python.\" But programmers coming from other languages may have never seen them before. There are a lot of great tutorials just a web search away, so we won't spend a long time discussing them now. Here is a quick explanation and example to get you started. A list comprehension looks like this: `new_list = [f(o) for o in a_list if o>0]`. This will return every element of `a_list` that is greater than 0, after passing it to the function `f`. There are three parts here: the collection you are iterating over (`a_list`), an optional filter (`if o>0`), and something to do to each element (`f(o)`). It's not only shorter to write but way faster than the alternative ways of creating the same list with a loop."
   ]
  },
  {
   "cell_type": "markdown",
   "metadata": {},
   "source": [
    "We'll also check that one of the images looks okay. Since we now have tensors (which Jupyter by default will print as values), rather than PIL images (which Jupyter by default will display as images), we need to use fastai's `show_image` function to display it:"
   ]
  },
  {
   "cell_type": "code",
   "execution_count": 21,
   "metadata": {},
   "outputs": [
    {
     "output_type": "display_data",
     "data": {
      "text/plain": "<Figure size 72x72 with 1 Axes>",
      "image/svg+xml": "<?xml version=\"1.0\" encoding=\"utf-8\" standalone=\"no\"?>\n<!DOCTYPE svg PUBLIC \"-//W3C//DTD SVG 1.1//EN\"\n  \"http://www.w3.org/Graphics/SVG/1.1/DTD/svg11.dtd\">\n<!-- Created with matplotlib (https://matplotlib.org/) -->\n<svg height=\"68.76pt\" version=\"1.1\" viewBox=\"0 0 68.76 68.76\" width=\"68.76pt\" xmlns=\"http://www.w3.org/2000/svg\" xmlns:xlink=\"http://www.w3.org/1999/xlink\">\n <metadata>\n  <rdf:RDF xmlns:cc=\"http://creativecommons.org/ns#\" xmlns:dc=\"http://purl.org/dc/elements/1.1/\" xmlns:rdf=\"http://www.w3.org/1999/02/22-rdf-syntax-ns#\">\n   <cc:Work>\n    <dc:type rdf:resource=\"http://purl.org/dc/dcmitype/StillImage\"/>\n    <dc:date>2020-09-28T06:11:10.146032</dc:date>\n    <dc:format>image/svg+xml</dc:format>\n    <dc:creator>\n     <cc:Agent>\n      <dc:title>Matplotlib v3.3.2, https://matplotlib.org/</dc:title>\n     </cc:Agent>\n    </dc:creator>\n   </cc:Work>\n  </rdf:RDF>\n </metadata>\n <defs>\n  <style type=\"text/css\">*{stroke-linecap:butt;stroke-linejoin:round;}</style>\n </defs>\n <g id=\"figure_1\">\n  <g id=\"patch_1\">\n   <path d=\"M 0 68.76 \nL 68.76 68.76 \nL 68.76 0 \nL 0 0 \nz\n\" style=\"fill:none;\"/>\n  </g>\n  <g id=\"axes_1\">\n   <g clip-path=\"url(#p53669f183a)\">\n    <image height=\"55\" id=\"image55fca2c729\" transform=\"scale(1 -1)translate(0 -55)\" width=\"55\" x=\"7.2\" xlink:href=\"data:image/png;base64,\niVBORw0KGgoAAAANSUhEUgAAADcAAAA3CAYAAACo29JGAAAI0ElEQVR4nO2aS28bZRfHfzO+jK/ja9Paady6NYZCUBCoaVFRpcC6LLpFLPgA/Qas+AqIDSsWqKxRtwVEKpWaQAS9ROTuJLaT2K4T2/FlPDcWvDNK8tI2FydtUf+SJWv8eJ7n53PmPOecx4Jpmib/UYnPewFHqVdwL6v+03DO/QzWdR1FUVBVlUaj8czxgiAgiiJ+vx+Px4PT6cThcBx4sfvVvuDa7TZ//PEHv/76K1999RWapj11vNfrJRwOc/36da5fv87AwAChUOhQC96P9gWnaRrLy8sUCgWKxeIz4TweD7VajenpaR48eEA6nSaRSOD1enG73bhcLpzOfS1hXxL2s8+trKzwxRdfMD8/z507dzAM49kTCAKSJCFJEq+99hqZTIYrV64wOjrKuXPniEajhwJ4mvb1s7ndblKpFIIgUK1WcbvdRCIRdF1H13W63S5bW1soikKv16PVatFsNlEUhW63S6FQACAajSIIAqZp0uv1kGUZSZIQRRFBEPoGty/LKYpCtVqlWq3y+++/k0wmef3119E0jW63S61WY3Z2lmq1SqlUYmZmhlwuh6IoKIpiBxi3243b7ebSpUtks1k++eQT3nrrLdtV+6V9Wc7hcBAMBhEEgeHhYWRZJhqNous6vV4Pn8+Hx+Oh2WxSLpeJxWKEw2HW19dZXl5mc3OTzc1Nut0uiqKQz+dxOBxMTEwAkE6nkWW5b1F1X5YDME3TfgmCsMONrOvW+06nw+bmJg8fPuTnn38ml8sxPj5uj7fcMBaLIcsyn3/+OWNjY8TjcTwez6Hh9h2qdgPt/my73G43oVCIdDqNqqoYhoGqqiwvL1MqleyA1Gw2UVWVhw8fEolEuHz5MpIkHf75M49YhmGYuq6bmqaZi4uL5q1bt8xPP/3U9Hg8ptPpNEVRNEVRNB0Oh5lIJMyRkRHz3r17pqqqpmEYh5r76DaZ/2m7pcPhMJlMhtHRUXq9HlNTU6ysrNDtdun1erTbbSqVCvfv3ycajZJMJvF6vU/1lqfObZrHV89ZU21sbFAul/nuu+/4/vvvKRQKbGxsAP88hx999BHZbJYbN25w9uxZHA4Horj/NPjILbdd1q/v8XiIxWIMDw9TqVS4c+cOm5ubmKaJYRgsLy8jiiL1eh1N0w4EBscMZ8nn8+H1enn//fdJJBLU63Wmp6cxDAPTNJmeniafz1MsFjl//vyBt4bnVvIIgoAsywwNDZFKpUilUgQCAftzXdcpl8vUarVn5rBP0nOt52RZJpVKcfHiRUZHR3fkmaZpsrS0xNzcHL1e70D3f2GK1X+Lhq1Wi1qthq7rB7rnCwFnbststl+r1+usra2hquqB7nusAcWCUFUVTdNot9u0220ePHjAX3/9taO6t9KydDqNJEkHmu/Y4azSqNFokM/nWVhYIJfL8eeff+4YKwgCyWSSdDp94ErhSOA0TUNVVTvrsFQulymVShQKBdbW1qhUKnaZtF0DAwPE43HS6TSxWOzAFcKRwFkNpFqtZheoAD/++CPj4+Pk83nW1tb+9buCIJBKpchkMpw5c4ZoNPp8LWe5W6lU4vbt22xtbVGv121AS4uLiywtLdFsNgHs4tQqXt944w2SySRXrlzhwoULDA0N4XK5Dlwd9AXOMAw0TWNycpIbN26gaZqdSj0tdZUkCb/fjyzLBAIBPvjgA0ZGRrh69SrxePzQJU9f4KysPR6Pc+nSJYrFIsVi0Y6Ku3XixAlisRhjY2MMDw8Ti8UIBAKcPn2aUChEIBDoSy+lb8+cKIqEQiHefvttPB4P1WoV4Ilwb775JteuXePy5ct2q6/f6pvlHA4HQ0NDfPbZZ9TrdYrFIisrK+TzeWZmZrh//z6dTodOp0O5XEbTNH777TcikQjZbPbFhhMEgXA4zDvvvIOu62iaxvr6OlNTU/zwww8UCgUeP35Mp9OhVqvRaDSYmZlhYGCARCJBOBzux1J2rusoilUrmFh9zFqtxtraGjdv3uSbb76xx2WzWTKZDB9//DEXL17k7NmzyLLct3UcyT5nuanf78fv93Py5EkuXLjA7Ows3377LZqmYRgGc3NzLC0tEY/HUVWVaDT6fOCsvHB3gLAarXvJIsbGxvjyyy/56aefuH37Nu12G0VR+OWXX1hdXWVwcBCn00k4HO5La29PVYEFpus6qqraL03T0DRtzyXJ4OAg165dY2RkhGAwiNPpRNd1++zh0aNHh6oCdmtPlrO6w8VikVu3btmTu91u/H4/7777Lh9++CGSJOH1ep94H6uPefr0aYaGhuh0OjQaDbtjPTc3x8TEBKdOnSIYDB4PnKqqLC4uksvl+Prrr1EUBfin0ROJRKjX67z33nu2Oz1pA3Y6nbbbhcNhO/xbXrG+vs78/DydTufQYLBHtxQEwW7qSJKE0+lEFEU0TWNjY4PJyUlu3rzJxMQEjUaDdrttn/zoum6nYYZh2K69+/jLNE2mpqbI5XJ7OrXdi/ZkOUEQcLvd+Hw+gsEgoiiiqqrtTsVikcnJSfsMLhAI7GjHWWcCFmS320XX9f/LO61mULfbPT44SZIYHh7m/PnzXL16lVarxerqKgsLC9y7d49ms8ni4iLVapW7d+/icrmQJAm3243X60WWZUKhEOvr61QqFWZnZ5mfn2dra6svEIeCczqdBINBgsEgAwMDKIrCxsYGg4ODVKtVVldXqVQqLCwscPfuXTu6ejwe/H4/J06cYHBwkOnpaZaWlhBFEVEUMU3TtqrlHdYh5LHB7ZbL5SISiRAIBEilUrRaLR4/fsyjR48YHx+3c8tKpcLq6iqtVotSqWS725kzZ8hms/Y+l0gk7B5mPB4nmUw+PzhRFO1z7kAggKqqnDp1Cp/PR6VSoVKp4PP5cDqdNBoNO5hYljl37hyZTGYHXCwWI5PJcPLkSfx+f1/g+pJbbt/gW62W3UOx+ii75fF4kCQJwzAwDMP+V4PL5cLhcNj/WTmsjvWU57j1QjRlj0qv4F5WvYJ7WfUK7mXVfxrub2OxGXbe3GHzAAAAAElFTkSuQmCC\" y=\"-6.56\"/>\n   </g>\n  </g>\n </g>\n <defs>\n  <clipPath id=\"p53669f183a\">\n   <rect height=\"54.36\" width=\"54.36\" x=\"7.2\" y=\"7.2\"/>\n  </clipPath>\n </defs>\n</svg>\n",
      "image/png": "[encoded data removed]"
     },
     "metadata": {
      "needs_background": "light"
     }
    }
   ],
   "source": [
    "show_image(three_tensors[1]);"
   ]
  },
  {
   "cell_type": "markdown",
   "metadata": {},
   "source": [
    "For every pixel position, we want to compute the average over all the images of the intensity of that pixel. To do this we first combine all the images in this list into a single three-dimensional tensor. The most common way to describe such a tensor is to call it a *rank-3 tensor*. We often need to stack up individual tensors in a collection into a single tensor. Unsurprisingly, PyTorch comes with a function called `stack` that we can use for this purpose.\n",
    "\n",
    "Some operations in PyTorch, such as taking a mean, require us to *cast* our integer types to float types. Since we'll be needing this later, we'll also cast our stacked tensor to `float` now. Casting in PyTorch is as simple as typing the name of the type you wish to cast to, and treating it as a method.\n",
    "\n",
    "Generally when images are floats, the pixel values are expected to be between 0 and 1, so we will also divide by 255 here:"
   ]
  },
  {
   "cell_type": "code",
   "execution_count": 22,
   "metadata": {},
   "outputs": [
    {
     "output_type": "execute_result",
     "data": {
      "text/plain": "torch.Size([6131, 28, 28])"
     },
     "metadata": {},
     "execution_count": 22
    }
   ],
   "source": [
    "stacked_sevens = torch.stack(seven_tensors).float()/255\n",
    "stacked_threes = torch.stack(three_tensors).float()/255\n",
    "stacked_threes.shape"
   ]
  },
  {
   "cell_type": "markdown",
   "metadata": {},
   "source": [
    "Perhaps the most important attribute of a tensor is its *shape*. This tells you the length of each axis. In this case, we can see that we have 6,131 images, each of size 28×28 pixels. There is nothing specifically about this tensor that says that the first axis is the number of images, the second is the height, and the third is the width—the semantics of a tensor are entirely up to us, and how we construct it. As far as PyTorch is concerned, it is just a bunch of numbers in memory.\n",
    "\n",
    "The *length* of a tensor's shape is its rank:"
   ]
  },
  {
   "cell_type": "code",
   "execution_count": 23,
   "metadata": {},
   "outputs": [
    {
     "output_type": "execute_result",
     "data": {
      "text/plain": "3"
     },
     "metadata": {},
     "execution_count": 23
    }
   ],
   "source": [
    "len(stacked_threes.shape)"
   ]
  },
  {
   "cell_type": "markdown",
   "metadata": {},
   "source": [
    "It is really important for you to commit to memory and practice these bits of tensor jargon: _rank_ is the number of axes or dimensions in a tensor; _shape_ is the size of each axis of a tensor.\n",
    "\n",
    "> A: Watch out because the term \"dimension\" is sometimes used in two ways. Consider that we live in \"three-dimensonal space\" where a physical position can be described by a 3-vector `v`. But according to PyTorch, the attribute `v.ndim` (which sure looks like the \"number of dimensions\" of `v`) equals one, not three! Why? Because `v` is a vector, which is a tensor of rank one, meaning that it has only one _axis_ (even if that axis has a length of three). In other words, sometimes dimension is used for the size of an axis (\"space is three-dimensional\"); other times, it is used for the rank, or the number of axes (\"a matrix has two dimensions\"). When confused, I find it helpful to translate all statements into terms of rank, axis, and length, which are unambiguous terms."
   ]
  },
  {
   "cell_type": "markdown",
   "metadata": {},
   "source": [
    "We can also get a tensor's rank directly with `ndim`:"
   ]
  },
  {
   "cell_type": "code",
   "execution_count": 24,
   "metadata": {},
   "outputs": [
    {
     "output_type": "execute_result",
     "data": {
      "text/plain": "3"
     },
     "metadata": {},
     "execution_count": 24
    }
   ],
   "source": [
    "stacked_threes.ndim"
   ]
  },
  {
   "cell_type": "markdown",
   "metadata": {},
   "source": [
    "Finally, we can compute what the ideal 3 looks like. We calculate the mean of all the image tensors by taking the mean along dimension 0 of our stacked, rank-3 tensor. This is the dimension that indexes over all the images.\n",
    "\n",
    "In other words, for every pixel position, this will compute the average of that pixel over all images. The result will be one value for every pixel position, or a single image. Here it is:"
   ]
  },
  {
   "cell_type": "code",
   "execution_count": 25,
   "metadata": {},
   "outputs": [
    {
     "output_type": "display_data",
     "data": {
      "text/plain": "<Figure size 72x72 with 1 Axes>",
      "image/svg+xml": "<?xml version=\"1.0\" encoding=\"utf-8\" standalone=\"no\"?>\n<!DOCTYPE svg PUBLIC \"-//W3C//DTD SVG 1.1//EN\"\n  \"http://www.w3.org/Graphics/SVG/1.1/DTD/svg11.dtd\">\n<!-- Created with matplotlib (https://matplotlib.org/) -->\n<svg height=\"68.76pt\" version=\"1.1\" viewBox=\"0 0 68.76 68.76\" width=\"68.76pt\" xmlns=\"http://www.w3.org/2000/svg\" xmlns:xlink=\"http://www.w3.org/1999/xlink\">\n <metadata>\n  <rdf:RDF xmlns:cc=\"http://creativecommons.org/ns#\" xmlns:dc=\"http://purl.org/dc/elements/1.1/\" xmlns:rdf=\"http://www.w3.org/1999/02/22-rdf-syntax-ns#\">\n   <cc:Work>\n    <dc:type rdf:resource=\"http://purl.org/dc/dcmitype/StillImage\"/>\n    <dc:date>2020-09-28T06:11:10.763193</dc:date>\n    <dc:format>image/svg+xml</dc:format>\n    <dc:creator>\n     <cc:Agent>\n      <dc:title>Matplotlib v3.3.2, https://matplotlib.org/</dc:title>\n     </cc:Agent>\n    </dc:creator>\n   </cc:Work>\n  </rdf:RDF>\n </metadata>\n <defs>\n  <style type=\"text/css\">*{stroke-linecap:butt;stroke-linejoin:round;}</style>\n </defs>\n <g id=\"figure_1\">\n  <g id=\"patch_1\">\n   <path d=\"M 0 68.76 \nL 68.76 68.76 \nL 68.76 0 \nL 0 0 \nz\n\" style=\"fill:none;\"/>\n  </g>\n  <g id=\"axes_1\">\n   <g clip-path=\"url(#pbf1dae84a2)\">\n    <image height=\"55\" id=\"image30a326055a\" transform=\"scale(1 -1)translate(0 -55)\" width=\"55\" x=\"7.2\" xlink:href=\"data:image/png;base64,\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\" y=\"-6.56\"/>\n   </g>\n  </g>\n </g>\n <defs>\n  <clipPath id=\"pbf1dae84a2\">\n   <rect height=\"54.36\" width=\"54.36\" x=\"7.2\" y=\"7.2\"/>\n  </clipPath>\n </defs>\n</svg>\n",
      "image/png": "[encoded data removed]"
     },
     "metadata": {
      "needs_background": "light"
     }
    }
   ],
   "source": [
    "mean3 = stacked_threes.mean(0)\n",
    "show_image(mean3);"
   ]
  },
  {
   "cell_type": "markdown",
   "metadata": {},
   "source": [
    "According to this dataset, this is the ideal number 3! (You may not like it, but this is what peak number 3 performance looks like.) You can see how it's very dark where all the images agree it should be dark, but it becomes wispy and blurry where the images disagree. \n",
    "\n",
    "Let's do the same thing for the 7s, but put all the steps together at once to save some time:"
   ]
  },
  {
   "cell_type": "code",
   "execution_count": 26,
   "metadata": {},
   "outputs": [
    {
     "output_type": "display_data",
     "data": {
      "text/plain": "<Figure size 72x72 with 1 Axes>",
      "image/svg+xml": "<?xml version=\"1.0\" encoding=\"utf-8\" standalone=\"no\"?>\n<!DOCTYPE svg PUBLIC \"-//W3C//DTD SVG 1.1//EN\"\n  \"http://www.w3.org/Graphics/SVG/1.1/DTD/svg11.dtd\">\n<!-- Created with matplotlib (https://matplotlib.org/) -->\n<svg height=\"68.76pt\" version=\"1.1\" viewBox=\"0 0 68.76 68.76\" width=\"68.76pt\" xmlns=\"http://www.w3.org/2000/svg\" xmlns:xlink=\"http://www.w3.org/1999/xlink\">\n <metadata>\n  <rdf:RDF xmlns:cc=\"http://creativecommons.org/ns#\" xmlns:dc=\"http://purl.org/dc/elements/1.1/\" xmlns:rdf=\"http://www.w3.org/1999/02/22-rdf-syntax-ns#\">\n   <cc:Work>\n    <dc:type rdf:resource=\"http://purl.org/dc/dcmitype/StillImage\"/>\n    <dc:date>2020-09-28T06:11:10.893034</dc:date>\n    <dc:format>image/svg+xml</dc:format>\n    <dc:creator>\n     <cc:Agent>\n      <dc:title>Matplotlib v3.3.2, https://matplotlib.org/</dc:title>\n     </cc:Agent>\n    </dc:creator>\n   </cc:Work>\n  </rdf:RDF>\n </metadata>\n <defs>\n  <style type=\"text/css\">*{stroke-linecap:butt;stroke-linejoin:round;}</style>\n </defs>\n <g id=\"figure_1\">\n  <g id=\"patch_1\">\n   <path d=\"M 0 68.76 \nL 68.76 68.76 \nL 68.76 0 \nL 0 0 \nz\n\" style=\"fill:none;\"/>\n  </g>\n  <g id=\"axes_1\">\n   <g clip-path=\"url(#pf9b00fc86f)\">\n    <image height=\"55\" id=\"image2fc1303332\" transform=\"scale(1 -1)translate(0 -55)\" width=\"55\" x=\"7.2\" xlink:href=\"data:image/png;base64,\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\" y=\"-6.56\"/>\n   </g>\n  </g>\n </g>\n <defs>\n  <clipPath id=\"pf9b00fc86f\">\n   <rect height=\"54.36\" width=\"54.36\" x=\"7.2\" y=\"7.2\"/>\n  </clipPath>\n </defs>\n</svg>\n",
      "image/png": "[encoded data removed]"
     },
     "metadata": {
      "needs_background": "light"
     }
    }
   ],
   "source": [
    "mean7 = stacked_sevens.mean(0)\n",
    "show_image(mean7);"
   ]
  },
  {
   "cell_type": "markdown",
   "metadata": {},
   "source": [
    "Let's now pick an arbitrary 3 and measure its *distance* from our \"ideal digits.\"\n",
    "\n",
    "> stop: Stop and Think!: How would you calculate how similar a particular image is to each of our ideal digits? Remember to step away from this book and jot down some ideas before you move on! Research shows that recall and understanding improves dramatically when you are engaged with the learning process by solving problems, experimenting, and trying new ideas yourself\n",
    "\n",
    "Here's a sample 3:"
   ]
  },
  {
   "cell_type": "code",
   "execution_count": 27,
   "metadata": {},
   "outputs": [
    {
     "output_type": "display_data",
     "data": {
      "text/plain": "<Figure size 72x72 with 1 Axes>",
      "image/svg+xml": "<?xml version=\"1.0\" encoding=\"utf-8\" standalone=\"no\"?>\n<!DOCTYPE svg PUBLIC \"-//W3C//DTD SVG 1.1//EN\"\n  \"http://www.w3.org/Graphics/SVG/1.1/DTD/svg11.dtd\">\n<!-- Created with matplotlib (https://matplotlib.org/) -->\n<svg height=\"68.76pt\" version=\"1.1\" viewBox=\"0 0 68.76 68.76\" width=\"68.76pt\" xmlns=\"http://www.w3.org/2000/svg\" xmlns:xlink=\"http://www.w3.org/1999/xlink\">\n <metadata>\n  <rdf:RDF xmlns:cc=\"http://creativecommons.org/ns#\" xmlns:dc=\"http://purl.org/dc/elements/1.1/\" xmlns:rdf=\"http://www.w3.org/1999/02/22-rdf-syntax-ns#\">\n   <cc:Work>\n    <dc:type rdf:resource=\"http://purl.org/dc/dcmitype/StillImage\"/>\n    <dc:date>2020-09-28T06:11:12.342323</dc:date>\n    <dc:format>image/svg+xml</dc:format>\n    <dc:creator>\n     <cc:Agent>\n      <dc:title>Matplotlib v3.3.2, https://matplotlib.org/</dc:title>\n     </cc:Agent>\n    </dc:creator>\n   </cc:Work>\n  </rdf:RDF>\n </metadata>\n <defs>\n  <style type=\"text/css\">*{stroke-linecap:butt;stroke-linejoin:round;}</style>\n </defs>\n <g id=\"figure_1\">\n  <g id=\"patch_1\">\n   <path d=\"M 0 68.76 \nL 68.76 68.76 \nL 68.76 0 \nL 0 0 \nz\n\" style=\"fill:none;\"/>\n  </g>\n  <g id=\"axes_1\">\n   <g clip-path=\"url(#pdd4b4a3a6d)\">\n    <image height=\"55\" id=\"image91679d7024\" transform=\"scale(1 -1)translate(0 -55)\" width=\"55\" x=\"7.2\" xlink:href=\"data:image/png;base64,\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\" y=\"-6.56\"/>\n   </g>\n  </g>\n </g>\n <defs>\n  <clipPath id=\"pdd4b4a3a6d\">\n   <rect height=\"54.36\" width=\"54.36\" x=\"7.2\" y=\"7.2\"/>\n  </clipPath>\n </defs>\n</svg>\n",
      "image/png": "[encoded data removed]"
     },
     "metadata": {
      "needs_background": "light"
     }
    }
   ],
   "source": [
    "a_3 = stacked_threes[1]\n",
    "show_image(a_3);"
   ]
  },
  {
   "cell_type": "markdown",
   "metadata": {},
   "source": [
    "How can we determine its distance from our ideal 3? We can't just add up the differences between the pixels of this image and the ideal digit. Some differences will be positive while others will be negative, and these differences will cancel out, resulting in a situation where an image that is too dark in some places and too light in others might be shown as having zero total differences from the ideal. That would be misleading!\n",
    "\n",
    "To avoid this, there are two main ways data scientists measure distance in this context:\n",
    "\n",
    "- Take the mean of the *absolute value* of differences (absolute value is the function that replaces negative values with positive values). This is called the *mean absolute difference* or *L1 norm*\n",
    "- Take the mean of the *square* of differences (which makes everything positive) and then take the *square root* (which undoes the squaring). This is called the *root mean squared error* (RMSE) or *L2 norm*.\n",
    "\n",
    "> important: It's Okay to Have Forgotten Your Math: In this book we generally assume that you have completed high school math, and remember at least some of it... But everybody forgets some things! It all depends on what you happen to have had reason to practice in the meantime. Perhaps you have forgotten what a _square root_ is, or exactly how they work. No problem! Any time you come across a maths concept that is not explained fully in this book, don't just keep moving on; instead, stop and look it up. Make sure you understand the basic idea, how it works, and why we might be using it. One of the best places to refresh your understanding is Khan Academy. For instance, Khan Academy has a great [introduction to square roots](https://www.khanacademy.org/math/algebra/x2f8bb11595b61c86:rational-exponents-radicals/x2f8bb11595b61c86:radicals/v/understanding-square-roots)."
   ]
  },
  {
   "cell_type": "markdown",
   "metadata": {},
   "source": [
    "Let's try both of these now:"
   ]
  },
  {
   "cell_type": "code",
   "execution_count": 28,
   "metadata": {},
   "outputs": [
    {
     "output_type": "execute_result",
     "data": {
      "text/plain": "(tensor(0.1114), tensor(0.2021))"
     },
     "metadata": {},
     "execution_count": 28
    }
   ],
   "source": [
    "dist_3_abs = (a_3 - mean3).abs().mean()\n",
    "dist_3_sqr = ((a_3 - mean3)**2).mean().sqrt()\n",
    "dist_3_abs,dist_3_sqr"
   ]
  },
  {
   "cell_type": "code",
   "execution_count": 30,
   "metadata": {},
   "outputs": [
    {
     "output_type": "execute_result",
     "data": {
      "text/plain": "(tensor(0.1586), tensor(0.3021))"
     },
     "metadata": {},
     "execution_count": 30
    }
   ],
   "source": [
    "dist_7_abs = (a_3 - mean7).abs().mean()\n",
    "dist_7_sqr = ((a_3 - mean7)**2).mean().sqrt()\n",
    "dist_7_abs,dist_7_sqr"
   ]
  },
  {
   "cell_type": "markdown",
   "metadata": {},
   "source": [
    "In both cases, the distance between our 3 and the \"ideal\" 3 is less than the distance to the ideal 7. So our simple model will give the right prediction in this case."
   ]
  },
  {
   "cell_type": "markdown",
   "metadata": {},
   "source": [
    "PyTorch already provides both of these as *loss functions*. You'll find these inside `torch.nn.functional`, which the PyTorch team recommends importing as `F` (and is available by default under that name in fastai):"
   ]
  },
  {
   "cell_type": "code",
   "execution_count": 31,
   "metadata": {},
   "outputs": [
    {
     "output_type": "execute_result",
     "data": {
      "text/plain": "(tensor(0.1586), tensor(0.3021))"
     },
     "metadata": {},
     "execution_count": 31
    }
   ],
   "source": [
    "F.l1_loss(a_3.float(),mean7), F.mse_loss(a_3,mean7).sqrt()"
   ]
  },
  {
   "cell_type": "markdown",
   "metadata": {},
   "source": [
    "Here `mse` stands for *mean squared error*, and `l1` refers to the standard mathematical jargon for *mean absolute value* (in math it's called the *L1 norm*)."
   ]
  },
  {
   "cell_type": "markdown",
   "metadata": {},
   "source": [
    "> S: Intuitively, the difference between L1 norm and mean squared error (MSE) is that the latter will penalize bigger mistakes more heavily than the former (and be more lenient with small mistakes)."
   ]
  },
  {
   "cell_type": "markdown",
   "metadata": {},
   "source": [
    "> J: When I first came across this \"L1\" thingie, I looked it up to see what on earth it meant. I found on Google that it is a _vector norm_ using _absolute value_, so looked up _vector norm_ and started reading: _Given a vector space V over a field F of the real or complex numbers, a norm on V is a nonnegative-valued any function p: V → \\[0,+∞) with the following properties: For all a ∈ F and all u, v ∈ V, p(u + v) ≤ p(u) + p(v)..._ Then I stopped reading. \"Ugh, I'll never understand math!\" I thought, for the thousandth time. Since then I've learned that every time these complex mathy bits of jargon come up in practice, it turns out I can replace them with a tiny bit of code! Like, the _L1 loss_ is just equal to `(a-b).abs().mean()`, where `a` and `b` are tensors. I guess mathy folks just think differently than me... I'll make sure in this book that every time some mathy jargon comes up, I'll give you the little bit of code it's equal to as well, and explain in common-sense terms what's going on."
   ]
  },
  {
   "cell_type": "markdown",
   "metadata": {},
   "source": [
    "We just completed various mathematical operations on PyTorch tensors. If you've done some numeric programming in PyTorch before, you may recognize these as being similar to NumPy arrays. Let's have a look at those two very important data structures."
   ]
  },
  {
   "cell_type": "markdown",
   "metadata": {},
   "source": [
    "### NumPy Arrays and PyTorch Tensors"
   ]
  },
  {
   "cell_type": "markdown",
   "metadata": {},
   "source": [
    "[NumPy](https://numpy.org/) is the most widely used library for scientific and numeric programming in Python. It provides very similar functionality and a very similar API to that provided by PyTorch; however, it does not support using the GPU or calculating gradients, which are both critical for deep learning. Therefore, in this book we will generally use PyTorch tensors instead of NumPy arrays, where possible.\n",
    "\n",
    "(Note that fastai adds some features to NumPy and PyTorch to make them a bit more similar to each other. If any code in this book doesn't work on your computer, it's possible that you forgot to include a line like this at the start of your notebook: `from fastai.vision.all import *`.)\n",
    "\n",
    "But what are arrays and tensors, and why should you care?"
   ]
  },
  {
   "cell_type": "markdown",
   "metadata": {},
   "source": [
    "Python is slow compared to many languages. Anything fast in Python, NumPy, or PyTorch is likely to be a wrapper for a compiled object written (and optimized) in another language—specifically C. In fact, **NumPy arrays and PyTorch tensors can finish computations many thousands of times faster than using pure Python.**\n",
    "\n",
    "A NumPy array is a multidimensional table of data, with all items of the same type. Since that can be any type at all, they can even be arrays of arrays, with the innermost arrays potentially being different sizes—this is called a \"jagged array.\" By \"multidimensional table\" we mean, for instance, a list (dimension of one), a table or matrix (dimension of two), a \"table of tables\" or \"cube\" (dimension of three), and so forth. If the items are all of some simple type such as integer or float, then NumPy will store them as a compact C data structure in memory. This is where NumPy shines. NumPy has a wide variety of operators and methods that can run computations on these compact structures at the same speed as optimized C, because they are written in optimized C.\n",
    "\n",
    "A PyTorch tensor is nearly the same thing as a NumPy array, but with an additional restriction that unlocks some additional capabilities. It's the same in that it, too, is a multidimensional table of data, with all items of the same type. However, the restriction is that a tensor cannot use just any old type—it has to use a single basic numeric type for all components. For example, a PyTorch tensor cannot be jagged. It is always a regularly shaped multidimensional rectangular structure.\n",
    "\n",
    "The vast majority of methods and operators supported by NumPy on these structures are also supported by PyTorch, but PyTorch tensors have additional capabilities. One major capability is that these structures can live on the GPU, in which case their computation will be optimized for the GPU and can run much faster (given lots of values to work on). In addition, PyTorch can automatically calculate derivatives of these operations, including combinations of operations. As you'll see, it would be impossible to do deep learning in practice without this capability.\n",
    "\n",
    "> S: If you don't know what C is, don't worry as you won't need it at all. In a nutshell, it's a low-level  (low-level means more similar to the language that computers use internally) language that is very fast compared to Python. To take advantage of its speed while programming in Python, try to avoid as much as possible writing loops, and replace them by commands that work directly on arrays or tensors.\n",
    "\n",
    "Perhaps the most important new coding skill for a Python programmer to learn is how to effectively use the array/tensor APIs. We will be showing lots more tricks later in this book, but here's a summary of the key things you need to know for now."
   ]
  },
  {
   "cell_type": "markdown",
   "metadata": {},
   "source": [
    "To create an array or tensor, pass a list (or list of lists, or list of lists of lists, etc.) to `array()` or `tensor()`:"
   ]
  },
  {
   "cell_type": "code",
   "execution_count": 32,
   "metadata": {},
   "outputs": [],
   "source": [
    "data = [[1,2,3],[4,5,6]]\n",
    "arr = array (data)\n",
    "tns = tensor(data)"
   ]
  },
  {
   "cell_type": "code",
   "execution_count": 33,
   "metadata": {},
   "outputs": [
    {
     "output_type": "execute_result",
     "data": {
      "text/plain": "array([[1, 2, 3],\n       [4, 5, 6]])"
     },
     "metadata": {},
     "execution_count": 33
    }
   ],
   "source": [
    "arr  # numpy"
   ]
  },
  {
   "cell_type": "code",
   "execution_count": 34,
   "metadata": {},
   "outputs": [
    {
     "output_type": "execute_result",
     "data": {
      "text/plain": "tensor([[1, 2, 3],\n        [4, 5, 6]])"
     },
     "metadata": {},
     "execution_count": 34
    }
   ],
   "source": [
    "tns  # pytorch"
   ]
  },
  {
   "cell_type": "markdown",
   "metadata": {},
   "source": [
    "All the operations that follow are shown on tensors, but the syntax and results for NumPy arrays is identical.\n",
    "\n",
    "You can select a row (note that, like lists in Python, tensors are 0-indexed so 1 refers to the second row/column):"
   ]
  },
  {
   "cell_type": "code",
   "execution_count": 35,
   "metadata": {},
   "outputs": [
    {
     "output_type": "execute_result",
     "data": {
      "text/plain": "tensor([4, 5, 6])"
     },
     "metadata": {},
     "execution_count": 35
    }
   ],
   "source": [
    "tns[1]"
   ]
  },
  {
   "cell_type": "markdown",
   "metadata": {},
   "source": [
    "or a column, by using `:` to indicate *all of the first axis* (we sometimes refer to the dimensions of tensors/arrays as *axes*):"
   ]
  },
  {
   "cell_type": "code",
   "execution_count": 36,
   "metadata": {},
   "outputs": [
    {
     "output_type": "execute_result",
     "data": {
      "text/plain": "tensor([2, 5])"
     },
     "metadata": {},
     "execution_count": 36
    }
   ],
   "source": [
    "tns[:,1]"
   ]
  },
  {
   "cell_type": "markdown",
   "metadata": {},
   "source": [
    "You can combine these with Python slice syntax (`[start:end]` with `end` being excluded) to select part of a row or column:"
   ]
  },
  {
   "cell_type": "code",
   "execution_count": 37,
   "metadata": {},
   "outputs": [
    {
     "output_type": "execute_result",
     "data": {
      "text/plain": "tensor([5, 6])"
     },
     "metadata": {},
     "execution_count": 37
    }
   ],
   "source": [
    "tns[1,1:3]"
   ]
  },
  {
   "cell_type": "markdown",
   "metadata": {},
   "source": [
    "And you can use the standard operators such as `+`, `-`, `*`, `/`:"
   ]
  },
  {
   "cell_type": "code",
   "execution_count": 47,
   "metadata": {},
   "outputs": [
    {
     "output_type": "execute_result",
     "data": {
      "text/plain": "tensor([[2, 3, 4],\n        [5, 6, 7]])"
     },
     "metadata": {},
     "execution_count": 47
    }
   ],
   "source": [
    "tns+1"
   ]
  },
  {
   "cell_type": "markdown",
   "metadata": {},
   "source": [
    "Tensors have a type:"
   ]
  },
  {
   "cell_type": "code",
   "execution_count": 48,
   "metadata": {},
   "outputs": [
    {
     "output_type": "execute_result",
     "data": {
      "text/plain": "'torch.LongTensor'"
     },
     "metadata": {},
     "execution_count": 48
    }
   ],
   "source": [
    "tns.type()"
   ]
  },
  {
   "cell_type": "markdown",
   "metadata": {},
   "source": [
    "And will automatically change type as needed, for example from `int` to `float`:"
   ]
  },
  {
   "cell_type": "code",
   "execution_count": 49,
   "metadata": {},
   "outputs": [
    {
     "output_type": "execute_result",
     "data": {
      "text/plain": "tensor([[1.5000, 3.0000, 4.5000],\n        [6.0000, 7.5000, 9.0000]])"
     },
     "metadata": {},
     "execution_count": 49
    }
   ],
   "source": [
    "tns*1.5"
   ]
  },
  {
   "cell_type": "markdown",
   "metadata": {},
   "source": [
    "So, is our baseline model any good? To quantify this, we must define a metric."
   ]
  },
  {
   "cell_type": "markdown",
   "metadata": {},
   "source": [
    "## Computing Metrics Using Broadcasting"
   ]
  },
  {
   "cell_type": "markdown",
   "metadata": {},
   "source": [
    "Recall that a metric is a number that is calculated based on the predictions of our model, and the correct labels in our dataset, in order to tell us how good our model is. For instance, we could use either of the functions we saw in the previous section, mean squared error, or mean absolute error, and take the average of them over the whole dataset. However, neither of these are numbers that are very understandable to most people; in practice, we normally use *accuracy* as the metric for classification models.\n",
    "\n",
    "As we've discussed, we want to calculate our metric over a *validation set*. This is so that we don't inadvertently overfit—that is, train a model to work well only on our training data. This is not really a risk with the pixel similarity model we're using here as a first try, since it has no trained components, but we'll use a validation set anyway to follow normal practices and to be ready for our second try later.\n",
    "\n",
    "To get a validation set we need to remove some of the data from training entirely, so it is not seen by the model at all. As it turns out, the creators of the MNIST dataset have already done this for us. Do you remember how there was a whole separate directory called *valid*? That's what this directory is for!\n",
    "\n",
    "So to start with, let's create tensors for our 3s and 7s from that directory. These are the tensors we will use to calculate a metric measuring the quality of our first-try model, which measures distance from an ideal image:"
   ]
  },
  {
   "cell_type": "code",
   "execution_count": 50,
   "metadata": {},
   "outputs": [
    {
     "output_type": "execute_result",
     "data": {
      "text/plain": "(torch.Size([1010, 28, 28]), torch.Size([1028, 28, 28]))"
     },
     "metadata": {},
     "execution_count": 50
    }
   ],
   "source": [
    "valid_3_tens = torch.stack([tensor(Image.open(o)) \n",
    "                            for o in (path/'valid'/'3').ls()])\n",
    "valid_3_tens = valid_3_tens.float()/255\n",
    "valid_7_tens = torch.stack([tensor(Image.open(o)) \n",
    "                            for o in (path/'valid'/'7').ls()])\n",
    "valid_7_tens = valid_7_tens.float()/255\n",
    "valid_3_tens.shape,valid_7_tens.shape"
   ]
  },
  {
   "cell_type": "markdown",
   "metadata": {},
   "source": [
    "It's good to get in the habit of checking shapes as you go. Here we see two tensors, one representing the 3s validation set of 1,010 images of size 28×28, and one representing the 7s validation set of 1,028 images of size 28×28.\n",
    "\n",
    "We ultimately want to write a function, `is_3`, that will decide if an arbitrary image is a 3 or a 7. It will do this by deciding which of our two \"ideal digits\" this arbitrary image is closer to. For that we need to define a notion of distance—that is, a function that calculates the distance between two images.\n",
    "\n",
    "We can write a simple function that calculates the mean absolute error using an experssion very similar to the one we wrote in the last section:"
   ]
  },
  {
   "cell_type": "code",
   "execution_count": 51,
   "metadata": {},
   "outputs": [
    {
     "output_type": "execute_result",
     "data": {
      "text/plain": "tensor(0.1114)"
     },
     "metadata": {},
     "execution_count": 51
    }
   ],
   "source": [
    "def mnist_distance(a,b): return (a-b).abs().mean((-1,-2))\n",
    "mnist_distance(a_3, mean3)"
   ]
  },
  {
   "cell_type": "markdown",
   "metadata": {},
   "source": [
    "This is the same value we previously calculated for the distance between these two images, the ideal 3 `mean_3` and the arbitrary sample 3 `a_3`, which are both single-image tensors with a shape of `[28,28]`.\n",
    "\n",
    "But in order to calculate a metric for overall accuracy, we will need to calculate the distance to the ideal 3 for _every_ image in the validation set. How do we do that calculation? We could write a loop over all of the single-image tensors that are stacked within our validation set tensor, `valid_3_tens`, which has a shape of `[1010,28,28]` representing 1,010 images. But there is a better way.\n",
    "\n",
    "Something very interesting happens when we take this exact same distance function, designed for comparing two single images, but pass in as an argument `valid_3_tens`, the tensor that represents the 3s validation set:"
   ]
  },
  {
   "cell_type": "code",
   "execution_count": 54,
   "metadata": {},
   "outputs": [
    {
     "output_type": "execute_result",
     "data": {
      "text/plain": "(tensor([0.1488, 0.1145, 0.1158,  ..., 0.1129, 0.1419, 0.1669]),\n torch.Size([1010]))"
     },
     "metadata": {},
     "execution_count": 54
    }
   ],
   "source": [
    "valid_3_dist = mnist_distance(valid_3_tens, mean3)\n",
    "valid_3_dist, valid_3_dist.shape"
   ]
  },
  {
   "cell_type": "markdown",
   "metadata": {},
   "source": [
    "Instead of complaining about shapes not matching, it returned the distance for every single image as a vector (i.e., a rank-1 tensor) of length 1,010 (the number of 3s in our validation set). How did that happen?\n",
    "\n",
    "Take another look at our function `mnist_distance`, and you'll see we have there the subtraction `(a-b)`. The magic trick is that PyTorch, when it tries to perform a simple subtraction operation between two tensors of different ranks, will use *broadcasting*. That is, it will automatically expand the tensor with the smaller rank to have the same size as the one with the larger rank. Broadcasting is an important capability that makes tensor code much easier to write.\n",
    "\n",
    "After broadcasting so the two argument tensors have the same rank, PyTorch applies its usual logic for two tensors of the same rank: it performs the operation on each corresponding element of the two tensors, and returns the tensor result. For instance:"
   ]
  },
  {
   "cell_type": "code",
   "execution_count": 55,
   "metadata": {},
   "outputs": [
    {
     "output_type": "execute_result",
     "data": {
      "text/plain": "tensor([2, 3, 4])"
     },
     "metadata": {},
     "execution_count": 55
    }
   ],
   "source": [
    "tensor([1,2,3]) + tensor([1,1,1])"
   ]
  },
  {
   "cell_type": "markdown",
   "metadata": {},
   "source": [
    "So in this case, PyTorch treats `mean3`, a rank-2 tensor representing a single image, as if it were 1,010 copies of the same image, and then subtracts each of those copies from each 3 in our validation set. What shape would you expect this tensor to have? Try to figure it out yourself before you look at the answer below:"
   ]
  },
  {
   "cell_type": "code",
   "execution_count": 56,
   "metadata": {},
   "outputs": [
    {
     "output_type": "execute_result",
     "data": {
      "text/plain": "torch.Size([1010, 28, 28])"
     },
     "metadata": {},
     "execution_count": 56
    }
   ],
   "source": [
    "(valid_3_tens-mean3).shape"
   ]
  },
  {
   "cell_type": "markdown",
   "metadata": {},
   "source": [
    "We are calculating the difference between our \"ideal 3\" and each of the 1,010 3s in the validation set, for each of 28×28 images, resulting in the shape `[1010,28,28]`.\n",
    "\n",
    "There are a couple of important points about how broadcasting is implemented, which make it valuable not just for expressivity but also for performance:\n",
    "\n",
    "- PyTorch doesn't *actually* copy `mean3` 1,010 times. It *pretends* it were a tensor of that shape, but doesn't actually allocate any additional memory\n",
    "- It does the whole calculation in C (or, if you're using a GPU, in CUDA, the equivalent of C on the GPU), tens of thousands of times faster than pure Python (up to millions of times faster on a GPU!).\n",
    "\n",
    "This is true of all broadcasting and elementwise operations and functions done in PyTorch. *It's the most important technique for you to know to create efficient PyTorch code.*\n",
    "\n",
    "Next in `mnist_distance` we see `abs`. You might be able to guess now what this does when applied to a tensor. It applies the method to each individual element in the tensor, and returns a tensor of the results (that is, it applies the method \"elementwise\"). So in this case, we'll get back 1,010 matrices of absolute values.\n",
    "\n",
    "Finally, our function calls `mean((-1,-2))`. The tuple `(-1,-2)` represents a range of axes. In Python, `-1` refers to the last element, and `-2` refers to the second-to-last. So in this case, this tells PyTorch that we want to take the mean ranging over the values indexed by the last two axes of the tensor. The last two axes are the horizontal and vertical dimensions of an image. After taking the mean over the last two axes, we are left with just the first tensor axis, which indexes over our images, which is why our final size was `(1010)`. In other words, for every image, we averaged the intensity of all the pixels in that image.\n",
    "\n",
    "We'll be learning lots more about broadcasting throughout this book, especially in <<chapter_foundations>>, and will be practicing it regularly too.\n",
    "\n",
    "We can use `mnist_distance` to figure out whether an image is a 3 or not by using the following logic: if the distance between the digit in question and the ideal 3 is less than the distance to the ideal 7, then it's a 3. This function will automatically do broadcasting and be applied elementwise, just like all PyTorch functions and operators:"
   ]
  },
  {
   "cell_type": "code",
   "execution_count": 57,
   "metadata": {},
   "outputs": [],
   "source": [
    "def is_3(x): return mnist_distance(x,mean3) < mnist_distance(x,mean7)"
   ]
  },
  {
   "cell_type": "markdown",
   "metadata": {},
   "source": [
    "Let's test it on our example case:"
   ]
  },
  {
   "cell_type": "code",
   "execution_count": 58,
   "metadata": {},
   "outputs": [
    {
     "output_type": "execute_result",
     "data": {
      "text/plain": "(tensor(True), tensor(1.))"
     },
     "metadata": {},
     "execution_count": 58
    }
   ],
   "source": [
    "is_3(a_3), is_3(a_3).float()"
   ]
  },
  {
   "cell_type": "markdown",
   "metadata": {},
   "source": [
    "Note that when we convert the Boolean response to a float, we get `1.0` for `True` and `0.0` for `False`. Thanks to broadcasting, we can also test it on the full validation set of 3s:"
   ]
  },
  {
   "cell_type": "code",
   "execution_count": 59,
   "metadata": {},
   "outputs": [
    {
     "output_type": "execute_result",
     "data": {
      "text/plain": "tensor([True, True, True,  ..., True, True, True])"
     },
     "metadata": {},
     "execution_count": 59
    }
   ],
   "source": [
    "is_3(valid_3_tens)"
   ]
  },
  {
   "cell_type": "markdown",
   "metadata": {},
   "source": [
    "Now we can calculate the accuracy for each of the 3s and 7s by taking the average of that function for all 3s and its inverse for all 7s:"
   ]
  },
  {
   "cell_type": "code",
   "execution_count": 60,
   "metadata": {},
   "outputs": [
    {
     "output_type": "execute_result",
     "data": {
      "text/plain": "(tensor(0.9168), tensor(0.9854), tensor(0.9511))"
     },
     "metadata": {},
     "execution_count": 60
    }
   ],
   "source": [
    "accuracy_3s =      is_3(valid_3_tens).float() .mean()\n",
    "accuracy_7s = (1 - is_3(valid_7_tens).float()).mean()\n",
    "\n",
    "accuracy_3s,accuracy_7s,(accuracy_3s+accuracy_7s)/2"
   ]
  },
  {
   "cell_type": "markdown",
   "metadata": {},
   "source": [
    "This looks like a pretty good start! We're getting over 90% accuracy on both 3s and 7s, and we've seen how to define a metric conveniently using broadcasting.\n",
    "\n",
    "But let's be honest: 3s and 7s are very different-looking digits. And we're only classifying 2 out of the 10 possible digits so far. So we're going to need to do better!\n",
    "\n",
    "To do better, perhaps it is time to try a system that does some real learning—that is, that can automatically modify itself to improve its performance. In other words, it's time to talk about the training process, and SGD."
   ]
  },
  {
   "cell_type": "markdown",
   "metadata": {},
   "source": [
    "## Stochastic Gradient Descent (SGD)"
   ]
  },
  {
   "cell_type": "markdown",
   "metadata": {},
   "source": [
    "Do you remember the way that Arthur Samuel described machine learning, which we quoted in <<chapter_intro>>?\n",
    "\n",
    "> : Suppose we arrange for some automatic means of testing the effectiveness of any current weight assignment in terms of actual performance and provide a mechanism for altering the weight assignment so as to maximize the performance. We need not go into the details of such a procedure to see that it could be made entirely automatic and to see that a machine so programmed would \"learn\" from its experience.\n",
    "\n",
    "As we discussed, this is the key to allowing us to have a model that can get better and better—that can learn. But our pixel similarity approach does not really do this. We do not have any kind of weight assignment, or any way of improving based on testing the effectiveness of a weight assignment. In other words, we can't really improve our pixel similarity approach by modifying a set of parameters. In order to take advantage of the power of deep learning, we will first have to represent our task in the way that Arthur Samuel described it.\n",
    "\n",
    "Instead of trying to find the similarity between an image and an \"ideal image,\" we could instead look at each individual pixel and come up with a set of weights for each one, such that the highest weights are associated with those pixels most likely to be black for a particular category. For instance, pixels toward the bottom right are not very likely to be activated for a 7, so they should have a low weight for a 7, but they are likely to be activated for an 8, so they should have a high weight for an 8. This can be represented as a function and set of weight values for each possible category—for instance the probability of being the number 8:\n",
    "\n",
    "```\n",
    "def pr_eight(x,w) = (x*w).sum()\n",
    "```"
   ]
  },
  {
   "cell_type": "markdown",
   "metadata": {},
   "source": [
    "Here we are assuming that `x` is the image, represented as a vector—in other words, with all of the rows stacked up end to end into a single long line. And we are assuming that the weights are a vector `w`. If we have this function, then we just need some way to update the weights to make them a little bit better. With such an approach, we can repeat that step a number of times, making the weights better and better, until they are as good as we can make them.\n",
    "\n",
    "We want to find the specific values for the vector `w` that causes the result of our function to be high for those images that are actually 8s, and low for those images that are not. Searching for the best vector `w` is a way to search for the best function for recognising 8s. (Because we are not yet using a deep neural network, we are limited by what our function can actually do—we are going to fix that constraint later in this chapter.) \n",
    "\n",
    "To be more specific, here are the steps that we are going to require, to turn this function into a machine learning classifier:\n",
    "\n",
    "1. *Initialize* the weights.\n",
    "1. For each image, use these weights to *predict* whether it appears to be a 3 or a 7.\n",
    "1. Based on these predictions, calculate how good the model is (its *loss*).\n",
    "1. Calculate the *gradient*, which measures for each weight, how changing that weight would change the loss\n",
    "1. *Step* (that is, change) all the weights based on that calculation.\n",
    "1. Go back to the step 2, and *repeat* the process.\n",
    "1. Iterate until you decide to *stop* the training process (for instance, because the model is good enough or you don't want to wait any longer)."
   ]
  },
  {
   "cell_type": "markdown",
   "metadata": {},
   "source": [
    "These seven steps, illustrated in <<gradient_descent>>, are the key to the training of all deep learning models. That deep learning turns out to rely entirely on these steps is extremely surprising and counterintuitive. It's amazing that this process can solve such complex problems. But, as you'll see, it really does!"
   ]
  },
  {
   "cell_type": "code",
   "execution_count": null,
   "metadata": {
    "hide_input": true
   },
   "outputs": [
    {
     "data": {
      "image/svg+xml": [
       "<?xml version=\"1.0\" encoding=\"UTF-8\" standalone=\"no\"?>\n",
       "<!DOCTYPE svg PUBLIC \"-//W3C//DTD SVG 1.1//EN\"\n",
       " \"http://www.w3.org/Graphics/SVG/1.1/DTD/svg11.dtd\">\n",
       "<!-- Generated by graphviz version 2.40.1 (20161225.0304)\n",
       " -->\n",
       "<!-- Title: G Pages: 1 -->\n",
       "<svg width=\"591pt\" height=\"78pt\"\n",
       " viewBox=\"0.00 0.00 591.49 78.00\" xmlns=\"http://www.w3.org/2000/svg\" xmlns:xlink=\"http://www.w3.org/1999/xlink\">\n",
       "<g id=\"graph0\" class=\"graph\" transform=\"scale(1 1) rotate(0) translate(4 74)\">\n",
       "<title>G</title>\n",
       "<polygon fill=\"#ffffff\" stroke=\"transparent\" points=\"-4,4 -4,-74 587.4867,-74 587.4867,4 -4,4\"/>\n",
       "<!-- init -->\n",
       "<g id=\"node1\" class=\"node\">\n",
       "<title>init</title>\n",
       "<ellipse fill=\"none\" stroke=\"#000000\" cx=\"27\" cy=\"-18\" rx=\"27\" ry=\"18\"/>\n",
       "<text text-anchor=\"middle\" x=\"27\" y=\"-14.3\" font-family=\"Times,serif\" font-size=\"14.00\" fill=\"#000000\">init</text>\n",
       "</g>\n",
       "<!-- predict -->\n",
       "<g id=\"node2\" class=\"node\">\n",
       "<title>predict</title>\n",
       "<ellipse fill=\"none\" stroke=\"#000000\" cx=\"126.0969\" cy=\"-18\" rx=\"35.194\" ry=\"18\"/>\n",
       "<text text-anchor=\"middle\" x=\"126.0969\" y=\"-14.3\" font-family=\"Times,serif\" font-size=\"14.00\" fill=\"#000000\">predict</text>\n",
       "</g>\n",
       "<!-- init&#45;&gt;predict -->\n",
       "<g id=\"edge1\" class=\"edge\">\n",
       "<title>init&#45;&gt;predict</title>\n",
       "<path fill=\"none\" stroke=\"#000000\" d=\"M54.0787,-18C62.3227,-18 71.6196,-18 80.7269,-18\"/>\n",
       "<polygon fill=\"#000000\" stroke=\"#000000\" points=\"80.8626,-21.5001 90.8626,-18 80.8625,-14.5001 80.8626,-21.5001\"/>\n",
       "</g>\n",
       "<!-- loss -->\n",
       "<g id=\"node3\" class=\"node\">\n",
       "<title>loss</title>\n",
       "<ellipse fill=\"none\" stroke=\"#000000\" cx=\"225.1938\" cy=\"-52\" rx=\"27\" ry=\"18\"/>\n",
       "<text text-anchor=\"middle\" x=\"225.1938\" y=\"-48.3\" font-family=\"Times,serif\" font-size=\"14.00\" fill=\"#000000\">loss</text>\n",
       "</g>\n",
       "<!-- predict&#45;&gt;loss -->\n",
       "<g id=\"edge2\" class=\"edge\">\n",
       "<title>predict&#45;&gt;loss</title>\n",
       "<path fill=\"none\" stroke=\"#000000\" d=\"M155.2932,-28.0172C166.6224,-31.9043 179.6698,-36.3808 191.4018,-40.406\"/>\n",
       "<polygon fill=\"#000000\" stroke=\"#000000\" points=\"190.2859,-43.7234 200.8806,-43.6582 192.5577,-37.1023 190.2859,-43.7234\"/>\n",
       "</g>\n",
       "<!-- gradient -->\n",
       "<g id=\"node4\" class=\"node\">\n",
       "<title>gradient</title>\n",
       "<ellipse fill=\"none\" stroke=\"#000000\" cx=\"361.8403\" cy=\"-52\" rx=\"39.7935\" ry=\"18\"/>\n",
       "<text text-anchor=\"middle\" x=\"361.8403\" y=\"-48.3\" font-family=\"Times,serif\" font-size=\"14.00\" fill=\"#000000\">gradient</text>\n",
       "</g>\n",
       "<!-- loss&#45;&gt;gradient -->\n",
       "<g id=\"edge3\" class=\"edge\">\n",
       "<title>loss&#45;&gt;gradient</title>\n",
       "<path fill=\"none\" stroke=\"#000000\" d=\"M252.5178,-52C269.4967,-52 291.836,-52 311.8929,-52\"/>\n",
       "<polygon fill=\"#000000\" stroke=\"#000000\" points=\"312.1329,-55.5001 322.1329,-52 312.1328,-48.5001 312.1329,-55.5001\"/>\n",
       "</g>\n",
       "<!-- step -->\n",
       "<g id=\"node5\" class=\"node\">\n",
       "<title>step</title>\n",
       "<ellipse fill=\"none\" stroke=\"#000000\" cx=\"465.4867\" cy=\"-18\" rx=\"27\" ry=\"18\"/>\n",
       "<text text-anchor=\"middle\" x=\"465.4867\" y=\"-14.3\" font-family=\"Times,serif\" font-size=\"14.00\" fill=\"#000000\">step</text>\n",
       "</g>\n",
       "<!-- gradient&#45;&gt;step -->\n",
       "<g id=\"edge4\" class=\"edge\">\n",
       "<title>gradient&#45;&gt;step</title>\n",
       "<path fill=\"none\" stroke=\"#000000\" d=\"M394.0665,-41.4286C405.9515,-37.5298 419.4492,-33.1021 431.4862,-29.1535\"/>\n",
       "<polygon fill=\"#000000\" stroke=\"#000000\" points=\"432.7754,-32.4142 441.1862,-25.9715 430.5935,-25.7629 432.7754,-32.4142\"/>\n",
       "</g>\n",
       "<!-- step&#45;&gt;predict -->\n",
       "<g id=\"edge6\" class=\"edge\">\n",
       "<title>step&#45;&gt;predict</title>\n",
       "<path fill=\"none\" stroke=\"#000000\" d=\"M438.4132,-18C380.3272,-18 243.2155,-18 171.5401,-18\"/>\n",
       "<polygon fill=\"#000000\" stroke=\"#000000\" points=\"171.4571,-14.5001 161.4571,-18 171.4571,-21.5001 171.4571,-14.5001\"/>\n",
       "<text text-anchor=\"middle\" x=\"287.1938\" y=\"-21.8\" font-family=\"Times,serif\" font-size=\"14.00\" fill=\"#000000\">repeat</text>\n",
       "</g>\n",
       "<!-- stop -->\n",
       "<g id=\"node6\" class=\"node\">\n",
       "<title>stop</title>\n",
       "<ellipse fill=\"none\" stroke=\"#000000\" cx=\"556.4867\" cy=\"-18\" rx=\"27\" ry=\"18\"/>\n",
       "<text text-anchor=\"middle\" x=\"556.4867\" y=\"-14.3\" font-family=\"Times,serif\" font-size=\"14.00\" fill=\"#000000\">stop</text>\n",
       "</g>\n",
       "<!-- step&#45;&gt;stop -->\n",
       "<g id=\"edge5\" class=\"edge\">\n",
       "<title>step&#45;&gt;stop</title>\n",
       "<path fill=\"none\" stroke=\"#000000\" d=\"M492.7897,-18C501.068,-18 510.3085,-18 519.1272,-18\"/>\n",
       "<polygon fill=\"#000000\" stroke=\"#000000\" points=\"519.203,-21.5001 529.203,-18 519.203,-14.5001 519.203,-21.5001\"/>\n",
       "</g>\n",
       "</g>\n",
       "</svg>\n"
      ],
      "text/plain": [
       "<graphviz.files.Source at 0x7f10d475e550>"
      ]
     },
     "execution_count": null,
     "metadata": {},
     "output_type": "execute_result"
    }
   ],
   "source": [
    "#id gradient_descent\n",
    "#caption The gradient descent process\n",
    "#alt Graph showing the steps for Gradient Descent\n",
    "gv('''\n",
    "init->predict->loss->gradient->step->stop\n",
    "step->predict[label=repeat]\n",
    "''')"
   ]
  },
  {
   "cell_type": "markdown",
   "metadata": {},
   "source": [
    "There are many different ways to do each of these seven steps, and we will be learning about them throughout the rest of this book. These are the details that make a big difference for deep learning practitioners, but it turns out that the general approach to each one generally follows some basic principles. Here are a few guidelines:\n",
    "\n",
    "- Initialize:: We initialize the parameters to random values. This may sound surprising. There are certainly other choices we could make, such as initializing them to the percentage of times that pixel is activated for that category—but since we already know that we have a routine to improve these weights, it turns out that just starting with random weights works perfectly well.\n",
    "- Loss:: This is what Samuel referred to when he spoke of *testing the effectiveness of any current weight assignment in terms of actual performance*. We need some function that will return a number that is small if the performance of the model is good (the standard approach is to treat a small loss as good, and a large loss as bad, although this is just a convention).\n",
    "- Step:: A simple way to figure out whether a weight should be increased a bit, or decreased a bit, would be just to try it: increase the weight by a small amount, and see if the loss goes up or down. Once you find the correct direction, you could then change that amount by a bit more, and a bit less, until you find an amount that works well. However, this is slow! As we will see, the magic of calculus allows us to directly figure out in which direction, and by roughly how much, to change each weight, without having to try all these small changes. The way to do this is by calculating *gradients*. This is just a performance optimization, we would get exactly the same results by using the slower manual process as well.\n",
    "- Stop:: Once we've decided how many epochs to train the model for (a few suggestions for this were given in the earlier list), we apply that decision. This is where that decision is applied. For our digit classifier, we would keep training until the accuracy of the model started getting worse, or we ran out of time."
   ]
  },
  {
   "cell_type": "markdown",
   "metadata": {},
   "source": [
    "Before applying these steps to our image classification problem, let's illustrate what they look like in a simpler case. First we will define a very simple function, the quadratic—let's pretend that this is our loss function, and `x` is a weight parameter of the function:"
   ]
  },
  {
   "cell_type": "code",
   "execution_count": 66,
   "metadata": {},
   "outputs": [],
   "source": [
    "def f(x): return x**2"
   ]
  },
  {
   "cell_type": "markdown",
   "metadata": {},
   "source": [
    "Here is a graph of that function:"
   ]
  },
  {
   "cell_type": "code",
   "execution_count": 67,
   "metadata": {},
   "outputs": [
    {
     "output_type": "display_data",
     "data": {
      "text/plain": "<Figure size 432x288 with 1 Axes>",
      "image/svg+xml": "<?xml version=\"1.0\" encoding=\"utf-8\" standalone=\"no\"?>\n<!DOCTYPE svg PUBLIC \"-//W3C//DTD SVG 1.1//EN\"\n  \"http://www.w3.org/Graphics/SVG/1.1/DTD/svg11.dtd\">\n<!-- Created with matplotlib (https://matplotlib.org/) -->\n<svg height=\"266.0675pt\" version=\"1.1\" viewBox=\"0 0 390.8975 266.0675\" width=\"390.8975pt\" xmlns=\"http://www.w3.org/2000/svg\" xmlns:xlink=\"http://www.w3.org/1999/xlink\">\n <metadata>\n  <rdf:RDF xmlns:cc=\"http://creativecommons.org/ns#\" xmlns:dc=\"http://purl.org/dc/elements/1.1/\" xmlns:rdf=\"http://www.w3.org/1999/02/22-rdf-syntax-ns#\">\n   <cc:Work>\n    <dc:type rdf:resource=\"http://purl.org/dc/dcmitype/StillImage\"/>\n    <dc:date>2020-09-28T06:36:31.543326</dc:date>\n    <dc:format>image/svg+xml</dc:format>\n    <dc:creator>\n     <cc:Agent>\n      <dc:title>Matplotlib v3.3.2, https://matplotlib.org/</dc:title>\n     </cc:Agent>\n    </dc:creator>\n   </cc:Work>\n  </rdf:RDF>\n </metadata>\n <defs>\n  <style type=\"text/css\">*{stroke-linecap:butt;stroke-linejoin:round;}</style>\n </defs>\n <g id=\"figure_1\">\n  <g id=\"patch_1\">\n   <path d=\"M 0 266.0675 \nL 390.8975 266.0675 \nL 390.8975 0 \nL 0 0 \nz\n\" style=\"fill:none;\"/>\n  </g>\n  <g id=\"axes_1\">\n   <g id=\"patch_2\">\n    <path d=\"M 48.8975 224.64 \nL 383.6975 224.64 \nL 383.6975 7.2 \nL 48.8975 7.2 \nz\n\" style=\"fill:#ffffff;\"/>\n   </g>\n   <g id=\"matplotlib.axis_1\">\n    <g id=\"xtick_1\">\n     <g id=\"line2d_1\">\n      <defs>\n       <path d=\"M 0 0 \nL 0 3.5 \n\" id=\"mdf1e8b1486\" style=\"stroke:#000000;stroke-width:0.8;\"/>\n      </defs>\n      <g>\n       <use style=\"stroke:#000000;stroke-width:0.8;\" x=\"64.115682\" xlink:href=\"#mdf1e8b1486\" y=\"224.64\"/>\n      </g>\n     </g>\n     <g id=\"text_1\">\n      <!-- −2.0 -->\n      <g transform=\"translate(49.545994 240.758125)scale(0.12 -0.12)\">\n       <defs>\n        <path d=\"M 10.59375 35.5 \nL 73.1875 35.5 \nL 73.1875 27.203125 \nL 10.59375 27.203125 \nz\n\" id=\"DejaVuSans-8722\"/>\n        <path d=\"M 19.1875 8.296875 \nL 53.609375 8.296875 \nL 53.609375 0 \nL 7.328125 0 \nL 7.328125 8.296875 \nQ 12.9375 14.109375 22.625 23.890625 \nQ 32.328125 33.6875 34.8125 36.53125 \nQ 39.546875 41.84375 41.421875 45.53125 \nQ 43.3125 49.21875 43.3125 52.78125 \nQ 43.3125 58.59375 39.234375 62.25 \nQ 35.15625 65.921875 28.609375 65.921875 \nQ 23.96875 65.921875 18.8125 64.3125 \nQ 13.671875 62.703125 7.8125 59.421875 \nL 7.8125 69.390625 \nQ 13.765625 71.78125 18.9375 73 \nQ 24.125 74.21875 28.421875 74.21875 \nQ 39.75 74.21875 46.484375 68.546875 \nQ 53.21875 62.890625 53.21875 53.421875 \nQ 53.21875 48.921875 51.53125 44.890625 \nQ 49.859375 40.875 45.40625 35.40625 \nQ 44.1875 33.984375 37.640625 27.21875 \nQ 31.109375 20.453125 19.1875 8.296875 \nz\n\" id=\"DejaVuSans-50\"/>\n        <path d=\"M 10.6875 12.40625 \nL 21 12.40625 \nL 21 0 \nL 10.6875 0 \nz\n\" id=\"DejaVuSans-46\"/>\n        <path d=\"M 31.78125 66.40625 \nQ 24.171875 66.40625 20.328125 58.90625 \nQ 16.5 51.421875 16.5 36.375 \nQ 16.5 21.390625 20.328125 13.890625 \nQ 24.171875 6.390625 31.78125 6.390625 \nQ 39.453125 6.390625 43.28125 13.890625 \nQ 47.125 21.390625 47.125 36.375 \nQ 47.125 51.421875 43.28125 58.90625 \nQ 39.453125 66.40625 31.78125 66.40625 \nz\nM 31.78125 74.21875 \nQ 44.046875 74.21875 50.515625 64.515625 \nQ 56.984375 54.828125 56.984375 36.375 \nQ 56.984375 17.96875 50.515625 8.265625 \nQ 44.046875 -1.421875 31.78125 -1.421875 \nQ 19.53125 -1.421875 13.0625 8.265625 \nQ 6.59375 17.96875 6.59375 36.375 \nQ 6.59375 54.828125 13.0625 64.515625 \nQ 19.53125 74.21875 31.78125 74.21875 \nz\n\" id=\"DejaVuSans-48\"/>\n       </defs>\n       <use xlink:href=\"#DejaVuSans-8722\"/>\n       <use x=\"83.789062\" xlink:href=\"#DejaVuSans-50\"/>\n       <use x=\"147.412109\" xlink:href=\"#DejaVuSans-46\"/>\n       <use x=\"179.199219\" xlink:href=\"#DejaVuSans-48\"/>\n      </g>\n     </g>\n    </g>\n    <g id=\"xtick_2\">\n     <g id=\"line2d_2\">\n      <g>\n       <use style=\"stroke:#000000;stroke-width:0.8;\" x=\"102.161136\" xlink:href=\"#mdf1e8b1486\" y=\"224.64\"/>\n      </g>\n     </g>\n     <g id=\"text_2\">\n      <!-- −1.5 -->\n      <g transform=\"translate(87.591449 240.758125)scale(0.12 -0.12)\">\n       <defs>\n        <path d=\"M 12.40625 8.296875 \nL 28.515625 8.296875 \nL 28.515625 63.921875 \nL 10.984375 60.40625 \nL 10.984375 69.390625 \nL 28.421875 72.90625 \nL 38.28125 72.90625 \nL 38.28125 8.296875 \nL 54.390625 8.296875 \nL 54.390625 0 \nL 12.40625 0 \nz\n\" id=\"DejaVuSans-49\"/>\n        <path d=\"M 10.796875 72.90625 \nL 49.515625 72.90625 \nL 49.515625 64.59375 \nL 19.828125 64.59375 \nL 19.828125 46.734375 \nQ 21.96875 47.46875 24.109375 47.828125 \nQ 26.265625 48.1875 28.421875 48.1875 \nQ 40.625 48.1875 47.75 41.5 \nQ 54.890625 34.8125 54.890625 23.390625 \nQ 54.890625 11.625 47.5625 5.09375 \nQ 40.234375 -1.421875 26.90625 -1.421875 \nQ 22.3125 -1.421875 17.546875 -0.640625 \nQ 12.796875 0.140625 7.71875 1.703125 \nL 7.71875 11.625 \nQ 12.109375 9.234375 16.796875 8.0625 \nQ 21.484375 6.890625 26.703125 6.890625 \nQ 35.15625 6.890625 40.078125 11.328125 \nQ 45.015625 15.765625 45.015625 23.390625 \nQ 45.015625 31 40.078125 35.4375 \nQ 35.15625 39.890625 26.703125 39.890625 \nQ 22.75 39.890625 18.8125 39.015625 \nQ 14.890625 38.140625 10.796875 36.28125 \nz\n\" id=\"DejaVuSans-53\"/>\n       </defs>\n       <use xlink:href=\"#DejaVuSans-8722\"/>\n       <use x=\"83.789062\" xlink:href=\"#DejaVuSans-49\"/>\n       <use x=\"147.412109\" xlink:href=\"#DejaVuSans-46\"/>\n       <use x=\"179.199219\" xlink:href=\"#DejaVuSans-53\"/>\n      </g>\n     </g>\n    </g>\n    <g id=\"xtick_3\">\n     <g id=\"line2d_3\">\n      <g>\n       <use style=\"stroke:#000000;stroke-width:0.8;\" x=\"140.206591\" xlink:href=\"#mdf1e8b1486\" y=\"224.64\"/>\n      </g>\n     </g>\n     <g id=\"text_3\">\n      <!-- −1.0 -->\n      <g transform=\"translate(125.636903 240.758125)scale(0.12 -0.12)\">\n       <use xlink:href=\"#DejaVuSans-8722\"/>\n       <use x=\"83.789062\" xlink:href=\"#DejaVuSans-49\"/>\n       <use x=\"147.412109\" xlink:href=\"#DejaVuSans-46\"/>\n       <use x=\"179.199219\" xlink:href=\"#DejaVuSans-48\"/>\n      </g>\n     </g>\n    </g>\n    <g id=\"xtick_4\">\n     <g id=\"line2d_4\">\n      <g>\n       <use style=\"stroke:#000000;stroke-width:0.8;\" x=\"178.252045\" xlink:href=\"#mdf1e8b1486\" y=\"224.64\"/>\n      </g>\n     </g>\n     <g id=\"text_4\">\n      <!-- −0.5 -->\n      <g transform=\"translate(163.682358 240.758125)scale(0.12 -0.12)\">\n       <use xlink:href=\"#DejaVuSans-8722\"/>\n       <use x=\"83.789062\" xlink:href=\"#DejaVuSans-48\"/>\n       <use x=\"147.412109\" xlink:href=\"#DejaVuSans-46\"/>\n       <use x=\"179.199219\" xlink:href=\"#DejaVuSans-53\"/>\n      </g>\n     </g>\n    </g>\n    <g id=\"xtick_5\">\n     <g id=\"line2d_5\">\n      <g>\n       <use style=\"stroke:#000000;stroke-width:0.8;\" x=\"216.2975\" xlink:href=\"#mdf1e8b1486\" y=\"224.64\"/>\n      </g>\n     </g>\n     <g id=\"text_5\">\n      <!-- 0.0 -->\n      <g transform=\"translate(206.755625 240.758125)scale(0.12 -0.12)\">\n       <use xlink:href=\"#DejaVuSans-48\"/>\n       <use x=\"63.623047\" xlink:href=\"#DejaVuSans-46\"/>\n       <use x=\"95.410156\" xlink:href=\"#DejaVuSans-48\"/>\n      </g>\n     </g>\n    </g>\n    <g id=\"xtick_6\">\n     <g id=\"line2d_6\">\n      <g>\n       <use style=\"stroke:#000000;stroke-width:0.8;\" x=\"254.342955\" xlink:href=\"#mdf1e8b1486\" y=\"224.64\"/>\n      </g>\n     </g>\n     <g id=\"text_6\">\n      <!-- 0.5 -->\n      <g transform=\"translate(244.80108 240.758125)scale(0.12 -0.12)\">\n       <use xlink:href=\"#DejaVuSans-48\"/>\n       <use x=\"63.623047\" xlink:href=\"#DejaVuSans-46\"/>\n       <use x=\"95.410156\" xlink:href=\"#DejaVuSans-53\"/>\n      </g>\n     </g>\n    </g>\n    <g id=\"xtick_7\">\n     <g id=\"line2d_7\">\n      <g>\n       <use style=\"stroke:#000000;stroke-width:0.8;\" x=\"292.388409\" xlink:href=\"#mdf1e8b1486\" y=\"224.64\"/>\n      </g>\n     </g>\n     <g id=\"text_7\">\n      <!-- 1.0 -->\n      <g transform=\"translate(282.846534 240.758125)scale(0.12 -0.12)\">\n       <use xlink:href=\"#DejaVuSans-49\"/>\n       <use x=\"63.623047\" xlink:href=\"#DejaVuSans-46\"/>\n       <use x=\"95.410156\" xlink:href=\"#DejaVuSans-48\"/>\n      </g>\n     </g>\n    </g>\n    <g id=\"xtick_8\">\n     <g id=\"line2d_8\">\n      <g>\n       <use style=\"stroke:#000000;stroke-width:0.8;\" x=\"330.433864\" xlink:href=\"#mdf1e8b1486\" y=\"224.64\"/>\n      </g>\n     </g>\n     <g id=\"text_8\">\n      <!-- 1.5 -->\n      <g transform=\"translate(320.891989 240.758125)scale(0.12 -0.12)\">\n       <use xlink:href=\"#DejaVuSans-49\"/>\n       <use x=\"63.623047\" xlink:href=\"#DejaVuSans-46\"/>\n       <use x=\"95.410156\" xlink:href=\"#DejaVuSans-53\"/>\n      </g>\n     </g>\n    </g>\n    <g id=\"xtick_9\">\n     <g id=\"line2d_9\">\n      <g>\n       <use style=\"stroke:#000000;stroke-width:0.8;\" x=\"368.479318\" xlink:href=\"#mdf1e8b1486\" y=\"224.64\"/>\n      </g>\n     </g>\n     <g id=\"text_9\">\n      <!-- 2.0 -->\n      <g transform=\"translate(358.937443 240.758125)scale(0.12 -0.12)\">\n       <use xlink:href=\"#DejaVuSans-50\"/>\n       <use x=\"63.623047\" xlink:href=\"#DejaVuSans-46\"/>\n       <use x=\"95.410156\" xlink:href=\"#DejaVuSans-48\"/>\n      </g>\n     </g>\n    </g>\n    <g id=\"text_10\">\n     <!-- x -->\n     <g transform=\"translate(212.74625 256.371875)scale(0.12 -0.12)\">\n      <defs>\n       <path d=\"M 54.890625 54.6875 \nL 35.109375 28.078125 \nL 55.90625 0 \nL 45.3125 0 \nL 29.390625 21.484375 \nL 13.484375 0 \nL 2.875 0 \nL 24.125 28.609375 \nL 4.6875 54.6875 \nL 15.28125 54.6875 \nL 29.78125 35.203125 \nL 44.28125 54.6875 \nz\n\" id=\"DejaVuSans-120\"/>\n      </defs>\n      <use xlink:href=\"#DejaVuSans-120\"/>\n     </g>\n    </g>\n   </g>\n   <g id=\"matplotlib.axis_2\">\n    <g id=\"ytick_1\">\n     <g id=\"line2d_10\">\n      <defs>\n       <path d=\"M 0 0 \nL -3.5 0 \n\" id=\"meaa0df44db\" style=\"stroke:#000000;stroke-width:0.8;\"/>\n      </defs>\n      <g>\n       <use style=\"stroke:#000000;stroke-width:0.8;\" x=\"48.8975\" xlink:href=\"#meaa0df44db\" y=\"214.776534\"/>\n      </g>\n     </g>\n     <g id=\"text_11\">\n      <!-- 0.0 -->\n      <g transform=\"translate(22.81375 219.335597)scale(0.12 -0.12)\">\n       <use xlink:href=\"#DejaVuSans-48\"/>\n       <use x=\"63.623047\" xlink:href=\"#DejaVuSans-46\"/>\n       <use x=\"95.410156\" xlink:href=\"#DejaVuSans-48\"/>\n      </g>\n     </g>\n    </g>\n    <g id=\"ytick_2\">\n     <g id=\"line2d_11\">\n      <g>\n       <use style=\"stroke:#000000;stroke-width:0.8;\" x=\"48.8975\" xlink:href=\"#meaa0df44db\" y=\"190.064922\"/>\n      </g>\n     </g>\n     <g id=\"text_12\">\n      <!-- 0.5 -->\n      <g transform=\"translate(22.81375 194.623984)scale(0.12 -0.12)\">\n       <use xlink:href=\"#DejaVuSans-48\"/>\n       <use x=\"63.623047\" xlink:href=\"#DejaVuSans-46\"/>\n       <use x=\"95.410156\" xlink:href=\"#DejaVuSans-53\"/>\n      </g>\n     </g>\n    </g>\n    <g id=\"ytick_3\">\n     <g id=\"line2d_12\">\n      <g>\n       <use style=\"stroke:#000000;stroke-width:0.8;\" x=\"48.8975\" xlink:href=\"#meaa0df44db\" y=\"165.35331\"/>\n      </g>\n     </g>\n     <g id=\"text_13\">\n      <!-- 1.0 -->\n      <g transform=\"translate(22.81375 169.912372)scale(0.12 -0.12)\">\n       <use xlink:href=\"#DejaVuSans-49\"/>\n       <use x=\"63.623047\" xlink:href=\"#DejaVuSans-46\"/>\n       <use x=\"95.410156\" xlink:href=\"#DejaVuSans-48\"/>\n      </g>\n     </g>\n    </g>\n    <g id=\"ytick_4\">\n     <g id=\"line2d_13\">\n      <g>\n       <use style=\"stroke:#000000;stroke-width:0.8;\" x=\"48.8975\" xlink:href=\"#meaa0df44db\" y=\"140.641698\"/>\n      </g>\n     </g>\n     <g id=\"text_14\">\n      <!-- 1.5 -->\n      <g transform=\"translate(22.81375 145.20076)scale(0.12 -0.12)\">\n       <use xlink:href=\"#DejaVuSans-49\"/>\n       <use x=\"63.623047\" xlink:href=\"#DejaVuSans-46\"/>\n       <use x=\"95.410156\" xlink:href=\"#DejaVuSans-53\"/>\n      </g>\n     </g>\n    </g>\n    <g id=\"ytick_5\">\n     <g id=\"line2d_14\">\n      <g>\n       <use style=\"stroke:#000000;stroke-width:0.8;\" x=\"48.8975\" xlink:href=\"#meaa0df44db\" y=\"115.930085\"/>\n      </g>\n     </g>\n     <g id=\"text_15\">\n      <!-- 2.0 -->\n      <g transform=\"translate(22.81375 120.489148)scale(0.12 -0.12)\">\n       <use xlink:href=\"#DejaVuSans-50\"/>\n       <use x=\"63.623047\" xlink:href=\"#DejaVuSans-46\"/>\n       <use x=\"95.410156\" xlink:href=\"#DejaVuSans-48\"/>\n      </g>\n     </g>\n    </g>\n    <g id=\"ytick_6\">\n     <g id=\"line2d_15\">\n      <g>\n       <use style=\"stroke:#000000;stroke-width:0.8;\" x=\"48.8975\" xlink:href=\"#meaa0df44db\" y=\"91.218473\"/>\n      </g>\n     </g>\n     <g id=\"text_16\">\n      <!-- 2.5 -->\n      <g transform=\"translate(22.81375 95.777536)scale(0.12 -0.12)\">\n       <use xlink:href=\"#DejaVuSans-50\"/>\n       <use x=\"63.623047\" xlink:href=\"#DejaVuSans-46\"/>\n       <use x=\"95.410156\" xlink:href=\"#DejaVuSans-53\"/>\n      </g>\n     </g>\n    </g>\n    <g id=\"ytick_7\">\n     <g id=\"line2d_16\">\n      <g>\n       <use style=\"stroke:#000000;stroke-width:0.8;\" x=\"48.8975\" xlink:href=\"#meaa0df44db\" y=\"66.506861\"/>\n      </g>\n     </g>\n     <g id=\"text_17\">\n      <!-- 3.0 -->\n      <g transform=\"translate(22.81375 71.065923)scale(0.12 -0.12)\">\n       <defs>\n        <path d=\"M 40.578125 39.3125 \nQ 47.65625 37.796875 51.625 33 \nQ 55.609375 28.21875 55.609375 21.1875 \nQ 55.609375 10.40625 48.1875 4.484375 \nQ 40.765625 -1.421875 27.09375 -1.421875 \nQ 22.515625 -1.421875 17.65625 -0.515625 \nQ 12.796875 0.390625 7.625 2.203125 \nL 7.625 11.71875 \nQ 11.71875 9.328125 16.59375 8.109375 \nQ 21.484375 6.890625 26.8125 6.890625 \nQ 36.078125 6.890625 40.9375 10.546875 \nQ 45.796875 14.203125 45.796875 21.1875 \nQ 45.796875 27.640625 41.28125 31.265625 \nQ 36.765625 34.90625 28.71875 34.90625 \nL 20.21875 34.90625 \nL 20.21875 43.015625 \nL 29.109375 43.015625 \nQ 36.375 43.015625 40.234375 45.921875 \nQ 44.09375 48.828125 44.09375 54.296875 \nQ 44.09375 59.90625 40.109375 62.90625 \nQ 36.140625 65.921875 28.71875 65.921875 \nQ 24.65625 65.921875 20.015625 65.03125 \nQ 15.375 64.15625 9.8125 62.3125 \nL 9.8125 71.09375 \nQ 15.4375 72.65625 20.34375 73.4375 \nQ 25.25 74.21875 29.59375 74.21875 \nQ 40.828125 74.21875 47.359375 69.109375 \nQ 53.90625 64.015625 53.90625 55.328125 \nQ 53.90625 49.265625 50.4375 45.09375 \nQ 46.96875 40.921875 40.578125 39.3125 \nz\n\" id=\"DejaVuSans-51\"/>\n       </defs>\n       <use xlink:href=\"#DejaVuSans-51\"/>\n       <use x=\"63.623047\" xlink:href=\"#DejaVuSans-46\"/>\n       <use x=\"95.410156\" xlink:href=\"#DejaVuSans-48\"/>\n      </g>\n     </g>\n    </g>\n    <g id=\"ytick_8\">\n     <g id=\"line2d_17\">\n      <g>\n       <use style=\"stroke:#000000;stroke-width:0.8;\" x=\"48.8975\" xlink:href=\"#meaa0df44db\" y=\"41.795249\"/>\n      </g>\n     </g>\n     <g id=\"text_18\">\n      <!-- 3.5 -->\n      <g transform=\"translate(22.81375 46.354311)scale(0.12 -0.12)\">\n       <use xlink:href=\"#DejaVuSans-51\"/>\n       <use x=\"63.623047\" xlink:href=\"#DejaVuSans-46\"/>\n       <use x=\"95.410156\" xlink:href=\"#DejaVuSans-53\"/>\n      </g>\n     </g>\n    </g>\n    <g id=\"ytick_9\">\n     <g id=\"line2d_18\">\n      <g>\n       <use style=\"stroke:#000000;stroke-width:0.8;\" x=\"48.8975\" xlink:href=\"#meaa0df44db\" y=\"17.083636\"/>\n      </g>\n     </g>\n     <g id=\"text_19\">\n      <!-- 4.0 -->\n      <g transform=\"translate(22.81375 21.642699)scale(0.12 -0.12)\">\n       <defs>\n        <path d=\"M 37.796875 64.3125 \nL 12.890625 25.390625 \nL 37.796875 25.390625 \nz\nM 35.203125 72.90625 \nL 47.609375 72.90625 \nL 47.609375 25.390625 \nL 58.015625 25.390625 \nL 58.015625 17.1875 \nL 47.609375 17.1875 \nL 47.609375 0 \nL 37.796875 0 \nL 37.796875 17.1875 \nL 4.890625 17.1875 \nL 4.890625 26.703125 \nz\n\" id=\"DejaVuSans-52\"/>\n       </defs>\n       <use xlink:href=\"#DejaVuSans-52\"/>\n       <use x=\"63.623047\" xlink:href=\"#DejaVuSans-46\"/>\n       <use x=\"95.410156\" xlink:href=\"#DejaVuSans-48\"/>\n      </g>\n     </g>\n    </g>\n    <g id=\"text_20\">\n     <!-- x**2 -->\n     <g transform=\"translate(16.318125 129.28875)rotate(-90)scale(0.12 -0.12)\">\n      <defs>\n       <path d=\"M 47.015625 60.890625 \nL 29.5 51.421875 \nL 47.015625 41.890625 \nL 44.1875 37.109375 \nL 27.78125 47.015625 \nL 27.78125 28.609375 \nL 22.21875 28.609375 \nL 22.21875 47.015625 \nL 5.8125 37.109375 \nL 2.984375 41.890625 \nL 20.515625 51.421875 \nL 2.984375 60.890625 \nL 5.8125 65.71875 \nL 22.21875 55.8125 \nL 22.21875 74.21875 \nL 27.78125 74.21875 \nL 27.78125 55.8125 \nL 44.1875 65.71875 \nz\n\" id=\"DejaVuSans-42\"/>\n      </defs>\n      <use xlink:href=\"#DejaVuSans-120\"/>\n      <use x=\"59.179688\" xlink:href=\"#DejaVuSans-42\"/>\n      <use x=\"109.179688\" xlink:href=\"#DejaVuSans-42\"/>\n      <use x=\"159.179688\" xlink:href=\"#DejaVuSans-50\"/>\n     </g>\n    </g>\n   </g>\n   <g id=\"line2d_19\">\n    <path clip-path=\"url(#p700f3f2157)\" d=\"M 64.115682 17.083636 \nL 67.190065 24.990555 \nL 70.264439 32.736077 \nL 73.338823 40.320271 \nL 76.413206 47.743092 \nL 79.48758 55.004516 \nL 82.561963 62.104612 \nL 85.636347 69.043335 \nL 88.710721 75.820672 \nL 91.785104 82.436659 \nL 94.859478 88.891272 \nL 97.933862 95.184535 \nL 101.008245 101.316424 \nL 104.082619 107.286939 \nL 107.157002 113.096103 \nL 110.231377 118.743882 \nL 113.30576 124.230317 \nL 116.380143 129.555384 \nL 119.454517 134.71907 \nL 122.528901 139.721401 \nL 125.603284 144.562375 \nL 128.677658 149.241964 \nL 131.752041 153.760203 \nL 134.826425 158.117073 \nL 137.900808 162.312582 \nL 140.975187 166.346716 \nL 144.04957 170.219492 \nL 147.123949 173.930896 \nL 150.198327 177.480936 \nL 153.272706 180.86961 \nL 156.34709 184.096923 \nL 159.421468 187.162867 \nL 162.495847 190.067444 \nL 165.570226 192.810655 \nL 168.644609 195.392506 \nL 171.718988 197.812987 \nL 174.793367 200.072103 \nL 177.867745 202.169853 \nL 180.942129 204.106241 \nL 184.016507 205.881261 \nL 187.090886 207.494915 \nL 190.165267 208.947205 \nL 193.239646 210.238129 \nL 196.314027 211.367688 \nL 199.388407 212.33588 \nL 202.462787 213.142708 \nL 205.537168 213.78817 \nL 208.611546 214.272267 \nL 211.685934 214.594998 \nL 214.760314 214.756364 \nL 217.834694 214.756363 \nL 220.909075 214.594998 \nL 223.983455 214.272266 \nL 227.057835 213.78817 \nL 230.132216 213.142707 \nL 233.206594 212.33588 \nL 236.280973 211.367688 \nL 239.355354 210.238129 \nL 242.429733 208.947205 \nL 245.504114 207.494915 \nL 248.578493 205.881261 \nL 251.652874 204.10624 \nL 254.727255 202.169853 \nL 257.801633 200.072103 \nL 260.876012 197.812987 \nL 263.950391 195.392506 \nL 267.024774 192.810655 \nL 270.099153 190.067444 \nL 273.173532 187.162867 \nL 276.24791 184.096923 \nL 279.322294 180.86961 \nL 282.396673 177.480936 \nL 285.471051 173.930896 \nL 288.54543 170.219492 \nL 291.619813 166.346716 \nL 294.694192 162.312582 \nL 297.768575 158.117073 \nL 300.84295 153.760215 \nL 303.917333 149.241976 \nL 306.991707 144.562387 \nL 310.06609 139.721419 \nL 313.140474 134.719082 \nL 316.214848 129.555395 \nL 319.289231 124.230329 \nL 322.363614 118.7439 \nL 325.437989 113.096115 \nL 328.512372 107.28695 \nL 331.586755 101.316424 \nL 334.661138 95.184535 \nL 337.735522 88.891272 \nL 340.809896 82.436659 \nL 343.884279 75.820672 \nL 346.958662 69.043312 \nL 350.033037 62.104612 \nL 353.10742 55.004516 \nL 356.181803 47.743069 \nL 359.256177 40.320271 \nL 362.330561 32.736077 \nL 365.404935 24.990555 \nL 368.479318 17.083636 \n\" style=\"fill:none;stroke:#1f77b4;stroke-linecap:square;stroke-width:1.5;\"/>\n   </g>\n   <g id=\"patch_3\">\n    <path d=\"M 48.8975 224.64 \nL 48.8975 7.2 \n\" style=\"fill:none;stroke:#000000;stroke-linecap:square;stroke-linejoin:miter;stroke-width:0.8;\"/>\n   </g>\n   <g id=\"patch_4\">\n    <path d=\"M 383.6975 224.64 \nL 383.6975 7.2 \n\" style=\"fill:none;stroke:#000000;stroke-linecap:square;stroke-linejoin:miter;stroke-width:0.8;\"/>\n   </g>\n   <g id=\"patch_5\">\n    <path d=\"M 48.8975 224.64 \nL 383.6975 224.64 \n\" style=\"fill:none;stroke:#000000;stroke-linecap:square;stroke-linejoin:miter;stroke-width:0.8;\"/>\n   </g>\n   <g id=\"patch_6\">\n    <path d=\"M 48.8975 7.2 \nL 383.6975 7.2 \n\" style=\"fill:none;stroke:#000000;stroke-linecap:square;stroke-linejoin:miter;stroke-width:0.8;\"/>\n   </g>\n  </g>\n </g>\n <defs>\n  <clipPath id=\"p700f3f2157\">\n   <rect height=\"217.44\" width=\"334.8\" x=\"48.8975\" y=\"7.2\"/>\n  </clipPath>\n </defs>\n</svg>\n",
      "image/png": "[encoded data removed]"
     },
     "metadata": {
      "needs_background": "light"
     }
    }
   ],
   "source": [
    "plot_function(f, 'x', 'x**2')"
   ]
  },
  {
   "cell_type": "markdown",
   "metadata": {},
   "source": [
    "The sequence of steps we described earlier starts by picking some random value for a parameter, and calculating the value of the loss:"
   ]
  },
  {
   "cell_type": "code",
   "execution_count": null,
   "metadata": {},
   "outputs": [
    {
     "data": {
      "image/png": "[encoded data removed]",
      "text/plain": [
       "<Figure size 432x288 with 1 Axes>"
      ]
     },
     "metadata": {
      "needs_background": "light"
     },
     "output_type": "display_data"
    }
   ],
   "source": [
    "plot_function(f, 'x', 'x**2')\n",
    "plt.scatter(-1.5, f(-1.5), color='red');"
   ]
  },
  {
   "cell_type": "markdown",
   "metadata": {},
   "source": [
    "Now we look to see what would happen if we increased or decreased our parameter by a little bit—the *adjustment*. This is simply the slope at a particular point:"
   ]
  },
  {
   "cell_type": "markdown",
   "metadata": {},
   "source": [
    "<img alt=\"A graph showing the squared function with the slope at one point\" width=\"400\" src=\"images/grad_illustration.svg\"/>"
   ]
  },
  {
   "cell_type": "markdown",
   "metadata": {},
   "source": [
    "We can change our weight by a little in the direction of the slope, calculate our loss and adjustment again, and repeat this a few times. Eventually, we will get to the lowest point on our curve:"
   ]
  },
  {
   "cell_type": "markdown",
   "metadata": {},
   "source": [
    "<img alt=\"An illustration of gradient descent\" width=\"400\" src=\"images/chapter2_perfect.svg\"/>"
   ]
  },
  {
   "cell_type": "markdown",
   "metadata": {},
   "source": [
    "This basic idea goes all the way back to Isaac Newton, who pointed out that we can optimize arbitrary functions in this way. Regardless of how complicated our functions become, this basic approach of gradient descent will not significantly change. The only minor changes we will see later in this book are some handy ways we can make it faster, by finding better steps."
   ]
  },
  {
   "cell_type": "markdown",
   "metadata": {},
   "source": [
    "### Calculating Gradients"
   ]
  },
  {
   "cell_type": "markdown",
   "metadata": {},
   "source": [
    "The one magic step is the bit where we calculate the gradients. As we mentioned, we use calculus as a performance optimization; it allows us to more quickly calculate whether our loss will go up or down when we adjust our parameters up or down. In other words, the gradients will tell us how much we have to change each weight to make our model better.\n",
    "\n",
    "You may remember from your high school calculus class that the *derivative* of a function tells you how much a change in its parameterss will change its result. If not, don't worry, lots of us forget calculus once high school is behind us! But you will have to have some intuitive understanding of what a derivative is before you continue, so if this is all very fuzzy in your head, head over to Khan Academy and complete the [lessons on basic derivatives](https://www.khanacademy.org/math/differential-calculus/dc-diff-intro). You won't have to know how to calculate them yourselves, you just have to know what a derivative is.\n",
    "\n",
    "The key point about a derivative is this: for any function, such as the quadratic function we saw in the previous section, we can calculate its derivative. The derivative is another function. It calculates the change, rather than the value. For instance, the derivative of the quadratic function at the value 3 tells us how rapidly the function changes at the value 3. More specifically, you may recall that gradient is defined as *rise/run*, that is, the change in the value of the function, divided by the change in the value of the parameter. When we know how our function will change, then we know what we need to do to make it smaller. This is the key to machine learning: having a way to change the parameters of a function to make it smaller. Calculus provides us with a computational shortcut, the derivative, which lets us directly calculate the gradients of our functions."
   ]
  },
  {
   "cell_type": "markdown",
   "metadata": {},
   "source": [
    "One important thing to be aware of is that our function has lots of weights that we need to adjust, so when we calculate the derivative we won't get back one number, but lots of them—a gradient for every weight. But there is nothing mathematically tricky here; you can calculate the derivative with respect to one weight, and treat all the other ones as constant, then repeat that for each other weight. This is how all of the gradients are calculated, for every weight.\n",
    "\n",
    "We mentioned just now that you won't have to calculate any gradients yourself. How can that be? Amazingly enough, PyTorch is able to automatically compute the derivative of nearly any function! What's more, it does it very fast. Most of the time, it will be at least as fast as any derivative function that you can create by hand. Let's see an example.\n",
    "\n",
    "First, let's pick a tensor value which we want gradients at:"
   ]
  },
  {
   "cell_type": "code",
   "execution_count": 68,
   "metadata": {},
   "outputs": [],
   "source": [
    "xt = tensor(3.).requires_grad_()"
   ]
  },
  {
   "cell_type": "markdown",
   "metadata": {},
   "source": [
    "Notice the special method `requires_grad_`? That's the magical incantation we use to tell PyTorch that we want to calculate gradients with respect to that variable at that value. It is essentially tagging the variable, so PyTorch will remember to keep track of how to compute gradients of the other, direct calculations on it that you will ask for.\n",
    "\n",
    "> a: This API might throw you off if you're coming from math or physics. In those contexts the \"gradient\" of a function is just another function (i.e., its derivative), so you might expect gradient-related APIs to give you a new function. But in deep learning, \"gradients\" usually means the _value_ of a function's derivative at a particular argument value. The PyTorch API also puts the focus on the argument, not the function you're actually computing the gradients of. It may feel backwards at first, but it's just a different perspective.\n",
    "\n",
    "Now we calculate our function with that value. Notice how PyTorch prints not just the value calculated, but also a note that it has a gradient function it'll be using to calculate our gradients when needed:"
   ]
  },
  {
   "cell_type": "code",
   "execution_count": 70,
   "metadata": {},
   "outputs": [
    {
     "output_type": "execute_result",
     "data": {
      "text/plain": "tensor(9., grad_fn=<PowBackward0>)"
     },
     "metadata": {},
     "execution_count": 70
    }
   ],
   "source": [
    "yt = f(xt)\n",
    "yt"
   ]
  },
  {
   "cell_type": "markdown",
   "metadata": {},
   "source": [
    "Finally, we tell PyTorch to calculate the gradients for us:"
   ]
  },
  {
   "cell_type": "code",
   "execution_count": 71,
   "metadata": {},
   "outputs": [],
   "source": [
    "yt.backward()"
   ]
  },
  {
   "cell_type": "markdown",
   "metadata": {},
   "source": [
    "The \"backward\" here refers to *backpropagation*, which is the name given to the process of calculating the derivative of each layer. We'll see how this is done exactly in chapter <<chapter_foundations>>, when we calculate the gradients of a deep neural net from scratch. This is called the \"backward pass\" of the network, as opposed to the \"forward pass,\" which is where the activations are calculated. Life would probably be easier if `backward` was just called `calculate_grad`, but deep learning folks really do like to add jargon everywhere they can!"
   ]
  },
  {
   "cell_type": "markdown",
   "metadata": {},
   "source": [
    "We can now view the gradients by checking the `grad` attribute of our tensor:"
   ]
  },
  {
   "cell_type": "code",
   "execution_count": 72,
   "metadata": {},
   "outputs": [
    {
     "output_type": "execute_result",
     "data": {
      "text/plain": "tensor(6.)"
     },
     "metadata": {},
     "execution_count": 72
    }
   ],
   "source": [
    "xt.grad"
   ]
  },
  {
   "cell_type": "markdown",
   "metadata": {},
   "source": [
    "If you remember your high school calculus rules, the derivative of `x**2` is `2*x`, and we have `x=3`, so the gradients should be `2*3=6`, which is what PyTorch calculated for us!\n",
    "\n",
    "Now we'll repeat the preceding steps, but with a vector argument for our function:"
   ]
  },
  {
   "cell_type": "code",
   "execution_count": 73,
   "metadata": {},
   "outputs": [
    {
     "output_type": "execute_result",
     "data": {
      "text/plain": "tensor([ 3.,  4., 10.], requires_grad=True)"
     },
     "metadata": {},
     "execution_count": 73
    }
   ],
   "source": [
    "xt = tensor([3.,4.,10.]).requires_grad_()\n",
    "xt"
   ]
  },
  {
   "cell_type": "markdown",
   "metadata": {},
   "source": [
    "And we'll add `sum` to our function so it can take a vector (i.e., a rank-1 tensor), and return a scalar (i.e., a rank-0 tensor):"
   ]
  },
  {
   "cell_type": "code",
   "execution_count": 74,
   "metadata": {},
   "outputs": [
    {
     "output_type": "execute_result",
     "data": {
      "text/plain": "tensor(125., grad_fn=<SumBackward0>)"
     },
     "metadata": {},
     "execution_count": 74
    }
   ],
   "source": [
    "def f(x): return (x**2).sum()\n",
    "\n",
    "yt = f(xt)\n",
    "yt"
   ]
  },
  {
   "cell_type": "markdown",
   "metadata": {},
   "source": [
    "Our gradients are `2*xt`, as we'd expect!"
   ]
  },
  {
   "cell_type": "code",
   "execution_count": 75,
   "metadata": {},
   "outputs": [
    {
     "output_type": "execute_result",
     "data": {
      "text/plain": "tensor([ 6.,  8., 20.])"
     },
     "metadata": {},
     "execution_count": 75
    }
   ],
   "source": [
    "yt.backward()\n",
    "xt.grad"
   ]
  },
  {
   "cell_type": "markdown",
   "metadata": {},
   "source": [
    "The gradients only tell us the slope of our function, they don't actually tell us exactly how far to adjust the parameters. But it gives us some idea of how far; if the slope is very large, then that may suggest that we have more adjustments to do, whereas if the slope is very small, that may suggest that we are close to the optimal value."
   ]
  },
  {
   "cell_type": "markdown",
   "metadata": {},
   "source": [
    "### Stepping With a Learning Rate"
   ]
  },
  {
   "cell_type": "markdown",
   "metadata": {},
   "source": [
    "Deciding how to change our parameters based on the values of the gradients is an important part of the deep learning process. Nearly all approaches start with the basic idea of multiplying the gradient by some small number, called the *learning rate* (LR). The learning rate is often a number between 0.001 and 0.1, although it could be anything. Often, people select a learning rate just by trying a few, and finding which results in the best model after training (we'll show you a better approach later in this book, called the *learning rate finder*). Once you've picked a learning rate, you can adjust your parameters using this simple function:\n",
    "\n",
    "```\n",
    "w -= gradient(w) * lr\n",
    "```\n",
    "\n",
    "This is known as *stepping* your parameters, using an *optimizer step*.\n",
    "\n",
    "If you pick a learning rate that's too low, it can mean having to do a lot of steps. <<descent_small>> illustrates that."
   ]
  },
  {
   "cell_type": "markdown",
   "metadata": {},
   "source": [
    "<img alt=\"An illustration of gradient descent with a LR too low\" width=\"400\" caption=\"Gradient descent with low LR\" src=\"images/chapter2_small.svg\" id=\"descent_small\"/>"
   ]
  },
  {
   "cell_type": "markdown",
   "metadata": {},
   "source": [
    "But picking a learning rate that's too high is even worse—it can actually result in the loss getting *worse*, as we see in <<descent_div>>!"
   ]
  },
  {
   "cell_type": "markdown",
   "metadata": {},
   "source": [
    "<img alt=\"An illustration of gradient descent with a LR too high\" width=\"400\" caption=\"Gradient descent with high LR\" src=\"images/chapter2_div.svg\" id=\"descent_div\"/>"
   ]
  },
  {
   "cell_type": "markdown",
   "metadata": {},
   "source": [
    "If the learning rate is too high, it may also \"bounce\" around, rather than actually diverging; <<descent_bouncy>> shows how this has the result of taking many steps to train successfully."
   ]
  },
  {
   "cell_type": "markdown",
   "metadata": {},
   "source": [
    "<img alt=\"An illustation of gradient descent with a bouncy LR\" width=\"400\" caption=\"Gradient descent with bouncy LR\" src=\"images/chapter2_bouncy.svg\" id=\"descent_bouncy\"/>"
   ]
  },
  {
   "cell_type": "markdown",
   "metadata": {},
   "source": [
    "Now let's apply all of this in an end-to-end example."
   ]
  },
  {
   "cell_type": "markdown",
   "metadata": {},
   "source": [
    "### An End-to-End SGD Example"
   ]
  },
  {
   "cell_type": "markdown",
   "metadata": {},
   "source": [
    "We've seen how to use gradients to find a minimum. Now it's time to look at an SGD example and see how finding a minimum can be used to train a model to fit data better.\n",
    "\n",
    "Let's start with a simple, synthetic, example model. Imagine you were measuring the speed of a roller coaster as it went over the top of a hump. It would start fast, and then get slower as it went up the hill; it would be slowest at the top, and it would then speed up again as it went downhill. You want to build a model of how the speed changes over time. If you were measuring the speed manually every second for 20 seconds, it might look something like this:"
   ]
  },
  {
   "cell_type": "code",
   "execution_count": 76,
   "metadata": {},
   "outputs": [
    {
     "output_type": "execute_result",
     "data": {
      "text/plain": "tensor([ 0.,  1.,  2.,  3.,  4.,  5.,  6.,  7.,  8.,  9., 10., 11., 12., 13., 14., 15., 16., 17., 18., 19.])"
     },
     "metadata": {},
     "execution_count": 76
    }
   ],
   "source": [
    "time = torch.arange(0,20).float(); time"
   ]
  },
  {
   "cell_type": "code",
   "execution_count": 77,
   "metadata": {},
   "outputs": [
    {
     "output_type": "display_data",
     "data": {
      "text/plain": "<Figure size 432x288 with 1 Axes>",
      "image/svg+xml": "<?xml version=\"1.0\" encoding=\"utf-8\" standalone=\"no\"?>\n<!DOCTYPE svg PUBLIC \"-//W3C//DTD SVG 1.1//EN\"\n  \"http://www.w3.org/Graphics/SVG/1.1/DTD/svg11.dtd\">\n<!-- Created with matplotlib (https://matplotlib.org/) -->\n<svg height=\"250.45375pt\" version=\"1.1\" viewBox=\"0 0 371.47 250.45375\" width=\"371.47pt\" xmlns=\"http://www.w3.org/2000/svg\" xmlns:xlink=\"http://www.w3.org/1999/xlink\">\n <metadata>\n  <rdf:RDF xmlns:cc=\"http://creativecommons.org/ns#\" xmlns:dc=\"http://purl.org/dc/elements/1.1/\" xmlns:rdf=\"http://www.w3.org/1999/02/22-rdf-syntax-ns#\">\n   <cc:Work>\n    <dc:type rdf:resource=\"http://purl.org/dc/dcmitype/StillImage\"/>\n    <dc:date>2020-09-28T06:44:06.992166</dc:date>\n    <dc:format>image/svg+xml</dc:format>\n    <dc:creator>\n     <cc:Agent>\n      <dc:title>Matplotlib v3.3.2, https://matplotlib.org/</dc:title>\n     </cc:Agent>\n    </dc:creator>\n   </cc:Work>\n  </rdf:RDF>\n </metadata>\n <defs>\n  <style type=\"text/css\">*{stroke-linecap:butt;stroke-linejoin:round;}</style>\n </defs>\n <g id=\"figure_1\">\n  <g id=\"patch_1\">\n   <path d=\"M 0 250.45375 \nL 371.47 250.45375 \nL 371.47 0 \nL 0 0 \nz\n\" style=\"fill:none;\"/>\n  </g>\n  <g id=\"axes_1\">\n   <g id=\"patch_2\">\n    <path d=\"M 29.47 224.64 \nL 364.27 224.64 \nL 364.27 7.2 \nL 29.47 7.2 \nz\n\" style=\"fill:#ffffff;\"/>\n   </g>\n   <g id=\"PathCollection_1\">\n    <defs>\n     <path d=\"M 0 3 \nC 0.795609 3 1.55874 2.683901 2.12132 2.12132 \nC 2.683901 1.55874 3 0.795609 3 0 \nC 3 -0.795609 2.683901 -1.55874 2.12132 -2.12132 \nC 1.55874 -2.683901 0.795609 -3 0 -3 \nC -0.795609 -3 -1.55874 -2.683901 -2.12132 -2.12132 \nC -2.683901 -1.55874 -3 -0.795609 -3 0 \nC -3 0.795609 -2.683901 1.55874 -2.12132 2.12132 \nC -1.55874 2.683901 -0.795609 3 0 3 \nz\n\" id=\"mf455dff2ec\" style=\"stroke:#1f77b4;\"/>\n    </defs>\n    <g clip-path=\"url(#p29849790b4)\">\n     <use style=\"fill:#1f77b4;stroke:#1f77b4;\" x=\"44.688182\" xlink:href=\"#mf455dff2ec\" y=\"17.083636\"/>\n     <use style=\"fill:#1f77b4;stroke:#1f77b4;\" x=\"60.707321\" xlink:href=\"#mf455dff2ec\" y=\"55.964273\"/>\n     <use style=\"fill:#1f77b4;stroke:#1f77b4;\" x=\"76.726459\" xlink:href=\"#mf455dff2ec\" y=\"92.065884\"/>\n     <use style=\"fill:#1f77b4;stroke:#1f77b4;\" x=\"92.745598\" xlink:href=\"#mf455dff2ec\" y=\"143.277544\"/>\n     <use style=\"fill:#1f77b4;stroke:#1f77b4;\" x=\"108.764737\" xlink:href=\"#mf455dff2ec\" y=\"156.285501\"/>\n     <use style=\"fill:#1f77b4;stroke:#1f77b4;\" x=\"124.783876\" xlink:href=\"#mf455dff2ec\" y=\"161.508421\"/>\n     <use style=\"fill:#1f77b4;stroke:#1f77b4;\" x=\"140.803014\" xlink:href=\"#mf455dff2ec\" y=\"179.435129\"/>\n     <use style=\"fill:#1f77b4;stroke:#1f77b4;\" x=\"156.822153\" xlink:href=\"#mf455dff2ec\" y=\"184.316664\"/>\n     <use style=\"fill:#1f77b4;stroke:#1f77b4;\" x=\"172.841292\" xlink:href=\"#mf455dff2ec\" y=\"202.615233\"/>\n     <use style=\"fill:#1f77b4;stroke:#1f77b4;\" x=\"188.860431\" xlink:href=\"#mf455dff2ec\" y=\"214.756364\"/>\n     <use style=\"fill:#1f77b4;stroke:#1f77b4;\" x=\"204.879569\" xlink:href=\"#mf455dff2ec\" y=\"213.235131\"/>\n     <use style=\"fill:#1f77b4;stroke:#1f77b4;\" x=\"220.898708\" xlink:href=\"#mf455dff2ec\" y=\"203.515473\"/>\n     <use style=\"fill:#1f77b4;stroke:#1f77b4;\" x=\"236.917847\" xlink:href=\"#mf455dff2ec\" y=\"199.368253\"/>\n     <use style=\"fill:#1f77b4;stroke:#1f77b4;\" x=\"252.936986\" xlink:href=\"#mf455dff2ec\" y=\"185.409662\"/>\n     <use style=\"fill:#1f77b4;stroke:#1f77b4;\" x=\"268.956124\" xlink:href=\"#mf455dff2ec\" y=\"171.976222\"/>\n     <use style=\"fill:#1f77b4;stroke:#1f77b4;\" x=\"284.975263\" xlink:href=\"#mf455dff2ec\" y=\"143.550046\"/>\n     <use style=\"fill:#1f77b4;stroke:#1f77b4;\" x=\"300.994402\" xlink:href=\"#mf455dff2ec\" y=\"129.142552\"/>\n     <use style=\"fill:#1f77b4;stroke:#1f77b4;\" x=\"317.013541\" xlink:href=\"#mf455dff2ec\" y=\"102.270274\"/>\n     <use style=\"fill:#1f77b4;stroke:#1f77b4;\" x=\"333.032679\" xlink:href=\"#mf455dff2ec\" y=\"61.347162\"/>\n     <use style=\"fill:#1f77b4;stroke:#1f77b4;\" x=\"349.051818\" xlink:href=\"#mf455dff2ec\" y=\"37.143373\"/>\n    </g>\n   </g>\n   <g id=\"matplotlib.axis_1\">\n    <g id=\"xtick_1\">\n     <g id=\"line2d_1\">\n      <defs>\n       <path d=\"M 0 0 \nL 0 3.5 \n\" id=\"m878a7f1d8f\" style=\"stroke:#000000;stroke-width:0.8;\"/>\n      </defs>\n      <g>\n       <use style=\"stroke:#000000;stroke-width:0.8;\" x=\"44.688182\" xlink:href=\"#m878a7f1d8f\" y=\"224.64\"/>\n      </g>\n     </g>\n     <g id=\"text_1\">\n      <!-- 0.0 -->\n      <g transform=\"translate(35.146307 240.758125)scale(0.12 -0.12)\">\n       <defs>\n        <path d=\"M 31.78125 66.40625 \nQ 24.171875 66.40625 20.328125 58.90625 \nQ 16.5 51.421875 16.5 36.375 \nQ 16.5 21.390625 20.328125 13.890625 \nQ 24.171875 6.390625 31.78125 6.390625 \nQ 39.453125 6.390625 43.28125 13.890625 \nQ 47.125 21.390625 47.125 36.375 \nQ 47.125 51.421875 43.28125 58.90625 \nQ 39.453125 66.40625 31.78125 66.40625 \nz\nM 31.78125 74.21875 \nQ 44.046875 74.21875 50.515625 64.515625 \nQ 56.984375 54.828125 56.984375 36.375 \nQ 56.984375 17.96875 50.515625 8.265625 \nQ 44.046875 -1.421875 31.78125 -1.421875 \nQ 19.53125 -1.421875 13.0625 8.265625 \nQ 6.59375 17.96875 6.59375 36.375 \nQ 6.59375 54.828125 13.0625 64.515625 \nQ 19.53125 74.21875 31.78125 74.21875 \nz\n\" id=\"DejaVuSans-48\"/>\n        <path d=\"M 10.6875 12.40625 \nL 21 12.40625 \nL 21 0 \nL 10.6875 0 \nz\n\" id=\"DejaVuSans-46\"/>\n       </defs>\n       <use xlink:href=\"#DejaVuSans-48\"/>\n       <use x=\"63.623047\" xlink:href=\"#DejaVuSans-46\"/>\n       <use x=\"95.410156\" xlink:href=\"#DejaVuSans-48\"/>\n      </g>\n     </g>\n    </g>\n    <g id=\"xtick_2\">\n     <g id=\"line2d_2\">\n      <g>\n       <use style=\"stroke:#000000;stroke-width:0.8;\" x=\"84.736029\" xlink:href=\"#m878a7f1d8f\" y=\"224.64\"/>\n      </g>\n     </g>\n     <g id=\"text_2\">\n      <!-- 2.5 -->\n      <g transform=\"translate(75.194154 240.758125)scale(0.12 -0.12)\">\n       <defs>\n        <path d=\"M 19.1875 8.296875 \nL 53.609375 8.296875 \nL 53.609375 0 \nL 7.328125 0 \nL 7.328125 8.296875 \nQ 12.9375 14.109375 22.625 23.890625 \nQ 32.328125 33.6875 34.8125 36.53125 \nQ 39.546875 41.84375 41.421875 45.53125 \nQ 43.3125 49.21875 43.3125 52.78125 \nQ 43.3125 58.59375 39.234375 62.25 \nQ 35.15625 65.921875 28.609375 65.921875 \nQ 23.96875 65.921875 18.8125 64.3125 \nQ 13.671875 62.703125 7.8125 59.421875 \nL 7.8125 69.390625 \nQ 13.765625 71.78125 18.9375 73 \nQ 24.125 74.21875 28.421875 74.21875 \nQ 39.75 74.21875 46.484375 68.546875 \nQ 53.21875 62.890625 53.21875 53.421875 \nQ 53.21875 48.921875 51.53125 44.890625 \nQ 49.859375 40.875 45.40625 35.40625 \nQ 44.1875 33.984375 37.640625 27.21875 \nQ 31.109375 20.453125 19.1875 8.296875 \nz\n\" id=\"DejaVuSans-50\"/>\n        <path d=\"M 10.796875 72.90625 \nL 49.515625 72.90625 \nL 49.515625 64.59375 \nL 19.828125 64.59375 \nL 19.828125 46.734375 \nQ 21.96875 47.46875 24.109375 47.828125 \nQ 26.265625 48.1875 28.421875 48.1875 \nQ 40.625 48.1875 47.75 41.5 \nQ 54.890625 34.8125 54.890625 23.390625 \nQ 54.890625 11.625 47.5625 5.09375 \nQ 40.234375 -1.421875 26.90625 -1.421875 \nQ 22.3125 -1.421875 17.546875 -0.640625 \nQ 12.796875 0.140625 7.71875 1.703125 \nL 7.71875 11.625 \nQ 12.109375 9.234375 16.796875 8.0625 \nQ 21.484375 6.890625 26.703125 6.890625 \nQ 35.15625 6.890625 40.078125 11.328125 \nQ 45.015625 15.765625 45.015625 23.390625 \nQ 45.015625 31 40.078125 35.4375 \nQ 35.15625 39.890625 26.703125 39.890625 \nQ 22.75 39.890625 18.8125 39.015625 \nQ 14.890625 38.140625 10.796875 36.28125 \nz\n\" id=\"DejaVuSans-53\"/>\n       </defs>\n       <use xlink:href=\"#DejaVuSans-50\"/>\n       <use x=\"63.623047\" xlink:href=\"#DejaVuSans-46\"/>\n       <use x=\"95.410156\" xlink:href=\"#DejaVuSans-53\"/>\n      </g>\n     </g>\n    </g>\n    <g id=\"xtick_3\">\n     <g id=\"line2d_3\">\n      <g>\n       <use style=\"stroke:#000000;stroke-width:0.8;\" x=\"124.783876\" xlink:href=\"#m878a7f1d8f\" y=\"224.64\"/>\n      </g>\n     </g>\n     <g id=\"text_3\">\n      <!-- 5.0 -->\n      <g transform=\"translate(115.242001 240.758125)scale(0.12 -0.12)\">\n       <use xlink:href=\"#DejaVuSans-53\"/>\n       <use x=\"63.623047\" xlink:href=\"#DejaVuSans-46\"/>\n       <use x=\"95.410156\" xlink:href=\"#DejaVuSans-48\"/>\n      </g>\n     </g>\n    </g>\n    <g id=\"xtick_4\">\n     <g id=\"line2d_4\">\n      <g>\n       <use style=\"stroke:#000000;stroke-width:0.8;\" x=\"164.831722\" xlink:href=\"#m878a7f1d8f\" y=\"224.64\"/>\n      </g>\n     </g>\n     <g id=\"text_4\">\n      <!-- 7.5 -->\n      <g transform=\"translate(155.289847 240.758125)scale(0.12 -0.12)\">\n       <defs>\n        <path d=\"M 8.203125 72.90625 \nL 55.078125 72.90625 \nL 55.078125 68.703125 \nL 28.609375 0 \nL 18.3125 0 \nL 43.21875 64.59375 \nL 8.203125 64.59375 \nz\n\" id=\"DejaVuSans-55\"/>\n       </defs>\n       <use xlink:href=\"#DejaVuSans-55\"/>\n       <use x=\"63.623047\" xlink:href=\"#DejaVuSans-46\"/>\n       <use x=\"95.410156\" xlink:href=\"#DejaVuSans-53\"/>\n      </g>\n     </g>\n    </g>\n    <g id=\"xtick_5\">\n     <g id=\"line2d_5\">\n      <g>\n       <use style=\"stroke:#000000;stroke-width:0.8;\" x=\"204.879569\" xlink:href=\"#m878a7f1d8f\" y=\"224.64\"/>\n      </g>\n     </g>\n     <g id=\"text_5\">\n      <!-- 10.0 -->\n      <g transform=\"translate(191.520194 240.758125)scale(0.12 -0.12)\">\n       <defs>\n        <path d=\"M 12.40625 8.296875 \nL 28.515625 8.296875 \nL 28.515625 63.921875 \nL 10.984375 60.40625 \nL 10.984375 69.390625 \nL 28.421875 72.90625 \nL 38.28125 72.90625 \nL 38.28125 8.296875 \nL 54.390625 8.296875 \nL 54.390625 0 \nL 12.40625 0 \nz\n\" id=\"DejaVuSans-49\"/>\n       </defs>\n       <use xlink:href=\"#DejaVuSans-49\"/>\n       <use x=\"63.623047\" xlink:href=\"#DejaVuSans-48\"/>\n       <use x=\"127.246094\" xlink:href=\"#DejaVuSans-46\"/>\n       <use x=\"159.033203\" xlink:href=\"#DejaVuSans-48\"/>\n      </g>\n     </g>\n    </g>\n    <g id=\"xtick_6\">\n     <g id=\"line2d_6\">\n      <g>\n       <use style=\"stroke:#000000;stroke-width:0.8;\" x=\"244.927416\" xlink:href=\"#m878a7f1d8f\" y=\"224.64\"/>\n      </g>\n     </g>\n     <g id=\"text_6\">\n      <!-- 12.5 -->\n      <g transform=\"translate(231.568041 240.758125)scale(0.12 -0.12)\">\n       <use xlink:href=\"#DejaVuSans-49\"/>\n       <use x=\"63.623047\" xlink:href=\"#DejaVuSans-50\"/>\n       <use x=\"127.246094\" xlink:href=\"#DejaVuSans-46\"/>\n       <use x=\"159.033203\" xlink:href=\"#DejaVuSans-53\"/>\n      </g>\n     </g>\n    </g>\n    <g id=\"xtick_7\">\n     <g id=\"line2d_7\">\n      <g>\n       <use style=\"stroke:#000000;stroke-width:0.8;\" x=\"284.975263\" xlink:href=\"#m878a7f1d8f\" y=\"224.64\"/>\n      </g>\n     </g>\n     <g id=\"text_7\">\n      <!-- 15.0 -->\n      <g transform=\"translate(271.615888 240.758125)scale(0.12 -0.12)\">\n       <use xlink:href=\"#DejaVuSans-49\"/>\n       <use x=\"63.623047\" xlink:href=\"#DejaVuSans-53\"/>\n       <use x=\"127.246094\" xlink:href=\"#DejaVuSans-46\"/>\n       <use x=\"159.033203\" xlink:href=\"#DejaVuSans-48\"/>\n      </g>\n     </g>\n    </g>\n    <g id=\"xtick_8\">\n     <g id=\"line2d_8\">\n      <g>\n       <use style=\"stroke:#000000;stroke-width:0.8;\" x=\"325.02311\" xlink:href=\"#m878a7f1d8f\" y=\"224.64\"/>\n      </g>\n     </g>\n     <g id=\"text_8\">\n      <!-- 17.5 -->\n      <g transform=\"translate(311.663735 240.758125)scale(0.12 -0.12)\">\n       <use xlink:href=\"#DejaVuSans-49\"/>\n       <use x=\"63.623047\" xlink:href=\"#DejaVuSans-55\"/>\n       <use x=\"127.246094\" xlink:href=\"#DejaVuSans-46\"/>\n       <use x=\"159.033203\" xlink:href=\"#DejaVuSans-53\"/>\n      </g>\n     </g>\n    </g>\n   </g>\n   <g id=\"matplotlib.axis_2\">\n    <g id=\"ytick_1\">\n     <g id=\"line2d_9\">\n      <defs>\n       <path d=\"M 0 0 \nL -3.5 0 \n\" id=\"m8718a243e0\" style=\"stroke:#000000;stroke-width:0.8;\"/>\n      </defs>\n      <g>\n       <use style=\"stroke:#000000;stroke-width:0.8;\" x=\"29.47\" xlink:href=\"#m8718a243e0\" y=\"212.467512\"/>\n      </g>\n     </g>\n     <g id=\"text_9\">\n      <!-- 0 -->\n      <g transform=\"translate(14.835 217.026574)scale(0.12 -0.12)\">\n       <use xlink:href=\"#DejaVuSans-48\"/>\n      </g>\n     </g>\n    </g>\n    <g id=\"ytick_2\">\n     <g id=\"line2d_10\">\n      <g>\n       <use style=\"stroke:#000000;stroke-width:0.8;\" x=\"29.47\" xlink:href=\"#m8718a243e0\" y=\"186.230305\"/>\n      </g>\n     </g>\n     <g id=\"text_10\">\n      <!-- 10 -->\n      <g transform=\"translate(7.2 190.789368)scale(0.12 -0.12)\">\n       <use xlink:href=\"#DejaVuSans-49\"/>\n       <use x=\"63.623047\" xlink:href=\"#DejaVuSans-48\"/>\n      </g>\n     </g>\n    </g>\n    <g id=\"ytick_3\">\n     <g id=\"line2d_11\">\n      <g>\n       <use style=\"stroke:#000000;stroke-width:0.8;\" x=\"29.47\" xlink:href=\"#m8718a243e0\" y=\"159.993099\"/>\n      </g>\n     </g>\n     <g id=\"text_11\">\n      <!-- 20 -->\n      <g transform=\"translate(7.2 164.552161)scale(0.12 -0.12)\">\n       <use xlink:href=\"#DejaVuSans-50\"/>\n       <use x=\"63.623047\" xlink:href=\"#DejaVuSans-48\"/>\n      </g>\n     </g>\n    </g>\n    <g id=\"ytick_4\">\n     <g id=\"line2d_12\">\n      <g>\n       <use style=\"stroke:#000000;stroke-width:0.8;\" x=\"29.47\" xlink:href=\"#m8718a243e0\" y=\"133.755892\"/>\n      </g>\n     </g>\n     <g id=\"text_12\">\n      <!-- 30 -->\n      <g transform=\"translate(7.2 138.314955)scale(0.12 -0.12)\">\n       <defs>\n        <path d=\"M 40.578125 39.3125 \nQ 47.65625 37.796875 51.625 33 \nQ 55.609375 28.21875 55.609375 21.1875 \nQ 55.609375 10.40625 48.1875 4.484375 \nQ 40.765625 -1.421875 27.09375 -1.421875 \nQ 22.515625 -1.421875 17.65625 -0.515625 \nQ 12.796875 0.390625 7.625 2.203125 \nL 7.625 11.71875 \nQ 11.71875 9.328125 16.59375 8.109375 \nQ 21.484375 6.890625 26.8125 6.890625 \nQ 36.078125 6.890625 40.9375 10.546875 \nQ 45.796875 14.203125 45.796875 21.1875 \nQ 45.796875 27.640625 41.28125 31.265625 \nQ 36.765625 34.90625 28.71875 34.90625 \nL 20.21875 34.90625 \nL 20.21875 43.015625 \nL 29.109375 43.015625 \nQ 36.375 43.015625 40.234375 45.921875 \nQ 44.09375 48.828125 44.09375 54.296875 \nQ 44.09375 59.90625 40.109375 62.90625 \nQ 36.140625 65.921875 28.71875 65.921875 \nQ 24.65625 65.921875 20.015625 65.03125 \nQ 15.375 64.15625 9.8125 62.3125 \nL 9.8125 71.09375 \nQ 15.4375 72.65625 20.34375 73.4375 \nQ 25.25 74.21875 29.59375 74.21875 \nQ 40.828125 74.21875 47.359375 69.109375 \nQ 53.90625 64.015625 53.90625 55.328125 \nQ 53.90625 49.265625 50.4375 45.09375 \nQ 46.96875 40.921875 40.578125 39.3125 \nz\n\" id=\"DejaVuSans-51\"/>\n       </defs>\n       <use xlink:href=\"#DejaVuSans-51\"/>\n       <use x=\"63.623047\" xlink:href=\"#DejaVuSans-48\"/>\n      </g>\n     </g>\n    </g>\n    <g id=\"ytick_5\">\n     <g id=\"line2d_13\">\n      <g>\n       <use style=\"stroke:#000000;stroke-width:0.8;\" x=\"29.47\" xlink:href=\"#m8718a243e0\" y=\"107.518686\"/>\n      </g>\n     </g>\n     <g id=\"text_13\">\n      <!-- 40 -->\n      <g transform=\"translate(7.2 112.077749)scale(0.12 -0.12)\">\n       <defs>\n        <path d=\"M 37.796875 64.3125 \nL 12.890625 25.390625 \nL 37.796875 25.390625 \nz\nM 35.203125 72.90625 \nL 47.609375 72.90625 \nL 47.609375 25.390625 \nL 58.015625 25.390625 \nL 58.015625 17.1875 \nL 47.609375 17.1875 \nL 47.609375 0 \nL 37.796875 0 \nL 37.796875 17.1875 \nL 4.890625 17.1875 \nL 4.890625 26.703125 \nz\n\" id=\"DejaVuSans-52\"/>\n       </defs>\n       <use xlink:href=\"#DejaVuSans-52\"/>\n       <use x=\"63.623047\" xlink:href=\"#DejaVuSans-48\"/>\n      </g>\n     </g>\n    </g>\n    <g id=\"ytick_6\">\n     <g id=\"line2d_14\">\n      <g>\n       <use style=\"stroke:#000000;stroke-width:0.8;\" x=\"29.47\" xlink:href=\"#m8718a243e0\" y=\"81.28148\"/>\n      </g>\n     </g>\n     <g id=\"text_14\">\n      <!-- 50 -->\n      <g transform=\"translate(7.2 85.840542)scale(0.12 -0.12)\">\n       <use xlink:href=\"#DejaVuSans-53\"/>\n       <use x=\"63.623047\" xlink:href=\"#DejaVuSans-48\"/>\n      </g>\n     </g>\n    </g>\n    <g id=\"ytick_7\">\n     <g id=\"line2d_15\">\n      <g>\n       <use style=\"stroke:#000000;stroke-width:0.8;\" x=\"29.47\" xlink:href=\"#m8718a243e0\" y=\"55.044273\"/>\n      </g>\n     </g>\n     <g id=\"text_15\">\n      <!-- 60 -->\n      <g transform=\"translate(7.2 59.603336)scale(0.12 -0.12)\">\n       <defs>\n        <path d=\"M 33.015625 40.375 \nQ 26.375 40.375 22.484375 35.828125 \nQ 18.609375 31.296875 18.609375 23.390625 \nQ 18.609375 15.53125 22.484375 10.953125 \nQ 26.375 6.390625 33.015625 6.390625 \nQ 39.65625 6.390625 43.53125 10.953125 \nQ 47.40625 15.53125 47.40625 23.390625 \nQ 47.40625 31.296875 43.53125 35.828125 \nQ 39.65625 40.375 33.015625 40.375 \nz\nM 52.59375 71.296875 \nL 52.59375 62.3125 \nQ 48.875 64.0625 45.09375 64.984375 \nQ 41.3125 65.921875 37.59375 65.921875 \nQ 27.828125 65.921875 22.671875 59.328125 \nQ 17.53125 52.734375 16.796875 39.40625 \nQ 19.671875 43.65625 24.015625 45.921875 \nQ 28.375 48.1875 33.59375 48.1875 \nQ 44.578125 48.1875 50.953125 41.515625 \nQ 57.328125 34.859375 57.328125 23.390625 \nQ 57.328125 12.15625 50.6875 5.359375 \nQ 44.046875 -1.421875 33.015625 -1.421875 \nQ 20.359375 -1.421875 13.671875 8.265625 \nQ 6.984375 17.96875 6.984375 36.375 \nQ 6.984375 53.65625 15.1875 63.9375 \nQ 23.390625 74.21875 37.203125 74.21875 \nQ 40.921875 74.21875 44.703125 73.484375 \nQ 48.484375 72.75 52.59375 71.296875 \nz\n\" id=\"DejaVuSans-54\"/>\n       </defs>\n       <use xlink:href=\"#DejaVuSans-54\"/>\n       <use x=\"63.623047\" xlink:href=\"#DejaVuSans-48\"/>\n      </g>\n     </g>\n    </g>\n    <g id=\"ytick_8\">\n     <g id=\"line2d_16\">\n      <g>\n       <use style=\"stroke:#000000;stroke-width:0.8;\" x=\"29.47\" xlink:href=\"#m8718a243e0\" y=\"28.807067\"/>\n      </g>\n     </g>\n     <g id=\"text_16\">\n      <!-- 70 -->\n      <g transform=\"translate(7.2 33.366129)scale(0.12 -0.12)\">\n       <use xlink:href=\"#DejaVuSans-55\"/>\n       <use x=\"63.623047\" xlink:href=\"#DejaVuSans-48\"/>\n      </g>\n     </g>\n    </g>\n   </g>\n   <g id=\"patch_3\">\n    <path d=\"M 29.47 224.64 \nL 29.47 7.2 \n\" style=\"fill:none;stroke:#000000;stroke-linecap:square;stroke-linejoin:miter;stroke-width:0.8;\"/>\n   </g>\n   <g id=\"patch_4\">\n    <path d=\"M 364.27 224.64 \nL 364.27 7.2 \n\" style=\"fill:none;stroke:#000000;stroke-linecap:square;stroke-linejoin:miter;stroke-width:0.8;\"/>\n   </g>\n   <g id=\"patch_5\">\n    <path d=\"M 29.47 224.64 \nL 364.27 224.64 \n\" style=\"fill:none;stroke:#000000;stroke-linecap:square;stroke-linejoin:miter;stroke-width:0.8;\"/>\n   </g>\n   <g id=\"patch_6\">\n    <path d=\"M 29.47 7.2 \nL 364.27 7.2 \n\" style=\"fill:none;stroke:#000000;stroke-linecap:square;stroke-linejoin:miter;stroke-width:0.8;\"/>\n   </g>\n  </g>\n </g>\n <defs>\n  <clipPath id=\"p29849790b4\">\n   <rect height=\"217.44\" width=\"334.8\" x=\"29.47\" y=\"7.2\"/>\n  </clipPath>\n </defs>\n</svg>\n",
      "image/png": "[encoded data removed]"
     },
     "metadata": {
      "needs_background": "light"
     }
    }
   ],
   "source": [
    "speed = torch.randn(20)*3 + 0.75*(time-9.5)**2 + 1\n",
    "plt.scatter(time,speed);"
   ]
  },
  {
   "cell_type": "markdown",
   "metadata": {},
   "source": [
    "We've added a bit of random noise, since measuring things manually isn't precise. This means it's not that easy to answer the question: what was the roller coaster's speed? Using SGD we can try to find a function that matches our observations. We can't consider every possible function, so let's use a guess that it will be quadratic; i.e., a function of the form `a*(time**2)+(b*time)+c`.\n",
    "\n",
    "We want to distinguish clearly between the function's input (the time when we are measuring the coaster's speed) and its parameters (the values that define *which* quadratic we're trying). So, let's collect the parameters in one argument and thus separate the input, `t`, and the parameters, `params`, in the function's signature: "
   ]
  },
  {
   "cell_type": "code",
   "execution_count": 78,
   "metadata": {},
   "outputs": [],
   "source": [
    "def f(t, params):\n",
    "    a,b,c = params\n",
    "    return a*(t**2) + (b*t) + c"
   ]
  },
  {
   "cell_type": "markdown",
   "metadata": {},
   "source": [
    "In other words, we've restricted the problem of finding the best imaginable function that fits the data, to finding the best *quadratic* function. This greatly simplifies the problem, since every quadratic function is fully defined by the three parameters `a`, `b`, and `c`. Thus, to find the best quadratic function, we only need to find the best values for `a`, `b`, and `c`.\n",
    "\n",
    "If we can solve this problem for the three parameters of a quadratic function, we'll be able to apply the same approach for other, more complex functions with more parameters—such as a neural net. Let's find the parameters for `f` first, and then we'll come back and do the same thing for the MNIST dataset with a neural net.\n",
    "\n",
    "We need to define first what we mean by \"best.\" We define this precisely by choosing a *loss function*, which will return a value based on a prediction and a target, where lower values of the function correspond to \"better\" predictions. For continuous data, it's common to use *mean squared error*:"
   ]
  },
  {
   "cell_type": "code",
   "execution_count": 79,
   "metadata": {},
   "outputs": [],
   "source": [
    "def mse(preds, targets): return ((preds-targets)**2).mean()"
   ]
  },
  {
   "cell_type": "markdown",
   "metadata": {},
   "source": [
    "Now, let's work through our 7 step process."
   ]
  },
  {
   "cell_type": "markdown",
   "metadata": {},
   "source": [
    "#### Step 1: Initialize the parameters"
   ]
  },
  {
   "cell_type": "markdown",
   "metadata": {},
   "source": [
    "First, we initialize the parameters to random values, and tell PyTorch that we want to track their gradients, using `requires_grad_`:"
   ]
  },
  {
   "cell_type": "code",
   "execution_count": 80,
   "metadata": {},
   "outputs": [],
   "source": [
    "params = torch.randn(3).requires_grad_()"
   ]
  },
  {
   "cell_type": "code",
   "execution_count": 81,
   "metadata": {},
   "outputs": [],
   "source": [
    "#hide\n",
    "orig_params = params.clone()"
   ]
  },
  {
   "cell_type": "code",
   "execution_count": 82,
   "metadata": {},
   "outputs": [
    {
     "output_type": "execute_result",
     "data": {
      "text/plain": "tensor([-0.7658, -0.7506,  1.3525], requires_grad=True)"
     },
     "metadata": {},
     "execution_count": 82
    }
   ],
   "source": [
    "params"
   ]
  },
  {
   "cell_type": "markdown",
   "metadata": {},
   "source": [
    "#### Step 2: Calculate the predictions"
   ]
  },
  {
   "cell_type": "markdown",
   "metadata": {},
   "source": [
    "Next, we calculate the predictions:"
   ]
  },
  {
   "cell_type": "code",
   "execution_count": 84,
   "metadata": {},
   "outputs": [
    {
     "output_type": "execute_result",
     "data": {
      "text/plain": "tensor([ 0.,  1.,  2.,  3.,  4.,  5.,  6.,  7.,  8.,  9., 10., 11., 12., 13., 14., 15., 16., 17., 18., 19.])"
     },
     "metadata": {},
     "execution_count": 84
    }
   ],
   "source": [
    "time"
   ]
  },
  {
   "cell_type": "code",
   "execution_count": 85,
   "metadata": {},
   "outputs": [],
   "source": [
    "preds = f(time, params)"
   ]
  },
  {
   "cell_type": "code",
   "execution_count": 89,
   "metadata": {},
   "outputs": [
    {
     "output_type": "execute_result",
     "data": {
      "text/plain": "tensor([ 1.3525e+00, -1.6391e-01, -3.2121e+00, -7.7919e+00, -1.3903e+01, -2.1547e+01, -3.0721e+01, -4.1428e+01, -5.3666e+01, -6.7436e+01, -8.2738e+01, -9.9571e+01, -1.1794e+02, -1.3783e+02,\n        -1.5926e+02, -1.8222e+02, -2.0671e+02, -2.3274e+02, -2.6029e+02, -2.8938e+02], grad_fn=<AddBackward0>)"
     },
     "metadata": {},
     "execution_count": 89
    }
   ],
   "source": [
    "preds"
   ]
  },
  {
   "cell_type": "markdown",
   "metadata": {},
   "source": [
    "Let's create a little function to see how close our predictions are to our targets, and take a look:"
   ]
  },
  {
   "cell_type": "code",
   "execution_count": 90,
   "metadata": {},
   "outputs": [],
   "source": [
    "def show_preds(preds, ax=None):\n",
    "    if ax is None: ax=plt.subplots()[1]\n",
    "    ax.scatter(time, speed)\n",
    "    ax.scatter(time, to_np(preds), color='red')\n",
    "    ax.set_ylim(-300,100)"
   ]
  },
  {
   "cell_type": "code",
   "execution_count": 91,
   "metadata": {},
   "outputs": [
    {
     "output_type": "display_data",
     "data": {
      "text/plain": "<Figure size 432x288 with 1 Axes>",
      "image/svg+xml": "<?xml version=\"1.0\" encoding=\"utf-8\" standalone=\"no\"?>\n<!DOCTYPE svg PUBLIC \"-//W3C//DTD SVG 1.1//EN\"\n  \"http://www.w3.org/Graphics/SVG/1.1/DTD/svg11.dtd\">\n<!-- Created with matplotlib (https://matplotlib.org/) -->\n<svg height=\"255.012812pt\" version=\"1.1\" viewBox=\"0 0 389.160625 255.012812\" width=\"389.160625pt\" xmlns=\"http://www.w3.org/2000/svg\" xmlns:xlink=\"http://www.w3.org/1999/xlink\">\n <metadata>\n  <rdf:RDF xmlns:cc=\"http://creativecommons.org/ns#\" xmlns:dc=\"http://purl.org/dc/elements/1.1/\" xmlns:rdf=\"http://www.w3.org/1999/02/22-rdf-syntax-ns#\">\n   <cc:Work>\n    <dc:type rdf:resource=\"http://purl.org/dc/dcmitype/StillImage\"/>\n    <dc:date>2020-09-28T06:47:16.581697</dc:date>\n    <dc:format>image/svg+xml</dc:format>\n    <dc:creator>\n     <cc:Agent>\n      <dc:title>Matplotlib v3.3.2, https://matplotlib.org/</dc:title>\n     </cc:Agent>\n    </dc:creator>\n   </cc:Work>\n  </rdf:RDF>\n </metadata>\n <defs>\n  <style type=\"text/css\">*{stroke-linecap:butt;stroke-linejoin:round;}</style>\n </defs>\n <g id=\"figure_1\">\n  <g id=\"patch_1\">\n   <path d=\"M 0 255.012812 \nL 389.160625 255.012812 \nL 389.160625 0 \nL 0 0 \nz\n\" style=\"fill:none;\"/>\n  </g>\n  <g id=\"axes_1\">\n   <g id=\"patch_2\">\n    <path d=\"M 47.160625 229.199062 \nL 381.960625 229.199062 \nL 381.960625 11.759062 \nL 47.160625 11.759062 \nz\n\" style=\"fill:#ffffff;\"/>\n   </g>\n   <g id=\"PathCollection_1\">\n    <defs>\n     <path d=\"M 0 3 \nC 0.795609 3 1.55874 2.683901 2.12132 2.12132 \nC 2.683901 1.55874 3 0.795609 3 0 \nC 3 -0.795609 2.683901 -1.55874 2.12132 -2.12132 \nC 1.55874 -2.683901 0.795609 -3 0 -3 \nC -0.795609 -3 -1.55874 -2.683901 -2.12132 -2.12132 \nC -2.683901 -1.55874 -3 -0.795609 -3 0 \nC -3 0.795609 -2.683901 1.55874 -2.12132 2.12132 \nC -1.55874 2.683901 -0.795609 3 0 3 \nz\n\" id=\"me9f093e55e\" style=\"stroke:#1f77b4;\"/>\n    </defs>\n    <g clip-path=\"url(#p76a48bfa44)\">\n     <use style=\"fill:#1f77b4;stroke:#1f77b4;\" x=\"62.378807\" xlink:href=\"#me9f093e55e\" y=\"25.638124\"/>\n     <use style=\"fill:#1f77b4;stroke:#1f77b4;\" x=\"78.397946\" xlink:href=\"#me9f093e55e\" y=\"33.693674\"/>\n     <use style=\"fill:#1f77b4;stroke:#1f77b4;\" x=\"94.417084\" xlink:href=\"#me9f093e55e\" y=\"41.173448\"/>\n     <use style=\"fill:#1f77b4;stroke:#1f77b4;\" x=\"110.436223\" xlink:href=\"#me9f093e55e\" y=\"51.783822\"/>\n     <use style=\"fill:#1f77b4;stroke:#1f77b4;\" x=\"126.455362\" xlink:href=\"#me9f093e55e\" y=\"54.478898\"/>\n     <use style=\"fill:#1f77b4;stroke:#1f77b4;\" x=\"142.474501\" xlink:href=\"#me9f093e55e\" y=\"55.561017\"/>\n     <use style=\"fill:#1f77b4;stroke:#1f77b4;\" x=\"158.493639\" xlink:href=\"#me9f093e55e\" y=\"59.275192\"/>\n     <use style=\"fill:#1f77b4;stroke:#1f77b4;\" x=\"174.512778\" xlink:href=\"#me9f093e55e\" y=\"60.286582\"/>\n     <use style=\"fill:#1f77b4;stroke:#1f77b4;\" x=\"190.531917\" xlink:href=\"#me9f093e55e\" y=\"64.077801\"/>\n     <use style=\"fill:#1f77b4;stroke:#1f77b4;\" x=\"206.551056\" xlink:href=\"#me9f093e55e\" y=\"66.593282\"/>\n     <use style=\"fill:#1f77b4;stroke:#1f77b4;\" x=\"222.570194\" xlink:href=\"#me9f093e55e\" y=\"66.278103\"/>\n     <use style=\"fill:#1f77b4;stroke:#1f77b4;\" x=\"238.589333\" xlink:href=\"#me9f093e55e\" y=\"64.264319\"/>\n     <use style=\"fill:#1f77b4;stroke:#1f77b4;\" x=\"254.608472\" xlink:href=\"#me9f093e55e\" y=\"63.40507\"/>\n     <use style=\"fill:#1f77b4;stroke:#1f77b4;\" x=\"270.627611\" xlink:href=\"#me9f093e55e\" y=\"60.513036\"/>\n     <use style=\"fill:#1f77b4;stroke:#1f77b4;\" x=\"286.646749\" xlink:href=\"#me9f093e55e\" y=\"57.729806\"/>\n     <use style=\"fill:#1f77b4;stroke:#1f77b4;\" x=\"302.665888\" xlink:href=\"#me9f093e55e\" y=\"51.840281\"/>\n     <use style=\"fill:#1f77b4;stroke:#1f77b4;\" x=\"318.685027\" xlink:href=\"#me9f093e55e\" y=\"48.85524\"/>\n     <use style=\"fill:#1f77b4;stroke:#1f77b4;\" x=\"334.704166\" xlink:href=\"#me9f093e55e\" y=\"43.287661\"/>\n     <use style=\"fill:#1f77b4;stroke:#1f77b4;\" x=\"350.723304\" xlink:href=\"#me9f093e55e\" y=\"34.808937\"/>\n     <use style=\"fill:#1f77b4;stroke:#1f77b4;\" x=\"366.742443\" xlink:href=\"#me9f093e55e\" y=\"29.794234\"/>\n    </g>\n   </g>\n   <g id=\"PathCollection_2\">\n    <defs>\n     <path d=\"M 0 3 \nC 0.795609 3 1.55874 2.683901 2.12132 2.12132 \nC 2.683901 1.55874 3 0.795609 3 0 \nC 3 -0.795609 2.683901 -1.55874 2.12132 -2.12132 \nC 1.55874 -2.683901 0.795609 -3 0 -3 \nC -0.795609 -3 -1.55874 -2.683901 -2.12132 -2.12132 \nC -2.683901 -1.55874 -3 -0.795609 -3 0 \nC -3 0.795609 -2.683901 1.55874 -2.12132 2.12132 \nC -1.55874 2.683901 -0.795609 3 0 3 \nz\n\" id=\"m999d36eac1\" style=\"stroke:#ff0000;\"/>\n    </defs>\n    <g clip-path=\"url(#p76a48bfa44)\">\n     <use style=\"fill:#ff0000;stroke:#ff0000;\" x=\"62.378807\" xlink:href=\"#m999d36eac1\" y=\"65.383818\"/>\n     <use style=\"fill:#ff0000;stroke:#ff0000;\" x=\"78.397946\" xlink:href=\"#m999d36eac1\" y=\"66.208166\"/>\n     <use style=\"fill:#ff0000;stroke:#ff0000;\" x=\"94.417084\" xlink:href=\"#m999d36eac1\" y=\"67.865134\"/>\n     <use style=\"fill:#ff0000;stroke:#ff0000;\" x=\"110.436223\" xlink:href=\"#m999d36eac1\" y=\"70.354722\"/>\n     <use style=\"fill:#ff0000;stroke:#ff0000;\" x=\"126.455362\" xlink:href=\"#m999d36eac1\" y=\"73.676929\"/>\n     <use style=\"fill:#ff0000;stroke:#ff0000;\" x=\"142.474501\" xlink:href=\"#m999d36eac1\" y=\"77.831755\"/>\n     <use style=\"fill:#ff0000;stroke:#ff0000;\" x=\"158.493639\" xlink:href=\"#m999d36eac1\" y=\"82.819203\"/>\n     <use style=\"fill:#ff0000;stroke:#ff0000;\" x=\"174.512778\" xlink:href=\"#m999d36eac1\" y=\"88.63927\"/>\n     <use style=\"fill:#ff0000;stroke:#ff0000;\" x=\"190.531917\" xlink:href=\"#m999d36eac1\" y=\"95.291956\"/>\n     <use style=\"fill:#ff0000;stroke:#ff0000;\" x=\"206.551056\" xlink:href=\"#m999d36eac1\" y=\"102.777262\"/>\n     <use style=\"fill:#ff0000;stroke:#ff0000;\" x=\"222.570194\" xlink:href=\"#m999d36eac1\" y=\"111.09519\"/>\n     <use style=\"fill:#ff0000;stroke:#ff0000;\" x=\"238.589333\" xlink:href=\"#m999d36eac1\" y=\"120.245733\"/>\n     <use style=\"fill:#ff0000;stroke:#ff0000;\" x=\"254.608472\" xlink:href=\"#m999d36eac1\" y=\"130.2289\"/>\n     <use style=\"fill:#ff0000;stroke:#ff0000;\" x=\"270.627611\" xlink:href=\"#m999d36eac1\" y=\"141.044679\"/>\n     <use style=\"fill:#ff0000;stroke:#ff0000;\" x=\"286.646749\" xlink:href=\"#m999d36eac1\" y=\"152.693086\"/>\n     <use style=\"fill:#ff0000;stroke:#ff0000;\" x=\"302.665888\" xlink:href=\"#m999d36eac1\" y=\"165.174112\"/>\n     <use style=\"fill:#ff0000;stroke:#ff0000;\" x=\"318.685027\" xlink:href=\"#m999d36eac1\" y=\"178.487759\"/>\n     <use style=\"fill:#ff0000;stroke:#ff0000;\" x=\"334.704166\" xlink:href=\"#m999d36eac1\" y=\"192.634016\"/>\n     <use style=\"fill:#ff0000;stroke:#ff0000;\" x=\"350.723304\" xlink:href=\"#m999d36eac1\" y=\"207.61291\"/>\n     <use style=\"fill:#ff0000;stroke:#ff0000;\" x=\"366.742443\" xlink:href=\"#m999d36eac1\" y=\"223.424407\"/>\n    </g>\n   </g>\n   <g id=\"matplotlib.axis_1\">\n    <g id=\"xtick_1\">\n     <g id=\"line2d_1\">\n      <defs>\n       <path d=\"M 0 0 \nL 0 3.5 \n\" id=\"m6f950d686c\" style=\"stroke:#000000;stroke-width:0.8;\"/>\n      </defs>\n      <g>\n       <use style=\"stroke:#000000;stroke-width:0.8;\" x=\"62.378807\" xlink:href=\"#m6f950d686c\" y=\"229.199062\"/>\n      </g>\n     </g>\n     <g id=\"text_1\">\n      <!-- 0.0 -->\n      <g transform=\"translate(52.836932 245.317187)scale(0.12 -0.12)\">\n       <defs>\n        <path d=\"M 31.78125 66.40625 \nQ 24.171875 66.40625 20.328125 58.90625 \nQ 16.5 51.421875 16.5 36.375 \nQ 16.5 21.390625 20.328125 13.890625 \nQ 24.171875 6.390625 31.78125 6.390625 \nQ 39.453125 6.390625 43.28125 13.890625 \nQ 47.125 21.390625 47.125 36.375 \nQ 47.125 51.421875 43.28125 58.90625 \nQ 39.453125 66.40625 31.78125 66.40625 \nz\nM 31.78125 74.21875 \nQ 44.046875 74.21875 50.515625 64.515625 \nQ 56.984375 54.828125 56.984375 36.375 \nQ 56.984375 17.96875 50.515625 8.265625 \nQ 44.046875 -1.421875 31.78125 -1.421875 \nQ 19.53125 -1.421875 13.0625 8.265625 \nQ 6.59375 17.96875 6.59375 36.375 \nQ 6.59375 54.828125 13.0625 64.515625 \nQ 19.53125 74.21875 31.78125 74.21875 \nz\n\" id=\"DejaVuSans-48\"/>\n        <path d=\"M 10.6875 12.40625 \nL 21 12.40625 \nL 21 0 \nL 10.6875 0 \nz\n\" id=\"DejaVuSans-46\"/>\n       </defs>\n       <use xlink:href=\"#DejaVuSans-48\"/>\n       <use x=\"63.623047\" xlink:href=\"#DejaVuSans-46\"/>\n       <use x=\"95.410156\" xlink:href=\"#DejaVuSans-48\"/>\n      </g>\n     </g>\n    </g>\n    <g id=\"xtick_2\">\n     <g id=\"line2d_2\">\n      <g>\n       <use style=\"stroke:#000000;stroke-width:0.8;\" x=\"102.426654\" xlink:href=\"#m6f950d686c\" y=\"229.199062\"/>\n      </g>\n     </g>\n     <g id=\"text_2\">\n      <!-- 2.5 -->\n      <g transform=\"translate(92.884779 245.317187)scale(0.12 -0.12)\">\n       <defs>\n        <path d=\"M 19.1875 8.296875 \nL 53.609375 8.296875 \nL 53.609375 0 \nL 7.328125 0 \nL 7.328125 8.296875 \nQ 12.9375 14.109375 22.625 23.890625 \nQ 32.328125 33.6875 34.8125 36.53125 \nQ 39.546875 41.84375 41.421875 45.53125 \nQ 43.3125 49.21875 43.3125 52.78125 \nQ 43.3125 58.59375 39.234375 62.25 \nQ 35.15625 65.921875 28.609375 65.921875 \nQ 23.96875 65.921875 18.8125 64.3125 \nQ 13.671875 62.703125 7.8125 59.421875 \nL 7.8125 69.390625 \nQ 13.765625 71.78125 18.9375 73 \nQ 24.125 74.21875 28.421875 74.21875 \nQ 39.75 74.21875 46.484375 68.546875 \nQ 53.21875 62.890625 53.21875 53.421875 \nQ 53.21875 48.921875 51.53125 44.890625 \nQ 49.859375 40.875 45.40625 35.40625 \nQ 44.1875 33.984375 37.640625 27.21875 \nQ 31.109375 20.453125 19.1875 8.296875 \nz\n\" id=\"DejaVuSans-50\"/>\n        <path d=\"M 10.796875 72.90625 \nL 49.515625 72.90625 \nL 49.515625 64.59375 \nL 19.828125 64.59375 \nL 19.828125 46.734375 \nQ 21.96875 47.46875 24.109375 47.828125 \nQ 26.265625 48.1875 28.421875 48.1875 \nQ 40.625 48.1875 47.75 41.5 \nQ 54.890625 34.8125 54.890625 23.390625 \nQ 54.890625 11.625 47.5625 5.09375 \nQ 40.234375 -1.421875 26.90625 -1.421875 \nQ 22.3125 -1.421875 17.546875 -0.640625 \nQ 12.796875 0.140625 7.71875 1.703125 \nL 7.71875 11.625 \nQ 12.109375 9.234375 16.796875 8.0625 \nQ 21.484375 6.890625 26.703125 6.890625 \nQ 35.15625 6.890625 40.078125 11.328125 \nQ 45.015625 15.765625 45.015625 23.390625 \nQ 45.015625 31 40.078125 35.4375 \nQ 35.15625 39.890625 26.703125 39.890625 \nQ 22.75 39.890625 18.8125 39.015625 \nQ 14.890625 38.140625 10.796875 36.28125 \nz\n\" id=\"DejaVuSans-53\"/>\n       </defs>\n       <use xlink:href=\"#DejaVuSans-50\"/>\n       <use x=\"63.623047\" xlink:href=\"#DejaVuSans-46\"/>\n       <use x=\"95.410156\" xlink:href=\"#DejaVuSans-53\"/>\n      </g>\n     </g>\n    </g>\n    <g id=\"xtick_3\">\n     <g id=\"line2d_3\">\n      <g>\n       <use style=\"stroke:#000000;stroke-width:0.8;\" x=\"142.474501\" xlink:href=\"#m6f950d686c\" y=\"229.199062\"/>\n      </g>\n     </g>\n     <g id=\"text_3\">\n      <!-- 5.0 -->\n      <g transform=\"translate(132.932626 245.317187)scale(0.12 -0.12)\">\n       <use xlink:href=\"#DejaVuSans-53\"/>\n       <use x=\"63.623047\" xlink:href=\"#DejaVuSans-46\"/>\n       <use x=\"95.410156\" xlink:href=\"#DejaVuSans-48\"/>\n      </g>\n     </g>\n    </g>\n    <g id=\"xtick_4\">\n     <g id=\"line2d_4\">\n      <g>\n       <use style=\"stroke:#000000;stroke-width:0.8;\" x=\"182.522347\" xlink:href=\"#m6f950d686c\" y=\"229.199062\"/>\n      </g>\n     </g>\n     <g id=\"text_4\">\n      <!-- 7.5 -->\n      <g transform=\"translate(172.980472 245.317187)scale(0.12 -0.12)\">\n       <defs>\n        <path d=\"M 8.203125 72.90625 \nL 55.078125 72.90625 \nL 55.078125 68.703125 \nL 28.609375 0 \nL 18.3125 0 \nL 43.21875 64.59375 \nL 8.203125 64.59375 \nz\n\" id=\"DejaVuSans-55\"/>\n       </defs>\n       <use xlink:href=\"#DejaVuSans-55\"/>\n       <use x=\"63.623047\" xlink:href=\"#DejaVuSans-46\"/>\n       <use x=\"95.410156\" xlink:href=\"#DejaVuSans-53\"/>\n      </g>\n     </g>\n    </g>\n    <g id=\"xtick_5\">\n     <g id=\"line2d_5\">\n      <g>\n       <use style=\"stroke:#000000;stroke-width:0.8;\" x=\"222.570194\" xlink:href=\"#m6f950d686c\" y=\"229.199062\"/>\n      </g>\n     </g>\n     <g id=\"text_5\">\n      <!-- 10.0 -->\n      <g transform=\"translate(209.210819 245.317187)scale(0.12 -0.12)\">\n       <defs>\n        <path d=\"M 12.40625 8.296875 \nL 28.515625 8.296875 \nL 28.515625 63.921875 \nL 10.984375 60.40625 \nL 10.984375 69.390625 \nL 28.421875 72.90625 \nL 38.28125 72.90625 \nL 38.28125 8.296875 \nL 54.390625 8.296875 \nL 54.390625 0 \nL 12.40625 0 \nz\n\" id=\"DejaVuSans-49\"/>\n       </defs>\n       <use xlink:href=\"#DejaVuSans-49\"/>\n       <use x=\"63.623047\" xlink:href=\"#DejaVuSans-48\"/>\n       <use x=\"127.246094\" xlink:href=\"#DejaVuSans-46\"/>\n       <use x=\"159.033203\" xlink:href=\"#DejaVuSans-48\"/>\n      </g>\n     </g>\n    </g>\n    <g id=\"xtick_6\">\n     <g id=\"line2d_6\">\n      <g>\n       <use style=\"stroke:#000000;stroke-width:0.8;\" x=\"262.618041\" xlink:href=\"#m6f950d686c\" y=\"229.199062\"/>\n      </g>\n     </g>\n     <g id=\"text_6\">\n      <!-- 12.5 -->\n      <g transform=\"translate(249.258666 245.317187)scale(0.12 -0.12)\">\n       <use xlink:href=\"#DejaVuSans-49\"/>\n       <use x=\"63.623047\" xlink:href=\"#DejaVuSans-50\"/>\n       <use x=\"127.246094\" xlink:href=\"#DejaVuSans-46\"/>\n       <use x=\"159.033203\" xlink:href=\"#DejaVuSans-53\"/>\n      </g>\n     </g>\n    </g>\n    <g id=\"xtick_7\">\n     <g id=\"line2d_7\">\n      <g>\n       <use style=\"stroke:#000000;stroke-width:0.8;\" x=\"302.665888\" xlink:href=\"#m6f950d686c\" y=\"229.199062\"/>\n      </g>\n     </g>\n     <g id=\"text_7\">\n      <!-- 15.0 -->\n      <g transform=\"translate(289.306513 245.317187)scale(0.12 -0.12)\">\n       <use xlink:href=\"#DejaVuSans-49\"/>\n       <use x=\"63.623047\" xlink:href=\"#DejaVuSans-53\"/>\n       <use x=\"127.246094\" xlink:href=\"#DejaVuSans-46\"/>\n       <use x=\"159.033203\" xlink:href=\"#DejaVuSans-48\"/>\n      </g>\n     </g>\n    </g>\n    <g id=\"xtick_8\">\n     <g id=\"line2d_8\">\n      <g>\n       <use style=\"stroke:#000000;stroke-width:0.8;\" x=\"342.713735\" xlink:href=\"#m6f950d686c\" y=\"229.199062\"/>\n      </g>\n     </g>\n     <g id=\"text_8\">\n      <!-- 17.5 -->\n      <g transform=\"translate(329.35436 245.317187)scale(0.12 -0.12)\">\n       <use xlink:href=\"#DejaVuSans-49\"/>\n       <use x=\"63.623047\" xlink:href=\"#DejaVuSans-55\"/>\n       <use x=\"127.246094\" xlink:href=\"#DejaVuSans-46\"/>\n       <use x=\"159.033203\" xlink:href=\"#DejaVuSans-53\"/>\n      </g>\n     </g>\n    </g>\n   </g>\n   <g id=\"matplotlib.axis_2\">\n    <g id=\"ytick_1\">\n     <g id=\"line2d_9\">\n      <defs>\n       <path d=\"M 0 0 \nL -3.5 0 \n\" id=\"m643dac2ce7\" style=\"stroke:#000000;stroke-width:0.8;\"/>\n      </defs>\n      <g>\n       <use style=\"stroke:#000000;stroke-width:0.8;\" x=\"47.160625\" xlink:href=\"#m643dac2ce7\" y=\"229.199062\"/>\n      </g>\n     </g>\n     <g id=\"text_9\">\n      <!-- −300 -->\n      <g transform=\"translate(7.2 233.758125)scale(0.12 -0.12)\">\n       <defs>\n        <path d=\"M 10.59375 35.5 \nL 73.1875 35.5 \nL 73.1875 27.203125 \nL 10.59375 27.203125 \nz\n\" id=\"DejaVuSans-8722\"/>\n        <path d=\"M 40.578125 39.3125 \nQ 47.65625 37.796875 51.625 33 \nQ 55.609375 28.21875 55.609375 21.1875 \nQ 55.609375 10.40625 48.1875 4.484375 \nQ 40.765625 -1.421875 27.09375 -1.421875 \nQ 22.515625 -1.421875 17.65625 -0.515625 \nQ 12.796875 0.390625 7.625 2.203125 \nL 7.625 11.71875 \nQ 11.71875 9.328125 16.59375 8.109375 \nQ 21.484375 6.890625 26.8125 6.890625 \nQ 36.078125 6.890625 40.9375 10.546875 \nQ 45.796875 14.203125 45.796875 21.1875 \nQ 45.796875 27.640625 41.28125 31.265625 \nQ 36.765625 34.90625 28.71875 34.90625 \nL 20.21875 34.90625 \nL 20.21875 43.015625 \nL 29.109375 43.015625 \nQ 36.375 43.015625 40.234375 45.921875 \nQ 44.09375 48.828125 44.09375 54.296875 \nQ 44.09375 59.90625 40.109375 62.90625 \nQ 36.140625 65.921875 28.71875 65.921875 \nQ 24.65625 65.921875 20.015625 65.03125 \nQ 15.375 64.15625 9.8125 62.3125 \nL 9.8125 71.09375 \nQ 15.4375 72.65625 20.34375 73.4375 \nQ 25.25 74.21875 29.59375 74.21875 \nQ 40.828125 74.21875 47.359375 69.109375 \nQ 53.90625 64.015625 53.90625 55.328125 \nQ 53.90625 49.265625 50.4375 45.09375 \nQ 46.96875 40.921875 40.578125 39.3125 \nz\n\" id=\"DejaVuSans-51\"/>\n       </defs>\n       <use xlink:href=\"#DejaVuSans-8722\"/>\n       <use x=\"83.789062\" xlink:href=\"#DejaVuSans-51\"/>\n       <use x=\"147.412109\" xlink:href=\"#DejaVuSans-48\"/>\n       <use x=\"211.035156\" xlink:href=\"#DejaVuSans-48\"/>\n      </g>\n     </g>\n    </g>\n    <g id=\"ytick_2\">\n     <g id=\"line2d_10\">\n      <g>\n       <use style=\"stroke:#000000;stroke-width:0.8;\" x=\"47.160625\" xlink:href=\"#m643dac2ce7\" y=\"202.019063\"/>\n      </g>\n     </g>\n     <g id=\"text_10\">\n      <!-- −250 -->\n      <g transform=\"translate(7.2 206.578125)scale(0.12 -0.12)\">\n       <use xlink:href=\"#DejaVuSans-8722\"/>\n       <use x=\"83.789062\" xlink:href=\"#DejaVuSans-50\"/>\n       <use x=\"147.412109\" xlink:href=\"#DejaVuSans-53\"/>\n       <use x=\"211.035156\" xlink:href=\"#DejaVuSans-48\"/>\n      </g>\n     </g>\n    </g>\n    <g id=\"ytick_3\">\n     <g id=\"line2d_11\">\n      <g>\n       <use style=\"stroke:#000000;stroke-width:0.8;\" x=\"47.160625\" xlink:href=\"#m643dac2ce7\" y=\"174.839063\"/>\n      </g>\n     </g>\n     <g id=\"text_11\">\n      <!-- −200 -->\n      <g transform=\"translate(7.2 179.398125)scale(0.12 -0.12)\">\n       <use xlink:href=\"#DejaVuSans-8722\"/>\n       <use x=\"83.789062\" xlink:href=\"#DejaVuSans-50\"/>\n       <use x=\"147.412109\" xlink:href=\"#DejaVuSans-48\"/>\n       <use x=\"211.035156\" xlink:href=\"#DejaVuSans-48\"/>\n      </g>\n     </g>\n    </g>\n    <g id=\"ytick_4\">\n     <g id=\"line2d_12\">\n      <g>\n       <use style=\"stroke:#000000;stroke-width:0.8;\" x=\"47.160625\" xlink:href=\"#m643dac2ce7\" y=\"147.659063\"/>\n      </g>\n     </g>\n     <g id=\"text_12\">\n      <!-- −150 -->\n      <g transform=\"translate(7.2 152.218125)scale(0.12 -0.12)\">\n       <use xlink:href=\"#DejaVuSans-8722\"/>\n       <use x=\"83.789062\" xlink:href=\"#DejaVuSans-49\"/>\n       <use x=\"147.412109\" xlink:href=\"#DejaVuSans-53\"/>\n       <use x=\"211.035156\" xlink:href=\"#DejaVuSans-48\"/>\n      </g>\n     </g>\n    </g>\n    <g id=\"ytick_5\">\n     <g id=\"line2d_13\">\n      <g>\n       <use style=\"stroke:#000000;stroke-width:0.8;\" x=\"47.160625\" xlink:href=\"#m643dac2ce7\" y=\"120.479063\"/>\n      </g>\n     </g>\n     <g id=\"text_13\">\n      <!-- −100 -->\n      <g transform=\"translate(7.2 125.038125)scale(0.12 -0.12)\">\n       <use xlink:href=\"#DejaVuSans-8722\"/>\n       <use x=\"83.789062\" xlink:href=\"#DejaVuSans-49\"/>\n       <use x=\"147.412109\" xlink:href=\"#DejaVuSans-48\"/>\n       <use x=\"211.035156\" xlink:href=\"#DejaVuSans-48\"/>\n      </g>\n     </g>\n    </g>\n    <g id=\"ytick_6\">\n     <g id=\"line2d_14\">\n      <g>\n       <use style=\"stroke:#000000;stroke-width:0.8;\" x=\"47.160625\" xlink:href=\"#m643dac2ce7\" y=\"93.299063\"/>\n      </g>\n     </g>\n     <g id=\"text_14\">\n      <!-- −50 -->\n      <g transform=\"translate(14.835 97.858125)scale(0.12 -0.12)\">\n       <use xlink:href=\"#DejaVuSans-8722\"/>\n       <use x=\"83.789062\" xlink:href=\"#DejaVuSans-53\"/>\n       <use x=\"147.412109\" xlink:href=\"#DejaVuSans-48\"/>\n      </g>\n     </g>\n    </g>\n    <g id=\"ytick_7\">\n     <g id=\"line2d_15\">\n      <g>\n       <use style=\"stroke:#000000;stroke-width:0.8;\" x=\"47.160625\" xlink:href=\"#m643dac2ce7\" y=\"66.119063\"/>\n      </g>\n     </g>\n     <g id=\"text_15\">\n      <!-- 0 -->\n      <g transform=\"translate(32.525625 70.678125)scale(0.12 -0.12)\">\n       <use xlink:href=\"#DejaVuSans-48\"/>\n      </g>\n     </g>\n    </g>\n    <g id=\"ytick_8\">\n     <g id=\"line2d_16\">\n      <g>\n       <use style=\"stroke:#000000;stroke-width:0.8;\" x=\"47.160625\" xlink:href=\"#m643dac2ce7\" y=\"38.939063\"/>\n      </g>\n     </g>\n     <g id=\"text_16\">\n      <!-- 50 -->\n      <g transform=\"translate(24.890625 43.498125)scale(0.12 -0.12)\">\n       <use xlink:href=\"#DejaVuSans-53\"/>\n       <use x=\"63.623047\" xlink:href=\"#DejaVuSans-48\"/>\n      </g>\n     </g>\n    </g>\n    <g id=\"ytick_9\">\n     <g id=\"line2d_17\">\n      <g>\n       <use style=\"stroke:#000000;stroke-width:0.8;\" x=\"47.160625\" xlink:href=\"#m643dac2ce7\" y=\"11.759063\"/>\n      </g>\n     </g>\n     <g id=\"text_17\">\n      <!-- 100 -->\n      <g transform=\"translate(17.255625 16.318125)scale(0.12 -0.12)\">\n       <use xlink:href=\"#DejaVuSans-49\"/>\n       <use x=\"63.623047\" xlink:href=\"#DejaVuSans-48\"/>\n       <use x=\"127.246094\" xlink:href=\"#DejaVuSans-48\"/>\n      </g>\n     </g>\n    </g>\n   </g>\n   <g id=\"patch_3\">\n    <path d=\"M 47.160625 229.199062 \nL 47.160625 11.759063 \n\" style=\"fill:none;stroke:#000000;stroke-linecap:square;stroke-linejoin:miter;stroke-width:0.8;\"/>\n   </g>\n   <g id=\"patch_4\">\n    <path d=\"M 381.960625 229.199062 \nL 381.960625 11.759063 \n\" style=\"fill:none;stroke:#000000;stroke-linecap:square;stroke-linejoin:miter;stroke-width:0.8;\"/>\n   </g>\n   <g id=\"patch_5\">\n    <path d=\"M 47.160625 229.199062 \nL 381.960625 229.199062 \n\" style=\"fill:none;stroke:#000000;stroke-linecap:square;stroke-linejoin:miter;stroke-width:0.8;\"/>\n   </g>\n   <g id=\"patch_6\">\n    <path d=\"M 47.160625 11.759062 \nL 381.960625 11.759062 \n\" style=\"fill:none;stroke:#000000;stroke-linecap:square;stroke-linejoin:miter;stroke-width:0.8;\"/>\n   </g>\n  </g>\n </g>\n <defs>\n  <clipPath id=\"p76a48bfa44\">\n   <rect height=\"217.44\" width=\"334.8\" x=\"47.160625\" y=\"11.759062\"/>\n  </clipPath>\n </defs>\n</svg>\n",
      "image/png": "[encoded data removed]"
     },
     "metadata": {
      "needs_background": "light"
     }
    }
   ],
   "source": [
    "show_preds(preds)"
   ]
  },
  {
   "cell_type": "markdown",
   "metadata": {},
   "source": [
    "This doesn't look very close—our random parameters suggest that the roller coaster will end up going backwards, since we have negative speeds!"
   ]
  },
  {
   "cell_type": "markdown",
   "metadata": {},
   "source": [
    "#### Step 3: Calculate the loss"
   ]
  },
  {
   "cell_type": "markdown",
   "metadata": {},
   "source": [
    "We calculate the loss as follows:"
   ]
  },
  {
   "cell_type": "code",
   "execution_count": 92,
   "metadata": {},
   "outputs": [
    {
     "output_type": "execute_result",
     "data": {
      "text/plain": "tensor(25823.8086, grad_fn=<MeanBackward0>)"
     },
     "metadata": {},
     "execution_count": 92
    }
   ],
   "source": [
    "loss = mse(preds, speed)\n",
    "loss"
   ]
  },
  {
   "cell_type": "markdown",
   "metadata": {},
   "source": [
    "Our goal is now to improve this. To do that, we'll need to know the gradients."
   ]
  },
  {
   "cell_type": "markdown",
   "metadata": {},
   "source": [
    "#### Step 4: Calculate the gradients"
   ]
  },
  {
   "cell_type": "markdown",
   "metadata": {},
   "source": [
    "The next step is to calculate the gradients. In other words, calculate an approximation of how the parameters need to change:"
   ]
  },
  {
   "cell_type": "code",
   "execution_count": 93,
   "metadata": {},
   "outputs": [
    {
     "output_type": "execute_result",
     "data": {
      "text/plain": "tensor([-53195.8594,  -3419.7146,   -253.8908])"
     },
     "metadata": {},
     "execution_count": 93
    }
   ],
   "source": [
    "loss.backward()\n",
    "params.grad"
   ]
  },
  {
   "cell_type": "code",
   "execution_count": 94,
   "metadata": {},
   "outputs": [
    {
     "output_type": "execute_result",
     "data": {
      "text/plain": "tensor([-0.5320, -0.0342, -0.0025])"
     },
     "metadata": {},
     "execution_count": 94
    }
   ],
   "source": [
    "params.grad * 1e-5"
   ]
  },
  {
   "cell_type": "markdown",
   "metadata": {},
   "source": [
    "We can use these gradients to improve our parameters. We'll need to pick a learning rate (we'll discuss how to do that in practice in the next chapter; for now we'll just use 1e-5, or 0.00001):"
   ]
  },
  {
   "cell_type": "code",
   "execution_count": 95,
   "metadata": {},
   "outputs": [
    {
     "output_type": "execute_result",
     "data": {
      "text/plain": "tensor([-0.7658, -0.7506,  1.3525], requires_grad=True)"
     },
     "metadata": {},
     "execution_count": 95
    }
   ],
   "source": [
    "params"
   ]
  },
  {
   "cell_type": "markdown",
   "metadata": {},
   "source": [
    "#### Step 5: Step the weights. "
   ]
  },
  {
   "cell_type": "markdown",
   "metadata": {},
   "source": [
    "Now we need to update the parameters based on the gradients we just calculated:"
   ]
  },
  {
   "cell_type": "code",
   "execution_count": 96,
   "metadata": {},
   "outputs": [],
   "source": [
    "lr = 1e-5\n",
    "params.data -= lr * params.grad.data\n",
    "params.grad = None"
   ]
  },
  {
   "cell_type": "markdown",
   "metadata": {},
   "source": [
    "> a: Understanding this bit depends on remembering recent history. To calculate the gradients we call `backward` on the `loss`. But this `loss` was itself calculated by `mse`, which in turn took `preds` as an input, which was calculated using `f` taking as an input `params`, which was the object on which we originally called `required_grads_`—which is the original call that now allows us to call `backward` on `loss`. This chain of function calls represents the mathematical composition of functions, which enables PyTorch to use calculus's chain rule under the hood to calculate these gradients."
   ]
  },
  {
   "cell_type": "markdown",
   "metadata": {},
   "source": [
    "Let's see if the loss has improved:"
   ]
  },
  {
   "cell_type": "code",
   "execution_count": 97,
   "metadata": {},
   "outputs": [
    {
     "output_type": "execute_result",
     "data": {
      "text/plain": "tensor(5435.5366, grad_fn=<MeanBackward0>)"
     },
     "metadata": {},
     "execution_count": 97
    }
   ],
   "source": [
    "preds = f(time,params)\n",
    "mse(preds, speed)"
   ]
  },
  {
   "cell_type": "markdown",
   "metadata": {},
   "source": [
    "And take a look at the plot:"
   ]
  },
  {
   "cell_type": "code",
   "execution_count": 98,
   "metadata": {},
   "outputs": [
    {
     "output_type": "display_data",
     "data": {
      "text/plain": "<Figure size 432x288 with 1 Axes>",
      "image/svg+xml": "<?xml version=\"1.0\" encoding=\"utf-8\" standalone=\"no\"?>\n<!DOCTYPE svg PUBLIC \"-//W3C//DTD SVG 1.1//EN\"\n  \"http://www.w3.org/Graphics/SVG/1.1/DTD/svg11.dtd\">\n<!-- Created with matplotlib (https://matplotlib.org/) -->\n<svg height=\"255.012812pt\" version=\"1.1\" viewBox=\"0 0 389.160625 255.012812\" width=\"389.160625pt\" xmlns=\"http://www.w3.org/2000/svg\" xmlns:xlink=\"http://www.w3.org/1999/xlink\">\n <metadata>\n  <rdf:RDF xmlns:cc=\"http://creativecommons.org/ns#\" xmlns:dc=\"http://purl.org/dc/elements/1.1/\" xmlns:rdf=\"http://www.w3.org/1999/02/22-rdf-syntax-ns#\">\n   <cc:Work>\n    <dc:type rdf:resource=\"http://purl.org/dc/dcmitype/StillImage\"/>\n    <dc:date>2020-09-28T06:50:03.727493</dc:date>\n    <dc:format>image/svg+xml</dc:format>\n    <dc:creator>\n     <cc:Agent>\n      <dc:title>Matplotlib v3.3.2, https://matplotlib.org/</dc:title>\n     </cc:Agent>\n    </dc:creator>\n   </cc:Work>\n  </rdf:RDF>\n </metadata>\n <defs>\n  <style type=\"text/css\">*{stroke-linecap:butt;stroke-linejoin:round;}</style>\n </defs>\n <g id=\"figure_1\">\n  <g id=\"patch_1\">\n   <path d=\"M 0 255.012812 \nL 389.160625 255.012812 \nL 389.160625 0 \nL 0 0 \nz\n\" style=\"fill:none;\"/>\n  </g>\n  <g id=\"axes_1\">\n   <g id=\"patch_2\">\n    <path d=\"M 47.160625 229.199062 \nL 381.960625 229.199062 \nL 381.960625 11.759062 \nL 47.160625 11.759062 \nz\n\" style=\"fill:#ffffff;\"/>\n   </g>\n   <g id=\"PathCollection_1\">\n    <defs>\n     <path d=\"M 0 3 \nC 0.795609 3 1.55874 2.683901 2.12132 2.12132 \nC 2.683901 1.55874 3 0.795609 3 0 \nC 3 -0.795609 2.683901 -1.55874 2.12132 -2.12132 \nC 1.55874 -2.683901 0.795609 -3 0 -3 \nC -0.795609 -3 -1.55874 -2.683901 -2.12132 -2.12132 \nC -2.683901 -1.55874 -3 -0.795609 -3 0 \nC -3 0.795609 -2.683901 1.55874 -2.12132 2.12132 \nC -1.55874 2.683901 -0.795609 3 0 3 \nz\n\" id=\"m604478b75d\" style=\"stroke:#1f77b4;\"/>\n    </defs>\n    <g clip-path=\"url(#pb355a8d178)\">\n     <use style=\"fill:#1f77b4;stroke:#1f77b4;\" x=\"62.378807\" xlink:href=\"#m604478b75d\" y=\"25.638124\"/>\n     <use style=\"fill:#1f77b4;stroke:#1f77b4;\" x=\"78.397946\" xlink:href=\"#m604478b75d\" y=\"33.693674\"/>\n     <use style=\"fill:#1f77b4;stroke:#1f77b4;\" x=\"94.417084\" xlink:href=\"#m604478b75d\" y=\"41.173448\"/>\n     <use style=\"fill:#1f77b4;stroke:#1f77b4;\" x=\"110.436223\" xlink:href=\"#m604478b75d\" y=\"51.783822\"/>\n     <use style=\"fill:#1f77b4;stroke:#1f77b4;\" x=\"126.455362\" xlink:href=\"#m604478b75d\" y=\"54.478898\"/>\n     <use style=\"fill:#1f77b4;stroke:#1f77b4;\" x=\"142.474501\" xlink:href=\"#m604478b75d\" y=\"55.561017\"/>\n     <use style=\"fill:#1f77b4;stroke:#1f77b4;\" x=\"158.493639\" xlink:href=\"#m604478b75d\" y=\"59.275192\"/>\n     <use style=\"fill:#1f77b4;stroke:#1f77b4;\" x=\"174.512778\" xlink:href=\"#m604478b75d\" y=\"60.286582\"/>\n     <use style=\"fill:#1f77b4;stroke:#1f77b4;\" x=\"190.531917\" xlink:href=\"#m604478b75d\" y=\"64.077801\"/>\n     <use style=\"fill:#1f77b4;stroke:#1f77b4;\" x=\"206.551056\" xlink:href=\"#m604478b75d\" y=\"66.593282\"/>\n     <use style=\"fill:#1f77b4;stroke:#1f77b4;\" x=\"222.570194\" xlink:href=\"#m604478b75d\" y=\"66.278103\"/>\n     <use style=\"fill:#1f77b4;stroke:#1f77b4;\" x=\"238.589333\" xlink:href=\"#m604478b75d\" y=\"64.264319\"/>\n     <use style=\"fill:#1f77b4;stroke:#1f77b4;\" x=\"254.608472\" xlink:href=\"#m604478b75d\" y=\"63.40507\"/>\n     <use style=\"fill:#1f77b4;stroke:#1f77b4;\" x=\"270.627611\" xlink:href=\"#m604478b75d\" y=\"60.513036\"/>\n     <use style=\"fill:#1f77b4;stroke:#1f77b4;\" x=\"286.646749\" xlink:href=\"#m604478b75d\" y=\"57.729806\"/>\n     <use style=\"fill:#1f77b4;stroke:#1f77b4;\" x=\"302.665888\" xlink:href=\"#m604478b75d\" y=\"51.840281\"/>\n     <use style=\"fill:#1f77b4;stroke:#1f77b4;\" x=\"318.685027\" xlink:href=\"#m604478b75d\" y=\"48.85524\"/>\n     <use style=\"fill:#1f77b4;stroke:#1f77b4;\" x=\"334.704166\" xlink:href=\"#m604478b75d\" y=\"43.287661\"/>\n     <use style=\"fill:#1f77b4;stroke:#1f77b4;\" x=\"350.723304\" xlink:href=\"#m604478b75d\" y=\"34.808937\"/>\n     <use style=\"fill:#1f77b4;stroke:#1f77b4;\" x=\"366.742443\" xlink:href=\"#m604478b75d\" y=\"29.794234\"/>\n    </g>\n   </g>\n   <g id=\"PathCollection_2\">\n    <defs>\n     <path d=\"M 0 3 \nC 0.795609 3 1.55874 2.683901 2.12132 2.12132 \nC 2.683901 1.55874 3 0.795609 3 0 \nC 3 -0.795609 2.683901 -1.55874 2.12132 -2.12132 \nC 1.55874 -2.683901 0.795609 -3 0 -3 \nC -0.795609 -3 -1.55874 -2.683901 -2.12132 -2.12132 \nC -2.683901 -1.55874 -3 -0.795609 -3 0 \nC -3 0.795609 -2.683901 1.55874 -2.12132 2.12132 \nC -1.55874 2.683901 -0.795609 3 0 3 \nz\n\" id=\"m87db5edbba\" style=\"stroke:#ff0000;\"/>\n    </defs>\n    <g clip-path=\"url(#pb355a8d178)\">\n     <use style=\"fill:#ff0000;stroke:#ff0000;\" x=\"62.378807\" xlink:href=\"#m87db5edbba\" y=\"65.382437\"/>\n     <use style=\"fill:#ff0000;stroke:#ff0000;\" x=\"78.397946\" xlink:href=\"#m87db5edbba\" y=\"65.899023\"/>\n     <use style=\"fill:#ff0000;stroke:#ff0000;\" x=\"94.417084\" xlink:href=\"#m87db5edbba\" y=\"66.669884\"/>\n     <use style=\"fill:#ff0000;stroke:#ff0000;\" x=\"110.436223\" xlink:href=\"#m87db5edbba\" y=\"67.695018\"/>\n     <use style=\"fill:#ff0000;stroke:#ff0000;\" x=\"126.455362\" xlink:href=\"#m87db5edbba\" y=\"68.974427\"/>\n     <use style=\"fill:#ff0000;stroke:#ff0000;\" x=\"142.474501\" xlink:href=\"#m87db5edbba\" y=\"70.508111\"/>\n     <use style=\"fill:#ff0000;stroke:#ff0000;\" x=\"158.493639\" xlink:href=\"#m87db5edbba\" y=\"72.296069\"/>\n     <use style=\"fill:#ff0000;stroke:#ff0000;\" x=\"174.512778\" xlink:href=\"#m87db5edbba\" y=\"74.338301\"/>\n     <use style=\"fill:#ff0000;stroke:#ff0000;\" x=\"190.531917\" xlink:href=\"#m87db5edbba\" y=\"76.634807\"/>\n     <use style=\"fill:#ff0000;stroke:#ff0000;\" x=\"206.551056\" xlink:href=\"#m87db5edbba\" y=\"79.185587\"/>\n     <use style=\"fill:#ff0000;stroke:#ff0000;\" x=\"222.570194\" xlink:href=\"#m87db5edbba\" y=\"81.990643\"/>\n     <use style=\"fill:#ff0000;stroke:#ff0000;\" x=\"238.589333\" xlink:href=\"#m87db5edbba\" y=\"85.049972\"/>\n     <use style=\"fill:#ff0000;stroke:#ff0000;\" x=\"254.608472\" xlink:href=\"#m87db5edbba\" y=\"88.363578\"/>\n     <use style=\"fill:#ff0000;stroke:#ff0000;\" x=\"270.627611\" xlink:href=\"#m87db5edbba\" y=\"91.931455\"/>\n     <use style=\"fill:#ff0000;stroke:#ff0000;\" x=\"286.646749\" xlink:href=\"#m87db5edbba\" y=\"95.753609\"/>\n     <use style=\"fill:#ff0000;stroke:#ff0000;\" x=\"302.665888\" xlink:href=\"#m87db5edbba\" y=\"99.830035\"/>\n     <use style=\"fill:#ff0000;stroke:#ff0000;\" x=\"318.685027\" xlink:href=\"#m87db5edbba\" y=\"104.160736\"/>\n     <use style=\"fill:#ff0000;stroke:#ff0000;\" x=\"334.704166\" xlink:href=\"#m87db5edbba\" y=\"108.745714\"/>\n     <use style=\"fill:#ff0000;stroke:#ff0000;\" x=\"350.723304\" xlink:href=\"#m87db5edbba\" y=\"113.584962\"/>\n     <use style=\"fill:#ff0000;stroke:#ff0000;\" x=\"366.742443\" xlink:href=\"#m87db5edbba\" y=\"118.678487\"/>\n    </g>\n   </g>\n   <g id=\"matplotlib.axis_1\">\n    <g id=\"xtick_1\">\n     <g id=\"line2d_1\">\n      <defs>\n       <path d=\"M 0 0 \nL 0 3.5 \n\" id=\"ma4de8fe2e4\" style=\"stroke:#000000;stroke-width:0.8;\"/>\n      </defs>\n      <g>\n       <use style=\"stroke:#000000;stroke-width:0.8;\" x=\"62.378807\" xlink:href=\"#ma4de8fe2e4\" y=\"229.199062\"/>\n      </g>\n     </g>\n     <g id=\"text_1\">\n      <!-- 0.0 -->\n      <g transform=\"translate(52.836932 245.317187)scale(0.12 -0.12)\">\n       <defs>\n        <path d=\"M 31.78125 66.40625 \nQ 24.171875 66.40625 20.328125 58.90625 \nQ 16.5 51.421875 16.5 36.375 \nQ 16.5 21.390625 20.328125 13.890625 \nQ 24.171875 6.390625 31.78125 6.390625 \nQ 39.453125 6.390625 43.28125 13.890625 \nQ 47.125 21.390625 47.125 36.375 \nQ 47.125 51.421875 43.28125 58.90625 \nQ 39.453125 66.40625 31.78125 66.40625 \nz\nM 31.78125 74.21875 \nQ 44.046875 74.21875 50.515625 64.515625 \nQ 56.984375 54.828125 56.984375 36.375 \nQ 56.984375 17.96875 50.515625 8.265625 \nQ 44.046875 -1.421875 31.78125 -1.421875 \nQ 19.53125 -1.421875 13.0625 8.265625 \nQ 6.59375 17.96875 6.59375 36.375 \nQ 6.59375 54.828125 13.0625 64.515625 \nQ 19.53125 74.21875 31.78125 74.21875 \nz\n\" id=\"DejaVuSans-48\"/>\n        <path d=\"M 10.6875 12.40625 \nL 21 12.40625 \nL 21 0 \nL 10.6875 0 \nz\n\" id=\"DejaVuSans-46\"/>\n       </defs>\n       <use xlink:href=\"#DejaVuSans-48\"/>\n       <use x=\"63.623047\" xlink:href=\"#DejaVuSans-46\"/>\n       <use x=\"95.410156\" xlink:href=\"#DejaVuSans-48\"/>\n      </g>\n     </g>\n    </g>\n    <g id=\"xtick_2\">\n     <g id=\"line2d_2\">\n      <g>\n       <use style=\"stroke:#000000;stroke-width:0.8;\" x=\"102.426654\" xlink:href=\"#ma4de8fe2e4\" y=\"229.199062\"/>\n      </g>\n     </g>\n     <g id=\"text_2\">\n      <!-- 2.5 -->\n      <g transform=\"translate(92.884779 245.317187)scale(0.12 -0.12)\">\n       <defs>\n        <path d=\"M 19.1875 8.296875 \nL 53.609375 8.296875 \nL 53.609375 0 \nL 7.328125 0 \nL 7.328125 8.296875 \nQ 12.9375 14.109375 22.625 23.890625 \nQ 32.328125 33.6875 34.8125 36.53125 \nQ 39.546875 41.84375 41.421875 45.53125 \nQ 43.3125 49.21875 43.3125 52.78125 \nQ 43.3125 58.59375 39.234375 62.25 \nQ 35.15625 65.921875 28.609375 65.921875 \nQ 23.96875 65.921875 18.8125 64.3125 \nQ 13.671875 62.703125 7.8125 59.421875 \nL 7.8125 69.390625 \nQ 13.765625 71.78125 18.9375 73 \nQ 24.125 74.21875 28.421875 74.21875 \nQ 39.75 74.21875 46.484375 68.546875 \nQ 53.21875 62.890625 53.21875 53.421875 \nQ 53.21875 48.921875 51.53125 44.890625 \nQ 49.859375 40.875 45.40625 35.40625 \nQ 44.1875 33.984375 37.640625 27.21875 \nQ 31.109375 20.453125 19.1875 8.296875 \nz\n\" id=\"DejaVuSans-50\"/>\n        <path d=\"M 10.796875 72.90625 \nL 49.515625 72.90625 \nL 49.515625 64.59375 \nL 19.828125 64.59375 \nL 19.828125 46.734375 \nQ 21.96875 47.46875 24.109375 47.828125 \nQ 26.265625 48.1875 28.421875 48.1875 \nQ 40.625 48.1875 47.75 41.5 \nQ 54.890625 34.8125 54.890625 23.390625 \nQ 54.890625 11.625 47.5625 5.09375 \nQ 40.234375 -1.421875 26.90625 -1.421875 \nQ 22.3125 -1.421875 17.546875 -0.640625 \nQ 12.796875 0.140625 7.71875 1.703125 \nL 7.71875 11.625 \nQ 12.109375 9.234375 16.796875 8.0625 \nQ 21.484375 6.890625 26.703125 6.890625 \nQ 35.15625 6.890625 40.078125 11.328125 \nQ 45.015625 15.765625 45.015625 23.390625 \nQ 45.015625 31 40.078125 35.4375 \nQ 35.15625 39.890625 26.703125 39.890625 \nQ 22.75 39.890625 18.8125 39.015625 \nQ 14.890625 38.140625 10.796875 36.28125 \nz\n\" id=\"DejaVuSans-53\"/>\n       </defs>\n       <use xlink:href=\"#DejaVuSans-50\"/>\n       <use x=\"63.623047\" xlink:href=\"#DejaVuSans-46\"/>\n       <use x=\"95.410156\" xlink:href=\"#DejaVuSans-53\"/>\n      </g>\n     </g>\n    </g>\n    <g id=\"xtick_3\">\n     <g id=\"line2d_3\">\n      <g>\n       <use style=\"stroke:#000000;stroke-width:0.8;\" x=\"142.474501\" xlink:href=\"#ma4de8fe2e4\" y=\"229.199062\"/>\n      </g>\n     </g>\n     <g id=\"text_3\">\n      <!-- 5.0 -->\n      <g transform=\"translate(132.932626 245.317187)scale(0.12 -0.12)\">\n       <use xlink:href=\"#DejaVuSans-53\"/>\n       <use x=\"63.623047\" xlink:href=\"#DejaVuSans-46\"/>\n       <use x=\"95.410156\" xlink:href=\"#DejaVuSans-48\"/>\n      </g>\n     </g>\n    </g>\n    <g id=\"xtick_4\">\n     <g id=\"line2d_4\">\n      <g>\n       <use style=\"stroke:#000000;stroke-width:0.8;\" x=\"182.522347\" xlink:href=\"#ma4de8fe2e4\" y=\"229.199062\"/>\n      </g>\n     </g>\n     <g id=\"text_4\">\n      <!-- 7.5 -->\n      <g transform=\"translate(172.980472 245.317187)scale(0.12 -0.12)\">\n       <defs>\n        <path d=\"M 8.203125 72.90625 \nL 55.078125 72.90625 \nL 55.078125 68.703125 \nL 28.609375 0 \nL 18.3125 0 \nL 43.21875 64.59375 \nL 8.203125 64.59375 \nz\n\" id=\"DejaVuSans-55\"/>\n       </defs>\n       <use xlink:href=\"#DejaVuSans-55\"/>\n       <use x=\"63.623047\" xlink:href=\"#DejaVuSans-46\"/>\n       <use x=\"95.410156\" xlink:href=\"#DejaVuSans-53\"/>\n      </g>\n     </g>\n    </g>\n    <g id=\"xtick_5\">\n     <g id=\"line2d_5\">\n      <g>\n       <use style=\"stroke:#000000;stroke-width:0.8;\" x=\"222.570194\" xlink:href=\"#ma4de8fe2e4\" y=\"229.199062\"/>\n      </g>\n     </g>\n     <g id=\"text_5\">\n      <!-- 10.0 -->\n      <g transform=\"translate(209.210819 245.317187)scale(0.12 -0.12)\">\n       <defs>\n        <path d=\"M 12.40625 8.296875 \nL 28.515625 8.296875 \nL 28.515625 63.921875 \nL 10.984375 60.40625 \nL 10.984375 69.390625 \nL 28.421875 72.90625 \nL 38.28125 72.90625 \nL 38.28125 8.296875 \nL 54.390625 8.296875 \nL 54.390625 0 \nL 12.40625 0 \nz\n\" id=\"DejaVuSans-49\"/>\n       </defs>\n       <use xlink:href=\"#DejaVuSans-49\"/>\n       <use x=\"63.623047\" xlink:href=\"#DejaVuSans-48\"/>\n       <use x=\"127.246094\" xlink:href=\"#DejaVuSans-46\"/>\n       <use x=\"159.033203\" xlink:href=\"#DejaVuSans-48\"/>\n      </g>\n     </g>\n    </g>\n    <g id=\"xtick_6\">\n     <g id=\"line2d_6\">\n      <g>\n       <use style=\"stroke:#000000;stroke-width:0.8;\" x=\"262.618041\" xlink:href=\"#ma4de8fe2e4\" y=\"229.199062\"/>\n      </g>\n     </g>\n     <g id=\"text_6\">\n      <!-- 12.5 -->\n      <g transform=\"translate(249.258666 245.317187)scale(0.12 -0.12)\">\n       <use xlink:href=\"#DejaVuSans-49\"/>\n       <use x=\"63.623047\" xlink:href=\"#DejaVuSans-50\"/>\n       <use x=\"127.246094\" xlink:href=\"#DejaVuSans-46\"/>\n       <use x=\"159.033203\" xlink:href=\"#DejaVuSans-53\"/>\n      </g>\n     </g>\n    </g>\n    <g id=\"xtick_7\">\n     <g id=\"line2d_7\">\n      <g>\n       <use style=\"stroke:#000000;stroke-width:0.8;\" x=\"302.665888\" xlink:href=\"#ma4de8fe2e4\" y=\"229.199062\"/>\n      </g>\n     </g>\n     <g id=\"text_7\">\n      <!-- 15.0 -->\n      <g transform=\"translate(289.306513 245.317187)scale(0.12 -0.12)\">\n       <use xlink:href=\"#DejaVuSans-49\"/>\n       <use x=\"63.623047\" xlink:href=\"#DejaVuSans-53\"/>\n       <use x=\"127.246094\" xlink:href=\"#DejaVuSans-46\"/>\n       <use x=\"159.033203\" xlink:href=\"#DejaVuSans-48\"/>\n      </g>\n     </g>\n    </g>\n    <g id=\"xtick_8\">\n     <g id=\"line2d_8\">\n      <g>\n       <use style=\"stroke:#000000;stroke-width:0.8;\" x=\"342.713735\" xlink:href=\"#ma4de8fe2e4\" y=\"229.199062\"/>\n      </g>\n     </g>\n     <g id=\"text_8\">\n      <!-- 17.5 -->\n      <g transform=\"translate(329.35436 245.317187)scale(0.12 -0.12)\">\n       <use xlink:href=\"#DejaVuSans-49\"/>\n       <use x=\"63.623047\" xlink:href=\"#DejaVuSans-55\"/>\n       <use x=\"127.246094\" xlink:href=\"#DejaVuSans-46\"/>\n       <use x=\"159.033203\" xlink:href=\"#DejaVuSans-53\"/>\n      </g>\n     </g>\n    </g>\n   </g>\n   <g id=\"matplotlib.axis_2\">\n    <g id=\"ytick_1\">\n     <g id=\"line2d_9\">\n      <defs>\n       <path d=\"M 0 0 \nL -3.5 0 \n\" id=\"m3a83b82508\" style=\"stroke:#000000;stroke-width:0.8;\"/>\n      </defs>\n      <g>\n       <use style=\"stroke:#000000;stroke-width:0.8;\" x=\"47.160625\" xlink:href=\"#m3a83b82508\" y=\"229.199062\"/>\n      </g>\n     </g>\n     <g id=\"text_9\">\n      <!-- −300 -->\n      <g transform=\"translate(7.2 233.758125)scale(0.12 -0.12)\">\n       <defs>\n        <path d=\"M 10.59375 35.5 \nL 73.1875 35.5 \nL 73.1875 27.203125 \nL 10.59375 27.203125 \nz\n\" id=\"DejaVuSans-8722\"/>\n        <path d=\"M 40.578125 39.3125 \nQ 47.65625 37.796875 51.625 33 \nQ 55.609375 28.21875 55.609375 21.1875 \nQ 55.609375 10.40625 48.1875 4.484375 \nQ 40.765625 -1.421875 27.09375 -1.421875 \nQ 22.515625 -1.421875 17.65625 -0.515625 \nQ 12.796875 0.390625 7.625 2.203125 \nL 7.625 11.71875 \nQ 11.71875 9.328125 16.59375 8.109375 \nQ 21.484375 6.890625 26.8125 6.890625 \nQ 36.078125 6.890625 40.9375 10.546875 \nQ 45.796875 14.203125 45.796875 21.1875 \nQ 45.796875 27.640625 41.28125 31.265625 \nQ 36.765625 34.90625 28.71875 34.90625 \nL 20.21875 34.90625 \nL 20.21875 43.015625 \nL 29.109375 43.015625 \nQ 36.375 43.015625 40.234375 45.921875 \nQ 44.09375 48.828125 44.09375 54.296875 \nQ 44.09375 59.90625 40.109375 62.90625 \nQ 36.140625 65.921875 28.71875 65.921875 \nQ 24.65625 65.921875 20.015625 65.03125 \nQ 15.375 64.15625 9.8125 62.3125 \nL 9.8125 71.09375 \nQ 15.4375 72.65625 20.34375 73.4375 \nQ 25.25 74.21875 29.59375 74.21875 \nQ 40.828125 74.21875 47.359375 69.109375 \nQ 53.90625 64.015625 53.90625 55.328125 \nQ 53.90625 49.265625 50.4375 45.09375 \nQ 46.96875 40.921875 40.578125 39.3125 \nz\n\" id=\"DejaVuSans-51\"/>\n       </defs>\n       <use xlink:href=\"#DejaVuSans-8722\"/>\n       <use x=\"83.789062\" xlink:href=\"#DejaVuSans-51\"/>\n       <use x=\"147.412109\" xlink:href=\"#DejaVuSans-48\"/>\n       <use x=\"211.035156\" xlink:href=\"#DejaVuSans-48\"/>\n      </g>\n     </g>\n    </g>\n    <g id=\"ytick_2\">\n     <g id=\"line2d_10\">\n      <g>\n       <use style=\"stroke:#000000;stroke-width:0.8;\" x=\"47.160625\" xlink:href=\"#m3a83b82508\" y=\"202.019063\"/>\n      </g>\n     </g>\n     <g id=\"text_10\">\n      <!-- −250 -->\n      <g transform=\"translate(7.2 206.578125)scale(0.12 -0.12)\">\n       <use xlink:href=\"#DejaVuSans-8722\"/>\n       <use x=\"83.789062\" xlink:href=\"#DejaVuSans-50\"/>\n       <use x=\"147.412109\" xlink:href=\"#DejaVuSans-53\"/>\n       <use x=\"211.035156\" xlink:href=\"#DejaVuSans-48\"/>\n      </g>\n     </g>\n    </g>\n    <g id=\"ytick_3\">\n     <g id=\"line2d_11\">\n      <g>\n       <use style=\"stroke:#000000;stroke-width:0.8;\" x=\"47.160625\" xlink:href=\"#m3a83b82508\" y=\"174.839063\"/>\n      </g>\n     </g>\n     <g id=\"text_11\">\n      <!-- −200 -->\n      <g transform=\"translate(7.2 179.398125)scale(0.12 -0.12)\">\n       <use xlink:href=\"#DejaVuSans-8722\"/>\n       <use x=\"83.789062\" xlink:href=\"#DejaVuSans-50\"/>\n       <use x=\"147.412109\" xlink:href=\"#DejaVuSans-48\"/>\n       <use x=\"211.035156\" xlink:href=\"#DejaVuSans-48\"/>\n      </g>\n     </g>\n    </g>\n    <g id=\"ytick_4\">\n     <g id=\"line2d_12\">\n      <g>\n       <use style=\"stroke:#000000;stroke-width:0.8;\" x=\"47.160625\" xlink:href=\"#m3a83b82508\" y=\"147.659063\"/>\n      </g>\n     </g>\n     <g id=\"text_12\">\n      <!-- −150 -->\n      <g transform=\"translate(7.2 152.218125)scale(0.12 -0.12)\">\n       <use xlink:href=\"#DejaVuSans-8722\"/>\n       <use x=\"83.789062\" xlink:href=\"#DejaVuSans-49\"/>\n       <use x=\"147.412109\" xlink:href=\"#DejaVuSans-53\"/>\n       <use x=\"211.035156\" xlink:href=\"#DejaVuSans-48\"/>\n      </g>\n     </g>\n    </g>\n    <g id=\"ytick_5\">\n     <g id=\"line2d_13\">\n      <g>\n       <use style=\"stroke:#000000;stroke-width:0.8;\" x=\"47.160625\" xlink:href=\"#m3a83b82508\" y=\"120.479063\"/>\n      </g>\n     </g>\n     <g id=\"text_13\">\n      <!-- −100 -->\n      <g transform=\"translate(7.2 125.038125)scale(0.12 -0.12)\">\n       <use xlink:href=\"#DejaVuSans-8722\"/>\n       <use x=\"83.789062\" xlink:href=\"#DejaVuSans-49\"/>\n       <use x=\"147.412109\" xlink:href=\"#DejaVuSans-48\"/>\n       <use x=\"211.035156\" xlink:href=\"#DejaVuSans-48\"/>\n      </g>\n     </g>\n    </g>\n    <g id=\"ytick_6\">\n     <g id=\"line2d_14\">\n      <g>\n       <use style=\"stroke:#000000;stroke-width:0.8;\" x=\"47.160625\" xlink:href=\"#m3a83b82508\" y=\"93.299063\"/>\n      </g>\n     </g>\n     <g id=\"text_14\">\n      <!-- −50 -->\n      <g transform=\"translate(14.835 97.858125)scale(0.12 -0.12)\">\n       <use xlink:href=\"#DejaVuSans-8722\"/>\n       <use x=\"83.789062\" xlink:href=\"#DejaVuSans-53\"/>\n       <use x=\"147.412109\" xlink:href=\"#DejaVuSans-48\"/>\n      </g>\n     </g>\n    </g>\n    <g id=\"ytick_7\">\n     <g id=\"line2d_15\">\n      <g>\n       <use style=\"stroke:#000000;stroke-width:0.8;\" x=\"47.160625\" xlink:href=\"#m3a83b82508\" y=\"66.119063\"/>\n      </g>\n     </g>\n     <g id=\"text_15\">\n      <!-- 0 -->\n      <g transform=\"translate(32.525625 70.678125)scale(0.12 -0.12)\">\n       <use xlink:href=\"#DejaVuSans-48\"/>\n      </g>\n     </g>\n    </g>\n    <g id=\"ytick_8\">\n     <g id=\"line2d_16\">\n      <g>\n       <use style=\"stroke:#000000;stroke-width:0.8;\" x=\"47.160625\" xlink:href=\"#m3a83b82508\" y=\"38.939063\"/>\n      </g>\n     </g>\n     <g id=\"text_16\">\n      <!-- 50 -->\n      <g transform=\"translate(24.890625 43.498125)scale(0.12 -0.12)\">\n       <use xlink:href=\"#DejaVuSans-53\"/>\n       <use x=\"63.623047\" xlink:href=\"#DejaVuSans-48\"/>\n      </g>\n     </g>\n    </g>\n    <g id=\"ytick_9\">\n     <g id=\"line2d_17\">\n      <g>\n       <use style=\"stroke:#000000;stroke-width:0.8;\" x=\"47.160625\" xlink:href=\"#m3a83b82508\" y=\"11.759063\"/>\n      </g>\n     </g>\n     <g id=\"text_17\">\n      <!-- 100 -->\n      <g transform=\"translate(17.255625 16.318125)scale(0.12 -0.12)\">\n       <use xlink:href=\"#DejaVuSans-49\"/>\n       <use x=\"63.623047\" xlink:href=\"#DejaVuSans-48\"/>\n       <use x=\"127.246094\" xlink:href=\"#DejaVuSans-48\"/>\n      </g>\n     </g>\n    </g>\n   </g>\n   <g id=\"patch_3\">\n    <path d=\"M 47.160625 229.199062 \nL 47.160625 11.759063 \n\" style=\"fill:none;stroke:#000000;stroke-linecap:square;stroke-linejoin:miter;stroke-width:0.8;\"/>\n   </g>\n   <g id=\"patch_4\">\n    <path d=\"M 381.960625 229.199062 \nL 381.960625 11.759063 \n\" style=\"fill:none;stroke:#000000;stroke-linecap:square;stroke-linejoin:miter;stroke-width:0.8;\"/>\n   </g>\n   <g id=\"patch_5\">\n    <path d=\"M 47.160625 229.199062 \nL 381.960625 229.199062 \n\" style=\"fill:none;stroke:#000000;stroke-linecap:square;stroke-linejoin:miter;stroke-width:0.8;\"/>\n   </g>\n   <g id=\"patch_6\">\n    <path d=\"M 47.160625 11.759062 \nL 381.960625 11.759062 \n\" style=\"fill:none;stroke:#000000;stroke-linecap:square;stroke-linejoin:miter;stroke-width:0.8;\"/>\n   </g>\n  </g>\n </g>\n <defs>\n  <clipPath id=\"pb355a8d178\">\n   <rect height=\"217.44\" width=\"334.8\" x=\"47.160625\" y=\"11.759062\"/>\n  </clipPath>\n </defs>\n</svg>\n",
      "image/png": "[encoded data removed]"
     },
     "metadata": {
      "needs_background": "light"
     }
    }
   ],
   "source": [
    "show_preds(preds)"
   ]
  },
  {
   "cell_type": "markdown",
   "metadata": {},
   "source": [
    "We need to repeat this a few times, so we'll create a function to apply one step:"
   ]
  },
  {
   "cell_type": "code",
   "execution_count": 99,
   "metadata": {},
   "outputs": [],
   "source": [
    "def apply_step(params, prn=True):\n",
    "    preds = f(time, params)\n",
    "    loss = mse(preds, speed)\n",
    "    loss.backward()\n",
    "    params.data -= lr * params.grad.data\n",
    "    params.grad = None\n",
    "    if prn: print(loss.item())\n",
    "    return preds"
   ]
  },
  {
   "cell_type": "markdown",
   "metadata": {},
   "source": [
    "#### Step 6: Repeat the process "
   ]
  },
  {
   "cell_type": "markdown",
   "metadata": {},
   "source": [
    "Now we iterate. By looping and performing many improvements, we hope to reach a good result:"
   ]
  },
  {
   "cell_type": "code",
   "execution_count": 100,
   "metadata": {
    "tags": []
   },
   "outputs": [
    {
     "output_type": "stream",
     "name": "stdout",
     "text": "5435.53662109375\n1577.4495849609375\n847.3779296875\n709.22265625\n683.0757446289062\n678.12451171875\n677.1839599609375\n677.0025024414062\n676.96435546875\n676.9537353515625\n"
    }
   ],
   "source": [
    "for i in range(10): apply_step(params)"
   ]
  },
  {
   "cell_type": "code",
   "execution_count": 101,
   "metadata": {},
   "outputs": [],
   "source": [
    "#hide\n",
    "params = orig_params.detach().requires_grad_()"
   ]
  },
  {
   "cell_type": "markdown",
   "metadata": {},
   "source": [
    "The loss is going down, just as we hoped! But looking only at these loss numbers disguises the fact that each iteration represents an entirely different quadratic function being tried, on the way to finding the best possible quadratic function. We can see this process visually if, instead of printing out the loss function, we plot the function at every step. Then we can see how the shape is approaching the best possible quadratic function for our data:"
   ]
  },
  {
   "cell_type": "code",
   "execution_count": 102,
   "metadata": {},
   "outputs": [
    {
     "output_type": "display_data",
     "data": {
      "text/plain": "<Figure size 864x216 with 4 Axes>",
      "image/svg+xml": "<?xml version=\"1.0\" encoding=\"utf-8\" standalone=\"no\"?>\n<!DOCTYPE svg PUBLIC \"-//W3C//DTD SVG 1.1//EN\"\n  \"http://www.w3.org/Graphics/SVG/1.1/DTD/svg11.dtd\">\n<!-- Created with matplotlib (https://matplotlib.org/) -->\n<svg height=\"202.652812pt\" version=\"1.1\" viewBox=\"0 0 852.815625 202.652812\" width=\"852.815625pt\" xmlns=\"http://www.w3.org/2000/svg\" xmlns:xlink=\"http://www.w3.org/1999/xlink\">\n <metadata>\n  <rdf:RDF xmlns:cc=\"http://creativecommons.org/ns#\" xmlns:dc=\"http://purl.org/dc/elements/1.1/\" xmlns:rdf=\"http://www.w3.org/1999/02/22-rdf-syntax-ns#\">\n   <cc:Work>\n    <dc:type rdf:resource=\"http://purl.org/dc/dcmitype/StillImage\"/>\n    <dc:date>2020-09-28T06:50:51.200255</dc:date>\n    <dc:format>image/svg+xml</dc:format>\n    <dc:creator>\n     <cc:Agent>\n      <dc:title>Matplotlib v3.3.2, https://matplotlib.org/</dc:title>\n     </cc:Agent>\n    </dc:creator>\n   </cc:Work>\n  </rdf:RDF>\n </metadata>\n <defs>\n  <style type=\"text/css\">*{stroke-linecap:butt;stroke-linejoin:round;}</style>\n </defs>\n <g id=\"figure_1\">\n  <g id=\"patch_1\">\n   <path d=\"M 0 202.652812 \nL 852.815625 202.652812 \nL 852.815625 0 \nL 0 0 \nz\n\" style=\"fill:none;\"/>\n  </g>\n  <g id=\"axes_1\">\n   <g id=\"patch_2\">\n    <path d=\"M 47.160625 176.839062 \nL 207.335625 176.839062 \nL 207.335625 11.759062 \nL 47.160625 11.759062 \nz\n\" style=\"fill:#ffffff;\"/>\n   </g>\n   <g id=\"PathCollection_1\">\n    <defs>\n     <path d=\"M 0 3 \nC 0.795609 3 1.55874 2.683901 2.12132 2.12132 \nC 2.683901 1.55874 3 0.795609 3 0 \nC 3 -0.795609 2.683901 -1.55874 2.12132 -2.12132 \nC 1.55874 -2.683901 0.795609 -3 0 -3 \nC -0.795609 -3 -1.55874 -2.683901 -2.12132 -2.12132 \nC -2.683901 -1.55874 -3 -0.795609 -3 0 \nC -3 0.795609 -2.683901 1.55874 -2.12132 2.12132 \nC -1.55874 2.683901 -0.795609 3 0 3 \nz\n\" id=\"m89f33feee4\" style=\"stroke:#1f77b4;\"/>\n    </defs>\n    <g clip-path=\"url(#p0b62d9d8b1)\">\n     <use style=\"fill:#1f77b4;stroke:#1f77b4;\" x=\"54.441307\" xlink:href=\"#m89f33feee4\" y=\"22.296017\"/>\n     <use style=\"fill:#1f77b4;stroke:#1f77b4;\" x=\"62.105182\" xlink:href=\"#m89f33feee4\" y=\"28.411775\"/>\n     <use style=\"fill:#1f77b4;stroke:#1f77b4;\" x=\"69.769058\" xlink:href=\"#m89f33feee4\" y=\"34.090403\"/>\n     <use style=\"fill:#1f77b4;stroke:#1f77b4;\" x=\"77.432934\" xlink:href=\"#m89f33feee4\" y=\"42.145777\"/>\n     <use style=\"fill:#1f77b4;stroke:#1f77b4;\" x=\"85.096809\" xlink:href=\"#m89f33feee4\" y=\"44.191873\"/>\n     <use style=\"fill:#1f77b4;stroke:#1f77b4;\" x=\"92.760685\" xlink:href=\"#m89f33feee4\" y=\"45.013416\"/>\n     <use style=\"fill:#1f77b4;stroke:#1f77b4;\" x=\"100.42456\" xlink:href=\"#m89f33feee4\" y=\"47.83321\"/>\n     <use style=\"fill:#1f77b4;stroke:#1f77b4;\" x=\"108.088436\" xlink:href=\"#m89f33feee4\" y=\"48.601055\"/>\n     <use style=\"fill:#1f77b4;stroke:#1f77b4;\" x=\"115.752312\" xlink:href=\"#m89f33feee4\" y=\"51.479341\"/>\n     <use style=\"fill:#1f77b4;stroke:#1f77b4;\" x=\"123.416187\" xlink:href=\"#m89f33feee4\" y=\"53.389089\"/>\n     <use style=\"fill:#1f77b4;stroke:#1f77b4;\" x=\"131.080063\" xlink:href=\"#m89f33feee4\" y=\"53.149806\"/>\n     <use style=\"fill:#1f77b4;stroke:#1f77b4;\" x=\"138.743938\" xlink:href=\"#m89f33feee4\" y=\"51.620945\"/>\n     <use style=\"fill:#1f77b4;stroke:#1f77b4;\" x=\"146.407814\" xlink:href=\"#m89f33feee4\" y=\"50.968605\"/>\n     <use style=\"fill:#1f77b4;stroke:#1f77b4;\" x=\"154.07169\" xlink:href=\"#m89f33feee4\" y=\"48.772979\"/>\n     <use style=\"fill:#1f77b4;stroke:#1f77b4;\" x=\"161.735565\" xlink:href=\"#m89f33feee4\" y=\"46.659956\"/>\n     <use style=\"fill:#1f77b4;stroke:#1f77b4;\" x=\"169.399441\" xlink:href=\"#m89f33feee4\" y=\"42.188641\"/>\n     <use style=\"fill:#1f77b4;stroke:#1f77b4;\" x=\"177.063316\" xlink:href=\"#m89f33feee4\" y=\"39.922404\"/>\n     <use style=\"fill:#1f77b4;stroke:#1f77b4;\" x=\"184.727192\" xlink:href=\"#m89f33feee4\" y=\"35.69551\"/>\n     <use style=\"fill:#1f77b4;stroke:#1f77b4;\" x=\"192.391068\" xlink:href=\"#m89f33feee4\" y=\"29.25848\"/>\n     <use style=\"fill:#1f77b4;stroke:#1f77b4;\" x=\"200.054943\" xlink:href=\"#m89f33feee4\" y=\"25.451328\"/>\n    </g>\n   </g>\n   <g id=\"PathCollection_2\">\n    <defs>\n     <path d=\"M 0 3 \nC 0.795609 3 1.55874 2.683901 2.12132 2.12132 \nC 2.683901 1.55874 3 0.795609 3 0 \nC 3 -0.795609 2.683901 -1.55874 2.12132 -2.12132 \nC 1.55874 -2.683901 0.795609 -3 0 -3 \nC -0.795609 -3 -1.55874 -2.683901 -2.12132 -2.12132 \nC -2.683901 -1.55874 -3 -0.795609 -3 0 \nC -3 0.795609 -2.683901 1.55874 -2.12132 2.12132 \nC -1.55874 2.683901 -0.795609 3 0 3 \nz\n\" id=\"mf70ba94a4a\" style=\"stroke:#ff0000;\"/>\n    </defs>\n    <g clip-path=\"url(#p0b62d9d8b1)\">\n     <use style=\"fill:#ff0000;stroke:#ff0000;\" x=\"54.441307\" xlink:href=\"#mf70ba94a4a\" y=\"52.470866\"/>\n     <use style=\"fill:#ff0000;stroke:#ff0000;\" x=\"62.105182\" xlink:href=\"#mf70ba94a4a\" y=\"53.096709\"/>\n     <use style=\"fill:#ff0000;stroke:#ff0000;\" x=\"69.769058\" xlink:href=\"#mf70ba94a4a\" y=\"54.354676\"/>\n     <use style=\"fill:#ff0000;stroke:#ff0000;\" x=\"77.432934\" xlink:href=\"#mf70ba94a4a\" y=\"56.244766\"/>\n     <use style=\"fill:#ff0000;stroke:#ff0000;\" x=\"85.096809\" xlink:href=\"#mf70ba94a4a\" y=\"58.766979\"/>\n     <use style=\"fill:#ff0000;stroke:#ff0000;\" x=\"92.760685\" xlink:href=\"#mf70ba94a4a\" y=\"61.921315\"/>\n     <use style=\"fill:#ff0000;stroke:#ff0000;\" x=\"100.42456\" xlink:href=\"#mf70ba94a4a\" y=\"65.707775\"/>\n     <use style=\"fill:#ff0000;stroke:#ff0000;\" x=\"108.088436\" xlink:href=\"#mf70ba94a4a\" y=\"70.126358\"/>\n     <use style=\"fill:#ff0000;stroke:#ff0000;\" x=\"115.752312\" xlink:href=\"#mf70ba94a4a\" y=\"75.177063\"/>\n     <use style=\"fill:#ff0000;stroke:#ff0000;\" x=\"123.416187\" xlink:href=\"#mf70ba94a4a\" y=\"80.859892\"/>\n     <use style=\"fill:#ff0000;stroke:#ff0000;\" x=\"131.080063\" xlink:href=\"#mf70ba94a4a\" y=\"87.174846\"/>\n     <use style=\"fill:#ff0000;stroke:#ff0000;\" x=\"138.743938\" xlink:href=\"#mf70ba94a4a\" y=\"94.121919\"/>\n     <use style=\"fill:#ff0000;stroke:#ff0000;\" x=\"146.407814\" xlink:href=\"#mf70ba94a4a\" y=\"101.701119\"/>\n     <use style=\"fill:#ff0000;stroke:#ff0000;\" x=\"154.07169\" xlink:href=\"#mf70ba94a4a\" y=\"109.912436\"/>\n     <use style=\"fill:#ff0000;stroke:#ff0000;\" x=\"161.735565\" xlink:href=\"#mf70ba94a4a\" y=\"118.755883\"/>\n     <use style=\"fill:#ff0000;stroke:#ff0000;\" x=\"169.399441\" xlink:href=\"#mf70ba94a4a\" y=\"128.231452\"/>\n     <use style=\"fill:#ff0000;stroke:#ff0000;\" x=\"177.063316\" xlink:href=\"#mf70ba94a4a\" y=\"138.339145\"/>\n     <use style=\"fill:#ff0000;stroke:#ff0000;\" x=\"184.727192\" xlink:href=\"#mf70ba94a4a\" y=\"149.078955\"/>\n     <use style=\"fill:#ff0000;stroke:#ff0000;\" x=\"192.391068\" xlink:href=\"#mf70ba94a4a\" y=\"160.4509\"/>\n     <use style=\"fill:#ff0000;stroke:#ff0000;\" x=\"200.054943\" xlink:href=\"#mf70ba94a4a\" y=\"172.454956\"/>\n    </g>\n   </g>\n   <g id=\"matplotlib.axis_1\">\n    <g id=\"xtick_1\">\n     <g id=\"line2d_1\">\n      <defs>\n       <path d=\"M 0 0 \nL 0 3.5 \n\" id=\"m603d38349e\" style=\"stroke:#000000;stroke-width:0.8;\"/>\n      </defs>\n      <g>\n       <use style=\"stroke:#000000;stroke-width:0.8;\" x=\"54.441307\" xlink:href=\"#m603d38349e\" y=\"176.839062\"/>\n      </g>\n     </g>\n     <g id=\"text_1\">\n      <!-- 0 -->\n      <g transform=\"translate(50.623807 192.957187)scale(0.12 -0.12)\">\n       <defs>\n        <path d=\"M 31.78125 66.40625 \nQ 24.171875 66.40625 20.328125 58.90625 \nQ 16.5 51.421875 16.5 36.375 \nQ 16.5 21.390625 20.328125 13.890625 \nQ 24.171875 6.390625 31.78125 6.390625 \nQ 39.453125 6.390625 43.28125 13.890625 \nQ 47.125 21.390625 47.125 36.375 \nQ 47.125 51.421875 43.28125 58.90625 \nQ 39.453125 66.40625 31.78125 66.40625 \nz\nM 31.78125 74.21875 \nQ 44.046875 74.21875 50.515625 64.515625 \nQ 56.984375 54.828125 56.984375 36.375 \nQ 56.984375 17.96875 50.515625 8.265625 \nQ 44.046875 -1.421875 31.78125 -1.421875 \nQ 19.53125 -1.421875 13.0625 8.265625 \nQ 6.59375 17.96875 6.59375 36.375 \nQ 6.59375 54.828125 13.0625 64.515625 \nQ 19.53125 74.21875 31.78125 74.21875 \nz\n\" id=\"DejaVuSans-48\"/>\n       </defs>\n       <use xlink:href=\"#DejaVuSans-48\"/>\n      </g>\n     </g>\n    </g>\n    <g id=\"xtick_2\">\n     <g id=\"line2d_2\">\n      <g>\n       <use style=\"stroke:#000000;stroke-width:0.8;\" x=\"131.080063\" xlink:href=\"#m603d38349e\" y=\"176.839062\"/>\n      </g>\n     </g>\n     <g id=\"text_2\">\n      <!-- 10 -->\n      <g transform=\"translate(123.445063 192.957187)scale(0.12 -0.12)\">\n       <defs>\n        <path d=\"M 12.40625 8.296875 \nL 28.515625 8.296875 \nL 28.515625 63.921875 \nL 10.984375 60.40625 \nL 10.984375 69.390625 \nL 28.421875 72.90625 \nL 38.28125 72.90625 \nL 38.28125 8.296875 \nL 54.390625 8.296875 \nL 54.390625 0 \nL 12.40625 0 \nz\n\" id=\"DejaVuSans-49\"/>\n       </defs>\n       <use xlink:href=\"#DejaVuSans-49\"/>\n       <use x=\"63.623047\" xlink:href=\"#DejaVuSans-48\"/>\n      </g>\n     </g>\n    </g>\n   </g>\n   <g id=\"matplotlib.axis_2\">\n    <g id=\"ytick_1\">\n     <g id=\"line2d_3\">\n      <defs>\n       <path d=\"M 0 0 \nL -3.5 0 \n\" id=\"m1f44d63725\" style=\"stroke:#000000;stroke-width:0.8;\"/>\n      </defs>\n      <g>\n       <use style=\"stroke:#000000;stroke-width:0.8;\" x=\"47.160625\" xlink:href=\"#m1f44d63725\" y=\"176.839062\"/>\n      </g>\n     </g>\n     <g id=\"text_3\">\n      <!-- −300 -->\n      <g transform=\"translate(7.2 181.398125)scale(0.12 -0.12)\">\n       <defs>\n        <path d=\"M 10.59375 35.5 \nL 73.1875 35.5 \nL 73.1875 27.203125 \nL 10.59375 27.203125 \nz\n\" id=\"DejaVuSans-8722\"/>\n        <path d=\"M 40.578125 39.3125 \nQ 47.65625 37.796875 51.625 33 \nQ 55.609375 28.21875 55.609375 21.1875 \nQ 55.609375 10.40625 48.1875 4.484375 \nQ 40.765625 -1.421875 27.09375 -1.421875 \nQ 22.515625 -1.421875 17.65625 -0.515625 \nQ 12.796875 0.390625 7.625 2.203125 \nL 7.625 11.71875 \nQ 11.71875 9.328125 16.59375 8.109375 \nQ 21.484375 6.890625 26.8125 6.890625 \nQ 36.078125 6.890625 40.9375 10.546875 \nQ 45.796875 14.203125 45.796875 21.1875 \nQ 45.796875 27.640625 41.28125 31.265625 \nQ 36.765625 34.90625 28.71875 34.90625 \nL 20.21875 34.90625 \nL 20.21875 43.015625 \nL 29.109375 43.015625 \nQ 36.375 43.015625 40.234375 45.921875 \nQ 44.09375 48.828125 44.09375 54.296875 \nQ 44.09375 59.90625 40.109375 62.90625 \nQ 36.140625 65.921875 28.71875 65.921875 \nQ 24.65625 65.921875 20.015625 65.03125 \nQ 15.375 64.15625 9.8125 62.3125 \nL 9.8125 71.09375 \nQ 15.4375 72.65625 20.34375 73.4375 \nQ 25.25 74.21875 29.59375 74.21875 \nQ 40.828125 74.21875 47.359375 69.109375 \nQ 53.90625 64.015625 53.90625 55.328125 \nQ 53.90625 49.265625 50.4375 45.09375 \nQ 46.96875 40.921875 40.578125 39.3125 \nz\n\" id=\"DejaVuSans-51\"/>\n       </defs>\n       <use xlink:href=\"#DejaVuSans-8722\"/>\n       <use x=\"83.789062\" xlink:href=\"#DejaVuSans-51\"/>\n       <use x=\"147.412109\" xlink:href=\"#DejaVuSans-48\"/>\n       <use x=\"211.035156\" xlink:href=\"#DejaVuSans-48\"/>\n      </g>\n     </g>\n    </g>\n    <g id=\"ytick_2\">\n     <g id=\"line2d_4\">\n      <g>\n       <use style=\"stroke:#000000;stroke-width:0.8;\" x=\"47.160625\" xlink:href=\"#m1f44d63725\" y=\"135.569062\"/>\n      </g>\n     </g>\n     <g id=\"text_4\">\n      <!-- −200 -->\n      <g transform=\"translate(7.2 140.128125)scale(0.12 -0.12)\">\n       <defs>\n        <path d=\"M 19.1875 8.296875 \nL 53.609375 8.296875 \nL 53.609375 0 \nL 7.328125 0 \nL 7.328125 8.296875 \nQ 12.9375 14.109375 22.625 23.890625 \nQ 32.328125 33.6875 34.8125 36.53125 \nQ 39.546875 41.84375 41.421875 45.53125 \nQ 43.3125 49.21875 43.3125 52.78125 \nQ 43.3125 58.59375 39.234375 62.25 \nQ 35.15625 65.921875 28.609375 65.921875 \nQ 23.96875 65.921875 18.8125 64.3125 \nQ 13.671875 62.703125 7.8125 59.421875 \nL 7.8125 69.390625 \nQ 13.765625 71.78125 18.9375 73 \nQ 24.125 74.21875 28.421875 74.21875 \nQ 39.75 74.21875 46.484375 68.546875 \nQ 53.21875 62.890625 53.21875 53.421875 \nQ 53.21875 48.921875 51.53125 44.890625 \nQ 49.859375 40.875 45.40625 35.40625 \nQ 44.1875 33.984375 37.640625 27.21875 \nQ 31.109375 20.453125 19.1875 8.296875 \nz\n\" id=\"DejaVuSans-50\"/>\n       </defs>\n       <use xlink:href=\"#DejaVuSans-8722\"/>\n       <use x=\"83.789062\" xlink:href=\"#DejaVuSans-50\"/>\n       <use x=\"147.412109\" xlink:href=\"#DejaVuSans-48\"/>\n       <use x=\"211.035156\" xlink:href=\"#DejaVuSans-48\"/>\n      </g>\n     </g>\n    </g>\n    <g id=\"ytick_3\">\n     <g id=\"line2d_5\">\n      <g>\n       <use style=\"stroke:#000000;stroke-width:0.8;\" x=\"47.160625\" xlink:href=\"#m1f44d63725\" y=\"94.299062\"/>\n      </g>\n     </g>\n     <g id=\"text_5\">\n      <!-- −100 -->\n      <g transform=\"translate(7.2 98.858125)scale(0.12 -0.12)\">\n       <use xlink:href=\"#DejaVuSans-8722\"/>\n       <use x=\"83.789062\" xlink:href=\"#DejaVuSans-49\"/>\n       <use x=\"147.412109\" xlink:href=\"#DejaVuSans-48\"/>\n       <use x=\"211.035156\" xlink:href=\"#DejaVuSans-48\"/>\n      </g>\n     </g>\n    </g>\n    <g id=\"ytick_4\">\n     <g id=\"line2d_6\">\n      <g>\n       <use style=\"stroke:#000000;stroke-width:0.8;\" x=\"47.160625\" xlink:href=\"#m1f44d63725\" y=\"53.029062\"/>\n      </g>\n     </g>\n     <g id=\"text_6\">\n      <!-- 0 -->\n      <g transform=\"translate(32.525625 57.588125)scale(0.12 -0.12)\">\n       <use xlink:href=\"#DejaVuSans-48\"/>\n      </g>\n     </g>\n    </g>\n    <g id=\"ytick_5\">\n     <g id=\"line2d_7\">\n      <g>\n       <use style=\"stroke:#000000;stroke-width:0.8;\" x=\"47.160625\" xlink:href=\"#m1f44d63725\" y=\"11.759062\"/>\n      </g>\n     </g>\n     <g id=\"text_7\">\n      <!-- 100 -->\n      <g transform=\"translate(17.255625 16.318125)scale(0.12 -0.12)\">\n       <use xlink:href=\"#DejaVuSans-49\"/>\n       <use x=\"63.623047\" xlink:href=\"#DejaVuSans-48\"/>\n       <use x=\"127.246094\" xlink:href=\"#DejaVuSans-48\"/>\n      </g>\n     </g>\n    </g>\n   </g>\n   <g id=\"patch_3\">\n    <path d=\"M 47.160625 176.839062 \nL 47.160625 11.759062 \n\" style=\"fill:none;stroke:#000000;stroke-linecap:square;stroke-linejoin:miter;stroke-width:0.8;\"/>\n   </g>\n   <g id=\"patch_4\">\n    <path d=\"M 207.335625 176.839062 \nL 207.335625 11.759062 \n\" style=\"fill:none;stroke:#000000;stroke-linecap:square;stroke-linejoin:miter;stroke-width:0.8;\"/>\n   </g>\n   <g id=\"patch_5\">\n    <path d=\"M 47.160625 176.839062 \nL 207.335625 176.839062 \n\" style=\"fill:none;stroke:#000000;stroke-linecap:square;stroke-linejoin:miter;stroke-width:0.8;\"/>\n   </g>\n   <g id=\"patch_6\">\n    <path d=\"M 47.160625 11.759062 \nL 207.335625 11.759062 \n\" style=\"fill:none;stroke:#000000;stroke-linecap:square;stroke-linejoin:miter;stroke-width:0.8;\"/>\n   </g>\n  </g>\n  <g id=\"axes_2\">\n   <g id=\"patch_7\">\n    <path d=\"M 259.920625 176.839062 \nL 420.095625 176.839062 \nL 420.095625 11.759062 \nL 259.920625 11.759062 \nz\n\" style=\"fill:#ffffff;\"/>\n   </g>\n   <g id=\"PathCollection_3\">\n    <g clip-path=\"url(#p349f6a7389)\">\n     <use style=\"fill:#1f77b4;stroke:#1f77b4;\" x=\"267.201307\" xlink:href=\"#m89f33feee4\" y=\"22.296017\"/>\n     <use style=\"fill:#1f77b4;stroke:#1f77b4;\" x=\"274.865182\" xlink:href=\"#m89f33feee4\" y=\"28.411775\"/>\n     <use style=\"fill:#1f77b4;stroke:#1f77b4;\" x=\"282.529058\" xlink:href=\"#m89f33feee4\" y=\"34.090403\"/>\n     <use style=\"fill:#1f77b4;stroke:#1f77b4;\" x=\"290.192934\" xlink:href=\"#m89f33feee4\" y=\"42.145777\"/>\n     <use style=\"fill:#1f77b4;stroke:#1f77b4;\" x=\"297.856809\" xlink:href=\"#m89f33feee4\" y=\"44.191873\"/>\n     <use style=\"fill:#1f77b4;stroke:#1f77b4;\" x=\"305.520685\" xlink:href=\"#m89f33feee4\" y=\"45.013416\"/>\n     <use style=\"fill:#1f77b4;stroke:#1f77b4;\" x=\"313.18456\" xlink:href=\"#m89f33feee4\" y=\"47.83321\"/>\n     <use style=\"fill:#1f77b4;stroke:#1f77b4;\" x=\"320.848436\" xlink:href=\"#m89f33feee4\" y=\"48.601055\"/>\n     <use style=\"fill:#1f77b4;stroke:#1f77b4;\" x=\"328.512312\" xlink:href=\"#m89f33feee4\" y=\"51.479341\"/>\n     <use style=\"fill:#1f77b4;stroke:#1f77b4;\" x=\"336.176187\" xlink:href=\"#m89f33feee4\" y=\"53.389089\"/>\n     <use style=\"fill:#1f77b4;stroke:#1f77b4;\" x=\"343.840063\" xlink:href=\"#m89f33feee4\" y=\"53.149806\"/>\n     <use style=\"fill:#1f77b4;stroke:#1f77b4;\" x=\"351.503938\" xlink:href=\"#m89f33feee4\" y=\"51.620945\"/>\n     <use style=\"fill:#1f77b4;stroke:#1f77b4;\" x=\"359.167814\" xlink:href=\"#m89f33feee4\" y=\"50.968605\"/>\n     <use style=\"fill:#1f77b4;stroke:#1f77b4;\" x=\"366.83169\" xlink:href=\"#m89f33feee4\" y=\"48.772979\"/>\n     <use style=\"fill:#1f77b4;stroke:#1f77b4;\" x=\"374.495565\" xlink:href=\"#m89f33feee4\" y=\"46.659956\"/>\n     <use style=\"fill:#1f77b4;stroke:#1f77b4;\" x=\"382.159441\" xlink:href=\"#m89f33feee4\" y=\"42.188641\"/>\n     <use style=\"fill:#1f77b4;stroke:#1f77b4;\" x=\"389.823316\" xlink:href=\"#m89f33feee4\" y=\"39.922404\"/>\n     <use style=\"fill:#1f77b4;stroke:#1f77b4;\" x=\"397.487192\" xlink:href=\"#m89f33feee4\" y=\"35.69551\"/>\n     <use style=\"fill:#1f77b4;stroke:#1f77b4;\" x=\"405.151068\" xlink:href=\"#m89f33feee4\" y=\"29.25848\"/>\n     <use style=\"fill:#1f77b4;stroke:#1f77b4;\" x=\"412.814943\" xlink:href=\"#m89f33feee4\" y=\"25.451328\"/>\n    </g>\n   </g>\n   <g id=\"PathCollection_4\">\n    <g clip-path=\"url(#p349f6a7389)\">\n     <use style=\"fill:#ff0000;stroke:#ff0000;\" x=\"267.201307\" xlink:href=\"#mf70ba94a4a\" y=\"52.469818\"/>\n     <use style=\"fill:#ff0000;stroke:#ff0000;\" x=\"274.865182\" xlink:href=\"#mf70ba94a4a\" y=\"52.862009\"/>\n     <use style=\"fill:#ff0000;stroke:#ff0000;\" x=\"282.529058\" xlink:href=\"#mf70ba94a4a\" y=\"53.447245\"/>\n     <use style=\"fill:#ff0000;stroke:#ff0000;\" x=\"290.192934\" xlink:href=\"#mf70ba94a4a\" y=\"54.225525\"/>\n     <use style=\"fill:#ff0000;stroke:#ff0000;\" x=\"297.856809\" xlink:href=\"#mf70ba94a4a\" y=\"55.19685\"/>\n     <use style=\"fill:#ff0000;stroke:#ff0000;\" x=\"305.520685\" xlink:href=\"#mf70ba94a4a\" y=\"56.361219\"/>\n     <use style=\"fill:#ff0000;stroke:#ff0000;\" x=\"313.18456\" xlink:href=\"#mf70ba94a4a\" y=\"57.718633\"/>\n     <use style=\"fill:#ff0000;stroke:#ff0000;\" x=\"320.848436\" xlink:href=\"#mf70ba94a4a\" y=\"59.269091\"/>\n     <use style=\"fill:#ff0000;stroke:#ff0000;\" x=\"328.512312\" xlink:href=\"#mf70ba94a4a\" y=\"61.012594\"/>\n     <use style=\"fill:#ff0000;stroke:#ff0000;\" x=\"336.176187\" xlink:href=\"#mf70ba94a4a\" y=\"62.949141\"/>\n     <use style=\"fill:#ff0000;stroke:#ff0000;\" x=\"343.840063\" xlink:href=\"#mf70ba94a4a\" y=\"65.078734\"/>\n     <use style=\"fill:#ff0000;stroke:#ff0000;\" x=\"351.503938\" xlink:href=\"#mf70ba94a4a\" y=\"67.40137\"/>\n     <use style=\"fill:#ff0000;stroke:#ff0000;\" x=\"359.167814\" xlink:href=\"#mf70ba94a4a\" y=\"69.917053\"/>\n     <use style=\"fill:#ff0000;stroke:#ff0000;\" x=\"366.83169\" xlink:href=\"#mf70ba94a4a\" y=\"72.625777\"/>\n     <use style=\"fill:#ff0000;stroke:#ff0000;\" x=\"374.495565\" xlink:href=\"#mf70ba94a4a\" y=\"75.527549\"/>\n     <use style=\"fill:#ff0000;stroke:#ff0000;\" x=\"382.159441\" xlink:href=\"#mf70ba94a4a\" y=\"78.622363\"/>\n     <use style=\"fill:#ff0000;stroke:#ff0000;\" x=\"389.823316\" xlink:href=\"#mf70ba94a4a\" y=\"81.910222\"/>\n     <use style=\"fill:#ff0000;stroke:#ff0000;\" x=\"397.487192\" xlink:href=\"#mf70ba94a4a\" y=\"85.391129\"/>\n     <use style=\"fill:#ff0000;stroke:#ff0000;\" x=\"405.151068\" xlink:href=\"#mf70ba94a4a\" y=\"89.065075\"/>\n     <use style=\"fill:#ff0000;stroke:#ff0000;\" x=\"412.814943\" xlink:href=\"#mf70ba94a4a\" y=\"92.932069\"/>\n    </g>\n   </g>\n   <g id=\"matplotlib.axis_3\">\n    <g id=\"xtick_3\">\n     <g id=\"line2d_8\">\n      <g>\n       <use style=\"stroke:#000000;stroke-width:0.8;\" x=\"267.201307\" xlink:href=\"#m603d38349e\" y=\"176.839062\"/>\n      </g>\n     </g>\n     <g id=\"text_8\">\n      <!-- 0 -->\n      <g transform=\"translate(263.383807 192.957187)scale(0.12 -0.12)\">\n       <use xlink:href=\"#DejaVuSans-48\"/>\n      </g>\n     </g>\n    </g>\n    <g id=\"xtick_4\">\n     <g id=\"line2d_9\">\n      <g>\n       <use style=\"stroke:#000000;stroke-width:0.8;\" x=\"343.840063\" xlink:href=\"#m603d38349e\" y=\"176.839062\"/>\n      </g>\n     </g>\n     <g id=\"text_9\">\n      <!-- 10 -->\n      <g transform=\"translate(336.205063 192.957187)scale(0.12 -0.12)\">\n       <use xlink:href=\"#DejaVuSans-49\"/>\n       <use x=\"63.623047\" xlink:href=\"#DejaVuSans-48\"/>\n      </g>\n     </g>\n    </g>\n   </g>\n   <g id=\"matplotlib.axis_4\">\n    <g id=\"ytick_6\">\n     <g id=\"line2d_10\">\n      <g>\n       <use style=\"stroke:#000000;stroke-width:0.8;\" x=\"259.920625\" xlink:href=\"#m1f44d63725\" y=\"176.839062\"/>\n      </g>\n     </g>\n     <g id=\"text_10\">\n      <!-- −300 -->\n      <g transform=\"translate(219.96 181.398125)scale(0.12 -0.12)\">\n       <use xlink:href=\"#DejaVuSans-8722\"/>\n       <use x=\"83.789062\" xlink:href=\"#DejaVuSans-51\"/>\n       <use x=\"147.412109\" xlink:href=\"#DejaVuSans-48\"/>\n       <use x=\"211.035156\" xlink:href=\"#DejaVuSans-48\"/>\n      </g>\n     </g>\n    </g>\n    <g id=\"ytick_7\">\n     <g id=\"line2d_11\">\n      <g>\n       <use style=\"stroke:#000000;stroke-width:0.8;\" x=\"259.920625\" xlink:href=\"#m1f44d63725\" y=\"135.569062\"/>\n      </g>\n     </g>\n     <g id=\"text_11\">\n      <!-- −200 -->\n      <g transform=\"translate(219.96 140.128125)scale(0.12 -0.12)\">\n       <use xlink:href=\"#DejaVuSans-8722\"/>\n       <use x=\"83.789062\" xlink:href=\"#DejaVuSans-50\"/>\n       <use x=\"147.412109\" xlink:href=\"#DejaVuSans-48\"/>\n       <use x=\"211.035156\" xlink:href=\"#DejaVuSans-48\"/>\n      </g>\n     </g>\n    </g>\n    <g id=\"ytick_8\">\n     <g id=\"line2d_12\">\n      <g>\n       <use style=\"stroke:#000000;stroke-width:0.8;\" x=\"259.920625\" xlink:href=\"#m1f44d63725\" y=\"94.299062\"/>\n      </g>\n     </g>\n     <g id=\"text_12\">\n      <!-- −100 -->\n      <g transform=\"translate(219.96 98.858125)scale(0.12 -0.12)\">\n       <use xlink:href=\"#DejaVuSans-8722\"/>\n       <use x=\"83.789062\" xlink:href=\"#DejaVuSans-49\"/>\n       <use x=\"147.412109\" xlink:href=\"#DejaVuSans-48\"/>\n       <use x=\"211.035156\" xlink:href=\"#DejaVuSans-48\"/>\n      </g>\n     </g>\n    </g>\n    <g id=\"ytick_9\">\n     <g id=\"line2d_13\">\n      <g>\n       <use style=\"stroke:#000000;stroke-width:0.8;\" x=\"259.920625\" xlink:href=\"#m1f44d63725\" y=\"53.029062\"/>\n      </g>\n     </g>\n     <g id=\"text_13\">\n      <!-- 0 -->\n      <g transform=\"translate(245.285625 57.588125)scale(0.12 -0.12)\">\n       <use xlink:href=\"#DejaVuSans-48\"/>\n      </g>\n     </g>\n    </g>\n    <g id=\"ytick_10\">\n     <g id=\"line2d_14\">\n      <g>\n       <use style=\"stroke:#000000;stroke-width:0.8;\" x=\"259.920625\" xlink:href=\"#m1f44d63725\" y=\"11.759062\"/>\n      </g>\n     </g>\n     <g id=\"text_14\">\n      <!-- 100 -->\n      <g transform=\"translate(230.015625 16.318125)scale(0.12 -0.12)\">\n       <use xlink:href=\"#DejaVuSans-49\"/>\n       <use x=\"63.623047\" xlink:href=\"#DejaVuSans-48\"/>\n       <use x=\"127.246094\" xlink:href=\"#DejaVuSans-48\"/>\n      </g>\n     </g>\n    </g>\n   </g>\n   <g id=\"patch_8\">\n    <path d=\"M 259.920625 176.839062 \nL 259.920625 11.759062 \n\" style=\"fill:none;stroke:#000000;stroke-linecap:square;stroke-linejoin:miter;stroke-width:0.8;\"/>\n   </g>\n   <g id=\"patch_9\">\n    <path d=\"M 420.095625 176.839062 \nL 420.095625 11.759062 \n\" style=\"fill:none;stroke:#000000;stroke-linecap:square;stroke-linejoin:miter;stroke-width:0.8;\"/>\n   </g>\n   <g id=\"patch_10\">\n    <path d=\"M 259.920625 176.839062 \nL 420.095625 176.839062 \n\" style=\"fill:none;stroke:#000000;stroke-linecap:square;stroke-linejoin:miter;stroke-width:0.8;\"/>\n   </g>\n   <g id=\"patch_11\">\n    <path d=\"M 259.920625 11.759062 \nL 420.095625 11.759062 \n\" style=\"fill:none;stroke:#000000;stroke-linecap:square;stroke-linejoin:miter;stroke-width:0.8;\"/>\n   </g>\n  </g>\n  <g id=\"axes_3\">\n   <g id=\"patch_12\">\n    <path d=\"M 472.680625 176.839062 \nL 632.855625 176.839062 \nL 632.855625 11.759062 \nL 472.680625 11.759062 \nz\n\" style=\"fill:#ffffff;\"/>\n   </g>\n   <g id=\"PathCollection_5\">\n    <g clip-path=\"url(#p01adde0d83)\">\n     <use style=\"fill:#1f77b4;stroke:#1f77b4;\" x=\"479.961307\" xlink:href=\"#m89f33feee4\" y=\"22.296017\"/>\n     <use style=\"fill:#1f77b4;stroke:#1f77b4;\" x=\"487.625182\" xlink:href=\"#m89f33feee4\" y=\"28.411775\"/>\n     <use style=\"fill:#1f77b4;stroke:#1f77b4;\" x=\"495.289058\" xlink:href=\"#m89f33feee4\" y=\"34.090403\"/>\n     <use style=\"fill:#1f77b4;stroke:#1f77b4;\" x=\"502.952934\" xlink:href=\"#m89f33feee4\" y=\"42.145777\"/>\n     <use style=\"fill:#1f77b4;stroke:#1f77b4;\" x=\"510.616809\" xlink:href=\"#m89f33feee4\" y=\"44.191873\"/>\n     <use style=\"fill:#1f77b4;stroke:#1f77b4;\" x=\"518.280685\" xlink:href=\"#m89f33feee4\" y=\"45.013416\"/>\n     <use style=\"fill:#1f77b4;stroke:#1f77b4;\" x=\"525.94456\" xlink:href=\"#m89f33feee4\" y=\"47.83321\"/>\n     <use style=\"fill:#1f77b4;stroke:#1f77b4;\" x=\"533.608436\" xlink:href=\"#m89f33feee4\" y=\"48.601055\"/>\n     <use style=\"fill:#1f77b4;stroke:#1f77b4;\" x=\"541.272312\" xlink:href=\"#m89f33feee4\" y=\"51.479341\"/>\n     <use style=\"fill:#1f77b4;stroke:#1f77b4;\" x=\"548.936187\" xlink:href=\"#m89f33feee4\" y=\"53.389089\"/>\n     <use style=\"fill:#1f77b4;stroke:#1f77b4;\" x=\"556.600063\" xlink:href=\"#m89f33feee4\" y=\"53.149806\"/>\n     <use style=\"fill:#1f77b4;stroke:#1f77b4;\" x=\"564.263938\" xlink:href=\"#m89f33feee4\" y=\"51.620945\"/>\n     <use style=\"fill:#1f77b4;stroke:#1f77b4;\" x=\"571.927814\" xlink:href=\"#m89f33feee4\" y=\"50.968605\"/>\n     <use style=\"fill:#1f77b4;stroke:#1f77b4;\" x=\"579.59169\" xlink:href=\"#m89f33feee4\" y=\"48.772979\"/>\n     <use style=\"fill:#1f77b4;stroke:#1f77b4;\" x=\"587.255565\" xlink:href=\"#m89f33feee4\" y=\"46.659956\"/>\n     <use style=\"fill:#1f77b4;stroke:#1f77b4;\" x=\"594.919441\" xlink:href=\"#m89f33feee4\" y=\"42.188641\"/>\n     <use style=\"fill:#1f77b4;stroke:#1f77b4;\" x=\"602.583316\" xlink:href=\"#m89f33feee4\" y=\"39.922404\"/>\n     <use style=\"fill:#1f77b4;stroke:#1f77b4;\" x=\"610.247192\" xlink:href=\"#m89f33feee4\" y=\"35.69551\"/>\n     <use style=\"fill:#1f77b4;stroke:#1f77b4;\" x=\"617.911068\" xlink:href=\"#m89f33feee4\" y=\"29.25848\"/>\n     <use style=\"fill:#1f77b4;stroke:#1f77b4;\" x=\"625.574943\" xlink:href=\"#m89f33feee4\" y=\"25.451328\"/>\n    </g>\n   </g>\n   <g id=\"PathCollection_6\">\n    <g clip-path=\"url(#p01adde0d83)\">\n     <use style=\"fill:#ff0000;stroke:#ff0000;\" x=\"479.961307\" xlink:href=\"#mf70ba94a4a\" y=\"52.469315\"/>\n     <use style=\"fill:#ff0000;stroke:#ff0000;\" x=\"487.625182\" xlink:href=\"#mf70ba94a4a\" y=\"52.759854\"/>\n     <use style=\"fill:#ff0000;stroke:#ff0000;\" x=\"495.289058\" xlink:href=\"#mf70ba94a4a\" y=\"53.052437\"/>\n     <use style=\"fill:#ff0000;stroke:#ff0000;\" x=\"502.952934\" xlink:href=\"#mf70ba94a4a\" y=\"53.347064\"/>\n     <use style=\"fill:#ff0000;stroke:#ff0000;\" x=\"510.616809\" xlink:href=\"#mf70ba94a4a\" y=\"53.643737\"/>\n     <use style=\"fill:#ff0000;stroke:#ff0000;\" x=\"518.280685\" xlink:href=\"#mf70ba94a4a\" y=\"53.942454\"/>\n     <use style=\"fill:#ff0000;stroke:#ff0000;\" x=\"525.94456\" xlink:href=\"#mf70ba94a4a\" y=\"54.243216\"/>\n     <use style=\"fill:#ff0000;stroke:#ff0000;\" x=\"533.608436\" xlink:href=\"#mf70ba94a4a\" y=\"54.546023\"/>\n     <use style=\"fill:#ff0000;stroke:#ff0000;\" x=\"541.272312\" xlink:href=\"#mf70ba94a4a\" y=\"54.850874\"/>\n     <use style=\"fill:#ff0000;stroke:#ff0000;\" x=\"548.936187\" xlink:href=\"#mf70ba94a4a\" y=\"55.15777\"/>\n     <use style=\"fill:#ff0000;stroke:#ff0000;\" x=\"556.600063\" xlink:href=\"#mf70ba94a4a\" y=\"55.466711\"/>\n     <use style=\"fill:#ff0000;stroke:#ff0000;\" x=\"564.263938\" xlink:href=\"#mf70ba94a4a\" y=\"55.777697\"/>\n     <use style=\"fill:#ff0000;stroke:#ff0000;\" x=\"571.927814\" xlink:href=\"#mf70ba94a4a\" y=\"56.090727\"/>\n     <use style=\"fill:#ff0000;stroke:#ff0000;\" x=\"579.59169\" xlink:href=\"#mf70ba94a4a\" y=\"56.405802\"/>\n     <use style=\"fill:#ff0000;stroke:#ff0000;\" x=\"587.255565\" xlink:href=\"#mf70ba94a4a\" y=\"56.722922\"/>\n     <use style=\"fill:#ff0000;stroke:#ff0000;\" x=\"594.919441\" xlink:href=\"#mf70ba94a4a\" y=\"57.042086\"/>\n     <use style=\"fill:#ff0000;stroke:#ff0000;\" x=\"602.583316\" xlink:href=\"#mf70ba94a4a\" y=\"57.363296\"/>\n     <use style=\"fill:#ff0000;stroke:#ff0000;\" x=\"610.247192\" xlink:href=\"#mf70ba94a4a\" y=\"57.68655\"/>\n     <use style=\"fill:#ff0000;stroke:#ff0000;\" x=\"617.911068\" xlink:href=\"#mf70ba94a4a\" y=\"58.011848\"/>\n     <use style=\"fill:#ff0000;stroke:#ff0000;\" x=\"625.574943\" xlink:href=\"#mf70ba94a4a\" y=\"58.339192\"/>\n    </g>\n   </g>\n   <g id=\"matplotlib.axis_5\">\n    <g id=\"xtick_5\">\n     <g id=\"line2d_15\">\n      <g>\n       <use style=\"stroke:#000000;stroke-width:0.8;\" x=\"479.961307\" xlink:href=\"#m603d38349e\" y=\"176.839062\"/>\n      </g>\n     </g>\n     <g id=\"text_15\">\n      <!-- 0 -->\n      <g transform=\"translate(476.143807 192.957187)scale(0.12 -0.12)\">\n       <use xlink:href=\"#DejaVuSans-48\"/>\n      </g>\n     </g>\n    </g>\n    <g id=\"xtick_6\">\n     <g id=\"line2d_16\">\n      <g>\n       <use style=\"stroke:#000000;stroke-width:0.8;\" x=\"556.600063\" xlink:href=\"#m603d38349e\" y=\"176.839062\"/>\n      </g>\n     </g>\n     <g id=\"text_16\">\n      <!-- 10 -->\n      <g transform=\"translate(548.965063 192.957187)scale(0.12 -0.12)\">\n       <use xlink:href=\"#DejaVuSans-49\"/>\n       <use x=\"63.623047\" xlink:href=\"#DejaVuSans-48\"/>\n      </g>\n     </g>\n    </g>\n   </g>\n   <g id=\"matplotlib.axis_6\">\n    <g id=\"ytick_11\">\n     <g id=\"line2d_17\">\n      <g>\n       <use style=\"stroke:#000000;stroke-width:0.8;\" x=\"472.680625\" xlink:href=\"#m1f44d63725\" y=\"176.839062\"/>\n      </g>\n     </g>\n     <g id=\"text_17\">\n      <!-- −300 -->\n      <g transform=\"translate(432.72 181.398125)scale(0.12 -0.12)\">\n       <use xlink:href=\"#DejaVuSans-8722\"/>\n       <use x=\"83.789062\" xlink:href=\"#DejaVuSans-51\"/>\n       <use x=\"147.412109\" xlink:href=\"#DejaVuSans-48\"/>\n       <use x=\"211.035156\" xlink:href=\"#DejaVuSans-48\"/>\n      </g>\n     </g>\n    </g>\n    <g id=\"ytick_12\">\n     <g id=\"line2d_18\">\n      <g>\n       <use style=\"stroke:#000000;stroke-width:0.8;\" x=\"472.680625\" xlink:href=\"#m1f44d63725\" y=\"135.569062\"/>\n      </g>\n     </g>\n     <g id=\"text_18\">\n      <!-- −200 -->\n      <g transform=\"translate(432.72 140.128125)scale(0.12 -0.12)\">\n       <use xlink:href=\"#DejaVuSans-8722\"/>\n       <use x=\"83.789062\" xlink:href=\"#DejaVuSans-50\"/>\n       <use x=\"147.412109\" xlink:href=\"#DejaVuSans-48\"/>\n       <use x=\"211.035156\" xlink:href=\"#DejaVuSans-48\"/>\n      </g>\n     </g>\n    </g>\n    <g id=\"ytick_13\">\n     <g id=\"line2d_19\">\n      <g>\n       <use style=\"stroke:#000000;stroke-width:0.8;\" x=\"472.680625\" xlink:href=\"#m1f44d63725\" y=\"94.299062\"/>\n      </g>\n     </g>\n     <g id=\"text_19\">\n      <!-- −100 -->\n      <g transform=\"translate(432.72 98.858125)scale(0.12 -0.12)\">\n       <use xlink:href=\"#DejaVuSans-8722\"/>\n       <use x=\"83.789062\" xlink:href=\"#DejaVuSans-49\"/>\n       <use x=\"147.412109\" xlink:href=\"#DejaVuSans-48\"/>\n       <use x=\"211.035156\" xlink:href=\"#DejaVuSans-48\"/>\n      </g>\n     </g>\n    </g>\n    <g id=\"ytick_14\">\n     <g id=\"line2d_20\">\n      <g>\n       <use style=\"stroke:#000000;stroke-width:0.8;\" x=\"472.680625\" xlink:href=\"#m1f44d63725\" y=\"53.029062\"/>\n      </g>\n     </g>\n     <g id=\"text_20\">\n      <!-- 0 -->\n      <g transform=\"translate(458.045625 57.588125)scale(0.12 -0.12)\">\n       <use xlink:href=\"#DejaVuSans-48\"/>\n      </g>\n     </g>\n    </g>\n    <g id=\"ytick_15\">\n     <g id=\"line2d_21\">\n      <g>\n       <use style=\"stroke:#000000;stroke-width:0.8;\" x=\"472.680625\" xlink:href=\"#m1f44d63725\" y=\"11.759062\"/>\n      </g>\n     </g>\n     <g id=\"text_21\">\n      <!-- 100 -->\n      <g transform=\"translate(442.775625 16.318125)scale(0.12 -0.12)\">\n       <use xlink:href=\"#DejaVuSans-49\"/>\n       <use x=\"63.623047\" xlink:href=\"#DejaVuSans-48\"/>\n       <use x=\"127.246094\" xlink:href=\"#DejaVuSans-48\"/>\n      </g>\n     </g>\n    </g>\n   </g>\n   <g id=\"patch_13\">\n    <path d=\"M 472.680625 176.839062 \nL 472.680625 11.759062 \n\" style=\"fill:none;stroke:#000000;stroke-linecap:square;stroke-linejoin:miter;stroke-width:0.8;\"/>\n   </g>\n   <g id=\"patch_14\">\n    <path d=\"M 632.855625 176.839062 \nL 632.855625 11.759062 \n\" style=\"fill:none;stroke:#000000;stroke-linecap:square;stroke-linejoin:miter;stroke-width:0.8;\"/>\n   </g>\n   <g id=\"patch_15\">\n    <path d=\"M 472.680625 176.839062 \nL 632.855625 176.839062 \n\" style=\"fill:none;stroke:#000000;stroke-linecap:square;stroke-linejoin:miter;stroke-width:0.8;\"/>\n   </g>\n   <g id=\"patch_16\">\n    <path d=\"M 472.680625 11.759062 \nL 632.855625 11.759062 \n\" style=\"fill:none;stroke:#000000;stroke-linecap:square;stroke-linejoin:miter;stroke-width:0.8;\"/>\n   </g>\n  </g>\n  <g id=\"axes_4\">\n   <g id=\"patch_17\">\n    <path d=\"M 685.440625 176.839062 \nL 845.615625 176.839062 \nL 845.615625 11.759062 \nL 685.440625 11.759062 \nz\n\" style=\"fill:#ffffff;\"/>\n   </g>\n   <g id=\"PathCollection_7\">\n    <g clip-path=\"url(#pa8316b4ee4)\">\n     <use style=\"fill:#1f77b4;stroke:#1f77b4;\" x=\"692.721307\" xlink:href=\"#m89f33feee4\" y=\"22.296017\"/>\n     <use style=\"fill:#1f77b4;stroke:#1f77b4;\" x=\"700.385182\" xlink:href=\"#m89f33feee4\" y=\"28.411775\"/>\n     <use style=\"fill:#1f77b4;stroke:#1f77b4;\" x=\"708.049058\" xlink:href=\"#m89f33feee4\" y=\"34.090403\"/>\n     <use style=\"fill:#1f77b4;stroke:#1f77b4;\" x=\"715.712934\" xlink:href=\"#m89f33feee4\" y=\"42.145777\"/>\n     <use style=\"fill:#1f77b4;stroke:#1f77b4;\" x=\"723.376809\" xlink:href=\"#m89f33feee4\" y=\"44.191873\"/>\n     <use style=\"fill:#1f77b4;stroke:#1f77b4;\" x=\"731.040685\" xlink:href=\"#m89f33feee4\" y=\"45.013416\"/>\n     <use style=\"fill:#1f77b4;stroke:#1f77b4;\" x=\"738.70456\" xlink:href=\"#m89f33feee4\" y=\"47.83321\"/>\n     <use style=\"fill:#1f77b4;stroke:#1f77b4;\" x=\"746.368436\" xlink:href=\"#m89f33feee4\" y=\"48.601055\"/>\n     <use style=\"fill:#1f77b4;stroke:#1f77b4;\" x=\"754.032312\" xlink:href=\"#m89f33feee4\" y=\"51.479341\"/>\n     <use style=\"fill:#1f77b4;stroke:#1f77b4;\" x=\"761.696187\" xlink:href=\"#m89f33feee4\" y=\"53.389089\"/>\n     <use style=\"fill:#1f77b4;stroke:#1f77b4;\" x=\"769.360063\" xlink:href=\"#m89f33feee4\" y=\"53.149806\"/>\n     <use style=\"fill:#1f77b4;stroke:#1f77b4;\" x=\"777.023938\" xlink:href=\"#m89f33feee4\" y=\"51.620945\"/>\n     <use style=\"fill:#1f77b4;stroke:#1f77b4;\" x=\"784.687814\" xlink:href=\"#m89f33feee4\" y=\"50.968605\"/>\n     <use style=\"fill:#1f77b4;stroke:#1f77b4;\" x=\"792.35169\" xlink:href=\"#m89f33feee4\" y=\"48.772979\"/>\n     <use style=\"fill:#1f77b4;stroke:#1f77b4;\" x=\"800.015565\" xlink:href=\"#m89f33feee4\" y=\"46.659956\"/>\n     <use style=\"fill:#1f77b4;stroke:#1f77b4;\" x=\"807.679441\" xlink:href=\"#m89f33feee4\" y=\"42.188641\"/>\n     <use style=\"fill:#1f77b4;stroke:#1f77b4;\" x=\"815.343316\" xlink:href=\"#m89f33feee4\" y=\"39.922404\"/>\n     <use style=\"fill:#1f77b4;stroke:#1f77b4;\" x=\"823.007192\" xlink:href=\"#m89f33feee4\" y=\"35.69551\"/>\n     <use style=\"fill:#1f77b4;stroke:#1f77b4;\" x=\"830.671068\" xlink:href=\"#m89f33feee4\" y=\"29.25848\"/>\n     <use style=\"fill:#1f77b4;stroke:#1f77b4;\" x=\"838.334943\" xlink:href=\"#m89f33feee4\" y=\"25.451328\"/>\n    </g>\n   </g>\n   <g id=\"PathCollection_8\">\n    <g clip-path=\"url(#pa8316b4ee4)\">\n     <use style=\"fill:#ff0000;stroke:#ff0000;\" x=\"692.721307\" xlink:href=\"#mf70ba94a4a\" y=\"52.46905\"/>\n     <use style=\"fill:#ff0000;stroke:#ff0000;\" x=\"700.385182\" xlink:href=\"#mf70ba94a4a\" y=\"52.715356\"/>\n     <use style=\"fill:#ff0000;stroke:#ff0000;\" x=\"708.049058\" xlink:href=\"#mf70ba94a4a\" y=\"52.880623\"/>\n     <use style=\"fill:#ff0000;stroke:#ff0000;\" x=\"715.712934\" xlink:href=\"#mf70ba94a4a\" y=\"52.964851\"/>\n     <use style=\"fill:#ff0000;stroke:#ff0000;\" x=\"723.376809\" xlink:href=\"#mf70ba94a4a\" y=\"52.968039\"/>\n     <use style=\"fill:#ff0000;stroke:#ff0000;\" x=\"731.040685\" xlink:href=\"#mf70ba94a4a\" y=\"52.890189\"/>\n     <use style=\"fill:#ff0000;stroke:#ff0000;\" x=\"738.70456\" xlink:href=\"#mf70ba94a4a\" y=\"52.731298\"/>\n     <use style=\"fill:#ff0000;stroke:#ff0000;\" x=\"746.368436\" xlink:href=\"#mf70ba94a4a\" y=\"52.491369\"/>\n     <use style=\"fill:#ff0000;stroke:#ff0000;\" x=\"754.032312\" xlink:href=\"#mf70ba94a4a\" y=\"52.1704\"/>\n     <use style=\"fill:#ff0000;stroke:#ff0000;\" x=\"761.696187\" xlink:href=\"#mf70ba94a4a\" y=\"51.768392\"/>\n     <use style=\"fill:#ff0000;stroke:#ff0000;\" x=\"769.360063\" xlink:href=\"#mf70ba94a4a\" y=\"51.285345\"/>\n     <use style=\"fill:#ff0000;stroke:#ff0000;\" x=\"777.023938\" xlink:href=\"#mf70ba94a4a\" y=\"50.721259\"/>\n     <use style=\"fill:#ff0000;stroke:#ff0000;\" x=\"784.687814\" xlink:href=\"#mf70ba94a4a\" y=\"50.076133\"/>\n     <use style=\"fill:#ff0000;stroke:#ff0000;\" x=\"792.35169\" xlink:href=\"#mf70ba94a4a\" y=\"49.349967\"/>\n     <use style=\"fill:#ff0000;stroke:#ff0000;\" x=\"800.015565\" xlink:href=\"#mf70ba94a4a\" y=\"48.542763\"/>\n     <use style=\"fill:#ff0000;stroke:#ff0000;\" x=\"807.679441\" xlink:href=\"#mf70ba94a4a\" y=\"47.65452\"/>\n     <use style=\"fill:#ff0000;stroke:#ff0000;\" x=\"815.343316\" xlink:href=\"#mf70ba94a4a\" y=\"46.685236\"/>\n     <use style=\"fill:#ff0000;stroke:#ff0000;\" x=\"823.007192\" xlink:href=\"#mf70ba94a4a\" y=\"45.634913\"/>\n     <use style=\"fill:#ff0000;stroke:#ff0000;\" x=\"830.671068\" xlink:href=\"#mf70ba94a4a\" y=\"44.503551\"/>\n     <use style=\"fill:#ff0000;stroke:#ff0000;\" x=\"838.334943\" xlink:href=\"#mf70ba94a4a\" y=\"43.29115\"/>\n    </g>\n   </g>\n   <g id=\"matplotlib.axis_7\">\n    <g id=\"xtick_7\">\n     <g id=\"line2d_22\">\n      <g>\n       <use style=\"stroke:#000000;stroke-width:0.8;\" x=\"692.721307\" xlink:href=\"#m603d38349e\" y=\"176.839062\"/>\n      </g>\n     </g>\n     <g id=\"text_22\">\n      <!-- 0 -->\n      <g transform=\"translate(688.903807 192.957187)scale(0.12 -0.12)\">\n       <use xlink:href=\"#DejaVuSans-48\"/>\n      </g>\n     </g>\n    </g>\n    <g id=\"xtick_8\">\n     <g id=\"line2d_23\">\n      <g>\n       <use style=\"stroke:#000000;stroke-width:0.8;\" x=\"769.360063\" xlink:href=\"#m603d38349e\" y=\"176.839062\"/>\n      </g>\n     </g>\n     <g id=\"text_23\">\n      <!-- 10 -->\n      <g transform=\"translate(761.725063 192.957187)scale(0.12 -0.12)\">\n       <use xlink:href=\"#DejaVuSans-49\"/>\n       <use x=\"63.623047\" xlink:href=\"#DejaVuSans-48\"/>\n      </g>\n     </g>\n    </g>\n   </g>\n   <g id=\"matplotlib.axis_8\">\n    <g id=\"ytick_16\">\n     <g id=\"line2d_24\">\n      <g>\n       <use style=\"stroke:#000000;stroke-width:0.8;\" x=\"685.440625\" xlink:href=\"#m1f44d63725\" y=\"176.839062\"/>\n      </g>\n     </g>\n     <g id=\"text_24\">\n      <!-- −300 -->\n      <g transform=\"translate(645.48 181.398125)scale(0.12 -0.12)\">\n       <use xlink:href=\"#DejaVuSans-8722\"/>\n       <use x=\"83.789062\" xlink:href=\"#DejaVuSans-51\"/>\n       <use x=\"147.412109\" xlink:href=\"#DejaVuSans-48\"/>\n       <use x=\"211.035156\" xlink:href=\"#DejaVuSans-48\"/>\n      </g>\n     </g>\n    </g>\n    <g id=\"ytick_17\">\n     <g id=\"line2d_25\">\n      <g>\n       <use style=\"stroke:#000000;stroke-width:0.8;\" x=\"685.440625\" xlink:href=\"#m1f44d63725\" y=\"135.569062\"/>\n      </g>\n     </g>\n     <g id=\"text_25\">\n      <!-- −200 -->\n      <g transform=\"translate(645.48 140.128125)scale(0.12 -0.12)\">\n       <use xlink:href=\"#DejaVuSans-8722\"/>\n       <use x=\"83.789062\" xlink:href=\"#DejaVuSans-50\"/>\n       <use x=\"147.412109\" xlink:href=\"#DejaVuSans-48\"/>\n       <use x=\"211.035156\" xlink:href=\"#DejaVuSans-48\"/>\n      </g>\n     </g>\n    </g>\n    <g id=\"ytick_18\">\n     <g id=\"line2d_26\">\n      <g>\n       <use style=\"stroke:#000000;stroke-width:0.8;\" x=\"685.440625\" xlink:href=\"#m1f44d63725\" y=\"94.299062\"/>\n      </g>\n     </g>\n     <g id=\"text_26\">\n      <!-- −100 -->\n      <g transform=\"translate(645.48 98.858125)scale(0.12 -0.12)\">\n       <use xlink:href=\"#DejaVuSans-8722\"/>\n       <use x=\"83.789062\" xlink:href=\"#DejaVuSans-49\"/>\n       <use x=\"147.412109\" xlink:href=\"#DejaVuSans-48\"/>\n       <use x=\"211.035156\" xlink:href=\"#DejaVuSans-48\"/>\n      </g>\n     </g>\n    </g>\n    <g id=\"ytick_19\">\n     <g id=\"line2d_27\">\n      <g>\n       <use style=\"stroke:#000000;stroke-width:0.8;\" x=\"685.440625\" xlink:href=\"#m1f44d63725\" y=\"53.029062\"/>\n      </g>\n     </g>\n     <g id=\"text_27\">\n      <!-- 0 -->\n      <g transform=\"translate(670.805625 57.588125)scale(0.12 -0.12)\">\n       <use xlink:href=\"#DejaVuSans-48\"/>\n      </g>\n     </g>\n    </g>\n    <g id=\"ytick_20\">\n     <g id=\"line2d_28\">\n      <g>\n       <use style=\"stroke:#000000;stroke-width:0.8;\" x=\"685.440625\" xlink:href=\"#m1f44d63725\" y=\"11.759062\"/>\n      </g>\n     </g>\n     <g id=\"text_28\">\n      <!-- 100 -->\n      <g transform=\"translate(655.535625 16.318125)scale(0.12 -0.12)\">\n       <use xlink:href=\"#DejaVuSans-49\"/>\n       <use x=\"63.623047\" xlink:href=\"#DejaVuSans-48\"/>\n       <use x=\"127.246094\" xlink:href=\"#DejaVuSans-48\"/>\n      </g>\n     </g>\n    </g>\n   </g>\n   <g id=\"patch_18\">\n    <path d=\"M 685.440625 176.839062 \nL 685.440625 11.759062 \n\" style=\"fill:none;stroke:#000000;stroke-linecap:square;stroke-linejoin:miter;stroke-width:0.8;\"/>\n   </g>\n   <g id=\"patch_19\">\n    <path d=\"M 845.615625 176.839062 \nL 845.615625 11.759062 \n\" style=\"fill:none;stroke:#000000;stroke-linecap:square;stroke-linejoin:miter;stroke-width:0.8;\"/>\n   </g>\n   <g id=\"patch_20\">\n    <path d=\"M 685.440625 176.839062 \nL 845.615625 176.839062 \n\" style=\"fill:none;stroke:#000000;stroke-linecap:square;stroke-linejoin:miter;stroke-width:0.8;\"/>\n   </g>\n   <g id=\"patch_21\">\n    <path d=\"M 685.440625 11.759062 \nL 845.615625 11.759062 \n\" style=\"fill:none;stroke:#000000;stroke-linecap:square;stroke-linejoin:miter;stroke-width:0.8;\"/>\n   </g>\n  </g>\n </g>\n <defs>\n  <clipPath id=\"p0b62d9d8b1\">\n   <rect height=\"165.08\" width=\"160.175\" x=\"47.160625\" y=\"11.759062\"/>\n  </clipPath>\n  <clipPath id=\"p349f6a7389\">\n   <rect height=\"165.08\" width=\"160.175\" x=\"259.920625\" y=\"11.759062\"/>\n  </clipPath>\n  <clipPath id=\"p01adde0d83\">\n   <rect height=\"165.08\" width=\"160.175\" x=\"472.680625\" y=\"11.759062\"/>\n  </clipPath>\n  <clipPath id=\"pa8316b4ee4\">\n   <rect height=\"165.08\" width=\"160.175\" x=\"685.440625\" y=\"11.759062\"/>\n  </clipPath>\n </defs>\n</svg>\n",
      "image/png": "[encoded data removed]"
     },
     "metadata": {
      "needs_background": "light"
     }
    }
   ],
   "source": [
    "_,axs = plt.subplots(1,4,figsize=(12,3))\n",
    "for ax in axs: show_preds(apply_step(params, False), ax)\n",
    "plt.tight_layout()"
   ]
  },
  {
   "cell_type": "markdown",
   "metadata": {},
   "source": [
    "#### Step 7: stop"
   ]
  },
  {
   "cell_type": "markdown",
   "metadata": {},
   "source": [
    "We just decided to stop after 10 epochs arbitrarily. In practice, we would watch the training and validation losses and our metrics to decide when to stop, as we've discussed."
   ]
  },
  {
   "cell_type": "markdown",
   "metadata": {},
   "source": [
    "### Summarizing Gradient Descent"
   ]
  },
  {
   "cell_type": "code",
   "execution_count": 103,
   "metadata": {
    "hide_input": false
   },
   "outputs": [
    {
     "output_type": "error",
     "ename": "NameError",
     "evalue": "name 'graphviz' is not defined",
     "traceback": [
      "\u001b[0;31m---------------------------------------------------------------------------\u001b[0m",
      "\u001b[0;31mNameError\u001b[0m                                 Traceback (most recent call last)",
      "\u001b[0;32m<ipython-input-103-97068821cfaa>\u001b[0m in \u001b[0;36m<module>\u001b[0;34m\u001b[0m\n\u001b[1;32m      3\u001b[0m \u001b[0;31m#caption The gradient descent process\u001b[0m\u001b[0;34m\u001b[0m\u001b[0;34m\u001b[0m\u001b[0;34m\u001b[0m\u001b[0m\n\u001b[1;32m      4\u001b[0m \u001b[0;31m#alt Graph showing the steps for Gradient Descent\u001b[0m\u001b[0;34m\u001b[0m\u001b[0;34m\u001b[0m\u001b[0;34m\u001b[0m\u001b[0m\n\u001b[0;32m----> 5\u001b[0;31m gv('''\n\u001b[0m\u001b[1;32m      6\u001b[0m \u001b[0minit\u001b[0m\u001b[0;34m->\u001b[0m\u001b[0mpredict\u001b[0m\u001b[0;34m->\u001b[0m\u001b[0mloss\u001b[0m\u001b[0;34m->\u001b[0m\u001b[0mgradient\u001b[0m\u001b[0;34m->\u001b[0m\u001b[0mstep\u001b[0m\u001b[0;34m->\u001b[0m\u001b[0mstop\u001b[0m\u001b[0;34m\u001b[0m\u001b[0;34m\u001b[0m\u001b[0m\n\u001b[1;32m      7\u001b[0m \u001b[0mstep\u001b[0m\u001b[0;34m->\u001b[0m\u001b[0mpredict\u001b[0m\u001b[0;34m[\u001b[0m\u001b[0mlabel\u001b[0m\u001b[0;34m=\u001b[0m\u001b[0mrepeat\u001b[0m\u001b[0;34m]\u001b[0m\u001b[0;34m\u001b[0m\u001b[0;34m\u001b[0m\u001b[0m\n",
      "\u001b[0;32m/mnt/d/Dev/repos/fastbook/venvv/lib/python3.8/site-packages/fastbook/__init__.py\u001b[0m in \u001b[0;36mgv\u001b[0;34m(s)\u001b[0m\n\u001b[1;32m     43\u001b[0m     \u001b[0;32mif\u001b[0m \u001b[0mIN_COLAB\u001b[0m\u001b[0;34m:\u001b[0m \u001b[0;32mreturn\u001b[0m \u001b[0msetup_colab\u001b[0m\u001b[0;34m(\u001b[0m\u001b[0;34m)\u001b[0m\u001b[0;34m\u001b[0m\u001b[0;34m\u001b[0m\u001b[0m\n\u001b[1;32m     44\u001b[0m \u001b[0;34m\u001b[0m\u001b[0m\n\u001b[0;32m---> 45\u001b[0;31m \u001b[0;32mdef\u001b[0m \u001b[0mgv\u001b[0m\u001b[0;34m(\u001b[0m\u001b[0ms\u001b[0m\u001b[0;34m)\u001b[0m\u001b[0;34m:\u001b[0m \u001b[0;32mreturn\u001b[0m \u001b[0mgraphviz\u001b[0m\u001b[0;34m.\u001b[0m\u001b[0mSource\u001b[0m\u001b[0;34m(\u001b[0m\u001b[0;34m'digraph G{ rankdir=\"LR\"'\u001b[0m \u001b[0;34m+\u001b[0m \u001b[0ms\u001b[0m \u001b[0;34m+\u001b[0m \u001b[0;34m'; }'\u001b[0m\u001b[0;34m)\u001b[0m\u001b[0;34m\u001b[0m\u001b[0;34m\u001b[0m\u001b[0m\n\u001b[0m\u001b[1;32m     46\u001b[0m \u001b[0;34m\u001b[0m\u001b[0m\n\u001b[1;32m     47\u001b[0m \u001b[0;32mdef\u001b[0m \u001b[0mget_image_files_sorted\u001b[0m\u001b[0;34m(\u001b[0m\u001b[0mpath\u001b[0m\u001b[0;34m,\u001b[0m \u001b[0mrecurse\u001b[0m\u001b[0;34m=\u001b[0m\u001b[0;32mTrue\u001b[0m\u001b[0;34m,\u001b[0m \u001b[0mfolders\u001b[0m\u001b[0;34m=\u001b[0m\u001b[0;32mNone\u001b[0m\u001b[0;34m)\u001b[0m\u001b[0;34m:\u001b[0m\u001b[0;34m\u001b[0m\u001b[0;34m\u001b[0m\u001b[0m\n",
      "\u001b[0;31mNameError\u001b[0m: name 'graphviz' is not defined"
     ]
    }
   ],
   "source": [
    "#hide_input\n",
    "#id gradient_descent\n",
    "#caption The gradient descent process\n",
    "#alt Graph showing the steps for Gradient Descent\n",
    "gv('''\n",
    "init->predict->loss->gradient->step->stop\n",
    "step->predict[label=repeat]\n",
    "''')"
   ]
  },
  {
   "cell_type": "markdown",
   "metadata": {},
   "source": [
    "To summarize, at the beginning, the weights of our model can be random (training *from scratch*) or come from a pretrained model (*transfer learning*). In the first case, the output we will get from our inputs won't have anything to do with what we want, and even in the second case, it's very likely the pretrained model won't be very good at the specific task we are targeting. So the model will need to *learn* better weights.\n",
    "\n",
    "We begin by comparing the outputs the model gives us with our targets (we have labeled data, so we know what result the model should give) using a *loss function*, which returns a number that we want to make as low as possible by improving our weights. To do this, we take a few data items (such as images) from the training set and feed them to our model. We compare the corresponding targets using our loss function, and the score we get tells us how wrong our predictions were. We then change the weights a little bit to make it slightly better.\n",
    "\n",
    "To find how to change the weights to make the loss a bit better, we use calculus to calculate the *gradients*. (Actually, we let PyTorch do it for us!) Let's consider an analogy. Imagine you are lost in the mountains with your car parked at the lowest point. To find your way back to it, you might wander in a random direction, but that probably wouldn't help much. Since you know your vehicle is at the lowest point, you would be better off going downhill. By always taking a step in the direction of the steepest downward slope, you should eventually arrive at your destination. We use the magnitude of the gradient (i.e., the steepness of the slope) to tell us how big a step to take; specifically, we multiply the gradient by a number we choose called the *learning rate* to decide on the step size. We then *iterate* until we have reached the lowest point, which will be our parking lot, then we can *stop*.\n",
    "\n",
    "All of that we just saw can be transposed directly to the MNIST dataset, except for the loss function. Let's now see how we can define a good training objective. "
   ]
  },
  {
   "cell_type": "markdown",
   "metadata": {},
   "source": [
    "## The MNIST Loss Function"
   ]
  },
  {
   "cell_type": "markdown",
   "metadata": {},
   "source": [
    "We already have our dependent variables `x`—these are the images themselves. We'll concatenate them all into a single tensor, and also change them from a list of matrices (a rank-3 tensor) to a list of vectors (a rank-2 tensor). We can do this using `view`, which is a PyTorch method that changes the shape of a tensor without changing its contents. `-1` is a special parameter to `view` that means \"make this axis as big as necessary to fit all the data\":"
   ]
  },
  {
   "cell_type": "code",
   "execution_count": 104,
   "metadata": {},
   "outputs": [],
   "source": [
    "train_x = torch.cat([stacked_threes, stacked_sevens]).view(-1, 28*28)"
   ]
  },
  {
   "cell_type": "markdown",
   "metadata": {},
   "source": [
    "We need a label for each image. We'll use `1` for 3s and `0` for 7s:"
   ]
  },
  {
   "cell_type": "code",
   "execution_count": 106,
   "metadata": {},
   "outputs": [
    {
     "output_type": "execute_result",
     "data": {
      "text/plain": "(torch.Size([12396, 784]), torch.Size([12396, 1]))"
     },
     "metadata": {},
     "execution_count": 106
    }
   ],
   "source": [
    "train_y = tensor([1]*len(threes) + [0]*len(sevens)).unsqueeze(1)\n",
    "train_x.shape,train_y.shape"
   ]
  },
  {
   "cell_type": "markdown",
   "metadata": {},
   "source": [
    "A `Dataset` in PyTorch is required to return a tuple of `(x,y)` when indexed. Python provides a `zip` function which, when combined with `list`, provides a simple way to get this functionality:"
   ]
  },
  {
   "cell_type": "code",
   "execution_count": 107,
   "metadata": {},
   "outputs": [
    {
     "output_type": "execute_result",
     "data": {
      "text/plain": "(torch.Size([784]), tensor([1]))"
     },
     "metadata": {},
     "execution_count": 107
    }
   ],
   "source": [
    "dset = list(zip(train_x,train_y))\n",
    "x,y = dset[0]\n",
    "x.shape,y"
   ]
  },
  {
   "cell_type": "code",
   "execution_count": 108,
   "metadata": {},
   "outputs": [],
   "source": [
    "valid_x = torch.cat([valid_3_tens, valid_7_tens]).view(-1, 28*28)\n",
    "valid_y = tensor([1]*len(valid_3_tens) + [0]*len(valid_7_tens)).unsqueeze(1)\n",
    "valid_dset = list(zip(valid_x,valid_y))"
   ]
  },
  {
   "cell_type": "code",
   "execution_count": 112,
   "metadata": {},
   "outputs": [
    {
     "output_type": "execute_result",
     "data": {
      "text/plain": "(torch.Size([784]), torch.Size([1]))"
     },
     "metadata": {},
     "execution_count": 112
    }
   ],
   "source": [
    "valid_dset[0][0].shape, valid_dset[0][1].shape"
   ]
  },
  {
   "cell_type": "markdown",
   "metadata": {},
   "source": [
    "Now we need an (initially random) weight for every pixel (this is the *initialize* step in our seven-step process):"
   ]
  },
  {
   "cell_type": "code",
   "execution_count": 113,
   "metadata": {},
   "outputs": [],
   "source": [
    "def init_params(size, std=1.0): return (torch.randn(size)*std).requires_grad_()"
   ]
  },
  {
   "cell_type": "code",
   "execution_count": 114,
   "metadata": {},
   "outputs": [],
   "source": [
    "weights = init_params((28*28,1))"
   ]
  },
  {
   "cell_type": "code",
   "execution_count": 117,
   "metadata": {},
   "outputs": [
    {
     "output_type": "execute_result",
     "data": {
      "text/plain": "torch.Size([784, 1])"
     },
     "metadata": {},
     "execution_count": 117
    }
   ],
   "source": [
    "weights.shape"
   ]
  },
  {
   "cell_type": "markdown",
   "metadata": {},
   "source": [
    "The function `weights*pixels` won't be flexible enough—it is always equal to 0 when the pixels are equal to 0 (i.e., its *intercept* is 0). You might remember from high school math that the formula for a line is `y=w*x+b`; we still need the `b`. We'll initialize it to a random number too:"
   ]
  },
  {
   "cell_type": "code",
   "execution_count": 118,
   "metadata": {},
   "outputs": [],
   "source": [
    "bias = init_params(1)"
   ]
  },
  {
   "cell_type": "markdown",
   "metadata": {},
   "source": [
    "In neural networks, the `w` in the equation `y=w*x+b` is called the *weights*, and the `b` is called the *bias*. Together, the weights and bias make up the *parameters*."
   ]
  },
  {
   "cell_type": "markdown",
   "metadata": {},
   "source": [
    "> jargon: Parameters: The _weights_ and _biases_ of a model. The weights are the `w` in the equation `w*x+b`, and the biases are the `b` in that equation."
   ]
  },
  {
   "cell_type": "markdown",
   "metadata": {},
   "source": [
    "We can now calculate a prediction for one image:"
   ]
  },
  {
   "cell_type": "code",
   "execution_count": 119,
   "metadata": {},
   "outputs": [
    {
     "output_type": "execute_result",
     "data": {
      "text/plain": "tensor([20.2336], grad_fn=<AddBackward0>)"
     },
     "metadata": {},
     "execution_count": 119
    }
   ],
   "source": [
    "(train_x[0]*weights.T).sum() + bias"
   ]
  },
  {
   "cell_type": "markdown",
   "metadata": {},
   "source": [
    "While we could use a Python `for` loop to calculate the prediction for each image, that would be very slow. Because Python loops don't run on the GPU, and because Python is a slow language for loops in general, we need to represent as much of the computation in a model as possible using higher-level functions.\n",
    "\n",
    "In this case, there's an extremely convenient mathematical operation that calculates `w*x` for every row of a matrix—it's called *matrix multiplication*. <<matmul>> shows what matrix multiplication looks like."
   ]
  },
  {
   "cell_type": "markdown",
   "metadata": {},
   "source": [
    "<img alt=\"Matrix multiplication\" width=\"400\" caption=\"Matrix multiplication\" src=\"images/matmul2.svg\" id=\"matmul\"/>"
   ]
  },
  {
   "cell_type": "markdown",
   "metadata": {},
   "source": [
    "This image shows two matrices, `A` and `B`, being multiplied together. Each item of the result, which we'll call `AB`, contains each item of its corresponding row of `A` multiplied by each item of its corresponding column of `B`, added together. For instance, row 1, column 2 (the orange dot with a red border) is calculated as $a_{1,1} * b_{1,2} + a_{1,2} * b_{2,2}$. If you need a refresher on matrix multiplication, we suggest you take a look at the [Intro to Matrix Multiplication](https://youtu.be/kT4Mp9EdVqs) on *Khan Academy*, since this is the most important mathematical operation in deep learning.\n",
    "\n",
    "In Python, matrix multiplication is represented with the `@` operator. Let's try it:"
   ]
  },
  {
   "cell_type": "code",
   "execution_count": 120,
   "metadata": {},
   "outputs": [
    {
     "output_type": "execute_result",
     "data": {
      "text/plain": "tensor([[20.2336],\n        [17.0644],\n        [15.2384],\n        ...,\n        [18.3804],\n        [23.8567],\n        [28.6816]], grad_fn=<AddBackward0>)"
     },
     "metadata": {},
     "execution_count": 120
    }
   ],
   "source": [
    "def linear1(xb): return xb@weights + bias\n",
    "preds = linear1(train_x)\n",
    "preds"
   ]
  },
  {
   "cell_type": "markdown",
   "metadata": {},
   "source": [
    "The first element is the same as we calculated before, as we'd expect. This equation, `batch@weights + bias`, is one of the two fundamental equations of any neural network (the other one is the *activation function*, which we'll see in a moment)."
   ]
  },
  {
   "cell_type": "markdown",
   "metadata": {},
   "source": [
    "Let's check our accuracy. To decide if an output represents a 3 or a 7, we can just check whether it's greater than 0, so our accuracy for each item can be calculated (using broadcasting, so no loops!) with:"
   ]
  },
  {
   "cell_type": "code",
   "execution_count": 121,
   "metadata": {},
   "outputs": [
    {
     "output_type": "execute_result",
     "data": {
      "text/plain": "tensor([[ True],\n        [ True],\n        [ True],\n        ...,\n        [False],\n        [False],\n        [False]])"
     },
     "metadata": {},
     "execution_count": 121
    }
   ],
   "source": [
    "corrects = (preds>0.0).float() == train_y\n",
    "corrects"
   ]
  },
  {
   "cell_type": "code",
   "execution_count": 122,
   "metadata": {},
   "outputs": [
    {
     "output_type": "execute_result",
     "data": {
      "text/plain": "0.4912068545818329"
     },
     "metadata": {},
     "execution_count": 122
    }
   ],
   "source": [
    "corrects.float().mean().item()"
   ]
  },
  {
   "cell_type": "markdown",
   "metadata": {},
   "source": [
    "Now let's see what the change in accuracy is for a small change in one of the weights:"
   ]
  },
  {
   "cell_type": "code",
   "execution_count": 123,
   "metadata": {},
   "outputs": [],
   "source": [
    "weights[0] *= 1.0001"
   ]
  },
  {
   "cell_type": "code",
   "execution_count": 124,
   "metadata": {},
   "outputs": [
    {
     "output_type": "execute_result",
     "data": {
      "text/plain": "0.4912068545818329"
     },
     "metadata": {},
     "execution_count": 124
    }
   ],
   "source": [
    "preds = linear1(train_x)\n",
    "((preds>0.0).float() == train_y).float().mean().item()"
   ]
  },
  {
   "cell_type": "markdown",
   "metadata": {},
   "source": [
    "As we've seen, we need gradients in order to improve our model using SGD, and in order to calculate gradients we need some *loss function* that represents how good our model is. That is because the gradients are a measure of how that loss function changes with small tweaks to the weights.\n",
    "\n",
    "So, we need to choose a loss function. The obvious approach would be to use accuracy, which is our metric, as our loss function as well. In this case, we would calculate our prediction for each image, collect these values to calculate an overall accuracy, and then calculate the gradients of each weight with respect to that overall accuracy.\n",
    "\n",
    "Unfortunately, we have a significant technical problem here. The gradient of a function is its *slope*, or its steepness, which can be defined as *rise over run*—that is, how much the value of the function goes up or down, divided by how much we changed the input. We can write this in mathematically as: `(y_new - y_old) / (x_new - x_old)`. This gives us a good approximation of the gradient when `x_new` is very similar to `x_old`, meaning that their difference is very small. But accuracy only changes at all when a prediction changes from a 3 to a 7, or vice versa. The problem is that a small change in weights from `x_old` to `x_new` isn't likely to cause any prediction to change, so `(y_new - y_old)` will almost always be 0. In other words, the gradient is 0 almost everywhere."
   ]
  },
  {
   "cell_type": "markdown",
   "metadata": {},
   "source": [
    "A very small change in the value of a weight will often not actually change the accuracy at all. This means it is not useful to use accuracy as a loss function—if we do, most of the time our gradients will actually be 0, and the model will not be able to learn from that number.\n",
    "\n",
    "> S: In mathematical terms, accuracy is a function that is constant almost everywhere (except at the threshold, 0.5), so its derivative is nil almost everywhere (and infinity at the threshold). This then gives gradients that are 0 or infinite, which are useless for updating the model.\n",
    "\n",
    "Instead, we need a loss function which, when our weights result in slightly better predictions, gives us a slightly better loss. So what does a \"slightly better prediction\" look like, exactly? Well, in this case, it means that if the correct answer is a 3 the score is a little higher, or if the correct answer is a 7 the score is a little lower.\n",
    "\n",
    "Let's write such a function now. What form does it take?\n",
    "\n",
    "The loss function receives not the images themselves, but the predictions from the model. Let's make one argument, `prds`, of values between 0 and 1, where each value is the prediction that an image is a 3. It is a vector (i.e., a rank-1 tensor), indexed over the images.\n",
    "\n",
    "The purpose of the loss function is to measure the difference between predicted values and the true values — that is, the targets (aka labels). Let's make another argument, `trgts`, with values of 0 or 1 which tells whether an image actually is a 3 or not. It is also a vector (i.e., another rank-1 tensor), indexed over the images.\n",
    "\n",
    "So, for instance, suppose we had three images which we knew were a 3, a 7, and a 3. And suppose our model predicted with high confidence (`0.9`) that the first was a 3, with slight confidence (`0.4`) that the second was a 7, and with fair confidence (`0.2`), but incorrectly, that the last was a 7. This would mean our loss function would receive these values as its inputs:"
   ]
  },
  {
   "cell_type": "code",
   "execution_count": 125,
   "metadata": {},
   "outputs": [],
   "source": [
    "trgts  = tensor([1,0,1])\n",
    "prds   = tensor([0.9, 0.4, 0.2])"
   ]
  },
  {
   "cell_type": "markdown",
   "metadata": {},
   "source": [
    "Here's a first try at a loss function that measures the distance between `predictions` and `targets`:"
   ]
  },
  {
   "cell_type": "code",
   "execution_count": 126,
   "metadata": {},
   "outputs": [],
   "source": [
    "def mnist_loss(predictions, targets):\n",
    "    return torch.where(targets==1, 1-predictions, predictions).mean()"
   ]
  },
  {
   "cell_type": "markdown",
   "metadata": {},
   "source": [
    "We're using a new function, `torch.where(a,b,c)`. This is the same as running the list comprehension `[b[i] if a[i] else c[i] for i in range(len(a))]`, except it works on tensors, at C/CUDA speed. In plain English, this function will measure how distant each prediction is from 1 if it should be 1, and how distant it is from 0 if it should be 0, and then it will take the mean of all those distances.\n",
    "\n",
    "> note: Read the Docs: It's important to learn about PyTorch functions like this, because looping over tensors in Python performs at Python speed, not C/CUDA speed! Try running `help(torch.where)` now to read the docs for this function, or, better still, look it up on the PyTorch documentation site."
   ]
  },
  {
   "cell_type": "markdown",
   "metadata": {},
   "source": [
    "Let's try it on our `prds` and `trgts`:"
   ]
  },
  {
   "cell_type": "code",
   "execution_count": 127,
   "metadata": {},
   "outputs": [
    {
     "output_type": "execute_result",
     "data": {
      "text/plain": "tensor([0.1000, 0.4000, 0.8000])"
     },
     "metadata": {},
     "execution_count": 127
    }
   ],
   "source": [
    "torch.where(trgts==1, 1-prds, prds)"
   ]
  },
  {
   "cell_type": "markdown",
   "metadata": {},
   "source": [
    "You can see that this function returns a lower number when predictions are more accurate, when accurate predictions are more confident (higher absolute values), and when inaccurate predictions are less confident. In PyTorch, we always assume that a lower value of a loss function is better. Since we need a scalar for the final loss, `mnist_loss` takes the mean of the previous tensor:"
   ]
  },
  {
   "cell_type": "code",
   "execution_count": 128,
   "metadata": {},
   "outputs": [
    {
     "output_type": "execute_result",
     "data": {
      "text/plain": "tensor(0.4333)"
     },
     "metadata": {},
     "execution_count": 128
    }
   ],
   "source": [
    "mnist_loss(prds,trgts)"
   ]
  },
  {
   "cell_type": "markdown",
   "metadata": {},
   "source": [
    "For instance, if we change our prediction for the one \"false\" target from `0.2` to `0.8` the loss will go down, indicating that this is a better prediction:"
   ]
  },
  {
   "cell_type": "code",
   "execution_count": 129,
   "metadata": {},
   "outputs": [
    {
     "output_type": "execute_result",
     "data": {
      "text/plain": "tensor(0.2333)"
     },
     "metadata": {},
     "execution_count": 129
    }
   ],
   "source": [
    "mnist_loss(tensor([0.9, 0.4, 0.8]),trgts)"
   ]
  },
  {
   "cell_type": "markdown",
   "metadata": {},
   "source": [
    "One problem with `mnist_loss` as currently defined is that it assumes that predictions are always between 0 and 1. We need to ensure, then, that this is actually the case! As it happens, there is a function that does exactly that—let's take a look."
   ]
  },
  {
   "cell_type": "markdown",
   "metadata": {},
   "source": [
    "### Sigmoid"
   ]
  },
  {
   "cell_type": "markdown",
   "metadata": {},
   "source": [
    "The `sigmoid` function always outputs a number between 0 and 1. It's defined as follows:"
   ]
  },
  {
   "cell_type": "code",
   "execution_count": 130,
   "metadata": {},
   "outputs": [],
   "source": [
    "def sigmoid(x): return 1/(1+torch.exp(-x))"
   ]
  },
  {
   "cell_type": "markdown",
   "metadata": {},
   "source": [
    "Pytorch defines an accelerated version for us, so we don’t really need our own. This is an important function in deep learning, since we often want to ensure values are between 0 and 1. This is what it looks like:"
   ]
  },
  {
   "cell_type": "code",
   "execution_count": 131,
   "metadata": {},
   "outputs": [
    {
     "output_type": "display_data",
     "data": {
      "text/plain": "<Figure size 432x288 with 1 Axes>",
      "image/svg+xml": "<?xml version=\"1.0\" encoding=\"utf-8\" standalone=\"no\"?>\n<!DOCTYPE svg PUBLIC \"-//W3C//DTD SVG 1.1//EN\"\n  \"http://www.w3.org/Graphics/SVG/1.1/DTD/svg11.dtd\">\n<!-- Created with matplotlib (https://matplotlib.org/) -->\n<svg height=\"267.3955pt\" version=\"1.1\" viewBox=\"0 0 375.28375 267.3955\" width=\"375.28375pt\" xmlns=\"http://www.w3.org/2000/svg\" xmlns:xlink=\"http://www.w3.org/1999/xlink\">\n <metadata>\n  <rdf:RDF xmlns:cc=\"http://creativecommons.org/ns#\" xmlns:dc=\"http://purl.org/dc/elements/1.1/\" xmlns:rdf=\"http://www.w3.org/1999/02/22-rdf-syntax-ns#\">\n   <cc:Work>\n    <dc:type rdf:resource=\"http://purl.org/dc/dcmitype/StillImage\"/>\n    <dc:date>2020-09-28T07:06:58.517481</dc:date>\n    <dc:format>image/svg+xml</dc:format>\n    <dc:creator>\n     <cc:Agent>\n      <dc:title>Matplotlib v3.3.2, https://matplotlib.org/</dc:title>\n     </cc:Agent>\n    </dc:creator>\n   </cc:Work>\n  </rdf:RDF>\n </metadata>\n <defs>\n  <style type=\"text/css\">*{stroke-linecap:butt;stroke-linejoin:round;}</style>\n </defs>\n <g id=\"figure_1\">\n  <g id=\"patch_1\">\n   <path d=\"M 0 267.3955 \nL 375.28375 267.3955 \nL 375.28375 0 \nL 0 0 \nz\n\" style=\"fill:none;\"/>\n  </g>\n  <g id=\"axes_1\">\n   <g id=\"patch_2\">\n    <path d=\"M 33.28375 241.58175 \nL 368.08375 241.58175 \nL 368.08375 24.14175 \nL 33.28375 24.14175 \nz\n\" style=\"fill:#ffffff;\"/>\n   </g>\n   <g id=\"matplotlib.axis_1\">\n    <g id=\"xtick_1\">\n     <g id=\"line2d_1\">\n      <defs>\n       <path d=\"M 0 0 \nL 0 3.5 \n\" id=\"md585c0c06b\" style=\"stroke:#000000;stroke-width:0.8;\"/>\n      </defs>\n      <g>\n       <use style=\"stroke:#000000;stroke-width:0.8;\" x=\"48.501932\" xlink:href=\"#md585c0c06b\" y=\"241.58175\"/>\n      </g>\n     </g>\n     <g id=\"text_1\">\n      <!-- −4 -->\n      <g transform=\"translate(39.656619 257.699875)scale(0.12 -0.12)\">\n       <defs>\n        <path d=\"M 10.59375 35.5 \nL 73.1875 35.5 \nL 73.1875 27.203125 \nL 10.59375 27.203125 \nz\n\" id=\"DejaVuSans-8722\"/>\n        <path d=\"M 37.796875 64.3125 \nL 12.890625 25.390625 \nL 37.796875 25.390625 \nz\nM 35.203125 72.90625 \nL 47.609375 72.90625 \nL 47.609375 25.390625 \nL 58.015625 25.390625 \nL 58.015625 17.1875 \nL 47.609375 17.1875 \nL 47.609375 0 \nL 37.796875 0 \nL 37.796875 17.1875 \nL 4.890625 17.1875 \nL 4.890625 26.703125 \nz\n\" id=\"DejaVuSans-52\"/>\n       </defs>\n       <use xlink:href=\"#DejaVuSans-8722\"/>\n       <use x=\"83.789062\" xlink:href=\"#DejaVuSans-52\"/>\n      </g>\n     </g>\n    </g>\n    <g id=\"xtick_2\">\n     <g id=\"line2d_2\">\n      <g>\n       <use style=\"stroke:#000000;stroke-width:0.8;\" x=\"86.547386\" xlink:href=\"#md585c0c06b\" y=\"241.58175\"/>\n      </g>\n     </g>\n     <g id=\"text_2\">\n      <!-- −3 -->\n      <g transform=\"translate(77.702074 257.699875)scale(0.12 -0.12)\">\n       <defs>\n        <path d=\"M 40.578125 39.3125 \nQ 47.65625 37.796875 51.625 33 \nQ 55.609375 28.21875 55.609375 21.1875 \nQ 55.609375 10.40625 48.1875 4.484375 \nQ 40.765625 -1.421875 27.09375 -1.421875 \nQ 22.515625 -1.421875 17.65625 -0.515625 \nQ 12.796875 0.390625 7.625 2.203125 \nL 7.625 11.71875 \nQ 11.71875 9.328125 16.59375 8.109375 \nQ 21.484375 6.890625 26.8125 6.890625 \nQ 36.078125 6.890625 40.9375 10.546875 \nQ 45.796875 14.203125 45.796875 21.1875 \nQ 45.796875 27.640625 41.28125 31.265625 \nQ 36.765625 34.90625 28.71875 34.90625 \nL 20.21875 34.90625 \nL 20.21875 43.015625 \nL 29.109375 43.015625 \nQ 36.375 43.015625 40.234375 45.921875 \nQ 44.09375 48.828125 44.09375 54.296875 \nQ 44.09375 59.90625 40.109375 62.90625 \nQ 36.140625 65.921875 28.71875 65.921875 \nQ 24.65625 65.921875 20.015625 65.03125 \nQ 15.375 64.15625 9.8125 62.3125 \nL 9.8125 71.09375 \nQ 15.4375 72.65625 20.34375 73.4375 \nQ 25.25 74.21875 29.59375 74.21875 \nQ 40.828125 74.21875 47.359375 69.109375 \nQ 53.90625 64.015625 53.90625 55.328125 \nQ 53.90625 49.265625 50.4375 45.09375 \nQ 46.96875 40.921875 40.578125 39.3125 \nz\n\" id=\"DejaVuSans-51\"/>\n       </defs>\n       <use xlink:href=\"#DejaVuSans-8722\"/>\n       <use x=\"83.789062\" xlink:href=\"#DejaVuSans-51\"/>\n      </g>\n     </g>\n    </g>\n    <g id=\"xtick_3\">\n     <g id=\"line2d_3\">\n      <g>\n       <use style=\"stroke:#000000;stroke-width:0.8;\" x=\"124.592841\" xlink:href=\"#md585c0c06b\" y=\"241.58175\"/>\n      </g>\n     </g>\n     <g id=\"text_3\">\n      <!-- −2 -->\n      <g transform=\"translate(115.747528 257.699875)scale(0.12 -0.12)\">\n       <defs>\n        <path d=\"M 19.1875 8.296875 \nL 53.609375 8.296875 \nL 53.609375 0 \nL 7.328125 0 \nL 7.328125 8.296875 \nQ 12.9375 14.109375 22.625 23.890625 \nQ 32.328125 33.6875 34.8125 36.53125 \nQ 39.546875 41.84375 41.421875 45.53125 \nQ 43.3125 49.21875 43.3125 52.78125 \nQ 43.3125 58.59375 39.234375 62.25 \nQ 35.15625 65.921875 28.609375 65.921875 \nQ 23.96875 65.921875 18.8125 64.3125 \nQ 13.671875 62.703125 7.8125 59.421875 \nL 7.8125 69.390625 \nQ 13.765625 71.78125 18.9375 73 \nQ 24.125 74.21875 28.421875 74.21875 \nQ 39.75 74.21875 46.484375 68.546875 \nQ 53.21875 62.890625 53.21875 53.421875 \nQ 53.21875 48.921875 51.53125 44.890625 \nQ 49.859375 40.875 45.40625 35.40625 \nQ 44.1875 33.984375 37.640625 27.21875 \nQ 31.109375 20.453125 19.1875 8.296875 \nz\n\" id=\"DejaVuSans-50\"/>\n       </defs>\n       <use xlink:href=\"#DejaVuSans-8722\"/>\n       <use x=\"83.789062\" xlink:href=\"#DejaVuSans-50\"/>\n      </g>\n     </g>\n    </g>\n    <g id=\"xtick_4\">\n     <g id=\"line2d_4\">\n      <g>\n       <use style=\"stroke:#000000;stroke-width:0.8;\" x=\"162.638295\" xlink:href=\"#md585c0c06b\" y=\"241.58175\"/>\n      </g>\n     </g>\n     <g id=\"text_4\">\n      <!-- −1 -->\n      <g transform=\"translate(153.792983 257.699875)scale(0.12 -0.12)\">\n       <defs>\n        <path d=\"M 12.40625 8.296875 \nL 28.515625 8.296875 \nL 28.515625 63.921875 \nL 10.984375 60.40625 \nL 10.984375 69.390625 \nL 28.421875 72.90625 \nL 38.28125 72.90625 \nL 38.28125 8.296875 \nL 54.390625 8.296875 \nL 54.390625 0 \nL 12.40625 0 \nz\n\" id=\"DejaVuSans-49\"/>\n       </defs>\n       <use xlink:href=\"#DejaVuSans-8722\"/>\n       <use x=\"83.789062\" xlink:href=\"#DejaVuSans-49\"/>\n      </g>\n     </g>\n    </g>\n    <g id=\"xtick_5\">\n     <g id=\"line2d_5\">\n      <g>\n       <use style=\"stroke:#000000;stroke-width:0.8;\" x=\"200.68375\" xlink:href=\"#md585c0c06b\" y=\"241.58175\"/>\n      </g>\n     </g>\n     <g id=\"text_5\">\n      <!-- 0 -->\n      <g transform=\"translate(196.86625 257.699875)scale(0.12 -0.12)\">\n       <defs>\n        <path d=\"M 31.78125 66.40625 \nQ 24.171875 66.40625 20.328125 58.90625 \nQ 16.5 51.421875 16.5 36.375 \nQ 16.5 21.390625 20.328125 13.890625 \nQ 24.171875 6.390625 31.78125 6.390625 \nQ 39.453125 6.390625 43.28125 13.890625 \nQ 47.125 21.390625 47.125 36.375 \nQ 47.125 51.421875 43.28125 58.90625 \nQ 39.453125 66.40625 31.78125 66.40625 \nz\nM 31.78125 74.21875 \nQ 44.046875 74.21875 50.515625 64.515625 \nQ 56.984375 54.828125 56.984375 36.375 \nQ 56.984375 17.96875 50.515625 8.265625 \nQ 44.046875 -1.421875 31.78125 -1.421875 \nQ 19.53125 -1.421875 13.0625 8.265625 \nQ 6.59375 17.96875 6.59375 36.375 \nQ 6.59375 54.828125 13.0625 64.515625 \nQ 19.53125 74.21875 31.78125 74.21875 \nz\n\" id=\"DejaVuSans-48\"/>\n       </defs>\n       <use xlink:href=\"#DejaVuSans-48\"/>\n      </g>\n     </g>\n    </g>\n    <g id=\"xtick_6\">\n     <g id=\"line2d_6\">\n      <g>\n       <use style=\"stroke:#000000;stroke-width:0.8;\" x=\"238.729205\" xlink:href=\"#md585c0c06b\" y=\"241.58175\"/>\n      </g>\n     </g>\n     <g id=\"text_6\">\n      <!-- 1 -->\n      <g transform=\"translate(234.911705 257.699875)scale(0.12 -0.12)\">\n       <use xlink:href=\"#DejaVuSans-49\"/>\n      </g>\n     </g>\n    </g>\n    <g id=\"xtick_7\">\n     <g id=\"line2d_7\">\n      <g>\n       <use style=\"stroke:#000000;stroke-width:0.8;\" x=\"276.774659\" xlink:href=\"#md585c0c06b\" y=\"241.58175\"/>\n      </g>\n     </g>\n     <g id=\"text_7\">\n      <!-- 2 -->\n      <g transform=\"translate(272.957159 257.699875)scale(0.12 -0.12)\">\n       <use xlink:href=\"#DejaVuSans-50\"/>\n      </g>\n     </g>\n    </g>\n    <g id=\"xtick_8\">\n     <g id=\"line2d_8\">\n      <g>\n       <use style=\"stroke:#000000;stroke-width:0.8;\" x=\"314.820114\" xlink:href=\"#md585c0c06b\" y=\"241.58175\"/>\n      </g>\n     </g>\n     <g id=\"text_8\">\n      <!-- 3 -->\n      <g transform=\"translate(311.002614 257.699875)scale(0.12 -0.12)\">\n       <use xlink:href=\"#DejaVuSans-51\"/>\n      </g>\n     </g>\n    </g>\n    <g id=\"xtick_9\">\n     <g id=\"line2d_9\">\n      <g>\n       <use style=\"stroke:#000000;stroke-width:0.8;\" x=\"352.865568\" xlink:href=\"#md585c0c06b\" y=\"241.58175\"/>\n      </g>\n     </g>\n     <g id=\"text_9\">\n      <!-- 4 -->\n      <g transform=\"translate(349.048068 257.699875)scale(0.12 -0.12)\">\n       <use xlink:href=\"#DejaVuSans-52\"/>\n      </g>\n     </g>\n    </g>\n   </g>\n   <g id=\"matplotlib.axis_2\">\n    <g id=\"ytick_1\">\n     <g id=\"line2d_10\">\n      <defs>\n       <path d=\"M 0 0 \nL -3.5 0 \n\" id=\"m07dbf639da\" style=\"stroke:#000000;stroke-width:0.8;\"/>\n      </defs>\n      <g>\n       <use style=\"stroke:#000000;stroke-width:0.8;\" x=\"33.28375\" xlink:href=\"#m07dbf639da\" y=\"235.386165\"/>\n      </g>\n     </g>\n     <g id=\"text_10\">\n      <!-- 0.0 -->\n      <g transform=\"translate(7.2 239.945228)scale(0.12 -0.12)\">\n       <defs>\n        <path d=\"M 10.6875 12.40625 \nL 21 12.40625 \nL 21 0 \nL 10.6875 0 \nz\n\" id=\"DejaVuSans-46\"/>\n       </defs>\n       <use xlink:href=\"#DejaVuSans-48\"/>\n       <use x=\"63.623047\" xlink:href=\"#DejaVuSans-46\"/>\n       <use x=\"95.410156\" xlink:href=\"#DejaVuSans-48\"/>\n      </g>\n     </g>\n    </g>\n    <g id=\"ytick_2\">\n     <g id=\"line2d_11\">\n      <g>\n       <use style=\"stroke:#000000;stroke-width:0.8;\" x=\"33.28375\" xlink:href=\"#m07dbf639da\" y=\"194.376398\"/>\n      </g>\n     </g>\n     <g id=\"text_11\">\n      <!-- 0.2 -->\n      <g transform=\"translate(7.2 198.93546)scale(0.12 -0.12)\">\n       <use xlink:href=\"#DejaVuSans-48\"/>\n       <use x=\"63.623047\" xlink:href=\"#DejaVuSans-46\"/>\n       <use x=\"95.410156\" xlink:href=\"#DejaVuSans-50\"/>\n      </g>\n     </g>\n    </g>\n    <g id=\"ytick_3\">\n     <g id=\"line2d_12\">\n      <g>\n       <use style=\"stroke:#000000;stroke-width:0.8;\" x=\"33.28375\" xlink:href=\"#m07dbf639da\" y=\"153.366631\"/>\n      </g>\n     </g>\n     <g id=\"text_12\">\n      <!-- 0.4 -->\n      <g transform=\"translate(7.2 157.925693)scale(0.12 -0.12)\">\n       <use xlink:href=\"#DejaVuSans-48\"/>\n       <use x=\"63.623047\" xlink:href=\"#DejaVuSans-46\"/>\n       <use x=\"95.410156\" xlink:href=\"#DejaVuSans-52\"/>\n      </g>\n     </g>\n    </g>\n    <g id=\"ytick_4\">\n     <g id=\"line2d_13\">\n      <g>\n       <use style=\"stroke:#000000;stroke-width:0.8;\" x=\"33.28375\" xlink:href=\"#m07dbf639da\" y=\"112.356864\"/>\n      </g>\n     </g>\n     <g id=\"text_13\">\n      <!-- 0.6 -->\n      <g transform=\"translate(7.2 116.915926)scale(0.12 -0.12)\">\n       <defs>\n        <path d=\"M 33.015625 40.375 \nQ 26.375 40.375 22.484375 35.828125 \nQ 18.609375 31.296875 18.609375 23.390625 \nQ 18.609375 15.53125 22.484375 10.953125 \nQ 26.375 6.390625 33.015625 6.390625 \nQ 39.65625 6.390625 43.53125 10.953125 \nQ 47.40625 15.53125 47.40625 23.390625 \nQ 47.40625 31.296875 43.53125 35.828125 \nQ 39.65625 40.375 33.015625 40.375 \nz\nM 52.59375 71.296875 \nL 52.59375 62.3125 \nQ 48.875 64.0625 45.09375 64.984375 \nQ 41.3125 65.921875 37.59375 65.921875 \nQ 27.828125 65.921875 22.671875 59.328125 \nQ 17.53125 52.734375 16.796875 39.40625 \nQ 19.671875 43.65625 24.015625 45.921875 \nQ 28.375 48.1875 33.59375 48.1875 \nQ 44.578125 48.1875 50.953125 41.515625 \nQ 57.328125 34.859375 57.328125 23.390625 \nQ 57.328125 12.15625 50.6875 5.359375 \nQ 44.046875 -1.421875 33.015625 -1.421875 \nQ 20.359375 -1.421875 13.671875 8.265625 \nQ 6.984375 17.96875 6.984375 36.375 \nQ 6.984375 53.65625 15.1875 63.9375 \nQ 23.390625 74.21875 37.203125 74.21875 \nQ 40.921875 74.21875 44.703125 73.484375 \nQ 48.484375 72.75 52.59375 71.296875 \nz\n\" id=\"DejaVuSans-54\"/>\n       </defs>\n       <use xlink:href=\"#DejaVuSans-48\"/>\n       <use x=\"63.623047\" xlink:href=\"#DejaVuSans-46\"/>\n       <use x=\"95.410156\" xlink:href=\"#DejaVuSans-54\"/>\n      </g>\n     </g>\n    </g>\n    <g id=\"ytick_5\">\n     <g id=\"line2d_14\">\n      <g>\n       <use style=\"stroke:#000000;stroke-width:0.8;\" x=\"33.28375\" xlink:href=\"#m07dbf639da\" y=\"71.347096\"/>\n      </g>\n     </g>\n     <g id=\"text_14\">\n      <!-- 0.8 -->\n      <g transform=\"translate(7.2 75.906159)scale(0.12 -0.12)\">\n       <defs>\n        <path d=\"M 31.78125 34.625 \nQ 24.75 34.625 20.71875 30.859375 \nQ 16.703125 27.09375 16.703125 20.515625 \nQ 16.703125 13.921875 20.71875 10.15625 \nQ 24.75 6.390625 31.78125 6.390625 \nQ 38.8125 6.390625 42.859375 10.171875 \nQ 46.921875 13.96875 46.921875 20.515625 \nQ 46.921875 27.09375 42.890625 30.859375 \nQ 38.875 34.625 31.78125 34.625 \nz\nM 21.921875 38.8125 \nQ 15.578125 40.375 12.03125 44.71875 \nQ 8.5 49.078125 8.5 55.328125 \nQ 8.5 64.0625 14.71875 69.140625 \nQ 20.953125 74.21875 31.78125 74.21875 \nQ 42.671875 74.21875 48.875 69.140625 \nQ 55.078125 64.0625 55.078125 55.328125 \nQ 55.078125 49.078125 51.53125 44.71875 \nQ 48 40.375 41.703125 38.8125 \nQ 48.828125 37.15625 52.796875 32.3125 \nQ 56.78125 27.484375 56.78125 20.515625 \nQ 56.78125 9.90625 50.3125 4.234375 \nQ 43.84375 -1.421875 31.78125 -1.421875 \nQ 19.734375 -1.421875 13.25 4.234375 \nQ 6.78125 9.90625 6.78125 20.515625 \nQ 6.78125 27.484375 10.78125 32.3125 \nQ 14.796875 37.15625 21.921875 38.8125 \nz\nM 18.3125 54.390625 \nQ 18.3125 48.734375 21.84375 45.5625 \nQ 25.390625 42.390625 31.78125 42.390625 \nQ 38.140625 42.390625 41.71875 45.5625 \nQ 45.3125 48.734375 45.3125 54.390625 \nQ 45.3125 60.0625 41.71875 63.234375 \nQ 38.140625 66.40625 31.78125 66.40625 \nQ 25.390625 66.40625 21.84375 63.234375 \nQ 18.3125 60.0625 18.3125 54.390625 \nz\n\" id=\"DejaVuSans-56\"/>\n       </defs>\n       <use xlink:href=\"#DejaVuSans-48\"/>\n       <use x=\"63.623047\" xlink:href=\"#DejaVuSans-46\"/>\n       <use x=\"95.410156\" xlink:href=\"#DejaVuSans-56\"/>\n      </g>\n     </g>\n    </g>\n    <g id=\"ytick_6\">\n     <g id=\"line2d_15\">\n      <g>\n       <use style=\"stroke:#000000;stroke-width:0.8;\" x=\"33.28375\" xlink:href=\"#m07dbf639da\" y=\"30.337329\"/>\n      </g>\n     </g>\n     <g id=\"text_15\">\n      <!-- 1.0 -->\n      <g transform=\"translate(7.2 34.896392)scale(0.12 -0.12)\">\n       <use xlink:href=\"#DejaVuSans-49\"/>\n       <use x=\"63.623047\" xlink:href=\"#DejaVuSans-46\"/>\n       <use x=\"95.410156\" xlink:href=\"#DejaVuSans-48\"/>\n      </g>\n     </g>\n    </g>\n   </g>\n   <g id=\"line2d_16\">\n    <path clip-path=\"url(#pd5769c773b)\" d=\"M 48.501932 231.698114 \nL 51.576315 231.39376 \nL 54.650689 231.06483 \nL 57.725073 230.709429 \nL 60.799456 230.325536 \nL 63.87383 229.910993 \nL 66.948213 229.463496 \nL 70.022597 228.980599 \nL 73.096971 228.459701 \nL 76.171354 227.898038 \nL 79.245728 227.292694 \nL 82.320112 226.640576 \nL 85.394495 225.938436 \nL 88.468869 225.182857 \nL 91.543252 224.370252 \nL 94.617627 223.496881 \nL 97.69201 222.55884 \nL 100.766393 221.552093 \nL 103.840767 220.472464 \nL 106.915151 219.315657 \nL 109.989534 218.077291 \nL 113.063908 216.752908 \nL 116.138291 215.338009 \nL 119.212675 213.828097 \nL 122.287058 212.218706 \nL 125.361437 210.505462 \nL 128.43582 208.684123 \nL 131.510199 206.750646 \nL 134.584577 204.701256 \nL 137.658956 202.532511 \nL 140.73334 200.241376 \nL 143.807718 197.825318 \nL 146.882097 195.282373 \nL 149.956476 192.611227 \nL 153.030859 189.81133 \nL 156.105238 186.882941 \nL 159.179617 183.827228 \nL 162.253995 180.646317 \nL 165.328379 177.343364 \nL 168.402757 173.922611 \nL 171.477136 170.389405 \nL 174.551517 166.750168 \nL 177.625896 163.012472 \nL 180.700277 159.184933 \nL 183.774657 155.277188 \nL 186.849037 151.299827 \nL 189.923418 147.264272 \nL 192.997796 143.182677 \nL 196.072184 139.067746 \nL 199.146564 134.932656 \nL 202.220944 130.790826 \nL 205.295325 126.65573 \nL 208.369705 122.540824 \nL 211.444085 118.459223 \nL 214.518466 114.423661 \nL 217.592844 110.4463 \nL 220.667223 106.538567 \nL 223.741604 102.711022 \nL 226.815983 98.97332 \nL 229.890364 95.334089 \nL 232.964743 91.800883 \nL 236.039124 88.38013 \nL 239.113505 85.077184 \nL 242.187883 81.896273 \nL 245.262262 78.840563 \nL 248.336641 75.912168 \nL 251.411024 73.112261 \nL 254.485403 70.441124 \nL 257.559782 67.898182 \nL 260.63416 65.482115 \nL 263.708544 63.190968 \nL 266.782923 61.022235 \nL 269.857301 58.972849 \nL 272.93168 57.039374 \nL 276.006063 55.218036 \nL 279.080442 53.504799 \nL 282.154825 51.8954 \nL 285.2292 50.385487 \nL 288.303583 48.970598 \nL 291.377957 47.6462 \nL 294.45234 46.407832 \nL 297.526724 45.251045 \nL 300.601098 44.171403 \nL 303.675481 43.164663 \nL 306.749864 42.226623 \nL 309.824239 41.353237 \nL 312.898622 40.540642 \nL 315.973005 39.785049 \nL 319.047388 39.082903 \nL 322.121772 38.430794 \nL 325.196146 37.825457 \nL 328.270529 37.263789 \nL 331.344912 36.742893 \nL 334.419287 36.259995 \nL 337.49367 35.812504 \nL 340.568053 35.397963 \nL 343.642427 35.014062 \nL 346.716811 34.658662 \nL 349.791185 34.329735 \nL 352.865568 34.025386 \n\" style=\"fill:none;stroke:#1f77b4;stroke-linecap:square;stroke-width:1.5;\"/>\n   </g>\n   <g id=\"patch_3\">\n    <path d=\"M 33.28375 241.58175 \nL 33.28375 24.14175 \n\" style=\"fill:none;stroke:#000000;stroke-linecap:square;stroke-linejoin:miter;stroke-width:0.8;\"/>\n   </g>\n   <g id=\"patch_4\">\n    <path d=\"M 368.08375 241.58175 \nL 368.08375 24.14175 \n\" style=\"fill:none;stroke:#000000;stroke-linecap:square;stroke-linejoin:miter;stroke-width:0.8;\"/>\n   </g>\n   <g id=\"patch_5\">\n    <path d=\"M 33.28375 241.58175 \nL 368.08375 241.58175 \n\" style=\"fill:none;stroke:#000000;stroke-linecap:square;stroke-linejoin:miter;stroke-width:0.8;\"/>\n   </g>\n   <g id=\"patch_6\">\n    <path d=\"M 33.28375 24.14175 \nL 368.08375 24.14175 \n\" style=\"fill:none;stroke:#000000;stroke-linecap:square;stroke-linejoin:miter;stroke-width:0.8;\"/>\n   </g>\n   <g id=\"text_16\">\n    <!-- Sigmoid -->\n    <g transform=\"translate(171.551875 18.14175)scale(0.144 -0.144)\">\n     <defs>\n      <path d=\"M 53.515625 70.515625 \nL 53.515625 60.890625 \nQ 47.90625 63.578125 42.921875 64.890625 \nQ 37.9375 66.21875 33.296875 66.21875 \nQ 25.25 66.21875 20.875 63.09375 \nQ 16.5 59.96875 16.5 54.203125 \nQ 16.5 49.359375 19.40625 46.890625 \nQ 22.3125 44.4375 30.421875 42.921875 \nL 36.375 41.703125 \nQ 47.40625 39.59375 52.65625 34.296875 \nQ 57.90625 29 57.90625 20.125 \nQ 57.90625 9.515625 50.796875 4.046875 \nQ 43.703125 -1.421875 29.984375 -1.421875 \nQ 24.8125 -1.421875 18.96875 -0.25 \nQ 13.140625 0.921875 6.890625 3.21875 \nL 6.890625 13.375 \nQ 12.890625 10.015625 18.65625 8.296875 \nQ 24.421875 6.59375 29.984375 6.59375 \nQ 38.421875 6.59375 43.015625 9.90625 \nQ 47.609375 13.234375 47.609375 19.390625 \nQ 47.609375 24.75 44.3125 27.78125 \nQ 41.015625 30.8125 33.5 32.328125 \nL 27.484375 33.5 \nQ 16.453125 35.6875 11.515625 40.375 \nQ 6.59375 45.0625 6.59375 53.421875 \nQ 6.59375 63.09375 13.40625 68.65625 \nQ 20.21875 74.21875 32.171875 74.21875 \nQ 37.3125 74.21875 42.625 73.28125 \nQ 47.953125 72.359375 53.515625 70.515625 \nz\n\" id=\"DejaVuSans-83\"/>\n      <path d=\"M 9.421875 54.6875 \nL 18.40625 54.6875 \nL 18.40625 0 \nL 9.421875 0 \nz\nM 9.421875 75.984375 \nL 18.40625 75.984375 \nL 18.40625 64.59375 \nL 9.421875 64.59375 \nz\n\" id=\"DejaVuSans-105\"/>\n      <path d=\"M 45.40625 27.984375 \nQ 45.40625 37.75 41.375 43.109375 \nQ 37.359375 48.484375 30.078125 48.484375 \nQ 22.859375 48.484375 18.828125 43.109375 \nQ 14.796875 37.75 14.796875 27.984375 \nQ 14.796875 18.265625 18.828125 12.890625 \nQ 22.859375 7.515625 30.078125 7.515625 \nQ 37.359375 7.515625 41.375 12.890625 \nQ 45.40625 18.265625 45.40625 27.984375 \nz\nM 54.390625 6.78125 \nQ 54.390625 -7.171875 48.1875 -13.984375 \nQ 42 -20.796875 29.203125 -20.796875 \nQ 24.46875 -20.796875 20.265625 -20.09375 \nQ 16.0625 -19.390625 12.109375 -17.921875 \nL 12.109375 -9.1875 \nQ 16.0625 -11.328125 19.921875 -12.34375 \nQ 23.78125 -13.375 27.78125 -13.375 \nQ 36.625 -13.375 41.015625 -8.765625 \nQ 45.40625 -4.15625 45.40625 5.171875 \nL 45.40625 9.625 \nQ 42.625 4.78125 38.28125 2.390625 \nQ 33.9375 0 27.875 0 \nQ 17.828125 0 11.671875 7.65625 \nQ 5.515625 15.328125 5.515625 27.984375 \nQ 5.515625 40.671875 11.671875 48.328125 \nQ 17.828125 56 27.875 56 \nQ 33.9375 56 38.28125 53.609375 \nQ 42.625 51.21875 45.40625 46.390625 \nL 45.40625 54.6875 \nL 54.390625 54.6875 \nz\n\" id=\"DejaVuSans-103\"/>\n      <path d=\"M 52 44.1875 \nQ 55.375 50.25 60.0625 53.125 \nQ 64.75 56 71.09375 56 \nQ 79.640625 56 84.28125 50.015625 \nQ 88.921875 44.046875 88.921875 33.015625 \nL 88.921875 0 \nL 79.890625 0 \nL 79.890625 32.71875 \nQ 79.890625 40.578125 77.09375 44.375 \nQ 74.3125 48.1875 68.609375 48.1875 \nQ 61.625 48.1875 57.5625 43.546875 \nQ 53.515625 38.921875 53.515625 30.90625 \nL 53.515625 0 \nL 44.484375 0 \nL 44.484375 32.71875 \nQ 44.484375 40.625 41.703125 44.40625 \nQ 38.921875 48.1875 33.109375 48.1875 \nQ 26.21875 48.1875 22.15625 43.53125 \nQ 18.109375 38.875 18.109375 30.90625 \nL 18.109375 0 \nL 9.078125 0 \nL 9.078125 54.6875 \nL 18.109375 54.6875 \nL 18.109375 46.1875 \nQ 21.1875 51.21875 25.484375 53.609375 \nQ 29.78125 56 35.6875 56 \nQ 41.65625 56 45.828125 52.96875 \nQ 50 49.953125 52 44.1875 \nz\n\" id=\"DejaVuSans-109\"/>\n      <path d=\"M 30.609375 48.390625 \nQ 23.390625 48.390625 19.1875 42.75 \nQ 14.984375 37.109375 14.984375 27.296875 \nQ 14.984375 17.484375 19.15625 11.84375 \nQ 23.34375 6.203125 30.609375 6.203125 \nQ 37.796875 6.203125 41.984375 11.859375 \nQ 46.1875 17.53125 46.1875 27.296875 \nQ 46.1875 37.015625 41.984375 42.703125 \nQ 37.796875 48.390625 30.609375 48.390625 \nz\nM 30.609375 56 \nQ 42.328125 56 49.015625 48.375 \nQ 55.71875 40.765625 55.71875 27.296875 \nQ 55.71875 13.875 49.015625 6.21875 \nQ 42.328125 -1.421875 30.609375 -1.421875 \nQ 18.84375 -1.421875 12.171875 6.21875 \nQ 5.515625 13.875 5.515625 27.296875 \nQ 5.515625 40.765625 12.171875 48.375 \nQ 18.84375 56 30.609375 56 \nz\n\" id=\"DejaVuSans-111\"/>\n      <path d=\"M 45.40625 46.390625 \nL 45.40625 75.984375 \nL 54.390625 75.984375 \nL 54.390625 0 \nL 45.40625 0 \nL 45.40625 8.203125 \nQ 42.578125 3.328125 38.25 0.953125 \nQ 33.9375 -1.421875 27.875 -1.421875 \nQ 17.96875 -1.421875 11.734375 6.484375 \nQ 5.515625 14.40625 5.515625 27.296875 \nQ 5.515625 40.1875 11.734375 48.09375 \nQ 17.96875 56 27.875 56 \nQ 33.9375 56 38.25 53.625 \nQ 42.578125 51.265625 45.40625 46.390625 \nz\nM 14.796875 27.296875 \nQ 14.796875 17.390625 18.875 11.75 \nQ 22.953125 6.109375 30.078125 6.109375 \nQ 37.203125 6.109375 41.296875 11.75 \nQ 45.40625 17.390625 45.40625 27.296875 \nQ 45.40625 37.203125 41.296875 42.84375 \nQ 37.203125 48.484375 30.078125 48.484375 \nQ 22.953125 48.484375 18.875 42.84375 \nQ 14.796875 37.203125 14.796875 27.296875 \nz\n\" id=\"DejaVuSans-100\"/>\n     </defs>\n     <use xlink:href=\"#DejaVuSans-83\"/>\n     <use x=\"63.476562\" xlink:href=\"#DejaVuSans-105\"/>\n     <use x=\"91.259766\" xlink:href=\"#DejaVuSans-103\"/>\n     <use x=\"154.736328\" xlink:href=\"#DejaVuSans-109\"/>\n     <use x=\"252.148438\" xlink:href=\"#DejaVuSans-111\"/>\n     <use x=\"313.330078\" xlink:href=\"#DejaVuSans-105\"/>\n     <use x=\"341.113281\" xlink:href=\"#DejaVuSans-100\"/>\n    </g>\n   </g>\n  </g>\n </g>\n <defs>\n  <clipPath id=\"pd5769c773b\">\n   <rect height=\"217.44\" width=\"334.8\" x=\"33.28375\" y=\"24.14175\"/>\n  </clipPath>\n </defs>\n</svg>\n",
      "image/png": "[encoded data removed]"
     },
     "metadata": {
      "needs_background": "light"
     }
    }
   ],
   "source": [
    "plot_function(torch.sigmoid, title='Sigmoid', min=-4, max=4)"
   ]
  },
  {
   "cell_type": "markdown",
   "metadata": {},
   "source": [
    "As you can see, it takes any input value, positive or negative, and smooshes it onto an output value between 0 and 1. It's also a smooth curve that only goes up, which makes it easier for SGD to find meaningful gradients. \n",
    "\n",
    "Let's update `mnist_loss` to first apply `sigmoid` to the inputs:"
   ]
  },
  {
   "cell_type": "code",
   "execution_count": 132,
   "metadata": {},
   "outputs": [],
   "source": [
    "def mnist_loss(predictions, targets):\n",
    "    predictions = predictions.sigmoid()\n",
    "    return torch.where(targets==1, 1-predictions, predictions).mean()"
   ]
  },
  {
   "cell_type": "markdown",
   "metadata": {},
   "source": [
    "Now we can be confident our loss function will work, even if the predictions are not between 0 and 1. All that is required is that a higher prediction corresponds to higher confidence an image is a 3.\n",
    "\n",
    "Having defined a loss function, now is a good moment to recapitulate why we did this. After all, we already had a metric, which was overall accuracy. So why did we define a loss?\n",
    "\n",
    "The key difference is that the metric is to drive human understanding and the loss is to drive automated learning. To drive automated learning, the loss must be a function that has a meaningful derivative. It can't have big flat sections and large jumps, but instead must be reasonably smooth. This is why we designed a loss function that would respond to small changes in confidence level. This requirement means that sometimes it does not really reflect exactly what we are trying to achieve, but is rather a compromise between our real goal, and a function that can be optimized using its gradient. The loss function is calculated for each item in our dataset, and then at the end of an epoch the loss values are all averaged and the overall mean is reported for the epoch.\n",
    "\n",
    "Metrics, on the other hand, are the numbers that we really care about. These are the values that are printed at the end of each epoch that tell us how our model is really doing. It is important that we learn to focus on these metrics, rather than the loss, when judging the performance of a model."
   ]
  },
  {
   "cell_type": "markdown",
   "metadata": {},
   "source": [
    "### SGD and Mini-Batches"
   ]
  },
  {
   "cell_type": "markdown",
   "metadata": {},
   "source": [
    "Now that we have a loss function that is suitable for driving SGD, we can consider some of the details involved in the next phase of the learning process, which is to change or update the weights based on the gradients. This is called an *optimization step*.\n",
    "\n",
    "In order to take an optimization step we need to calculate the loss over one or more data items. How many should we use? We could calculate it for the whole dataset, and take the average, or we could calculate it for a single data item. But neither of these is ideal. Calculating it for the whole dataset would take a very long time. Calculating it for a single item would not use much information, so it would result in a very imprecise and unstable gradient. That is, you'd be going to the trouble of updating the weights, but taking into account only how that would improve the model's performance on that single item.\n",
    "\n",
    "So instead we take a compromise between the two: we calculate the average loss for a few data items at a time. This is called a *mini-batch*. The number of data items in the mini-batch is called the *batch size*. A larger batch size means that you will get a more accurate and stable estimate of your dataset's gradients from the loss function, but it will take longer, and you will process fewer mini-batches per epoch. Choosing a good batch size is one of the decisions you need to make as a deep learning practitioner to train your model quickly and accurately. We will talk about how to make this choice throughout this book.\n",
    "\n",
    "Another good reason for using mini-batches rather than calculating the gradient on individual data items is that, in practice, we nearly always do our training on an accelerator such as a GPU. These accelerators only perform well if they have lots of work to do at a time, so it's helpful if we can give them lots of data items to work on. Using mini-batches is one of the best ways to do this. However, if you give them too much data to work on at once, they run out of memory—making GPUs happy is also tricky!\n",
    "\n",
    "As we saw in our discussion of data augmentation in <<chapter_production>>, we get better generalization if we can vary things during training. One simple and effective thing we can vary is what data items we put in each mini-batch. Rather than simply enumerating our dataset in order for every epoch, instead what we normally do is randomly shuffle it on every epoch, before we create mini-batches. PyTorch and fastai provide a class that will do the shuffling and mini-batch collation for you, called `DataLoader`.\n",
    "\n",
    "A `DataLoader` can take any Python collection and turn it into an iterator over many batches, like so:"
   ]
  },
  {
   "cell_type": "code",
   "execution_count": 133,
   "metadata": {},
   "outputs": [
    {
     "output_type": "execute_result",
     "data": {
      "text/plain": "[tensor([ 3, 12,  8, 10,  2]),\n tensor([ 9,  4,  7, 14,  5]),\n tensor([ 1, 13,  0,  6, 11])]"
     },
     "metadata": {},
     "execution_count": 133
    }
   ],
   "source": [
    "coll = range(15)\n",
    "dl = DataLoader(coll, batch_size=5, shuffle=True)\n",
    "list(dl)"
   ]
  },
  {
   "cell_type": "markdown",
   "metadata": {},
   "source": [
    "For training a model, we don't just want any Python collection, but a collection containing independent and dependent variables (that is, the inputs and targets of the model). A collection that contains tuples of independent and dependent variables is known in PyTorch as a `Dataset`. Here's an example of an extremely simple `Dataset`:"
   ]
  },
  {
   "cell_type": "code",
   "execution_count": 136,
   "metadata": {},
   "outputs": [
    {
     "output_type": "execute_result",
     "data": {
      "text/plain": "(#26) [(0, 'a'),(1, 'b'),(2, 'c'),(3, 'd'),(4, 'e'),(5, 'f'),(6, 'g'),(7, 'h'),(8, 'i'),(9, 'j')...]"
     },
     "metadata": {},
     "execution_count": 136
    }
   ],
   "source": [
    "ds = L(enumerate(string.ascii_lowercase))\n",
    "ds"
   ]
  },
  {
   "cell_type": "markdown",
   "metadata": {},
   "source": [
    "When we pass a `Dataset` to a `DataLoader` we will get back many batches which are themselves tuples of tensors representing batches of independent and dependent variables:"
   ]
  },
  {
   "cell_type": "code",
   "execution_count": 142,
   "metadata": {},
   "outputs": [
    {
     "output_type": "execute_result",
     "data": {
      "text/plain": "[(tensor([ 0, 15,  8, 11, 22, 19]), ('a', 'p', 'i', 'l', 'w', 't')),\n (tensor([ 7,  6,  2,  1, 10,  5]), ('h', 'g', 'c', 'b', 'k', 'f')),\n (tensor([25,  3,  9, 18, 14, 20]), ('z', 'd', 'j', 's', 'o', 'u')),\n (tensor([13, 16, 24, 21, 17, 23]), ('n', 'q', 'y', 'v', 'r', 'x')),\n (tensor([ 4, 12]), ('e', 'm'))]"
     },
     "metadata": {},
     "execution_count": 142
    }
   ],
   "source": [
    "dl = DataLoader(ds, batch_size=6, shuffle=True)\n",
    "list(dl)"
   ]
  },
  {
   "cell_type": "markdown",
   "metadata": {},
   "source": [
    "We are now ready to write our first training loop for a model using SGD!"
   ]
  },
  {
   "cell_type": "markdown",
   "metadata": {},
   "source": [
    "## Putting It All Together"
   ]
  },
  {
   "cell_type": "markdown",
   "metadata": {},
   "source": [
    "It's time to implement the process we saw in <<gradient_descent>>. In code, our process will be implemented something like this for each epoch:\n",
    "\n",
    "```python\n",
    "for x,y in dl:\n",
    "    pred = model(x)\n",
    "    loss = loss_func(pred, y)\n",
    "    loss.backward()\n",
    "    parameters -= parameters.grad * lr\n",
    "```"
   ]
  },
  {
   "cell_type": "markdown",
   "metadata": {},
   "source": [
    "First, let's re-initialize our parameters:"
   ]
  },
  {
   "cell_type": "code",
   "execution_count": 143,
   "metadata": {},
   "outputs": [],
   "source": [
    "weights = init_params((28*28,1))\n",
    "bias = init_params(1)"
   ]
  },
  {
   "cell_type": "markdown",
   "metadata": {},
   "source": [
    "A `DataLoader` can be created from a `Dataset`:"
   ]
  },
  {
   "cell_type": "code",
   "execution_count": 147,
   "metadata": {},
   "outputs": [
    {
     "output_type": "execute_result",
     "data": {
      "text/plain": "(torch.Size([256, 784]), torch.Size([256, 1]))"
     },
     "metadata": {},
     "execution_count": 147
    }
   ],
   "source": [
    "dl = DataLoader(dset, batch_size=256)\n",
    "xb,yb = first(dl)\n",
    "xb.shape,yb.shape"
   ]
  },
  {
   "cell_type": "markdown",
   "metadata": {},
   "source": [
    "We'll do the same for the validation set:"
   ]
  },
  {
   "cell_type": "code",
   "execution_count": 148,
   "metadata": {},
   "outputs": [],
   "source": [
    "valid_dl = DataLoader(valid_dset, batch_size=256)"
   ]
  },
  {
   "cell_type": "markdown",
   "metadata": {},
   "source": [
    "Let's create a mini-batch of size 4 for testing:"
   ]
  },
  {
   "cell_type": "code",
   "execution_count": 149,
   "metadata": {},
   "outputs": [
    {
     "output_type": "execute_result",
     "data": {
      "text/plain": "torch.Size([4, 784])"
     },
     "metadata": {},
     "execution_count": 149
    }
   ],
   "source": [
    "batch = train_x[:4]\n",
    "batch.shape"
   ]
  },
  {
   "cell_type": "code",
   "execution_count": 150,
   "metadata": {},
   "outputs": [
    {
     "output_type": "execute_result",
     "data": {
      "text/plain": "tensor([[  1.8859],\n        [ -9.0000],\n        [-13.4936],\n        [  9.5951]], grad_fn=<AddBackward0>)"
     },
     "metadata": {},
     "execution_count": 150
    }
   ],
   "source": [
    "preds = linear1(batch)\n",
    "preds"
   ]
  },
  {
   "cell_type": "code",
   "execution_count": 151,
   "metadata": {},
   "outputs": [
    {
     "output_type": "execute_result",
     "data": {
      "text/plain": "tensor(0.5329, grad_fn=<MeanBackward0>)"
     },
     "metadata": {},
     "execution_count": 151
    }
   ],
   "source": [
    "loss = mnist_loss(preds, train_y[:4])\n",
    "loss"
   ]
  },
  {
   "cell_type": "markdown",
   "metadata": {},
   "source": [
    "Now we can calculate the gradients:"
   ]
  },
  {
   "cell_type": "code",
   "execution_count": 152,
   "metadata": {},
   "outputs": [
    {
     "output_type": "execute_result",
     "data": {
      "text/plain": "(torch.Size([784, 1]), tensor(-0.0041), tensor([-0.0286]))"
     },
     "metadata": {},
     "execution_count": 152
    }
   ],
   "source": [
    "loss.backward()\n",
    "weights.grad.shape,weights.grad.mean(),bias.grad"
   ]
  },
  {
   "cell_type": "markdown",
   "metadata": {},
   "source": [
    "Let's put that all in a function:"
   ]
  },
  {
   "cell_type": "code",
   "execution_count": 153,
   "metadata": {},
   "outputs": [],
   "source": [
    "def calc_grad(xb, yb, model):\n",
    "    preds = model(xb)\n",
    "    loss = mnist_loss(preds, yb)\n",
    "    loss.backward()"
   ]
  },
  {
   "cell_type": "markdown",
   "metadata": {},
   "source": [
    "and test it:"
   ]
  },
  {
   "cell_type": "code",
   "execution_count": 154,
   "metadata": {},
   "outputs": [
    {
     "output_type": "execute_result",
     "data": {
      "text/plain": "(tensor(-0.0082), tensor([-0.0573]))"
     },
     "metadata": {},
     "execution_count": 154
    }
   ],
   "source": [
    "calc_grad(batch, train_y[:4], linear1)\n",
    "weights.grad.mean(),bias.grad"
   ]
  },
  {
   "cell_type": "markdown",
   "metadata": {},
   "source": [
    "But look what happens if we call it twice:"
   ]
  },
  {
   "cell_type": "code",
   "execution_count": 155,
   "metadata": {},
   "outputs": [
    {
     "output_type": "execute_result",
     "data": {
      "text/plain": "(tensor(-0.0123), tensor([-0.0859]))"
     },
     "metadata": {},
     "execution_count": 155
    }
   ],
   "source": [
    "calc_grad(batch, train_y[:4], linear1)\n",
    "weights.grad.mean(),bias.grad"
   ]
  },
  {
   "cell_type": "markdown",
   "metadata": {},
   "source": [
    "The gradients have changed! The reason for this is that `loss.backward` actually *adds* the gradients of `loss` to any gradients that are currently stored. So, we have to set the current gradients to 0 first:"
   ]
  },
  {
   "cell_type": "code",
   "execution_count": 156,
   "metadata": {},
   "outputs": [],
   "source": [
    "weights.grad.zero_()\n",
    "bias.grad.zero_();"
   ]
  },
  {
   "cell_type": "markdown",
   "metadata": {},
   "source": [
    "> note: Inplace Operations: Methods in PyTorch whose names end in an underscore modify their objects _in place_. For instance, `bias.zero_()` sets all elements of the tensor `bias` to 0."
   ]
  },
  {
   "cell_type": "markdown",
   "metadata": {},
   "source": [
    "Our only remaining step is to update the weights and biases based on the gradient and learning rate. When we do so, we have to tell PyTorch not to take the gradient of this step too—otherwise things will get very confusing when we try to compute the derivative at the next batch! If we assign to the `data` attribute of a tensor then PyTorch will not take the gradient of that step. Here's our basic training loop for an epoch:"
   ]
  },
  {
   "cell_type": "code",
   "execution_count": 157,
   "metadata": {},
   "outputs": [
    {
     "output_type": "execute_result",
     "data": {
      "text/plain": "tensor([ 0.1420, -0.6921,  1.3573], requires_grad=True)"
     },
     "metadata": {},
     "execution_count": 157
    }
   ],
   "source": [
    "params"
   ]
  },
  {
   "cell_type": "code",
   "execution_count": 158,
   "metadata": {},
   "outputs": [],
   "source": [
    "def train_epoch(model, lr, params):\n",
    "    for xb,yb in dl:\n",
    "        calc_grad(xb, yb, model)\n",
    "        for p in params:\n",
    "            p.data -= p.grad*lr\n",
    "            p.grad.zero_()"
   ]
  },
  {
   "cell_type": "markdown",
   "metadata": {},
   "source": [
    "We also want to check how we're doing, by looking at the accuracy of the validation set. To decide if an output represents a 3 or a 7, we can just check whether it's greater than 0. So our accuracy for each item can be calculated (using broadcasting, so no loops!) with:"
   ]
  },
  {
   "cell_type": "code",
   "execution_count": 159,
   "metadata": {},
   "outputs": [
    {
     "output_type": "execute_result",
     "data": {
      "text/plain": "tensor([[ True],\n        [False],\n        [False],\n        [ True]])"
     },
     "metadata": {},
     "execution_count": 159
    }
   ],
   "source": [
    "(preds>0.0).float() == train_y[:4]"
   ]
  },
  {
   "cell_type": "markdown",
   "metadata": {},
   "source": [
    "That gives us this function to calculate our validation accuracy:"
   ]
  },
  {
   "cell_type": "code",
   "execution_count": 160,
   "metadata": {},
   "outputs": [],
   "source": [
    "def batch_accuracy(xb, yb):\n",
    "    preds = xb.sigmoid()\n",
    "    correct = (preds>0.5) == yb\n",
    "    return correct.float().mean()"
   ]
  },
  {
   "cell_type": "markdown",
   "metadata": {},
   "source": [
    "We can check it works:"
   ]
  },
  {
   "cell_type": "code",
   "execution_count": 161,
   "metadata": {},
   "outputs": [
    {
     "output_type": "execute_result",
     "data": {
      "text/plain": "tensor(0.5000)"
     },
     "metadata": {},
     "execution_count": 161
    }
   ],
   "source": [
    "batch_accuracy(linear1(batch), train_y[:4])"
   ]
  },
  {
   "cell_type": "markdown",
   "metadata": {},
   "source": [
    "and then put the batches together:"
   ]
  },
  {
   "cell_type": "code",
   "execution_count": 162,
   "metadata": {},
   "outputs": [],
   "source": [
    "def validate_epoch(model):\n",
    "    accs = [batch_accuracy(model(xb), yb) for xb,yb in valid_dl]\n",
    "    return round(torch.stack(accs).mean().item(), 4)"
   ]
  },
  {
   "cell_type": "code",
   "execution_count": 163,
   "metadata": {},
   "outputs": [
    {
     "output_type": "execute_result",
     "data": {
      "text/plain": "0.3233"
     },
     "metadata": {},
     "execution_count": 163
    }
   ],
   "source": [
    "validate_epoch(linear1)"
   ]
  },
  {
   "cell_type": "markdown",
   "metadata": {},
   "source": [
    "That's our starting point. Let's train for one epoch, and see if the accuracy improves:"
   ]
  },
  {
   "cell_type": "code",
   "execution_count": 164,
   "metadata": {},
   "outputs": [
    {
     "output_type": "execute_result",
     "data": {
      "text/plain": "0.5859"
     },
     "metadata": {},
     "execution_count": 164
    }
   ],
   "source": [
    "lr = 1.\n",
    "params = weights,bias\n",
    "train_epoch(linear1, lr, params)\n",
    "validate_epoch(linear1)"
   ]
  },
  {
   "cell_type": "markdown",
   "metadata": {},
   "source": [
    "Then do a few more:"
   ]
  },
  {
   "cell_type": "code",
   "execution_count": 165,
   "metadata": {
    "tags": []
   },
   "outputs": [
    {
     "output_type": "stream",
     "name": "stdout",
     "text": "0.6847 0.8338 0.9051 0.9319 0.9432 0.9476 0.952 0.9554 0.9603 0.9637 0.9647 0.9656 0.9676 0.9681 0.9691 0.9691 0.9705 0.9715 0.972 0.9725 "
    }
   ],
   "source": [
    "for i in range(20):\n",
    "    train_epoch(linear1, lr, params)\n",
    "    print(validate_epoch(linear1), end=' ')"
   ]
  },
  {
   "cell_type": "markdown",
   "metadata": {},
   "source": [
    "Looking good! We're already about at the same accuracy as our \"pixel similarity\" approach, and we've created a general-purpose foundation we can build on. Our next step will be to create an object that will handle the SGD step for us. In PyTorch, it's called an *optimizer*."
   ]
  },
  {
   "cell_type": "markdown",
   "metadata": {},
   "source": [
    "### Creating an Optimizer"
   ]
  },
  {
   "cell_type": "markdown",
   "metadata": {},
   "source": [
    "Because this is such a general foundation, PyTorch provides some useful classes to make it easier to implement. The first thing we can do is replace our `linear1` function with PyTorch's `nn.Linear` module. A *module* is an object of a class that inherits from the PyTorch `nn.Module` class. Objects of this class behave identically to standard Python functions, in that you can call them using parentheses and they will return the activations of a model.\n",
    "\n",
    "`nn.Linear` does the same thing as our `init_params` and `linear` together. It contains both the *weights* and *biases* in a single class. Here's how we replicate our model from the previous section:"
   ]
  },
  {
   "cell_type": "code",
   "execution_count": 166,
   "metadata": {},
   "outputs": [],
   "source": [
    "linear_model = nn.Linear(28*28,1)"
   ]
  },
  {
   "cell_type": "markdown",
   "metadata": {},
   "source": [
    "Every PyTorch module knows what parameters it has that can be trained; they are available through the `parameters` method:"
   ]
  },
  {
   "cell_type": "code",
   "execution_count": 167,
   "metadata": {},
   "outputs": [
    {
     "output_type": "execute_result",
     "data": {
      "text/plain": "(torch.Size([1, 784]), torch.Size([1]))"
     },
     "metadata": {},
     "execution_count": 167
    }
   ],
   "source": [
    "w,b = linear_model.parameters()\n",
    "w.shape,b.shape"
   ]
  },
  {
   "cell_type": "markdown",
   "metadata": {},
   "source": [
    "We can use this information to create an optimizer:"
   ]
  },
  {
   "cell_type": "code",
   "execution_count": 168,
   "metadata": {},
   "outputs": [],
   "source": [
    "class BasicOptim:\n",
    "    def __init__(self,params,lr): self.params,self.lr = list(params),lr\n",
    "\n",
    "    def step(self, *args, **kwargs):\n",
    "        for p in self.params: p.data -= p.grad.data * self.lr\n",
    "\n",
    "    def zero_grad(self, *args, **kwargs):\n",
    "        for p in self.params: p.grad = None"
   ]
  },
  {
   "cell_type": "markdown",
   "metadata": {},
   "source": [
    "We can create our optimizer by passing in the model's parameters:"
   ]
  },
  {
   "cell_type": "code",
   "execution_count": 169,
   "metadata": {},
   "outputs": [],
   "source": [
    "opt = BasicOptim(linear_model.parameters(), lr)"
   ]
  },
  {
   "cell_type": "markdown",
   "metadata": {},
   "source": [
    "Our training loop can now be simplified to:"
   ]
  },
  {
   "cell_type": "code",
   "execution_count": 170,
   "metadata": {},
   "outputs": [],
   "source": [
    "def train_epoch(model):\n",
    "    for xb,yb in dl:\n",
    "        calc_grad(xb, yb, model)\n",
    "        opt.step()\n",
    "        opt.zero_grad()"
   ]
  },
  {
   "cell_type": "markdown",
   "metadata": {},
   "source": [
    "Our validation function doesn't need to change at all:"
   ]
  },
  {
   "cell_type": "code",
   "execution_count": 171,
   "metadata": {},
   "outputs": [
    {
     "output_type": "execute_result",
     "data": {
      "text/plain": "0.5948"
     },
     "metadata": {},
     "execution_count": 171
    }
   ],
   "source": [
    "validate_epoch(linear_model)"
   ]
  },
  {
   "cell_type": "markdown",
   "metadata": {},
   "source": [
    "Let's put our little training loop in a function, to make things simpler:"
   ]
  },
  {
   "cell_type": "code",
   "execution_count": 172,
   "metadata": {},
   "outputs": [],
   "source": [
    "def train_model(model, epochs):\n",
    "    for i in range(epochs):\n",
    "        train_epoch(model)\n",
    "        print(validate_epoch(model), end=' ')"
   ]
  },
  {
   "cell_type": "markdown",
   "metadata": {},
   "source": [
    "The results are the same as in the previous section:"
   ]
  },
  {
   "cell_type": "code",
   "execution_count": 173,
   "metadata": {
    "tags": []
   },
   "outputs": [
    {
     "output_type": "stream",
     "name": "stdout",
     "text": "0.4932 0.7881 0.8511 0.9155 0.9336 0.9482 0.957 0.9633 0.9658 0.9687 0.9697 0.9717 0.9731 0.9746 0.9761 0.9765 0.977 0.9775 0.978 0.979 "
    }
   ],
   "source": [
    "train_model(linear_model, 20)"
   ]
  },
  {
   "cell_type": "markdown",
   "metadata": {},
   "source": [
    "fastai provides the `SGD` class which, by default, does the same thing as our `BasicOptim`:"
   ]
  },
  {
   "cell_type": "code",
   "execution_count": 174,
   "metadata": {
    "tags": []
   },
   "outputs": [
    {
     "output_type": "stream",
     "name": "stdout",
     "text": "0.4932 0.8286 0.8462 0.9145 0.9341 0.9487 0.9555 0.9633 0.9658 0.9672 0.9702 0.9731 0.9741 0.9751 0.9761 0.9765 0.9775 0.978 0.978 0.9785 "
    }
   ],
   "source": [
    "linear_model = nn.Linear(28*28,1)\n",
    "opt = SGD(linear_model.parameters(), lr)\n",
    "train_model(linear_model, 20)"
   ]
  },
  {
   "cell_type": "markdown",
   "metadata": {},
   "source": [
    "fastai also provides `Learner.fit`, which we can use instead of `train_model`. To create a `Learner` we first need to create a `DataLoaders`, by passing in our training and validation `DataLoader`s:"
   ]
  },
  {
   "cell_type": "code",
   "execution_count": 175,
   "metadata": {},
   "outputs": [],
   "source": [
    "dls = DataLoaders(dl, valid_dl)"
   ]
  },
  {
   "cell_type": "markdown",
   "metadata": {},
   "source": [
    "To create a `Learner` without using an application (such as `cnn_learner`) we need to pass in all the elements that we've created in this chapter: the `DataLoaders`, the model, the optimization function (which will be passed the parameters), the loss function, and optionally any metrics to print:"
   ]
  },
  {
   "cell_type": "code",
   "execution_count": 176,
   "metadata": {},
   "outputs": [],
   "source": [
    "learn = Learner(dls, nn.Linear(28*28,1), opt_func=SGD,\n",
    "                loss_func=mnist_loss, metrics=batch_accuracy)"
   ]
  },
  {
   "cell_type": "markdown",
   "metadata": {},
   "source": [
    "Now we can call `fit`:"
   ]
  },
  {
   "cell_type": "code",
   "execution_count": 177,
   "metadata": {},
   "outputs": [
    {
     "output_type": "display_data",
     "data": {
      "text/plain": "<IPython.core.display.HTML object>",
      "text/html": "<table border=\"1\" class=\"dataframe\">\n  <thead>\n    <tr style=\"text-align: left;\">\n      <th>epoch</th>\n      <th>train_loss</th>\n      <th>valid_loss</th>\n      <th>batch_accuracy</th>\n      <th>time</th>\n    </tr>\n  </thead>\n  <tbody>\n    <tr>\n      <td>0</td>\n      <td>0.636739</td>\n      <td>0.503628</td>\n      <td>0.495584</td>\n      <td>00:00</td>\n    </tr>\n    <tr>\n      <td>1</td>\n      <td>0.595945</td>\n      <td>0.168012</td>\n      <td>0.864082</td>\n      <td>00:00</td>\n    </tr>\n    <tr>\n      <td>2</td>\n      <td>0.216200</td>\n      <td>0.190647</td>\n      <td>0.826791</td>\n      <td>00:00</td>\n    </tr>\n    <tr>\n      <td>3</td>\n      <td>0.092847</td>\n      <td>0.109618</td>\n      <td>0.908734</td>\n      <td>00:00</td>\n    </tr>\n    <tr>\n      <td>4</td>\n      <td>0.047612</td>\n      <td>0.079268</td>\n      <td>0.931796</td>\n      <td>00:00</td>\n    </tr>\n    <tr>\n      <td>5</td>\n      <td>0.030110</td>\n      <td>0.063166</td>\n      <td>0.945535</td>\n      <td>00:00</td>\n    </tr>\n    <tr>\n      <td>6</td>\n      <td>0.023015</td>\n      <td>0.053199</td>\n      <td>0.955348</td>\n      <td>00:00</td>\n    </tr>\n    <tr>\n      <td>7</td>\n      <td>0.019924</td>\n      <td>0.046597</td>\n      <td>0.962218</td>\n      <td>00:00</td>\n    </tr>\n    <tr>\n      <td>8</td>\n      <td>0.018399</td>\n      <td>0.041971</td>\n      <td>0.965162</td>\n      <td>00:00</td>\n    </tr>\n    <tr>\n      <td>9</td>\n      <td>0.017508</td>\n      <td>0.038567</td>\n      <td>0.966634</td>\n      <td>00:00</td>\n    </tr>\n  </tbody>\n</table>"
     },
     "metadata": {}
    }
   ],
   "source": [
    "learn.fit(10, lr=lr)"
   ]
  },
  {
   "cell_type": "markdown",
   "metadata": {},
   "source": [
    "As you can see, there's nothing magic about the PyTorch and fastai classes. They are just convenient pre-packaged pieces that make your life a bit easier! (They also provide a lot of extra functionality we'll be using in future chapters.)\n",
    "\n",
    "With these classes, we can now replace our linear model with a neural network."
   ]
  },
  {
   "cell_type": "markdown",
   "metadata": {},
   "source": [
    "## Adding a Nonlinearity"
   ]
  },
  {
   "cell_type": "markdown",
   "metadata": {},
   "source": [
    "So far we have a general procedure for optimizing the parameters of a function, and we have tried it out on a very boring function: a simple linear classifier. A linear classifier is very constrained in terms of what it can do. To make it a bit more complex (and able to handle more tasks), we need to add something nonlinear between two linear classifiers—this is what gives us a neural network.\n",
    "\n",
    "Here is the entire definition of a basic neural network:"
   ]
  },
  {
   "cell_type": "code",
   "execution_count": null,
   "metadata": {},
   "outputs": [],
   "source": [
    "def simple_net(xb): \n",
    "    res = xb@w1 + b1\n",
    "    res = res.max(tensor(0.0))\n",
    "    res = res@w2 + b2\n",
    "    return res"
   ]
  },
  {
   "cell_type": "markdown",
   "metadata": {},
   "source": [
    "That's it! All we have in `simple_net` is two linear classifiers with a `max` function between them.\n",
    "\n",
    "Here, `w1` and `w2` are weight tensors, and `b1` and `b2` are bias tensors; that is, parameters that are initially randomly initialized, just like we did in the previous section:"
   ]
  },
  {
   "cell_type": "code",
   "execution_count": null,
   "metadata": {},
   "outputs": [],
   "source": [
    "w1 = init_params((28*28,30))\n",
    "b1 = init_params(30)\n",
    "w2 = init_params((30,1))\n",
    "b2 = init_params(1)"
   ]
  },
  {
   "cell_type": "markdown",
   "metadata": {},
   "source": [
    "The key point about this is that `w1` has 30 output activations (which means that `w2` must have 30 input activations, so they match). That means that the first layer can construct 30 different features, each representing some different mix of pixels. You can change that `30` to anything you like, to make the model more or less complex.\n",
    "\n",
    "That little function `res.max(tensor(0.0))` is called a *rectified linear unit*, also known as *ReLU*. We think we can all agree that *rectified linear unit* sounds pretty fancy and complicated... But actually, there's nothing more to it than `res.max(tensor(0.0))`—in other words, replace every negative number with a zero. This tiny function is also available in PyTorch as `F.relu`:"
   ]
  },
  {
   "cell_type": "code",
   "execution_count": null,
   "metadata": {},
   "outputs": [
    {
     "data": {
      "image/png": "[encoded data removed]",
      "text/plain": [
       "<Figure size 432x288 with 1 Axes>"
      ]
     },
     "metadata": {
      "needs_background": "light"
     },
     "output_type": "display_data"
    }
   ],
   "source": [
    "plot_function(F.relu)"
   ]
  },
  {
   "cell_type": "markdown",
   "metadata": {},
   "source": [
    "> J: There is an enormous amount of jargon in deep learning, including terms like _rectified linear unit_. The vast vast majority of this jargon is no more complicated than can be implemented in a short line of code, as we saw in this example. The reality is that for academics to get their papers published they need to make them sound as impressive and sophisticated as possible. One of the ways that they do that is to introduce jargon. Unfortunately, this has the result that the field ends up becoming far more intimidating and difficult to get into than it should be. You do have to learn the jargon, because otherwise papers and tutorials are not going to mean much to you. But that doesn't mean you have to find the jargon intimidating. Just remember, when you come across a word or phrase that you haven't seen before, it will almost certainly turn to be referring to a very simple concept."
   ]
  },
  {
   "cell_type": "markdown",
   "metadata": {},
   "source": [
    "The basic idea is that by using more linear layers, we can have our model do more computation, and therefore model more complex functions. But there's no point just putting one linear layout directly after another one, because when we multiply things together and then add them up multiple times, that could be replaced by multiplying different things together and adding them up just once! That is to say, a series of any number of linear layers in a row can be replaced with a single linear layer with a different set of parameters.\n",
    "\n",
    "But if we put a nonlinear function between them, such as `max`, then this is no longer true. Now each linear layer is actually somewhat decoupled from the other ones, and can do its own useful work. The `max` function is particularly interesting, because it operates as a simple `if` statement."
   ]
  },
  {
   "cell_type": "markdown",
   "metadata": {},
   "source": [
    "> S: Mathematically, we say the composition of two linear functions is another linear function. So, we can stack as many linear classifiers as we want on top of each other, and without nonlinear functions between them, it will just be the same as one linear classifier."
   ]
  },
  {
   "cell_type": "markdown",
   "metadata": {},
   "source": [
    "Amazingly enough, it can be mathematically proven that this little function can solve any computable problem to an arbitrarily high level of accuracy, if you can find the right parameters for `w1` and `w2` and if you make these matrices big enough. For any arbitrarily wiggly function, we can approximate it as a bunch of lines joined together; to make it closer to the wiggly function, we just have to use shorter lines. This is known as the *universal approximation theorem*. The three lines of code that we have here are known as *layers*. The first and third are known as *linear layers*, and the second line of code is known variously as a *nonlinearity*, or *activation function*.\n",
    "\n",
    "Just like in the previous section, we can replace this code with something a bit simpler, by taking advantage of PyTorch:"
   ]
  },
  {
   "cell_type": "code",
   "execution_count": null,
   "metadata": {},
   "outputs": [],
   "source": [
    "simple_net = nn.Sequential(\n",
    "    nn.Linear(28*28,30),\n",
    "    nn.ReLU(),\n",
    "    nn.Linear(30,1)\n",
    ")"
   ]
  },
  {
   "cell_type": "markdown",
   "metadata": {},
   "source": [
    "`nn.Sequential` creates a module that will call each of the listed layers or functions in turn.\n",
    "\n",
    "`nn.ReLU` is a PyTorch module that does exactly the same thing as the `F.relu` function. Most functions that can appear in a model also have identical forms that are modules. Generally, it's just a case of replacing `F` with `nn` and changing the capitalization. When using `nn.Sequential`, PyTorch requires us to use the module version. Since modules are classes, we have to instantiate them, which is why you see `nn.ReLU()` in this example. \n",
    "\n",
    "Because `nn.Sequential` is a module, we can get its parameters, which will return a list of all the parameters of all the modules it contains. Let's try it out! As this is a deeper model, we'll use a lower learning rate and a few more epochs."
   ]
  },
  {
   "cell_type": "code",
   "execution_count": null,
   "metadata": {},
   "outputs": [],
   "source": [
    "learn = Learner(dls, simple_net, opt_func=SGD,\n",
    "                loss_func=mnist_loss, metrics=batch_accuracy)"
   ]
  },
  {
   "cell_type": "code",
   "execution_count": null,
   "metadata": {},
   "outputs": [
    {
     "data": {
      "text/html": [
       "<table border=\"1\" class=\"dataframe\">\n",
       "  <thead>\n",
       "    <tr style=\"text-align: left;\">\n",
       "      <th>epoch</th>\n",
       "      <th>train_loss</th>\n",
       "      <th>valid_loss</th>\n",
       "      <th>batch_accuracy</th>\n",
       "      <th>time</th>\n",
       "    </tr>\n",
       "  </thead>\n",
       "  <tbody>\n",
       "    <tr>\n",
       "      <td>0</td>\n",
       "      <td>0.305828</td>\n",
       "      <td>0.399663</td>\n",
       "      <td>0.508341</td>\n",
       "      <td>00:00</td>\n",
       "    </tr>\n",
       "    <tr>\n",
       "      <td>1</td>\n",
       "      <td>0.142960</td>\n",
       "      <td>0.225702</td>\n",
       "      <td>0.807655</td>\n",
       "      <td>00:00</td>\n",
       "    </tr>\n",
       "    <tr>\n",
       "      <td>2</td>\n",
       "      <td>0.079516</td>\n",
       "      <td>0.113519</td>\n",
       "      <td>0.919529</td>\n",
       "      <td>00:00</td>\n",
       "    </tr>\n",
       "    <tr>\n",
       "      <td>3</td>\n",
       "      <td>0.052391</td>\n",
       "      <td>0.076792</td>\n",
       "      <td>0.943081</td>\n",
       "      <td>00:00</td>\n",
       "    </tr>\n",
       "    <tr>\n",
       "      <td>4</td>\n",
       "      <td>0.039796</td>\n",
       "      <td>0.060083</td>\n",
       "      <td>0.956330</td>\n",
       "      <td>00:00</td>\n",
       "    </tr>\n",
       "    <tr>\n",
       "      <td>5</td>\n",
       "      <td>0.033368</td>\n",
       "      <td>0.050713</td>\n",
       "      <td>0.963690</td>\n",
       "      <td>00:00</td>\n",
       "    </tr>\n",
       "    <tr>\n",
       "      <td>6</td>\n",
       "      <td>0.029680</td>\n",
       "      <td>0.044797</td>\n",
       "      <td>0.965653</td>\n",
       "      <td>00:00</td>\n",
       "    </tr>\n",
       "    <tr>\n",
       "      <td>7</td>\n",
       "      <td>0.027290</td>\n",
       "      <td>0.040729</td>\n",
       "      <td>0.968106</td>\n",
       "      <td>00:00</td>\n",
       "    </tr>\n",
       "    <tr>\n",
       "      <td>8</td>\n",
       "      <td>0.025568</td>\n",
       "      <td>0.037771</td>\n",
       "      <td>0.968597</td>\n",
       "      <td>00:00</td>\n",
       "    </tr>\n",
       "    <tr>\n",
       "      <td>9</td>\n",
       "      <td>0.024233</td>\n",
       "      <td>0.035508</td>\n",
       "      <td>0.970559</td>\n",
       "      <td>00:00</td>\n",
       "    </tr>\n",
       "    <tr>\n",
       "      <td>10</td>\n",
       "      <td>0.023149</td>\n",
       "      <td>0.033714</td>\n",
       "      <td>0.972031</td>\n",
       "      <td>00:00</td>\n",
       "    </tr>\n",
       "    <tr>\n",
       "      <td>11</td>\n",
       "      <td>0.022242</td>\n",
       "      <td>0.032243</td>\n",
       "      <td>0.972522</td>\n",
       "      <td>00:00</td>\n",
       "    </tr>\n",
       "    <tr>\n",
       "      <td>12</td>\n",
       "      <td>0.021468</td>\n",
       "      <td>0.031006</td>\n",
       "      <td>0.973503</td>\n",
       "      <td>00:00</td>\n",
       "    </tr>\n",
       "    <tr>\n",
       "      <td>13</td>\n",
       "      <td>0.020796</td>\n",
       "      <td>0.029944</td>\n",
       "      <td>0.974485</td>\n",
       "      <td>00:00</td>\n",
       "    </tr>\n",
       "    <tr>\n",
       "      <td>14</td>\n",
       "      <td>0.020207</td>\n",
       "      <td>0.029016</td>\n",
       "      <td>0.975466</td>\n",
       "      <td>00:00</td>\n",
       "    </tr>\n",
       "    <tr>\n",
       "      <td>15</td>\n",
       "      <td>0.019683</td>\n",
       "      <td>0.028196</td>\n",
       "      <td>0.976448</td>\n",
       "      <td>00:00</td>\n",
       "    </tr>\n",
       "    <tr>\n",
       "      <td>16</td>\n",
       "      <td>0.019215</td>\n",
       "      <td>0.027463</td>\n",
       "      <td>0.976448</td>\n",
       "      <td>00:00</td>\n",
       "    </tr>\n",
       "    <tr>\n",
       "      <td>17</td>\n",
       "      <td>0.018791</td>\n",
       "      <td>0.026806</td>\n",
       "      <td>0.976938</td>\n",
       "      <td>00:00</td>\n",
       "    </tr>\n",
       "    <tr>\n",
       "      <td>18</td>\n",
       "      <td>0.018405</td>\n",
       "      <td>0.026212</td>\n",
       "      <td>0.977920</td>\n",
       "      <td>00:00</td>\n",
       "    </tr>\n",
       "    <tr>\n",
       "      <td>19</td>\n",
       "      <td>0.018051</td>\n",
       "      <td>0.025671</td>\n",
       "      <td>0.977920</td>\n",
       "      <td>00:00</td>\n",
       "    </tr>\n",
       "    <tr>\n",
       "      <td>20</td>\n",
       "      <td>0.017725</td>\n",
       "      <td>0.025179</td>\n",
       "      <td>0.977920</td>\n",
       "      <td>00:00</td>\n",
       "    </tr>\n",
       "    <tr>\n",
       "      <td>21</td>\n",
       "      <td>0.017422</td>\n",
       "      <td>0.024728</td>\n",
       "      <td>0.978410</td>\n",
       "      <td>00:00</td>\n",
       "    </tr>\n",
       "    <tr>\n",
       "      <td>22</td>\n",
       "      <td>0.017141</td>\n",
       "      <td>0.024313</td>\n",
       "      <td>0.978901</td>\n",
       "      <td>00:00</td>\n",
       "    </tr>\n",
       "    <tr>\n",
       "      <td>23</td>\n",
       "      <td>0.016878</td>\n",
       "      <td>0.023932</td>\n",
       "      <td>0.979392</td>\n",
       "      <td>00:00</td>\n",
       "    </tr>\n",
       "    <tr>\n",
       "      <td>24</td>\n",
       "      <td>0.016632</td>\n",
       "      <td>0.023580</td>\n",
       "      <td>0.979882</td>\n",
       "      <td>00:00</td>\n",
       "    </tr>\n",
       "    <tr>\n",
       "      <td>25</td>\n",
       "      <td>0.016400</td>\n",
       "      <td>0.023254</td>\n",
       "      <td>0.979882</td>\n",
       "      <td>00:00</td>\n",
       "    </tr>\n",
       "    <tr>\n",
       "      <td>26</td>\n",
       "      <td>0.016181</td>\n",
       "      <td>0.022952</td>\n",
       "      <td>0.979882</td>\n",
       "      <td>00:00</td>\n",
       "    </tr>\n",
       "    <tr>\n",
       "      <td>27</td>\n",
       "      <td>0.015975</td>\n",
       "      <td>0.022672</td>\n",
       "      <td>0.980864</td>\n",
       "      <td>00:00</td>\n",
       "    </tr>\n",
       "    <tr>\n",
       "      <td>28</td>\n",
       "      <td>0.015779</td>\n",
       "      <td>0.022411</td>\n",
       "      <td>0.980864</td>\n",
       "      <td>00:00</td>\n",
       "    </tr>\n",
       "    <tr>\n",
       "      <td>29</td>\n",
       "      <td>0.015593</td>\n",
       "      <td>0.022168</td>\n",
       "      <td>0.981845</td>\n",
       "      <td>00:00</td>\n",
       "    </tr>\n",
       "    <tr>\n",
       "      <td>30</td>\n",
       "      <td>0.015417</td>\n",
       "      <td>0.021941</td>\n",
       "      <td>0.981845</td>\n",
       "      <td>00:00</td>\n",
       "    </tr>\n",
       "    <tr>\n",
       "      <td>31</td>\n",
       "      <td>0.015249</td>\n",
       "      <td>0.021728</td>\n",
       "      <td>0.981845</td>\n",
       "      <td>00:00</td>\n",
       "    </tr>\n",
       "    <tr>\n",
       "      <td>32</td>\n",
       "      <td>0.015088</td>\n",
       "      <td>0.021529</td>\n",
       "      <td>0.981845</td>\n",
       "      <td>00:00</td>\n",
       "    </tr>\n",
       "    <tr>\n",
       "      <td>33</td>\n",
       "      <td>0.014935</td>\n",
       "      <td>0.021341</td>\n",
       "      <td>0.981845</td>\n",
       "      <td>00:00</td>\n",
       "    </tr>\n",
       "    <tr>\n",
       "      <td>34</td>\n",
       "      <td>0.014788</td>\n",
       "      <td>0.021164</td>\n",
       "      <td>0.981845</td>\n",
       "      <td>00:00</td>\n",
       "    </tr>\n",
       "    <tr>\n",
       "      <td>35</td>\n",
       "      <td>0.014647</td>\n",
       "      <td>0.020998</td>\n",
       "      <td>0.982336</td>\n",
       "      <td>00:00</td>\n",
       "    </tr>\n",
       "    <tr>\n",
       "      <td>36</td>\n",
       "      <td>0.014512</td>\n",
       "      <td>0.020840</td>\n",
       "      <td>0.982826</td>\n",
       "      <td>00:00</td>\n",
       "    </tr>\n",
       "    <tr>\n",
       "      <td>37</td>\n",
       "      <td>0.014382</td>\n",
       "      <td>0.020691</td>\n",
       "      <td>0.982826</td>\n",
       "      <td>00:00</td>\n",
       "    </tr>\n",
       "    <tr>\n",
       "      <td>38</td>\n",
       "      <td>0.014257</td>\n",
       "      <td>0.020550</td>\n",
       "      <td>0.982826</td>\n",
       "      <td>00:00</td>\n",
       "    </tr>\n",
       "    <tr>\n",
       "      <td>39</td>\n",
       "      <td>0.014136</td>\n",
       "      <td>0.020415</td>\n",
       "      <td>0.982826</td>\n",
       "      <td>00:00</td>\n",
       "    </tr>\n",
       "  </tbody>\n",
       "</table>"
      ],
      "text/plain": [
       "<IPython.core.display.HTML object>"
      ]
     },
     "metadata": {},
     "output_type": "display_data"
    }
   ],
   "source": [
    "#hide_output\n",
    "learn.fit(40, 0.1)"
   ]
  },
  {
   "cell_type": "markdown",
   "metadata": {},
   "source": [
    "We're not showing the 40 lines of output here to save room; the training process is recorded in `learn.recorder`, with the table of output stored in the `values` attribute, so we can plot the accuracy over training as:"
   ]
  },
  {
   "cell_type": "code",
   "execution_count": null,
   "metadata": {},
   "outputs": [
    {
     "data": {
      "image/png": "[encoded data removed]",
      "text/plain": [
       "<Figure size 432x288 with 1 Axes>"
      ]
     },
     "metadata": {
      "needs_background": "light"
     },
     "output_type": "display_data"
    }
   ],
   "source": [
    "plt.plot(L(learn.recorder.values).itemgot(2));"
   ]
  },
  {
   "cell_type": "markdown",
   "metadata": {},
   "source": [
    "And we can view the final accuracy:"
   ]
  },
  {
   "cell_type": "code",
   "execution_count": null,
   "metadata": {},
   "outputs": [
    {
     "data": {
      "text/plain": [
       "0.982826292514801"
      ]
     },
     "execution_count": null,
     "metadata": {},
     "output_type": "execute_result"
    }
   ],
   "source": [
    "learn.recorder.values[-1][2]"
   ]
  },
  {
   "cell_type": "markdown",
   "metadata": {},
   "source": [
    "At this point we have something that is rather magical:\n",
    "\n",
    "1. A function that can solve any problem to any level of accuracy (the neural network) given the correct set of parameters\n",
    "1. A way to find the best set of parameters for any function (stochastic gradient descent)\n",
    "\n",
    "This is why deep learning can do things which seem rather magical such fantastic things. Believing that this combination of simple techniques can really solve any problem is one of the biggest steps that we find many students have to take. It seems too good to be true—surely things should be more difficult and complicated than this? Our recommendation: try it out! We just tried it on the MNIST dataset and you have seen the results. And since we are doing everything from scratch ourselves (except for calculating the gradients) you know that there is no special magic hiding behind the scenes."
   ]
  },
  {
   "cell_type": "markdown",
   "metadata": {},
   "source": [
    "### Going Deeper"
   ]
  },
  {
   "cell_type": "markdown",
   "metadata": {},
   "source": [
    "There is no need to stop at just two linear layers. We can add as many as we want, as long as we add a nonlinearity between each pair of linear layers. As you will learn, however, the deeper the model gets, the harder it is to optimize the parameters in practice. Later in this book you will learn about some simple but brilliantly effective techniques for training deeper models.\n",
    "\n",
    "We already know that a single nonlinearity with two linear layers is enough to approximate any function. So why would we use deeper models? The reason is performance. With a deeper model (that is, one with more layers) we do not need to use as many parameters; it turns out that we can use smaller matrices with more layers, and get better results than we would get with larger matrices, and few layers.\n",
    "\n",
    "That means that we can train the model more quickly, and it will take up less memory. In the 1990s researchers were so focused on the universal approximation theorem that very few were experimenting with more than one nonlinearity. This theoretical but not practical foundation held back the field for years. Some researchers, however, did experiment with deep models, and eventually were able to show that these models could perform much better in practice. Eventually, theoretical results were developed which showed why this happens. Today, it is extremely unusual to find anybody using a neural network with just one nonlinearity.\n",
    "\n",
    "Here what happens when we train an 18-layer model using the same approach we saw in <<chapter_intro>>:"
   ]
  },
  {
   "cell_type": "code",
   "execution_count": null,
   "metadata": {},
   "outputs": [
    {
     "data": {
      "text/html": [
       "<table border=\"1\" class=\"dataframe\">\n",
       "  <thead>\n",
       "    <tr style=\"text-align: left;\">\n",
       "      <th>epoch</th>\n",
       "      <th>train_loss</th>\n",
       "      <th>valid_loss</th>\n",
       "      <th>accuracy</th>\n",
       "      <th>time</th>\n",
       "    </tr>\n",
       "  </thead>\n",
       "  <tbody>\n",
       "    <tr>\n",
       "      <td>0</td>\n",
       "      <td>0.082089</td>\n",
       "      <td>0.009578</td>\n",
       "      <td>0.997056</td>\n",
       "      <td>00:11</td>\n",
       "    </tr>\n",
       "  </tbody>\n",
       "</table>"
      ],
      "text/plain": [
       "<IPython.core.display.HTML object>"
      ]
     },
     "metadata": {},
     "output_type": "display_data"
    }
   ],
   "source": [
    "dls = ImageDataLoaders.from_folder(path)\n",
    "learn = cnn_learner(dls, resnet18, pretrained=False,\n",
    "                    loss_func=F.cross_entropy, metrics=accuracy)\n",
    "learn.fit_one_cycle(1, 0.1)"
   ]
  },
  {
   "cell_type": "markdown",
   "metadata": {},
   "source": [
    "Nearly 100% accuracy! That's a big difference compared to our simple neural net. But as you'll learn in the remainder of this book, there are just a few little tricks you need to use to get such great results from scratch yourself. You already know the key foundational pieces. (Of course, even once you know all the tricks, you'll nearly always want to work with the pre-built classes provided by PyTorch and fastai, because they save you having to think about all the little details yourself.)"
   ]
  },
  {
   "cell_type": "markdown",
   "metadata": {},
   "source": [
    "## Jargon Recap"
   ]
  },
  {
   "cell_type": "markdown",
   "metadata": {},
   "source": [
    "Congratulations: you now know how to create and train a deep neural network from scratch! We've gone through quite a few steps to get to this point, but you might be surprised at how simple it really is.\n",
    "\n",
    "Now that we are at this point, it is a good opportunity to define, and review, some jargon and key concepts.\n",
    "\n",
    "A neural network contains a lot of numbers, but they are only of two types: numbers that are calculated, and the parameters that these numbers are calculated from. This gives us the two most important pieces of jargon to learn:\n",
    "\n",
    "- Activations:: Numbers that are calculated (both by linear and nonlinear layers)\n",
    "- Parameters:: Numbers that are randomly initialized, and optimized (that is, the numbers that define the model)\n",
    "\n",
    "We will often talk in this book about activations and parameters. Remember that they have very specific meanings. They are numbers. They are not abstract concepts, but they are actual specific numbers that are in your model. Part of becoming a good deep learning practitioner is getting used to the idea of actually looking at your activations and parameters, and plotting them and testing whether they are behaving correctly.\n",
    "\n",
    "Our activations and parameters are all contained in *tensors*. These are simply regularly shaped arrays—for example, a matrix. Matrices have rows and columns; we call these the *axes* or *dimensions*. The number of dimensions of a tensor is its *rank*. There are some special tensors:\n",
    "\n",
    "- Rank zero: scalar\n",
    "- Rank one: vector\n",
    "- Rank two: matrix\n",
    "\n",
    "A neural network contains a number of layers. Each layer is either *linear* or *nonlinear*. We generally alternate between these two kinds of layers in a neural network. Sometimes people refer to both a linear layer and its subsequent nonlinearity together as a single layer. Yes, this is confusing. Sometimes a nonlinearity is referred to as an *activation function*.\n",
    "\n",
    "<<dljargon1>> summarizes the key concepts related to SGD.\n",
    "\n",
    "```asciidoc\n",
    "[[dljargon1]]\n",
    ".Deep learning vocabulary\n",
    "[options=\"header\"]\n",
    "|=====\n",
    "| Term | Meaning\n",
    "|ReLU | Function that returns 0 for negative numbers and doesn't change positive numbers.\n",
    "|Mini-batch | A smll group of inputs and labels gathered together in two arrays. A gradient descent step is updated on this batch (rather than a whole epoch).\n",
    "|Forward pass | Applying the model to some input and computing the predictions.\n",
    "|Loss | A value that represents how well (or badly) our model is doing.\n",
    "|Gradient | The derivative of the loss with respect to some parameter of the model.\n",
    "|Backard pass | Computing the gradients of the loss with respect to all model parameters.\n",
    "|Gradient descent | Taking a step in the directions opposite to the gradients to make the model parameters a little bit better.\n",
    "|Learning rate | The size of the step we take when applying SGD to update the parameters of the model.\n",
    "|=====\n",
    "```"
   ]
  },
  {
   "cell_type": "markdown",
   "metadata": {},
   "source": [
    "> note: _Choose Your Own Adventure_ Reminder: Did you choose to skip over chapters 2 & 3, in your excitement to peek under the hood? Well, here's your reminder to head back to chapter 2 now, because you'll be needing to know that stuff very soon!"
   ]
  },
  {
   "cell_type": "markdown",
   "metadata": {},
   "source": [
    "## Questionnaire"
   ]
  },
  {
   "cell_type": "markdown",
   "metadata": {},
   "source": [
    "1. How is a grayscale image represented on a computer? How about a color image?\n",
    "1. How are the files and folders in the `MNIST_SAMPLE` dataset structured? Why?\n",
    "1. Explain how the \"pixel similarity\" approach to classifying digits works.\n",
    "1. What is a list comprehension? Create one now that selects odd numbers from a list and doubles them.\n",
    "1. What is a \"rank-3 tensor\"?\n",
    "1. What is the difference between tensor rank and shape? How do you get the rank from the shape?\n",
    "1. What are RMSE and L1 norm?\n",
    "1. How can you apply a calculation on thousands of numbers at once, many thousands of times faster than a Python loop?\n",
    "1. Create a 3×3 tensor or array containing the numbers from 1 to 9. Double it. Select the bottom-right four numbers.\n",
    "1. What is broadcasting?\n",
    "1. Are metrics generally calculated using the training set, or the validation set? Why?\n",
    "1. What is SGD?\n",
    "1. Why does SGD use mini-batches?\n",
    "1. What are the seven steps in SGD for machine learning?\n",
    "1. How do we initialize the weights in a model?\n",
    "1. What is \"loss\"?\n",
    "1. Why can't we always use a high learning rate?\n",
    "1. What is a \"gradient\"?\n",
    "1. Do you need to know how to calculate gradients yourself?\n",
    "1. Why can't we use accuracy as a loss function?\n",
    "1. Draw the sigmoid function. What is special about its shape?\n",
    "1. What is the difference between a loss function and a metric?\n",
    "1. What is the function to calculate new weights using a learning rate?\n",
    "1. What does the `DataLoader` class do?\n",
    "1. Write pseudocode showing the basic steps taken in each epoch for SGD.\n",
    "1. Create a function that, if passed two arguments `[1,2,3,4]` and `'abcd'`, returns `[(1, 'a'), (2, 'b'), (3, 'c'), (4, 'd')]`. What is special about that output data structure?\n",
    "1. What does `view` do in PyTorch?\n",
    "1. What are the \"bias\" parameters in a neural network? Why do we need them?\n",
    "1. What does the `@` operator do in Python?\n",
    "1. What does the `backward` method do?\n",
    "1. Why do we have to zero the gradients?\n",
    "1. What information do we have to pass to `Learner`?\n",
    "1. Show Python or pseudocode for the basic steps of a training loop.\n",
    "1. What is \"ReLU\"? Draw a plot of it for values from `-2` to `+2`.\n",
    "1. What is an \"activation function\"?\n",
    "1. What's the difference between `F.relu` and `nn.ReLU`?\n",
    "1. The universal approximation theorem shows that any function can be approximated as closely as needed using just one nonlinearity. So why do we normally use more?"
   ]
  },
  {
   "cell_type": "markdown",
   "metadata": {},
   "source": [
    "### Further Research"
   ]
  },
  {
   "cell_type": "markdown",
   "metadata": {},
   "source": [
    "1. Create your own implementation of `Learner` from scratch, based on the training loop shown in this chapter.\n",
    "1. Complete all the steps in this chapter using the full MNIST datasets (that is, for all digits, not just 3s and 7s). This is a significant project and will take you quite a bit of time to complete! You'll need to do some of your own research to figure out how to overcome some obstacles you'll meet on the way."
   ]
  },
  {
   "cell_type": "code",
   "execution_count": null,
   "metadata": {},
   "outputs": [],
   "source": []
  }
 ],
 "metadata": {
  "jupytext": {
   "split_at_heading": true
  },
  "kernelspec": {
   "display_name": "Python 3",
   "language": "python",
   "name": "python3"
  },
  "language_info": {
   "codemirror_mode": {
    "name": "ipython",
    "version": 3
   },
   "file_extension": ".py",
   "mimetype": "text/x-python",
   "name": "python",
   "nbconvert_exporter": "python",
   "pygments_lexer": "ipython3",
   "version": "3.8.3-final"
  },
  "toc": {
   "base_numbering": 1,
   "nav_menu": {},
   "number_sections": false,
   "sideBar": true,
   "skip_h1_title": true,
   "title_cell": "Table of Contents",
   "title_sidebar": "Contents",
   "toc_cell": false,
   "toc_position": {},
   "toc_section_display": true,
   "toc_window_display": false
  }
 },
 "nbformat": 4,
 "nbformat_minor": 4
}